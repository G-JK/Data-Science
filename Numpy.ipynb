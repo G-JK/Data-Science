{
 "cells": [
  {
   "cell_type": "markdown",
   "metadata": {
    "id": "M_msb1jfFSEI"
   },
   "source": [
    "# <center> Numpy Basics </center>"
   ]
  },
  {
   "cell_type": "markdown",
   "metadata": {
    "id": "ywpy9uQjFSEX"
   },
   "source": [
    "Numpy is one of the  most used Python libraries for data science. NumPy consists of a powerful data structure called multidimensional arrays. Pandas is another powerful Python library that provides fast and easy data analysis platform.\n",
    "\n",
    "NumPy is a library written for scientific computing and data analysis. It stands for numerical python and also known as array oriented computing.\n",
    "\n",
    "The most basic object in NumPy is the ndarray, or simply an array which is an n-dimensional, homogeneous array. By homogenous, we mean that all the elements in a NumPy array have to be of the same data type, which is commonly numeric (float or integer).\n",
    "\n",
    "\n",
    " # Why Numpy?\n",
    " convenience & speed\n",
    " \n",
    " Numpy is much faster than the standard python ways to do computations.\n",
    " \n",
    "Vectorised code typically does not contain explicit looping and indexing etc. (all of this happens behind the scenes, in precompiled C-code), and thus it is much more concise.\n",
    "\n",
    "Also, many Numpy operations are implemented in C which is basically being executed behind the scenes, avoiding the general cost of loops in Python, pointer indirection and per-element dynamic type checking. The speed boost depends on which operations you're performing.\n",
    " \n",
    " NumPy arrays are more compact than lists, i.e. they take much lesser storage space than lists\n",
    " \n",
    " **Let's get started  with our Numpy Assigment**\n",
    " \n",
    "\n"
   ]
  },
  {
   "cell_type": "code",
   "execution_count": 1,
   "metadata": {
    "id": "pblRP2MYFSEc"
   },
   "outputs": [],
   "source": [
    "#import numpy module with alias np\n",
    "import numpy as np"
   ]
  },
  {
   "cell_type": "markdown",
   "metadata": {
    "id": "q2KgB2wBFSEh"
   },
   "source": [
    "We can create a NumPy ndarray object by using the array() function.\n",
    "To create an ndarray, we can pass a list, tuple or any array-like object into the array() method, and it will be converted into an ndarray:\n"
   ]
  },
  {
   "cell_type": "code",
   "execution_count": 2,
   "metadata": {
    "id": "5RrkruVTFSEj"
   },
   "outputs": [],
   "source": [
    "# Define a numpy array passing a list with  1,2 and 3 as elements in it\n",
    "a = np.array([1,2,3])"
   ]
  },
  {
   "cell_type": "code",
   "execution_count": 3,
   "metadata": {
    "colab": {
     "base_uri": "https://localhost:8080/"
    },
    "id": "0Bvwh0JNFSEl",
    "outputId": "69f71530-5935-4e01-baba-15a5eb8ed538"
   },
   "outputs": [
    {
     "data": {
      "text/plain": [
       "array([1, 2, 3])"
      ]
     },
     "execution_count": 3,
     "metadata": {},
     "output_type": "execute_result"
    }
   ],
   "source": [
    "# print a\n",
    "a"
   ]
  },
  {
   "cell_type": "markdown",
   "metadata": {
    "id": "XGE4_AUqFSEp"
   },
   "source": [
    "## Dimensions in Arrays\n",
    "\n",
    "\n",
    "\n",
    "Numpy array can be of n dimentions\n",
    "\n",
    "Lets create arrays of different dimentions.\n",
    "\n",
    "a=A numpy array with one single integer 10\n",
    "\n",
    "b=A numpy array passing a list having a list= [1,2,3]\n",
    "\n",
    "c=A numpy array passing nested list having [[1, 2, 3], [4, 5, 6]] as elements\n",
    "\n",
    "d=A numpy array passing nested list having [[[1, 2, 3], [4, 5, 6]], [[1, 2, 3], [4, 5, 6]]] as elements\n",
    "\n",
    "\n"
   ]
  },
  {
   "cell_type": "code",
   "execution_count": 6,
   "metadata": {
    "id": "jPLXJLtSFSEr"
   },
   "outputs": [],
   "source": [
    "#define a,b,c and d as instructed above\n",
    "\n",
    "a = np.array(10)\n",
    "b = np.array([1,2,3])\n",
    "c = np.array([[1,2,3],[4,5,6]])\n",
    "d = np.array([[[1,2,3],[4,5,6]],[[1,2,3],[4,5,6]]])"
   ]
  },
  {
   "cell_type": "markdown",
   "metadata": {
    "id": "7A-LPl0BFSEt"
   },
   "source": [
    "check dimention? Use ndim attribute on each variable to check its dimention"
   ]
  },
  {
   "cell_type": "code",
   "execution_count": 7,
   "metadata": {
    "colab": {
     "base_uri": "https://localhost:8080/"
    },
    "id": "D3TuXO10FSEv",
    "outputId": "72c27a89-3fcf-4c18-8fb0-0c02fabe7f39"
   },
   "outputs": [
    {
     "name": "stdout",
     "output_type": "stream",
     "text": [
      "a dimention: 0\n",
      "b dimention: 1\n",
      "c dimention: 2\n",
      "d dimention: 3\n"
     ]
    }
   ],
   "source": [
    "#print dimentions of a,b, c and d\n",
    "print('a dimention:', np.ndim(a))\n",
    "print('b dimention:', np.ndim(b))\n",
    "print('c dimention:', np.ndim(c))\n",
    "print('d dimention:', np.ndim(d))\n"
   ]
  },
  {
   "cell_type": "raw",
   "metadata": {},
   "source": [
    "Let's check the shape of our array"
   ]
  },
  {
   "cell_type": "code",
   "execution_count": 8,
   "metadata": {
    "colab": {
     "base_uri": "https://localhost:8080/"
    },
    "id": "IUD3IZHEFSEy",
    "outputId": "bd94f3b8-9751-467f-ca9d-c81f591157da"
   },
   "outputs": [
    {
     "name": "stdout",
     "output_type": "stream",
     "text": [
      "shape of a: ()\n",
      "shape of b: (3,)\n",
      "shape of b: (2, 3)\n",
      "shape of b: (2, 2, 3)\n"
     ]
    }
   ],
   "source": [
    "# print shape of each a,b ,c and d\n",
    "print('shape of a:', a.shape)\n",
    "print('shape of b:', b.shape)\n",
    "print('shape of b:', c.shape)\n",
    "print('shape of b:', d.shape)"
   ]
  },
  {
   "cell_type": "markdown",
   "metadata": {
    "id": "Guuv_VodFSEz"
   },
   "source": [
    "Lets check data type passed in our array. To check data type you can use dtype attribute"
   ]
  },
  {
   "cell_type": "code",
   "execution_count": 11,
   "metadata": {
    "colab": {
     "base_uri": "https://localhost:8080/"
    },
    "id": "wMR2IihTFSE0",
    "outputId": "82ddbfb1-4ba7-4efe-da14-b213c14f56fb"
   },
   "outputs": [
    {
     "name": "stdout",
     "output_type": "stream",
     "text": [
      "int64\n",
      "int64\n"
     ]
    }
   ],
   "source": [
    "# print data type of c and d\n",
    "print(c.dtype)\n",
    "print(d.dtype)\n"
   ]
  },
  {
   "cell_type": "markdown",
   "metadata": {
    "id": "7O2OrmjXFSE1"
   },
   "source": [
    "Above output mean our array is having int type elements in it."
   ]
  },
  {
   "cell_type": "markdown",
   "metadata": {
    "id": "HHS5Fpc0FSE2"
   },
   "source": [
    "Lets check the type of our variable. To check type of any numpy variable use type() function "
   ]
  },
  {
   "cell_type": "code",
   "execution_count": 13,
   "metadata": {
    "colab": {
     "base_uri": "https://localhost:8080/"
    },
    "id": "PKSrBjN3FSE2",
    "outputId": "ba55dc2f-e8b3-4411-f14f-5d8bb673cfb9"
   },
   "outputs": [
    {
     "name": "stdout",
     "output_type": "stream",
     "text": [
      "<class 'numpy.ndarray'>\n",
      "<class 'numpy.ndarray'>\n"
     ]
    }
   ],
   "source": [
    "#print type of a and b variable\n",
    "print(type(a))\n",
    "print(type(b))\n"
   ]
  },
  {
   "cell_type": "code",
   "execution_count": 15,
   "metadata": {
    "colab": {
     "base_uri": "https://localhost:8080/"
    },
    "id": "8wX3vxyWFSE3",
    "outputId": "89fea447-7474-402f-e89d-ab0c9209629a"
   },
   "outputs": [
    {
     "data": {
      "text/plain": [
       "3"
      ]
     },
     "execution_count": 15,
     "metadata": {},
     "output_type": "execute_result"
    }
   ],
   "source": [
    "# Lets check length of array b, using len() function\n",
    "len(b)"
   ]
  },
  {
   "cell_type": "markdown",
   "metadata": {
    "id": "izUwHIORFSE5"
   },
   "source": [
    "## Performance measurement\n",
    "\n",
    "The key advantages of numpy are convenience and speed of computation.\n",
    "\n",
    "We'll often work with extremely large datasets, and thus it is important point for us to understand how much computation time (and memory) we can save using numpy, compared to standard python lists.\n",
    "\n",
    "\n"
   ]
  },
  {
   "cell_type": "markdown",
   "metadata": {
    "id": "NyaFQl1MFSE6"
   },
   "source": [
    "Create two list l1 and l2 where, l1=[10,20,30] and l2=[40,50,60]\n",
    "Also define two numpy arrays l3,l4 where l3 has l1 as element and l4 has l2 as element\n"
   ]
  },
  {
   "cell_type": "code",
   "execution_count": 16,
   "metadata": {
    "id": "4i5Gkp_jFSE7"
   },
   "outputs": [],
   "source": [
    "# Define l1,l2,l3 and l4 as stated above.\n",
    "l1 = [10,20,30]\n",
    "l2 = [40,50,60]\n",
    "l3 = [i for i in l1]\n",
    "l4 = [i for i in l2]"
   ]
  },
  {
   "cell_type": "markdown",
   "metadata": {
    "id": "LxmdaTopFSE8"
   },
   "source": [
    "Lets multiply each elements of l1 with corresponding elements of l2\n",
    "\n",
    "Here use list comprehention to do so. Lets see how much you remember your work in other assignments.\n",
    "\n",
    "Note: use %timeit as prefix before your line of code inorder to calculate total time taken to run that line<br>\n",
    "eg. %timeit my_code"
   ]
  },
  {
   "cell_type": "code",
   "execution_count": 25,
   "metadata": {
    "colab": {
     "base_uri": "https://localhost:8080/"
    },
    "id": "WM3ZszrWWIDS",
    "outputId": "8a34073e-2581-4c04-a6cf-2b5a1a2b274d"
   },
   "outputs": [
    {
     "name": "stdout",
     "output_type": "stream",
     "text": [
      "The slowest run took 4.55 times longer than the fastest. This could mean that an intermediate result is being cached.\n",
      "1000000 loops, best of 5: 1 µs per loop\n"
     ]
    }
   ],
   "source": [
    "%timeit[l1[i] * l2[i] for i in range(len(l1))]\n"
   ]
  },
  {
   "cell_type": "code",
   "execution_count": 26,
   "metadata": {
    "colab": {
     "base_uri": "https://localhost:8080/"
    },
    "id": "6t4j-QnZFSE9",
    "outputId": "d7cbb7db-112b-47ee-fec2-ff2609753fb2"
   },
   "outputs": [
    {
     "name": "stdout",
     "output_type": "stream",
     "text": [
      "The slowest run took 6.24 times longer than the fastest. This could mean that an intermediate result is being cached.\n",
      "1000000 loops, best of 5: 999 ns per loop\n"
     ]
    }
   ],
   "source": [
    "#code here as instructed above\n",
    "%timeit[l1[i] * l2[i] for i in range(len(l1))]"
   ]
  },
  {
   "cell_type": "markdown",
   "metadata": {
    "id": "f2Y5xQqqFSE_"
   },
   "source": [
    "Lets mulptiply l3 and l4\n",
    "\n",
    "Note: use %timeit as prefix before your line of code inorder to calculate total time taken to run that line"
   ]
  },
  {
   "cell_type": "code",
   "execution_count": 27,
   "metadata": {
    "colab": {
     "base_uri": "https://localhost:8080/"
    },
    "id": "A8Ty7bsrFSFA",
    "outputId": "db5f1567-8731-4398-99b4-3d7c6c61693e"
   },
   "outputs": [
    {
     "name": "stdout",
     "output_type": "stream",
     "text": [
      "The slowest run took 4.67 times longer than the fastest. This could mean that an intermediate result is being cached.\n",
      "1000000 loops, best of 5: 970 ns per loop\n"
     ]
    }
   ],
   "source": [
    "%timeit[l3[i] * l4[i] for i in range(len(l3))]"
   ]
  },
  {
   "cell_type": "markdown",
   "metadata": {
    "id": "5w01MHQfFSFD"
   },
   "source": [
    "so in numpy arrays I can do everything without even writing a loop? yes... ohh wao"
   ]
  },
  {
   "cell_type": "markdown",
   "metadata": {
    "id": "MMuuNIKUFSFE"
   },
   "source": [
    "### Creating Numpy array\n",
    "\n",
    "\n",
    "There are multiple ways to create numpy array. Lets walk over them\n",
    "\n",
    "1. Using arrange() function <br>\n",
    "\n"
   ]
  },
  {
   "cell_type": "code",
   "execution_count": 29,
   "metadata": {
    "colab": {
     "base_uri": "https://localhost:8080/"
    },
    "id": "Oi9ijdw9FSFF",
    "outputId": "20554ad2-d818-4f40-a66b-cd6a62802253"
   },
   "outputs": [
    {
     "data": {
      "text/plain": [
       "array([ 1,  2,  3,  4,  5,  6,  7,  8,  9, 10])"
      ]
     },
     "execution_count": 29,
     "metadata": {},
     "output_type": "execute_result"
    }
   ],
   "source": [
    "#Create a numpy array using arange with 1 and 11 as parameter in it\n",
    "a = np.arange(1,11)\n",
    "a"
   ]
  },
  {
   "cell_type": "markdown",
   "metadata": {
    "id": "sPt_vLWhFSFG"
   },
   "source": [
    "This means using arrange we get evenly spaced values within a given interval. Interval? Yes you can mention interval as well as third parameter in it."
   ]
  },
  {
   "cell_type": "code",
   "execution_count": 30,
   "metadata": {
    "colab": {
     "base_uri": "https://localhost:8080/"
    },
    "id": "GPncKGumFSFH",
    "outputId": "075442a3-c3a9-4168-d960-863425445544"
   },
   "outputs": [
    {
     "data": {
      "text/plain": [
       "array([1, 3, 5, 7, 9])"
      ]
     },
     "execution_count": 30,
     "metadata": {},
     "output_type": "execute_result"
    }
   ],
   "source": [
    "# Create an array using arange passing 1,11 and 2 as parameters\n",
    "b = np.arange(1,11,2)\n",
    "b"
   ]
  },
  {
   "cell_type": "markdown",
   "metadata": {
    "id": "JRxkEuv_FSFI"
   },
   "source": [
    "\n",
    "\n",
    "2. Using eye Function <br>\n"
   ]
  },
  {
   "cell_type": "code",
   "execution_count": 2,
   "metadata": {
    "id": "GeKpOvjDFSFI",
    "outputId": "06b10cbb-2b8e-4779-fd7e-7889a9b3a437"
   },
   "outputs": [
    {
     "data": {
      "text/plain": [
       "array([[1., 0., 0.],\n",
       "       [0., 1., 0.],\n",
       "       [0., 0., 1.]])"
      ]
     },
     "execution_count": 2,
     "metadata": {},
     "output_type": "execute_result"
    }
   ],
   "source": [
    "# create numpy array using eye function with 3 as passed parameter\n",
    "np.eye(3)"
   ]
  },
  {
   "cell_type": "markdown",
   "metadata": {
    "id": "ZtsL1UJBFSFJ"
   },
   "source": [
    "Wohoo! eye return a 2-D array with ones on the diagonal and zeros elsewhere.\n",
    "\n",
    "3. Using zero function<br>\n"
   ]
  },
  {
   "cell_type": "code",
   "execution_count": 31,
   "metadata": {
    "colab": {
     "base_uri": "https://localhost:8080/"
    },
    "id": "25k-lH0yFSFL",
    "outputId": "a86ec632-ea8d-435d-d78e-c47cfee78460"
   },
   "outputs": [
    {
     "data": {
      "text/plain": [
       "array([[0., 0.],\n",
       "       [0., 0.],\n",
       "       [0., 0.]])"
      ]
     },
     "execution_count": 31,
     "metadata": {},
     "output_type": "execute_result"
    }
   ],
   "source": [
    "#create a numpy array using zero function with (3,2) as passed parameter\n",
    "\n",
    "z = np.zeros((3,2))\n",
    "z"
   ]
  },
  {
   "cell_type": "markdown",
   "metadata": {
    "id": "1Lu-tnJaFSFN"
   },
   "source": [
    "Zero function returns a new array of given shape and type, filled with zeros.\n",
    "\n",
    "4. Using ones Function <br>\n"
   ]
  },
  {
   "cell_type": "code",
   "execution_count": 3,
   "metadata": {
    "id": "wnYsKaBGFSFP",
    "outputId": "5802b99c-1007-4602-e6e1-2bd72da95074"
   },
   "outputs": [
    {
     "data": {
      "text/plain": [
       "array([[1., 1.],\n",
       "       [1., 1.],\n",
       "       [1., 1.]])"
      ]
     },
     "execution_count": 3,
     "metadata": {},
     "output_type": "execute_result"
    }
   ],
   "source": [
    "#create a numpy array using ones function with (3,2) as passed parameter\n",
    "np.ones((3,2))\n"
   ]
  },
  {
   "cell_type": "markdown",
   "metadata": {
    "id": "_ymxctCwFSFR"
   },
   "source": [
    "Ones function returns a new array of given shape and type, filled with ones.\n",
    "\n",
    "5. Using full Function<br>\n"
   ]
  },
  {
   "cell_type": "code",
   "execution_count": 33,
   "metadata": {
    "colab": {
     "base_uri": "https://localhost:8080/"
    },
    "id": "woqVjGciFSFT",
    "outputId": "122e816b-a4c5-464d-934d-f2e1a0f9900e"
   },
   "outputs": [
    {
     "data": {
      "text/plain": [
       "array([[2, 2],\n",
       "       [2, 2],\n",
       "       [2, 2]])"
      ]
     },
     "execution_count": 33,
     "metadata": {},
     "output_type": "execute_result"
    }
   ],
   "source": [
    "#create a numpy array using full function with (3,2) and 2 as passed parameter\n",
    "two = np.full((3,2),2)\n",
    "two"
   ]
  },
  {
   "cell_type": "markdown",
   "metadata": {
    "id": "hlpYe1U7FSFV"
   },
   "source": [
    "full function return a new array of given shape and type, filled with fill_value, here it is 2\n",
    "\n",
    "6. Using diag function<br>\n"
   ]
  },
  {
   "cell_type": "code",
   "execution_count": 5,
   "metadata": {
    "id": "C8lAdaOOFSFW",
    "outputId": "f9b0e806-dc4c-44b0-f1e8-9a00aa7d8824"
   },
   "outputs": [
    {
     "data": {
      "text/plain": [
       "array([[1, 0, 0, 0, 0],\n",
       "       [0, 2, 0, 0, 0],\n",
       "       [0, 0, 3, 0, 0],\n",
       "       [0, 0, 0, 4, 0],\n",
       "       [0, 0, 0, 0, 5]])"
      ]
     },
     "execution_count": 5,
     "metadata": {},
     "output_type": "execute_result"
    }
   ],
   "source": [
    "#create a numpy array using diag function passing a list [1,2,3,4,5]\n",
    "np.diag([1,2,3,4,5])\n"
   ]
  },
  {
   "cell_type": "markdown",
   "metadata": {
    "id": "KVvpYAFfFSFY"
   },
   "source": [
    "diag function extract a diagonal or construct a diagonal array.\n",
    "\n",
    " 7. Using tile function<br>\n",
    " "
   ]
  },
  {
   "cell_type": "code",
   "execution_count": 7,
   "metadata": {
    "id": "ZmLRBrdPFSFZ",
    "outputId": "2c352571-6b5d-451b-db3b-3ed8a9a2a990"
   },
   "outputs": [
    {
     "data": {
      "text/plain": [
       "array([[1, 2, 3],\n",
       "       [1, 2, 3],\n",
       "       [1, 2, 3]])"
      ]
     },
     "execution_count": 7,
     "metadata": {},
     "output_type": "execute_result"
    }
   ],
   "source": [
    "# Create a numpy array v with [1,2,3] as its elementsv = [1,2,3]\n",
    "v = [1,2,3]\n",
    "#Use tile function of numpy and pass v and (3,1) as its parametrs\n",
    "np.tile(v,(3,1))\n"
   ]
  },
  {
   "cell_type": "markdown",
   "metadata": {
    "id": "gyNMZCHmFSFb"
   },
   "source": [
    "Returns an array by repeating an input array the number of times given by mentioned shape.\n",
    "Here you can see that you stacked 3 copies of v on top of each other\n",
    "\n",
    "8. Using linspace Function<br>\n"
   ]
  },
  {
   "cell_type": "code",
   "execution_count": 9,
   "metadata": {
    "id": "VzCSnrz7FSFb",
    "outputId": "6c71e1ff-9b58-4f07-9339-aaf48a22101a"
   },
   "outputs": [
    {
     "data": {
      "text/plain": [
       "array([ 1.        ,  1.49494949,  1.98989899,  2.48484848,  2.97979798,\n",
       "        3.47474747,  3.96969697,  4.46464646,  4.95959596,  5.45454545,\n",
       "        5.94949495,  6.44444444,  6.93939394,  7.43434343,  7.92929293,\n",
       "        8.42424242,  8.91919192,  9.41414141,  9.90909091, 10.4040404 ,\n",
       "       10.8989899 , 11.39393939, 11.88888889, 12.38383838, 12.87878788,\n",
       "       13.37373737, 13.86868687, 14.36363636, 14.85858586, 15.35353535,\n",
       "       15.84848485, 16.34343434, 16.83838384, 17.33333333, 17.82828283,\n",
       "       18.32323232, 18.81818182, 19.31313131, 19.80808081, 20.3030303 ,\n",
       "       20.7979798 , 21.29292929, 21.78787879, 22.28282828, 22.77777778,\n",
       "       23.27272727, 23.76767677, 24.26262626, 24.75757576, 25.25252525,\n",
       "       25.74747475, 26.24242424, 26.73737374, 27.23232323, 27.72727273,\n",
       "       28.22222222, 28.71717172, 29.21212121, 29.70707071, 30.2020202 ,\n",
       "       30.6969697 , 31.19191919, 31.68686869, 32.18181818, 32.67676768,\n",
       "       33.17171717, 33.66666667, 34.16161616, 34.65656566, 35.15151515,\n",
       "       35.64646465, 36.14141414, 36.63636364, 37.13131313, 37.62626263,\n",
       "       38.12121212, 38.61616162, 39.11111111, 39.60606061, 40.1010101 ,\n",
       "       40.5959596 , 41.09090909, 41.58585859, 42.08080808, 42.57575758,\n",
       "       43.07070707, 43.56565657, 44.06060606, 44.55555556, 45.05050505,\n",
       "       45.54545455, 46.04040404, 46.53535354, 47.03030303, 47.52525253,\n",
       "       48.02020202, 48.51515152, 49.01010101, 49.50505051, 50.        ])"
      ]
     },
     "execution_count": 9,
     "metadata": {},
     "output_type": "execute_result"
    }
   ],
   "source": [
    "# Create an array with 100 values between 1 and 50 using linspace\n",
    "np.linspace(1,50,100)"
   ]
  },
  {
   "cell_type": "markdown",
   "metadata": {
    "id": "EONIHzQ6FSFc"
   },
   "source": [
    "Wao! linspace returns evenly spaced numbers over a specified interval.\n",
    "\n",
    " We saw some similar defination for arrange function\n",
    "\n",
    "The main difference both of them is that arange return values with in a range which has a space between values (in other words the step) and linspace returns set of samples with in a given interval.\n",
    "\n",
    "## Numpy Random numbers\n",
    "\n",
    "\n",
    "Fun Fact:\n",
    "\n",
    "You can create a numpy array with random numbers also. How? Uisng random function<br>\n",
    "Lets see how\n",
    "\n"
   ]
  },
  {
   "cell_type": "code",
   "execution_count": 17,
   "metadata": {
    "id": "iCCx1zrtFSFd",
    "outputId": "cc714b6e-40eb-4041-e671-3766720fe16a"
   },
   "outputs": [
    {
     "data": {
      "text/plain": [
       "array([0.12468366])"
      ]
     },
     "execution_count": 17,
     "metadata": {},
     "output_type": "execute_result"
    }
   ],
   "source": [
    "# Generate one random number between 0 and 1 using numpy's random.rand() function.\n",
    "np.random.rand(1)\n"
   ]
  },
  {
   "cell_type": "markdown",
   "metadata": {
    "id": "1beNNjhjFSFf"
   },
   "source": [
    "Run the above cell again and check if number changes.\n",
    "\n",
    "Yeah it changes. That's so random :)"
   ]
  },
  {
   "cell_type": "code",
   "execution_count": 28,
   "metadata": {
    "id": "wGVJEqizFSFh",
    "outputId": "3c840f36-1ca8-4d52-d035-7fae97e05324"
   },
   "outputs": [
    {
     "data": {
      "text/plain": [
       "5"
      ]
     },
     "execution_count": 28,
     "metadata": {},
     "output_type": "execute_result"
    }
   ],
   "source": [
    "# so let say I want a random value between 2 and 50\n",
    "np.random.randint(2,50)"
   ]
  },
  {
   "cell_type": "markdown",
   "metadata": {
    "id": "xP7TiLuqFSFj"
   },
   "source": [
    "Run the above cell again and check if number changes and its between 2 to 50.\n",
    "\n",
    "Now lets create an array with random numbers 0 to 1 of shape 3X3"
   ]
  },
  {
   "cell_type": "code",
   "execution_count": 23,
   "metadata": {
    "id": "_tRe9AQZFSFk",
    "outputId": "3c05841d-7061-44f4-d458-ae67d72028b3"
   },
   "outputs": [
    {
     "data": {
      "text/plain": [
       "array([[0.63140344, 0.16875927, 0.1682464 ],\n",
       "       [0.67653537, 0.23262143, 0.93744571],\n",
       "       [0.35115316, 0.41071128, 0.40941166]])"
      ]
     },
     "execution_count": 23,
     "metadata": {},
     "output_type": "execute_result"
    }
   ],
   "source": [
    "#get an array as stated above\n",
    "np.random.rand(3,3)"
   ]
  },
  {
   "cell_type": "markdown",
   "metadata": {
    "id": "rhxWlGdZFSFl"
   },
   "source": [
    "\n",
    "\n",
    "## Numpy Reshape\n",
    "\n",
    "\n",
    "Reshaping means changing the shape of an array.\n",
    "The shape of an array is the number of elements in each dimension.\n",
    "By reshaping we can add or remove dimensions or change number of elements in each dimension.\n",
    "\n"
   ]
  },
  {
   "cell_type": "code",
   "execution_count": 32,
   "metadata": {
    "id": "f7mgnZh3FSFl"
   },
   "outputs": [],
   "source": [
    "# Using arange() to generate numpy array x with numbers between 1 to 16\n",
    "x= np.arange(1,17)"
   ]
  },
  {
   "cell_type": "markdown",
   "metadata": {
    "id": "UEHGVkWLFSFo"
   },
   "source": [
    "So here x is our 1-D array along with being sweet sixteen array ;). Lets reshape our x into 2-D and 3-D array using Reshape\n",
    "\n",
    "1. Reshaping 1-D to 2-D"
   ]
  },
  {
   "cell_type": "code",
   "execution_count": 34,
   "metadata": {
    "id": "Q5wgmPrZFSFp",
    "outputId": "f56e9884-4e44-4975-e1bb-5c7cc2e47b1f"
   },
   "outputs": [
    {
     "data": {
      "text/plain": [
       "array([[ 1,  2,  3,  4,  5,  6,  7,  8],\n",
       "       [ 9, 10, 11, 12, 13, 14, 15, 16]])"
      ]
     },
     "execution_count": 34,
     "metadata": {},
     "output_type": "execute_result"
    }
   ],
   "source": [
    "# Reshape x with 2 rows and 8 columns\n",
    "x.shape = (2,8)\n",
    "x"
   ]
  },
  {
   "cell_type": "markdown",
   "metadata": {
    "id": "xcU0rHjxFSFq"
   },
   "source": [
    "As you can see above that our x changed into 2D matrix\n",
    "\n",
    "2. Reshaping 1-D to 3-D array\n"
   ]
  },
  {
   "cell_type": "code",
   "execution_count": 39,
   "metadata": {
    "id": "lN9KQG5hFSFr",
    "outputId": "fe145a49-6503-498b-bc32-43b7dd60f600",
    "scrolled": true
   },
   "outputs": [
    {
     "data": {
      "text/plain": [
       "array([[[ 1,  2],\n",
       "        [ 3,  4],\n",
       "        [ 5,  6],\n",
       "        [ 7,  8]],\n",
       "\n",
       "       [[ 9, 10],\n",
       "        [11, 12],\n",
       "        [13, 14],\n",
       "        [15, 16]]])"
      ]
     },
     "execution_count": 39,
     "metadata": {},
     "output_type": "execute_result"
    }
   ],
   "source": [
    "# reshape x with dimension that will have 2 arrays that contains 4 arrays, each with 2 elements:\n",
    "x.reshape(2,4,2)"
   ]
  },
  {
   "cell_type": "markdown",
   "metadata": {
    "id": "58zSDf6yFSFs"
   },
   "source": [
    "**Fun Fact:**\n",
    "\n",
    "<u>Unknown Dimension</u>\n",
    "\n",
    "You are allowed to have one \"unknown\" dimension.Meaning that you do not have to specify an exact number for one of the dimensions in the reshape method.\n",
    "Pass -1 as the value, and NumPy will calculate this number for you. Awesome right?\n"
   ]
  },
  {
   "cell_type": "code",
   "execution_count": 36,
   "metadata": {
    "id": "c_AQ4WBaFSFt",
    "outputId": "aa1934e9-4f2e-41ac-d81a-4e8594ed0fcf"
   },
   "outputs": [
    {
     "data": {
      "text/plain": [
       "array([[ 1,  2,  3,  4],\n",
       "       [ 5,  6,  7,  8],\n",
       "       [ 9, 10, 11, 12],\n",
       "       [13, 14, 15, 16]])"
      ]
     },
     "execution_count": 36,
     "metadata": {},
     "output_type": "execute_result"
    }
   ],
   "source": [
    "# Use unknown dimention to reshape x into 2-D numpy array with shape 4*4\n",
    "np.reshape(x,(4,-1))"
   ]
  },
  {
   "cell_type": "code",
   "execution_count": 41,
   "metadata": {
    "id": "hZlmT0JLFSFu",
    "outputId": "8076c0ff-a575-4667-96cd-84b16722e27d"
   },
   "outputs": [
    {
     "name": "stdout",
     "output_type": "stream",
     "text": [
      "[[[ 1  2]\n",
      "  [ 3  4]\n",
      "  [ 5  6]\n",
      "  [ 7  8]]\n",
      "\n",
      " [[ 9 10]\n",
      "  [11 12]\n",
      "  [13 14]\n",
      "  [15 16]]]\n"
     ]
    }
   ],
   "source": [
    "# Use unknown dimention to  reshape x into 3-D numpy array with 2 arrays that contains 4 arrays\n",
    "y= x.reshape(2,4,2)\n",
    "\n",
    "# print y\n",
    "print(y)"
   ]
  },
  {
   "cell_type": "markdown",
   "metadata": {
    "id": "I6cHw3p2FSFv"
   },
   "source": [
    "Note: We can not pass -1 to more than one dimension.\n",
    "\n",
    "Another cool Fact: -1 can be used to flatten an array which means converting a multidimensional array into a 1D array.\n",
    "\n",
    "    Lets apply this technique on y which is 3-D array"
   ]
  },
  {
   "cell_type": "code",
   "execution_count": 43,
   "metadata": {
    "id": "fL2HiYoBFSFw",
    "outputId": "eccbf767-7b2e-4a37-a59b-509d3d132dad"
   },
   "outputs": [
    {
     "data": {
      "text/plain": [
       "array([ 1,  2,  3,  4,  5,  6,  7,  8,  9, 10, 11, 12, 13, 14, 15, 16])"
      ]
     },
     "execution_count": 43,
     "metadata": {},
     "output_type": "execute_result"
    }
   ],
   "source": [
    "# Flattening y\n",
    "y.reshape(-1)"
   ]
  },
  {
   "cell_type": "markdown",
   "metadata": {
    "id": "VO-NjDFqFSFx"
   },
   "source": [
    "\n",
    "\n",
    "## NumPy Array Indexing\n",
    "\n",
    "\n",
    "\n",
    "Array indexing is the same as accessing an array element. You can access an array element by referring to its index number.\n",
    "\n",
    "The indexes in NumPy arrays start with 0, meaning that the first element has index 0, and the second has index 1 etc.\n",
    "\n"
   ]
  },
  {
   "cell_type": "code",
   "execution_count": 46,
   "metadata": {
    "id": "1eO7AJYrFSFy",
    "outputId": "d4df96ab-7a96-45f5-e8b5-ccb9fc309c84"
   },
   "outputs": [
    {
     "data": {
      "text/plain": [
       "array([ 2,  4,  6,  8, 10, 12, 14, 16])"
      ]
     },
     "execution_count": 46,
     "metadata": {},
     "output_type": "execute_result"
    }
   ],
   "source": [
    "# Create an array a with all even numbers between 1 to 17\n",
    "a = np.arange(2,17,2)\n",
    "\n",
    "# print a\n",
    "a"
   ]
  },
  {
   "cell_type": "code",
   "execution_count": 47,
   "metadata": {
    "id": "a5TSXSjvFSFz",
    "outputId": "35b39f35-2cf7-43a4-9bdc-441a7f0fc4d9"
   },
   "outputs": [
    {
     "data": {
      "text/plain": [
       "6"
      ]
     },
     "execution_count": 47,
     "metadata": {},
     "output_type": "execute_result"
    }
   ],
   "source": [
    "# Get third element in array a\n",
    "a[2]"
   ]
  },
  {
   "cell_type": "code",
   "execution_count": 50,
   "metadata": {
    "id": "vtl0g37qFSFz",
    "outputId": "d2722948-ae56-4dbe-dfc3-2a851eb3fc34"
   },
   "outputs": [
    {
     "data": {
      "text/plain": [
       "array([ 6, 10, 14])"
      ]
     },
     "execution_count": 50,
     "metadata": {},
     "output_type": "execute_result"
    }
   ],
   "source": [
    "#Print 3rd, 5th, and 7th element in array a\n",
    "a[[2,4,6]]"
   ]
  },
  {
   "cell_type": "markdown",
   "metadata": {
    "id": "qUqPXPv-FSF0"
   },
   "source": [
    "Lets check the same for 2 D array"
   ]
  },
  {
   "cell_type": "code",
   "execution_count": 51,
   "metadata": {
    "id": "wh0FFcc5FSF1"
   },
   "outputs": [],
   "source": [
    "# Define an array 2-D a with [[1,2,3],[4,5,6],[7,8,9]] as its elements.\n",
    "arr = np.array([[1,2,3],[4,5,6],[7,8,9]])"
   ]
  },
  {
   "cell_type": "code",
   "execution_count": 52,
   "metadata": {
    "id": "N_p4LhiTFSF1",
    "outputId": "88385d52-9110-4ca4-dec2-93b6c07ddb1c"
   },
   "outputs": [
    {
     "data": {
      "text/plain": [
       "9"
      ]
     },
     "execution_count": 52,
     "metadata": {},
     "output_type": "execute_result"
    }
   ],
   "source": [
    "# print the 3rd element from the 3rd row of a\n",
    "arr[2,2]"
   ]
  },
  {
   "cell_type": "markdown",
   "metadata": {
    "id": "Sc2XwO_AFSF2"
   },
   "source": [
    "\n",
    "\n",
    "Now lets check indexing for 3 D array "
   ]
  },
  {
   "cell_type": "code",
   "execution_count": 53,
   "metadata": {
    "id": "Vdz-6HUwFSF3"
   },
   "outputs": [],
   "source": [
    "# Define an array b again with [[[1, 2, 3], [4, 5, 6]], [[7, 8, 9], [10, 11, 12]]] as its elements.\n",
    "b = np.array([[[1, 2, 3], [4, 5, 6]], [[7, 8, 9], [10, 11, 12]]])"
   ]
  },
  {
   "cell_type": "code",
   "execution_count": 58,
   "metadata": {},
   "outputs": [
    {
     "data": {
      "text/plain": [
       "array([10, 11, 12])"
      ]
     },
     "execution_count": 58,
     "metadata": {},
     "output_type": "execute_result"
    }
   ],
   "source": [
    "b[1,1]"
   ]
  },
  {
   "cell_type": "code",
   "execution_count": 79,
   "metadata": {
    "id": "K8tW3H1OFSF3",
    "outputId": "9a444e9c-ced6-4c23-b0c1-e5802297f53a"
   },
   "outputs": [
    {
     "data": {
      "text/plain": [
       "6"
      ]
     },
     "execution_count": 79,
     "metadata": {},
     "output_type": "execute_result"
    }
   ],
   "source": [
    "# Print 3rd element from 2nd list which is 1st list in nested list passed. Confusing right? 'a' have nested array.Understand the braket differences.\n",
    "b[0][1][2]"
   ]
  },
  {
   "cell_type": "markdown",
   "metadata": {
    "id": "j_0uuKbOFSF4"
   },
   "source": [
    "\n",
    "\n",
    "Have you heared about **negative indexing?**\n",
    "\n",
    "\n",
    "We can use negative indexing to access an array from the end."
   ]
  },
  {
   "cell_type": "code",
   "execution_count": 87,
   "metadata": {
    "id": "z52Err4QFSF4",
    "outputId": "d93d3dbd-340d-44b2-ee48-930e798c4864"
   },
   "outputs": [
    {
     "data": {
      "text/plain": [
       "5"
      ]
     },
     "execution_count": 87,
     "metadata": {},
     "output_type": "execute_result"
    }
   ],
   "source": [
    "# Print the second last element from the 2nd dim using negative indexing\n",
    "b[-2][-1][-2]"
   ]
  },
  {
   "cell_type": "markdown",
   "metadata": {
    "id": "5C8maf7lFSF5"
   },
   "source": [
    "\n",
    "\n",
    "## NumPy Array Slicing\n",
    "\n",
    "\n",
    "\n",
    "Slicing in python means taking elements from one given index to another given index.\n",
    "\n",
    "    1. We pass slice instead of index like this: [start:end].\n",
    "    2. We can also define the step, like this: [start:end:step].\n",
    "    3. If we don't pass start its considered 0\n",
    "    4. If we don't pass end its considered length of array in that dimension\n",
    "    5. If we don't pass step its considered 1\n",
    "    \n",
    "\n",
    "\n",
    "    \n",
    "1. **Array slicing in 1-D array.**"
   ]
  },
  {
   "cell_type": "code",
   "execution_count": 59,
   "metadata": {
    "id": "0TuWUvUQFSF6",
    "outputId": "9e21a772-0799-46da-af26-23503f315a32"
   },
   "outputs": [
    {
     "data": {
      "text/plain": [
       "array([ 1,  2,  3,  4,  5,  6,  7,  8,  9, 10])"
      ]
     },
     "execution_count": 59,
     "metadata": {},
     "output_type": "execute_result"
    }
   ],
   "source": [
    "arr=np.arange(1,11)\n",
    "arr"
   ]
  },
  {
   "cell_type": "code",
   "execution_count": 60,
   "metadata": {
    "id": "Msj9-EDAFSGC",
    "outputId": "f08523d6-0cc4-411e-be41-8a622dde1ffe"
   },
   "outputs": [
    {
     "data": {
      "text/plain": [
       "array([1, 2, 3, 4, 5])"
      ]
     },
     "execution_count": 60,
     "metadata": {},
     "output_type": "execute_result"
    }
   ],
   "source": [
    "# Slice elements from 1st to 5th element from array arr:\n",
    "arr[0:5]\n"
   ]
  },
  {
   "cell_type": "markdown",
   "metadata": {
    "id": "Hox6x_dEFSGC"
   },
   "source": [
    "Note: The result includes the start index, but excludes the end index.\n",
    "\n"
   ]
  },
  {
   "cell_type": "code",
   "execution_count": 61,
   "metadata": {
    "id": "A6XBxzehFSGD",
    "outputId": "fec7ec49-2a8b-4bd2-bf7a-5b3b4ec7e4a6"
   },
   "outputs": [
    {
     "data": {
      "text/plain": [
       "array([ 6,  7,  8,  9, 10])"
      ]
     },
     "execution_count": 61,
     "metadata": {},
     "output_type": "execute_result"
    }
   ],
   "source": [
    "# Slice elements from index 5 to the end of the array arr:\n",
    "arr[5:]"
   ]
  },
  {
   "cell_type": "code",
   "execution_count": 62,
   "metadata": {
    "id": "wG3P9y1TFSGE",
    "outputId": "8d0e86b6-55f6-491d-8c20-92c645e5691c"
   },
   "outputs": [
    {
     "data": {
      "text/plain": [
       "array([1, 2, 3, 4, 5])"
      ]
     },
     "execution_count": 62,
     "metadata": {},
     "output_type": "execute_result"
    }
   ],
   "source": [
    "# Slice elements from the beginning to index 5 (not included) in array arr:\n",
    "arr[:5]\n"
   ]
  },
  {
   "cell_type": "markdown",
   "metadata": {
    "id": "Zf63qTIKFSGE"
   },
   "source": [
    "Have you heared about **Negative Slicing?**\n",
    "\n",
    "We can use the minus operator to refer to an index from the end:\n",
    "\n"
   ]
  },
  {
   "cell_type": "code",
   "execution_count": 64,
   "metadata": {
    "id": "P348C4GxFSGF",
    "outputId": "8750fa59-81e0-4ea2-d3cc-a266306e32a3"
   },
   "outputs": [
    {
     "data": {
      "text/plain": [
       "array([8, 9])"
      ]
     },
     "execution_count": 64,
     "metadata": {},
     "output_type": "execute_result"
    }
   ],
   "source": [
    "# Slice from the index 3 from the end to index 1 from the end:\n",
    "arr[-3:-1]\n"
   ]
  },
  {
   "cell_type": "markdown",
   "metadata": {
    "id": "IJaMJNDFFSGG"
   },
   "source": [
    "**STEP**\n",
    "\n",
    "Use the step value to determine the step of the slicing:"
   ]
  },
  {
   "cell_type": "code",
   "execution_count": 66,
   "metadata": {
    "id": "iCUxjdIVFSGH",
    "outputId": "dde2aafc-70f4-409c-d9f9-76831ba7ab2a"
   },
   "outputs": [
    {
     "data": {
      "text/plain": [
       "array([2, 4, 6])"
      ]
     },
     "execution_count": 66,
     "metadata": {},
     "output_type": "execute_result"
    }
   ],
   "source": [
    "# Print every other element from index 1 to index 7:\n",
    "arr[1:7:2]\n"
   ]
  },
  {
   "cell_type": "markdown",
   "metadata": {
    "id": "Y9iUAAE6FSGH"
   },
   "source": [
    "Did you see? using step you were able to get alternate elements within specified index numbers."
   ]
  },
  {
   "cell_type": "code",
   "execution_count": 67,
   "metadata": {
    "id": "wzdy5KmRFSGI",
    "outputId": "e758ad99-aa82-466b-9ce3-f2624317660e"
   },
   "outputs": [
    {
     "data": {
      "text/plain": [
       "array([1, 3, 5, 7, 9])"
      ]
     },
     "execution_count": 67,
     "metadata": {},
     "output_type": "execute_result"
    }
   ],
   "source": [
    "# Return every other element from the entire array arr:\n",
    "arr[::2]"
   ]
  },
  {
   "cell_type": "markdown",
   "metadata": {
    "id": "fQtKWW8vFSGJ"
   },
   "source": [
    "\n",
    "\n",
    "Lets do some slicing on 2-D array also. We already have 'a' as our 2-D array. We will use it here.\n",
    "\n",
    "**2. Array slicing in 2-D array.**"
   ]
  },
  {
   "cell_type": "code",
   "execution_count": 71,
   "metadata": {
    "id": "bUhBIhxjFSGJ",
    "outputId": "daaeefc1-3a47-41df-c5be-48d130575ca3"
   },
   "outputs": [
    {
     "data": {
      "text/plain": [
       "array([[1, 2, 3],\n",
       "       [4, 5, 6],\n",
       "       [7, 8, 9]])"
      ]
     },
     "execution_count": 71,
     "metadata": {},
     "output_type": "execute_result"
    }
   ],
   "source": [
    "# Print array a\n",
    "a = np.array([[1, 2, 3],\n",
    "       [4, 5, 6],\n",
    "       [7, 8, 9]])\n",
    "a"
   ]
  },
  {
   "cell_type": "code",
   "execution_count": 94,
   "metadata": {},
   "outputs": [
    {
     "data": {
      "text/plain": [
       "array([3, 6, 9])"
      ]
     },
     "execution_count": 94,
     "metadata": {},
     "output_type": "execute_result"
    }
   ],
   "source": [
    "a[:,2]\n"
   ]
  },
  {
   "cell_type": "code",
   "execution_count": 97,
   "metadata": {
    "id": "ARft71MYFSGK",
    "outputId": "e7672863-e21a-47e5-c74e-96474c9f6df5"
   },
   "outputs": [
    {
     "data": {
      "text/plain": [
       "array([[2, 3],\n",
       "       [5, 6],\n",
       "       [8, 9]])"
      ]
     },
     "execution_count": 97,
     "metadata": {},
     "output_type": "execute_result"
    }
   ],
   "source": [
    "# From the third element, slice elements from index 1 to index 5 (not included) from array 'a'\n",
    "a[0:,1:]\n"
   ]
  },
  {
   "cell_type": "code",
   "execution_count": 95,
   "metadata": {
    "id": "pB7SpN2KFSGL",
    "outputId": "3720ebd4-ceea-4e42-e6a3-79f81a921e1b"
   },
   "outputs": [
    {
     "data": {
      "text/plain": [
       "array([3, 6, 9])"
      ]
     },
     "execution_count": 95,
     "metadata": {},
     "output_type": "execute_result"
    }
   ],
   "source": [
    "# In array 'a' print index 2 from all the rows :\n",
    "a[:,2]\n"
   ]
  },
  {
   "cell_type": "code",
   "execution_count": 98,
   "metadata": {
    "id": "1Ta5bxjUFSGM",
    "outputId": "891ec5fc-ab43-41ad-a00b-e73b2c22f767"
   },
   "outputs": [
    {
     "data": {
      "text/plain": [
       "array([[2, 3],\n",
       "       [5, 6],\n",
       "       [8, 9]])"
      ]
     },
     "execution_count": 98,
     "metadata": {},
     "output_type": "execute_result"
    }
   ],
   "source": [
    "# From all the elements in 'a', slice index 1 till end, this will return a 2-D array:\n",
    "a[0:,1:]\n"
   ]
  },
  {
   "cell_type": "markdown",
   "metadata": {
    "id": "gJiSMxbOFSGO"
   },
   "source": [
    "## Numpy copy vs view\n",
    "\n",
    "\n"
   ]
  },
  {
   "cell_type": "code",
   "execution_count": 99,
   "metadata": {
    "id": "lXsOE1KOFSGO"
   },
   "outputs": [],
   "source": [
    "x1= np.arange(10)"
   ]
  },
  {
   "cell_type": "code",
   "execution_count": 100,
   "metadata": {},
   "outputs": [
    {
     "data": {
      "text/plain": [
       "array([0, 1, 2, 3, 4, 5, 6, 7, 8, 9])"
      ]
     },
     "execution_count": 100,
     "metadata": {},
     "output_type": "execute_result"
    }
   ],
   "source": [
    "x2 = x1\n",
    "x2"
   ]
  },
  {
   "cell_type": "code",
   "execution_count": 101,
   "metadata": {
    "id": "8D3K1m9zFSGP"
   },
   "outputs": [],
   "source": [
    "# assign x2 = x1\n",
    "x2 = x1"
   ]
  },
  {
   "cell_type": "code",
   "execution_count": 103,
   "metadata": {
    "id": "Lh-QLYSWFSGP",
    "outputId": "734714b8-418a-439a-ce07-b50dc42bb4b2"
   },
   "outputs": [
    {
     "name": "stdout",
     "output_type": "stream",
     "text": [
      "[0 1 2 3 4 5 6 7 8 9]\n",
      "[0 1 2 3 4 5 6 7 8 9]\n"
     ]
    }
   ],
   "source": [
    "#print x1 and x2\n",
    "print(x1)\n",
    "print(x2)\n"
   ]
  },
  {
   "cell_type": "markdown",
   "metadata": {
    "id": "3tocVh_0FSGR"
   },
   "source": [
    "Ok now you have seen that both of them are same "
   ]
  },
  {
   "cell_type": "code",
   "execution_count": 104,
   "metadata": {
    "id": "nilGtr6cFSGS"
   },
   "outputs": [],
   "source": [
    "# change 1st element of x2 as 10\n",
    "x2[0] = 10"
   ]
  },
  {
   "cell_type": "code",
   "execution_count": 105,
   "metadata": {
    "id": "GeTic5GUFSGS",
    "outputId": "9cc6399e-9f85-47aa-a740-c3933eb3e77e"
   },
   "outputs": [
    {
     "name": "stdout",
     "output_type": "stream",
     "text": [
      "[10  1  2  3  4  5  6  7  8  9]\n",
      "[10  1  2  3  4  5  6  7  8  9]\n"
     ]
    }
   ],
   "source": [
    "#Again print x1 and x2\n",
    "print(x1)\n",
    "print(x2)"
   ]
  },
  {
   "cell_type": "markdown",
   "metadata": {
    "id": "Ou9xwugbFSGT"
   },
   "source": [
    "Wait a minute. Just check your above result on change of x2, x1 also got changed. Why?\n",
    "\n",
    "Lets check if both the variables shares memory. Use numpy shares_memory() function to check if both x1 and x2 shares a  memory.\n",
    "\n"
   ]
  },
  {
   "cell_type": "code",
   "execution_count": 109,
   "metadata": {
    "id": "AQS7COokFSGU",
    "outputId": "086556d5-44dd-45c2-8fbb-ebb7c9ec2e87"
   },
   "outputs": [
    {
     "data": {
      "text/plain": [
       "True"
      ]
     },
     "execution_count": 109,
     "metadata": {},
     "output_type": "execute_result"
    }
   ],
   "source": [
    "# Check memory share between x1 and x2\n",
    "np.shares_memory(x1,x2)"
   ]
  },
  {
   "cell_type": "markdown",
   "metadata": {
    "id": "DE6e2mCpFSGV"
   },
   "source": [
    "Hey It's True they both share memory\n",
    "\n",
    "Shall we try **view()** function also likwise."
   ]
  },
  {
   "cell_type": "code",
   "execution_count": 106,
   "metadata": {
    "id": "AdrYlpCBFSGV"
   },
   "outputs": [],
   "source": [
    "# Create a view of x1 and store it in x3.\n",
    "x3 = x1.view()"
   ]
  },
  {
   "cell_type": "code",
   "execution_count": 110,
   "metadata": {
    "id": "nDBcUporFSGW",
    "outputId": "c0602336-6f31-4930-a6f1-cb9c53f5026c"
   },
   "outputs": [
    {
     "data": {
      "text/plain": [
       "True"
      ]
     },
     "execution_count": 110,
     "metadata": {},
     "output_type": "execute_result"
    }
   ],
   "source": [
    "# Again check memory share between x1 and x3\n",
    "np.shares_memory(x1,x3)"
   ]
  },
  {
   "cell_type": "markdown",
   "metadata": {
    "id": "KQX9hUSgFSGW"
   },
   "source": [
    "Woh! simple assignment is similar to view. That means \n",
    "The view does not own the data and any changes made to the view will affect the original array, and any changes made to the original array will affect the view.\n",
    "\n",
    "Don't agree? ok lets change x3 and see if original array i.e. x1 also changes"
   ]
  },
  {
   "cell_type": "code",
   "execution_count": 111,
   "metadata": {
    "id": "3KHUuowEFSGX"
   },
   "outputs": [],
   "source": [
    "#Change 1st element of x3=100\n",
    "x3[0] = 100"
   ]
  },
  {
   "cell_type": "code",
   "execution_count": 112,
   "metadata": {
    "id": "PeZHMIVFFSGY",
    "outputId": "51556a84-bdb9-4d43-e859-d1f1ad1d812f"
   },
   "outputs": [
    {
     "name": "stdout",
     "output_type": "stream",
     "text": [
      "[100   1   2   3   4   5   6   7   8   9]\n",
      "[100   1   2   3   4   5   6   7   8   9]\n"
     ]
    }
   ],
   "source": [
    "#print x1 and x3 to check if changes reflected in both\n",
    "print(x1)\n",
    "print(x3)"
   ]
  },
  {
   "cell_type": "markdown",
   "metadata": {
    "id": "AykP9zL7FSGY"
   },
   "source": [
    "Now its proved.\n",
    "\n",
    "Lets see how **Copy()** function works"
   ]
  },
  {
   "cell_type": "code",
   "execution_count": 113,
   "metadata": {
    "id": "r6wDm3jRFSGZ"
   },
   "outputs": [],
   "source": [
    "# Now create an array x4 which is copy of x1\n",
    "\n",
    "x4= x1.copy()"
   ]
  },
  {
   "cell_type": "code",
   "execution_count": 114,
   "metadata": {
    "id": "IJ_reIKYFSGa"
   },
   "outputs": [],
   "source": [
    "# Change the last element of x4 as 900\n",
    "x4[-1] = 900"
   ]
  },
  {
   "cell_type": "code",
   "execution_count": 115,
   "metadata": {
    "id": "V9UvQQKiFSGa",
    "outputId": "d2cd3f5f-2af1-4dea-d651-409da280a94f"
   },
   "outputs": [
    {
     "name": "stdout",
     "output_type": "stream",
     "text": [
      "[100   1   2   3   4   5   6   7   8   9]\n",
      "[100   1   2   3   4   5   6   7   8 900]\n"
     ]
    }
   ],
   "source": [
    "# print both x1 and x4 to check if changes reflected in both\n",
    "print(x1)\n",
    "print(x4)"
   ]
  },
  {
   "cell_type": "markdown",
   "metadata": {
    "id": "RdrgwahdFSGb"
   },
   "source": [
    "Hey! such an intresting output. You noticed buddy! your original array didn't get changed on change of its copy ie. x4.\n",
    "\n",
    "Still not convinced? Ok lets see if they both share memory or not"
   ]
  },
  {
   "cell_type": "code",
   "execution_count": 116,
   "metadata": {
    "id": "HnF4etbOFSGc",
    "outputId": "823ec11b-443d-42c8-db1b-9ac603973570"
   },
   "outputs": [
    {
     "data": {
      "text/plain": [
       "False"
      ]
     },
     "execution_count": 116,
     "metadata": {},
     "output_type": "execute_result"
    }
   ],
   "source": [
    "#Check memory share between x1 and x4\n",
    "np.shares_memory(x1,x4)"
   ]
  },
  {
   "cell_type": "markdown",
   "metadata": {
    "id": "779UdCqxFSGc"
   },
   "source": [
    "You see! x1 and x4 don't share its memory. \n",
    "\n",
    "So with all our outputs we can takeaway few points:\n",
    "\n",
    "    1. The main difference between a copy and a view of an array is that the copy is a new array, and the view is just a view of the original array.\n",
    "\n",
    "    2. The copy owns the data and any changes made to the copy will not affect original array, and any changes made to the original array will not affect the copy.\n",
    "\n",
    "    3. The view does not own the data and any changes made to the view will affect the original array, and any changes made to the original array will affect the view."
   ]
  },
  {
   "cell_type": "markdown",
   "metadata": {
    "id": "zPn4SJQfFSGd"
   },
   "source": [
    "## More operations on Numpy\n",
    "\n",
    "**1. Applying conditions**\n",
    "\n",
    "\n"
   ]
  },
  {
   "cell_type": "code",
   "execution_count": 118,
   "metadata": {
    "id": "AAQ01IBmFSGd",
    "outputId": "6ff617c7-3704-4550-b923-f91679542e4b"
   },
   "outputs": [
    {
     "data": {
      "text/plain": [
       "array([[1, 2, 3],\n",
       "       [4, 5, 6],\n",
       "       [7, 8, 9]])"
      ]
     },
     "execution_count": 118,
     "metadata": {},
     "output_type": "execute_result"
    }
   ],
   "source": [
    "#print a\n",
    "a"
   ]
  },
  {
   "cell_type": "markdown",
   "metadata": {
    "id": "X8WYXfy2FSGe"
   },
   "source": [
    "We are going to use 'a' array for all our array condition operations.\n"
   ]
  },
  {
   "cell_type": "code",
   "execution_count": 120,
   "metadata": {
    "id": "0d638ZJHFSGf",
    "outputId": "4aa47423-f679-4176-a2b7-3efc96fd756f"
   },
   "outputs": [
    {
     "data": {
      "text/plain": [
       "array([[False, False, False],\n",
       "       [ True,  True,  True],\n",
       "       [ True,  True,  True]])"
      ]
     },
     "execution_count": 120,
     "metadata": {},
     "output_type": "execute_result"
    }
   ],
   "source": [
    "# Check if every element in array a greater than 3 or not Using '>' notation\n",
    "a > 3"
   ]
  },
  {
   "cell_type": "code",
   "execution_count": 121,
   "metadata": {
    "id": "wvakfNTrFSGf",
    "outputId": "76044643-8575-46c5-d945-48b14a87a693"
   },
   "outputs": [
    {
     "data": {
      "text/plain": [
       "array([4, 5, 6, 7, 8, 9])"
      ]
     },
     "execution_count": 121,
     "metadata": {},
     "output_type": "execute_result"
    }
   ],
   "source": [
    "# Get a list with all elements of array 'a' grater than 3\n",
    "a1 = a[a >3]\n",
    "a1"
   ]
  },
  {
   "cell_type": "code",
   "execution_count": 125,
   "metadata": {},
   "outputs": [
    {
     "data": {
      "text/plain": [
       "array([4, 5])"
      ]
     },
     "execution_count": 125,
     "metadata": {},
     "output_type": "execute_result"
    }
   ],
   "source": []
  },
  {
   "cell_type": "code",
   "execution_count": 126,
   "metadata": {
    "id": "i3XaxmEAFSGg",
    "outputId": "9e6d960a-2b77-4e08-f500-86ff8a9d7bed"
   },
   "outputs": [
    {
     "data": {
      "text/plain": [
       "array([4, 5])"
      ]
     },
     "execution_count": 126,
     "metadata": {},
     "output_type": "execute_result"
    }
   ],
   "source": [
    "# Get a list with all elements of array 'a' greater than 3 but less than 6\n",
    "a2 = a[(a >3) & (a < 6)]\n",
    "a2"
   ]
  },
  {
   "cell_type": "code",
   "execution_count": 128,
   "metadata": {
    "id": "e-wl_g1RFSGh",
    "outputId": "1eb754fa-a151-44b3-df69-7954ee905279"
   },
   "outputs": [
    {
     "data": {
      "text/plain": [
       "array([ True,  True,  True,  True,  True,  True,  True,  True,  True,\n",
       "       False])"
      ]
     },
     "execution_count": 128,
     "metadata": {},
     "output_type": "execute_result"
    }
   ],
   "source": [
    "# check if each elements in array 'x1' equals array 'x4' using '==' notation\n",
    "x1 == x4"
   ]
  },
  {
   "cell_type": "markdown",
   "metadata": {
    "id": "fnJ8Ux9NFSGi"
   },
   "source": [
    "You can see in above output that the last element is not same in both x1 and x4\n",
    "\n",
    "\n",
    "\n",
    "Lets check how to transpose an array\n",
    "\n",
    "**2. Transposing array**\n",
    "\n"
   ]
  },
  {
   "cell_type": "code",
   "execution_count": 131,
   "metadata": {
    "id": "YaHeBXPLFSGi",
    "outputId": "665e4b00-8223-49d7-c2fb-6b33cfdf0540"
   },
   "outputs": [
    {
     "name": "stdout",
     "output_type": "stream",
     "text": [
      "[[1 4 7]\n",
      " [2 5 8]\n",
      " [3 6 9]]\n",
      "-----------------\n",
      "[[1 2 3]\n",
      " [4 5 6]\n",
      " [7 8 9]]\n"
     ]
    }
   ],
   "source": [
    "# Print Transpose of array 'a'\n",
    "print(a.T)\n",
    "#print array 'a'\n",
    "print(\"-----------------\")\n",
    "print(a)\n"
   ]
  },
  {
   "cell_type": "markdown",
   "metadata": {
    "id": "_nU05-RxFSGj"
   },
   "source": [
    "In above output all the rows became columns by transposing "
   ]
  },
  {
   "cell_type": "markdown",
   "metadata": {
    "id": "OF7KFz5uFSGk"
   },
   "source": [
    "**3. hstack vs vstack function**\n",
    "\n",
    "\n",
    "\n",
    "Stacking is same as concatenation, the only difference is that stacking is done along a new axis.\n",
    "\n",
    "NumPy provides a helper function: \n",
    "\n",
    "1. hstack() to stack along rows.\n",
    "2. vstack()  to stack along columns\n"
   ]
  },
  {
   "cell_type": "code",
   "execution_count": 133,
   "metadata": {
    "id": "_A7cIOmxFSGk",
    "outputId": "0db9a981-dc24-4c0d-8c5a-ba28600b1ca2"
   },
   "outputs": [
    {
     "data": {
      "text/plain": [
       "array([[100,   1,   2,   3,   4,   5,   6,   7,   8,   9],\n",
       "       [100,   1,   2,   3,   4,   5,   6,   7,   8, 900]])"
      ]
     },
     "execution_count": 133,
     "metadata": {},
     "output_type": "execute_result"
    }
   ],
   "source": [
    "# stack x1 and x4 along columns.\n",
    "np.vstack((x1,x4))"
   ]
  },
  {
   "cell_type": "code",
   "execution_count": 135,
   "metadata": {
    "id": "Bbx_IVpNFSGl",
    "outputId": "1911517a-0837-46ef-d797-5a37b1c96cd2"
   },
   "outputs": [
    {
     "data": {
      "text/plain": [
       "array([100,   1,   2,   3,   4,   5,   6,   7,   8,   9, 100,   1,   2,\n",
       "         3,   4,   5,   6,   7,   8, 900])"
      ]
     },
     "execution_count": 135,
     "metadata": {},
     "output_type": "execute_result"
    }
   ],
   "source": [
    "#stack x1 and x4 along rows\n",
    "np.hstack((x1,x4))"
   ]
  },
  {
   "cell_type": "markdown",
   "metadata": {
    "id": "cTaYPQHIFSGm"
   },
   "source": [
    "\n",
    "\n",
    "Fun fact! you can even use concatenate() function to join 2 arrays along with the axis. If axis is not explicitly passed, it is taken as 0 ie. along column\n",
    "\n",
    "Lets try this function as well\n",
    "\n"
   ]
  },
  {
   "cell_type": "code",
   "execution_count": 137,
   "metadata": {},
   "outputs": [
    {
     "data": {
      "text/plain": [
       "array([[1, 2, 5, 6],\n",
       "       [3, 4, 7, 8]])"
      ]
     },
     "execution_count": 137,
     "metadata": {},
     "output_type": "execute_result"
    }
   ],
   "source": [
    "arr1 = np.array([[1, 2], [3, 4]])\n",
    "\n",
    "arr2 = np.array([[5, 6], [7, 8]])\n",
    "\n"
   ]
  },
  {
   "cell_type": "code",
   "execution_count": 138,
   "metadata": {
    "id": "t3ydGRAmFSGm",
    "outputId": "66a83d34-833d-44e7-f5e3-9c1bcdbb7a67"
   },
   "outputs": [
    {
     "data": {
      "text/plain": [
       "array([[1, 2, 5, 6],\n",
       "       [3, 4, 7, 8]])"
      ]
     },
     "execution_count": 138,
     "metadata": {},
     "output_type": "execute_result"
    }
   ],
   "source": [
    "arr1 = np.array([[1, 2], [3, 4]])\n",
    "\n",
    "arr2 = np.array([[5, 6], [7, 8]])\n",
    "\n",
    "##join arr1 and arr2 along rows using concatenate() function\n",
    "np.concatenate((arr1,arr2), axis = 1)"
   ]
  },
  {
   "cell_type": "code",
   "execution_count": 139,
   "metadata": {
    "id": "ktlZSeZ8FSGn",
    "outputId": "37850d00-62b9-40d7-8383-5603ae311990"
   },
   "outputs": [
    {
     "data": {
      "text/plain": [
       "array([[1, 2],\n",
       "       [3, 4],\n",
       "       [5, 6],\n",
       "       [7, 8]])"
      ]
     },
     "execution_count": 139,
     "metadata": {},
     "output_type": "execute_result"
    }
   ],
   "source": [
    "##join arr1 and arr2 along columns using concatenate() function\n",
    "np.concatenate((arr1,arr2))"
   ]
  },
  {
   "cell_type": "markdown",
   "metadata": {
    "id": "AGO9Ons2FSGo"
   },
   "source": [
    "## Adding, Insert and delete Numpy array\n",
    "\n"
   ]
  },
  {
   "cell_type": "markdown",
   "metadata": {
    "id": "kfzSwZaFFSGo"
   },
   "source": [
    "You can also add 2 arrays using append() function also. This function appends values to end of array\n",
    "\n",
    "Lets see how"
   ]
  },
  {
   "cell_type": "code",
   "execution_count": 142,
   "metadata": {},
   "outputs": [
    {
     "data": {
      "text/plain": [
       "array([5, 6, 7, 8, 1, 2, 3, 4])"
      ]
     },
     "execution_count": 142,
     "metadata": {},
     "output_type": "execute_result"
    }
   ],
   "source": [
    "np.append(arr2,arr1)"
   ]
  },
  {
   "cell_type": "code",
   "execution_count": 141,
   "metadata": {
    "id": "OWH8g0X6FSGp",
    "outputId": "8e04229c-7d1e-405a-8c55-defcc2ec2395"
   },
   "outputs": [
    {
     "data": {
      "text/plain": [
       "array([1, 2, 3, 4, 5, 6, 7, 8])"
      ]
     },
     "execution_count": 141,
     "metadata": {},
     "output_type": "execute_result"
    }
   ],
   "source": [
    "# append arr2 to arr1\n",
    "np.append(arr1,arr2)"
   ]
  },
  {
   "cell_type": "markdown",
   "metadata": {
    "id": "Bt3TsSHQFSGq"
   },
   "source": [
    "Lets use insert() function which Inserts values into array before specified index value"
   ]
  },
  {
   "cell_type": "code",
   "execution_count": 144,
   "metadata": {
    "id": "q_0w7MrcFSGq",
    "outputId": "efd8267e-6e84-4379-9e56-500aa63006d6"
   },
   "outputs": [
    {
     "data": {
      "text/plain": [
       "array([100,   1,   2,   3, 100,   1,   2,   3,   4,   5,   6,   7,   8,\n",
       "       900,   4,   5,   6,   7,   8,   9])"
      ]
     },
     "execution_count": 144,
     "metadata": {},
     "output_type": "execute_result"
    }
   ],
   "source": [
    "# Inserts values into array x1 before index 4 with elements of x4\n",
    "np.insert(x1,4,x4)"
   ]
  },
  {
   "cell_type": "markdown",
   "metadata": {
    "id": "FOLvbsxjFSGr"
   },
   "source": [
    "You can see in above output we have inserted all the elements of x4 before index 4 in array x1."
   ]
  },
  {
   "cell_type": "code",
   "execution_count": 147,
   "metadata": {
    "id": "2dUxxy62FSGr",
    "outputId": "0cd9adf1-1490-46f9-9abf-315990244e2f"
   },
   "outputs": [
    {
     "data": {
      "text/plain": [
       "array([100,   1,   3,   4,   5,   6,   7,   8,   9])"
      ]
     },
     "execution_count": 147,
     "metadata": {},
     "output_type": "execute_result"
    }
   ],
   "source": [
    "# delete 2nd element from array x2\n",
    "np.delete(x2,2)\n"
   ]
  },
  {
   "cell_type": "markdown",
   "metadata": {
    "id": "HfVlOjdcFSGs"
   },
   "source": [
    "Did you see? 2 value is deleted from x2 which was at index position 2"
   ]
  },
  {
   "cell_type": "markdown",
   "metadata": {
    "id": "UrKn_eEWFSGs"
   },
   "source": [
    "## Mathmatical operations on Numpy array\n",
    "\n",
    "\n"
   ]
  },
  {
   "cell_type": "code",
   "execution_count": 149,
   "metadata": {
    "id": "poYtkrOVFSGt"
   },
   "outputs": [],
   "source": [
    "#defining a\n",
    "a= np.array([[1,2,3],[4,5,6],[7,8,9]])"
   ]
  },
  {
   "cell_type": "code",
   "execution_count": 151,
   "metadata": {},
   "outputs": [
    {
     "data": {
      "text/plain": [
       "array([[ 0.84147098,  0.90929743,  0.14112001],\n",
       "       [-0.7568025 , -0.95892427, -0.2794155 ],\n",
       "       [ 0.6569866 ,  0.98935825,  0.41211849]])"
      ]
     },
     "execution_count": 151,
     "metadata": {},
     "output_type": "execute_result"
    }
   ],
   "source": [
    "np.sin(a)"
   ]
  },
  {
   "cell_type": "code",
   "execution_count": 152,
   "metadata": {
    "id": "gwelWJfkFSGt",
    "outputId": "10f8a3d5-69cd-49c2-f3d4-14a5447646b1"
   },
   "outputs": [
    {
     "data": {
      "text/plain": [
       "array([[ 0.84147098,  0.90929743,  0.14112001],\n",
       "       [-0.7568025 , -0.95892427, -0.2794155 ],\n",
       "       [ 0.6569866 ,  0.98935825,  0.41211849]])"
      ]
     },
     "execution_count": 152,
     "metadata": {},
     "output_type": "execute_result"
    }
   ],
   "source": [
    "# print trigonometric sin value of each element of a\n",
    "np.sin(a)"
   ]
  },
  {
   "cell_type": "code",
   "execution_count": 153,
   "metadata": {
    "id": "nUYDU-o4FSGu",
    "outputId": "1341a4d2-5835-47f4-f31c-bd51597da1ba"
   },
   "outputs": [
    {
     "data": {
      "text/plain": [
       "array([[ 0.54030231, -0.41614684, -0.9899925 ],\n",
       "       [-0.65364362,  0.28366219,  0.96017029],\n",
       "       [ 0.75390225, -0.14550003, -0.91113026]])"
      ]
     },
     "execution_count": 153,
     "metadata": {},
     "output_type": "execute_result"
    }
   ],
   "source": [
    "# print trigonometric cos value of each element of a\n",
    "\n",
    "np.cos(a)"
   ]
  },
  {
   "cell_type": "code",
   "execution_count": 154,
   "metadata": {
    "id": "l3wo59WdFSGv",
    "outputId": "d076321b-f337-42d1-db63-18a7e24cf9cc"
   },
   "outputs": [
    {
     "data": {
      "text/plain": [
       "array([[2.71828183e+00, 7.38905610e+00, 2.00855369e+01],\n",
       "       [5.45981500e+01, 1.48413159e+02, 4.03428793e+02],\n",
       "       [1.09663316e+03, 2.98095799e+03, 8.10308393e+03]])"
      ]
     },
     "execution_count": 154,
     "metadata": {},
     "output_type": "execute_result"
    }
   ],
   "source": [
    "# Print exponential value of each elements of a\n",
    "np.exp(a)"
   ]
  },
  {
   "cell_type": "code",
   "execution_count": 155,
   "metadata": {
    "id": "0oadA1aeFSGx",
    "outputId": "ae4e7853-03b4-4721-838a-c5cdafa6331c"
   },
   "outputs": [
    {
     "data": {
      "text/plain": [
       "45"
      ]
     },
     "execution_count": 155,
     "metadata": {},
     "output_type": "execute_result"
    }
   ],
   "source": [
    "# print total sum of elements of a\n",
    "np.sum(a)"
   ]
  },
  {
   "cell_type": "code",
   "execution_count": 159,
   "metadata": {
    "id": "UMR2tAJnFSGy",
    "outputId": "67910719-3efc-481f-83a8-d2e7b508b544"
   },
   "outputs": [
    {
     "data": {
      "text/plain": [
       "array([ 6, 15, 24])"
      ]
     },
     "execution_count": 159,
     "metadata": {},
     "output_type": "execute_result"
    }
   ],
   "source": [
    "# Print sum in array a column wise\n",
    "np.sum(a,axis = 1)"
   ]
  },
  {
   "cell_type": "code",
   "execution_count": 157,
   "metadata": {
    "id": "QAJo4gGEFSGy",
    "outputId": "d18e7d84-8ec0-4116-e411-b6cace282076"
   },
   "outputs": [
    {
     "data": {
      "text/plain": [
       "array([12, 15, 18])"
      ]
     },
     "execution_count": 157,
     "metadata": {},
     "output_type": "execute_result"
    }
   ],
   "source": [
    "# Print sum in array a row wise\n",
    "np.sum(a,axis = 0)"
   ]
  },
  {
   "cell_type": "code",
   "execution_count": 160,
   "metadata": {
    "id": "KQjXtBxjFSGz",
    "outputId": "8f0f75c7-79fc-4a40-f166-4eab9a200886"
   },
   "outputs": [
    {
     "data": {
      "text/plain": [
       "5.0"
      ]
     },
     "execution_count": 160,
     "metadata": {},
     "output_type": "execute_result"
    }
   ],
   "source": [
    "# print median of array a\n",
    "np.median(a)\n"
   ]
  },
  {
   "cell_type": "code",
   "execution_count": 161,
   "metadata": {
    "id": "3sB_qVZMFSG1",
    "outputId": "e45bcbef-55c1-403a-a4e8-59341f2bee4d"
   },
   "outputs": [
    {
     "data": {
      "text/plain": [
       "2.581988897471611"
      ]
     },
     "execution_count": 161,
     "metadata": {},
     "output_type": "execute_result"
    }
   ],
   "source": [
    "# print standard deviation of array a\n",
    "np.std(a)\n"
   ]
  },
  {
   "cell_type": "code",
   "execution_count": 163,
   "metadata": {
    "id": "C0Zk8uCEFSG2",
    "outputId": "dfabee45-acc4-4d98-e5cd-4aae69ddd46d"
   },
   "outputs": [
    {
     "data": {
      "text/plain": [
       "6.66133814775094e-16"
      ]
     },
     "execution_count": 163,
     "metadata": {},
     "output_type": "execute_result"
    }
   ],
   "source": [
    "# print the determinant of array a\n",
    "\n",
    "np.linalg.det(a)\n"
   ]
  },
  {
   "cell_type": "code",
   "execution_count": 166,
   "metadata": {
    "id": "Jd866vi-FSG3",
    "outputId": "45f2af49-f5d0-4b14-927f-0d85a75c436c"
   },
   "outputs": [
    {
     "data": {
      "text/plain": [
       "array([[-4.50359963e+15,  9.00719925e+15, -4.50359963e+15],\n",
       "       [ 9.00719925e+15, -1.80143985e+16,  9.00719925e+15],\n",
       "       [-4.50359963e+15,  9.00719925e+15, -4.50359963e+15]])"
      ]
     },
     "execution_count": 166,
     "metadata": {},
     "output_type": "execute_result"
    }
   ],
   "source": [
    "# print the (multiplicative) inverse of array a\n",
    "np.linalg.inv(a)"
   ]
  },
  {
   "cell_type": "code",
   "execution_count": 172,
   "metadata": {
    "id": "sMVTw1P4FSG4",
    "outputId": "97452ada-d5d1-4b13-a4ba-91a7b9261cd1"
   },
   "outputs": [
    {
     "data": {
      "text/plain": [
       "array([[-0.23197069, -0.78583024,  0.40824829],\n",
       "       [-0.52532209, -0.08675134, -0.81649658],\n",
       "       [-0.8186735 ,  0.61232756,  0.40824829]])"
      ]
     },
     "execution_count": 172,
     "metadata": {},
     "output_type": "execute_result"
    }
   ],
   "source": [
    "# Print the eigenvalues and right eigenvectors of array a.\n",
    "ev, rev = np.linalg.eig(a)\n",
    "ev; rev"
   ]
  },
  {
   "cell_type": "code",
   "execution_count": 174,
   "metadata": {
    "id": "GtV55iVsFSG5",
    "outputId": "4890b9ff-77f9-47f2-d707-667948d4d11c"
   },
   "outputs": [
    {
     "data": {
      "text/plain": [
       "array([[19, 22],\n",
       "       [43, 50]])"
      ]
     },
     "execution_count": 174,
     "metadata": {},
     "output_type": "execute_result"
    }
   ],
   "source": [
    "# compute dot product of arr1 and arr2\n",
    "np.dot(arr1, arr2)"
   ]
  },
  {
   "cell_type": "code",
   "execution_count": 176,
   "metadata": {
    "id": "8T5b9NtxFSG7",
    "outputId": "85fd5b7b-0e32-4346-884d-811991cccfb9"
   },
   "outputs": [
    {
     "data": {
      "text/plain": [
       "9"
      ]
     },
     "execution_count": 176,
     "metadata": {},
     "output_type": "execute_result"
    }
   ],
   "source": [
    "#print largest element present in array a\n",
    "np.amax(a)"
   ]
  },
  {
   "cell_type": "code",
   "execution_count": 177,
   "metadata": {
    "id": "Yc0xKuOEFSG8",
    "outputId": "a2bfbb6e-dfac-4bc4-9bed-56ed6c902d7d"
   },
   "outputs": [
    {
     "data": {
      "text/plain": [
       "8"
      ]
     },
     "execution_count": 177,
     "metadata": {},
     "output_type": "execute_result"
    }
   ],
   "source": [
    "#print index of largest element present in array a \n",
    "np.argmax(a)"
   ]
  },
  {
   "cell_type": "code",
   "execution_count": 180,
   "metadata": {
    "id": "G2Yr-0b5FSG9",
    "outputId": "70811f8e-d398-433a-faec-0d49aabe98b2"
   },
   "outputs": [
    {
     "data": {
      "text/plain": [
       "array([  1,   2,   3,   4,   5,   6,   7,   8, 100, 900])"
      ]
     },
     "execution_count": 180,
     "metadata": {},
     "output_type": "execute_result"
    }
   ],
   "source": [
    "# print sorted x4 array\n",
    "np.sort(x4)"
   ]
  },
  {
   "cell_type": "code",
   "execution_count": 181,
   "metadata": {
    "id": "PMgV3UB9FSG-",
    "outputId": "bb267a71-06ad-4b88-aade-03fc4e86758a"
   },
   "outputs": [
    {
     "data": {
      "text/plain": [
       "array([1, 2, 3, 4, 5, 6, 7, 8, 0, 9], dtype=int64)"
      ]
     },
     "execution_count": 181,
     "metadata": {},
     "output_type": "execute_result"
    }
   ],
   "source": [
    "# print indices of each sorted element in x4 array\n",
    "\n",
    "np.argsort(x4)"
   ]
  },
  {
   "cell_type": "markdown",
   "metadata": {
    "id": "TIiBod3TFSG_"
   },
   "source": [
    "## Searching Arrays\n",
    "\n",
    "\n",
    "\n",
    "You can search an array for a certain value, and return the indexes that get a match.\n",
    "\n",
    "To search an array, use the where() method.\n",
    "\n"
   ]
  },
  {
   "cell_type": "code",
   "execution_count": 185,
   "metadata": {
    "id": "T0qRVia1FSHA",
    "outputId": "31f71e44-f918-4a0b-82ad-e6ebdda5f44a"
   },
   "outputs": [
    {
     "data": {
      "text/plain": [
       "(array([4], dtype=int64),)"
      ]
     },
     "execution_count": 185,
     "metadata": {},
     "output_type": "execute_result"
    }
   ],
   "source": [
    "# print the indexes where the value is 4 in array x1\n",
    "np.where(x1 ==4)\n"
   ]
  },
  {
   "cell_type": "markdown",
   "metadata": {
    "id": "0wBN7lrDFSHA"
   },
   "source": [
    "Which means that the value 4 is present at index 4\n",
    "\n",
    "You can check it by printing array x1"
   ]
  },
  {
   "cell_type": "code",
   "execution_count": 183,
   "metadata": {
    "id": "8Is0w_Y-FSHB",
    "outputId": "8dd4d196-46d7-471d-f7fe-11f2d8ae8e76"
   },
   "outputs": [
    {
     "name": "stdout",
     "output_type": "stream",
     "text": [
      "[100   1   2   3   4   5   6   7   8   9]\n"
     ]
    }
   ],
   "source": [
    "#print array x1\n",
    "print(x1)"
   ]
  },
  {
   "cell_type": "code",
   "execution_count": 188,
   "metadata": {
    "id": "duQ7qJ6gFSHC",
    "outputId": "f3f099e6-12ea-4b8c-9443-291e7e1fe370"
   },
   "outputs": [
    {
     "data": {
      "text/plain": [
       "(array([0, 2, 4, 6, 8], dtype=int64),)"
      ]
     },
     "execution_count": 188,
     "metadata": {},
     "output_type": "execute_result"
    }
   ],
   "source": [
    "# Print the indexes where the values are even in array x1\n",
    "np.where(x1%2==0)\n"
   ]
  },
  {
   "cell_type": "code",
   "execution_count": 191,
   "metadata": {
    "id": "59nBbA4hFSHC",
    "outputId": "1cad647f-66d3-4d10-bc15-bcebae4cfe94"
   },
   "outputs": [
    {
     "data": {
      "text/plain": [
       "array([100,   0,   0,   0,   0,   0,   6,   7,   8,   9])"
      ]
     },
     "execution_count": 191,
     "metadata": {},
     "output_type": "execute_result"
    }
   ],
   "source": [
    "# Print x1 where x1 is greater than 5, also if number is less than 5 then replace it with 0\n",
    "\n",
    "np.where(x1 >5,x1,0)"
   ]
  }
 ],
 "metadata": {
  "colab": {
   "collapsed_sections": [
    "EONIHzQ6FSFc",
    "rhxWlGdZFSFl",
    "VO-NjDFqFSFx",
    "5C8maf7lFSF5",
    "gJiSMxbOFSGO",
    "zPn4SJQfFSGd",
    "AGO9Ons2FSGo",
    "UrKn_eEWFSGs",
    "TIiBod3TFSG_"
   ],
   "name": "Numpy._Solution_Gunjanipynb",
   "provenance": []
  },
  "kernelspec": {
   "display_name": "Python 3",
   "language": "python",
   "name": "python3"
  },
  "language_info": {
   "codemirror_mode": {
    "name": "ipython",
    "version": 3
   },
   "file_extension": ".py",
   "mimetype": "text/x-python",
   "name": "python",
   "nbconvert_exporter": "python",
   "pygments_lexer": "ipython3",
   "version": "3.8.8"
  }
 },
 "nbformat": 4,
 "nbformat_minor": 1
}
