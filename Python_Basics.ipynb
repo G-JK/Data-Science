{
 "cells": [
  {
   "cell_type": "markdown",
   "metadata": {
    "id": "Gsw5ApRkKW9U"
   },
   "source": [
    "# <center><u> Python basics</u></center>\n"
   ]
  },
  {
   "cell_type": "markdown",
   "metadata": {
    "id": "I_s5ZLMxKW9f"
   },
   "source": [
    "## Variable declaration\n"
   ]
  },
  {
   "cell_type": "code",
   "execution_count": null,
   "metadata": {
    "id": "a8Ndx8tjKW9h"
   },
   "outputs": [],
   "source": [
    "# declare two variables, a = 5, b = 'city'\n",
    "a = 5\n",
    "b = 'city'"
   ]
  },
  {
   "cell_type": "code",
   "execution_count": null,
   "metadata": {
    "colab": {
     "base_uri": "https://localhost:8080/"
    },
    "id": "1de9en5mKW9j",
    "outputId": "87f9b96d-27f8-4209-f41b-8fe40c67dd56"
   },
   "outputs": [
    {
     "name": "stdout",
     "output_type": "stream",
     "text": [
      "<class 'int'>\n"
     ]
    }
   ],
   "source": [
    "# print type of a\n",
    "print(type(a))"
   ]
  },
  {
   "cell_type": "code",
   "execution_count": null,
   "metadata": {
    "colab": {
     "base_uri": "https://localhost:8080/"
    },
    "id": "ivkG50n9KW9l",
    "outputId": "dd52a255-433e-481e-8fac-4c460524ec6e"
   },
   "outputs": [
    {
     "name": "stdout",
     "output_type": "stream",
     "text": [
      "<class 'str'>\n"
     ]
    }
   ],
   "source": [
    "# print type of b\n",
    "print(type(b))"
   ]
  },
  {
   "cell_type": "code",
   "execution_count": null,
   "metadata": {
    "id": "tgceheZDKW9n"
   },
   "outputs": [],
   "source": [
    "# swap the values of a and b\n",
    "a , b = b , a"
   ]
  },
  {
   "cell_type": "code",
   "execution_count": null,
   "metadata": {
    "colab": {
     "base_uri": "https://localhost:8080/"
    },
    "id": "Wduqj7IOKW9p",
    "outputId": "37ee657c-100e-4992-d91b-041a2144bcdb"
   },
   "outputs": [
    {
     "name": "stdout",
     "output_type": "stream",
     "text": [
      "a = city, b = 5\n"
     ]
    }
   ],
   "source": [
    "# run this to confirm \n",
    "print('a = {}, b = {}'.format(a,b))"
   ]
  },
  {
   "cell_type": "markdown",
   "metadata": {
    "id": "LQUxLiTyKW9s"
   },
   "source": [
    "## Arithmetic Operations"
   ]
  },
  {
   "cell_type": "code",
   "execution_count": null,
   "metadata": {
    "colab": {
     "base_uri": "https://localhost:8080/"
    },
    "id": "0m8Np1EHKW9u",
    "outputId": "ad4c6fd7-d1da-4105-ff38-ab47d14615bb"
   },
   "outputs": [
    {
     "name": "stdout",
     "output_type": "stream",
     "text": [
      "a = 24, b = 3\n"
     ]
    }
   ],
   "source": [
    "# declare two variables, a = 24, b = 3\n",
    "\n",
    "a = 24\n",
    "b = 3\n",
    "print('a = {}, b = {}'.format(a,b))"
   ]
  },
  {
   "cell_type": "code",
   "execution_count": null,
   "metadata": {
    "colab": {
     "base_uri": "https://localhost:8080/"
    },
    "id": "Pg3f31KLKW9v",
    "outputId": "0d1aefe2-85fb-4f5c-e5e3-982a95d5d3c4"
   },
   "outputs": [
    {
     "name": "stdout",
     "output_type": "stream",
     "text": [
      "a + b = 27\n",
      "a - b = 21\n",
      "a * b = 72\n",
      "a / b =  8.0\n",
      "a % b = 0\n",
      "a // b = 8\n",
      "a ^ b = 13824\n"
     ]
    }
   ],
   "source": [
    "# calculate and print all the possible numerical operations on a and b (There are total 7 operations)\n",
    "print('a + b =', a+b)\n",
    "print('a - b =', a-b)\n",
    "print('a * b =', a*b)\n",
    "print(\"a / b = \", a/b) \n",
    "print(\"a % b =\", a%b)\n",
    "print(\"a // b =\", a//b)\n",
    "print('a ^ b =', a**b)"
   ]
  },
  {
   "cell_type": "markdown",
   "metadata": {
    "id": "vFedqQJ0KW9x"
   },
   "source": [
    "## Math Functions"
   ]
  },
  {
   "cell_type": "code",
   "execution_count": null,
   "metadata": {
    "id": "g5CCWQiVKW9z"
   },
   "outputs": [],
   "source": [
    "import math"
   ]
  },
  {
   "cell_type": "code",
   "execution_count": null,
   "metadata": {
    "id": "K-JmyvUpKW90"
   },
   "outputs": [],
   "source": [
    "# declare a variable x = 2 and y=5.32167\n",
    "x = 2\n",
    "y = 5.32167\n"
   ]
  },
  {
   "cell_type": "code",
   "execution_count": null,
   "metadata": {
    "colab": {
     "base_uri": "https://localhost:8080/"
    },
    "id": "h8-GjWKYKW90",
    "outputId": "48b40f4e-9073-4585-e333-cf2482a2ea18"
   },
   "outputs": [
    {
     "name": "stdout",
     "output_type": "stream",
     "text": [
      "5.32167\n"
     ]
    }
   ],
   "source": [
    "# Print the maximum value between x and y\n",
    "print(max(x,y))"
   ]
  },
  {
   "cell_type": "code",
   "execution_count": null,
   "metadata": {
    "colab": {
     "base_uri": "https://localhost:8080/"
    },
    "id": "Qt-tjOKkKW91",
    "outputId": "16d7512c-1da9-4c9b-d8d1-fea2fcaae3d4"
   },
   "outputs": [
    {
     "name": "stdout",
     "output_type": "stream",
     "text": [
      "2\n"
     ]
    }
   ],
   "source": [
    "# Print the minimum value between x and y\n",
    "print(min(x,y))"
   ]
  },
  {
   "cell_type": "code",
   "execution_count": null,
   "metadata": {
    "colab": {
     "base_uri": "https://localhost:8080/"
    },
    "id": "_J3xVxpJKW92",
    "outputId": "aeeb2871-098e-463b-8967-7ddfe46440bd"
   },
   "outputs": [
    {
     "name": "stdout",
     "output_type": "stream",
     "text": [
      "4\n",
      "8\n"
     ]
    }
   ],
   "source": [
    "# Print square and cube of x and store in a and b variable\n",
    "a = x**2\n",
    "b = x**3\n",
    "print(a)\n",
    "print(b)"
   ]
  },
  {
   "cell_type": "code",
   "execution_count": null,
   "metadata": {
    "colab": {
     "base_uri": "https://localhost:8080/"
    },
    "id": "iVBtLQ0_KW93",
    "outputId": "74eb84cc-39ce-4385-bdfd-d8c40b2ad33d"
   },
   "outputs": [
    {
     "name": "stdout",
     "output_type": "stream",
     "text": [
      "0.6931471805599453\n"
     ]
    }
   ],
   "source": [
    "\n",
    "#print log of x and store it in variable c\n",
    "c = math.log(x)\n",
    "print(c)"
   ]
  },
  {
   "cell_type": "code",
   "execution_count": null,
   "metadata": {
    "colab": {
     "base_uri": "https://localhost:8080/"
    },
    "id": "B09iKpzkKW95",
    "outputId": "ef0a5ebd-0bc1-4b57-c508-182679513061"
   },
   "outputs": [
    {
     "name": "stdout",
     "output_type": "stream",
     "text": [
      "0.6931471805599453\n"
     ]
    }
   ],
   "source": [
    "#print minimum value between x,y,a, b and c\n",
    "print(min(x,y,a,b,c))"
   ]
  },
  {
   "cell_type": "code",
   "execution_count": null,
   "metadata": {
    "colab": {
     "base_uri": "https://localhost:8080/"
    },
    "id": "GqYKxVWsKW96",
    "outputId": "b2c287cb-0aa1-420c-f83c-d96cd7025c70"
   },
   "outputs": [
    {
     "name": "stdout",
     "output_type": "stream",
     "text": [
      "8\n"
     ]
    }
   ],
   "source": [
    "#print maximum value between x,y,a, b and c\n",
    "print(max(x,y,a,b,c))"
   ]
  },
  {
   "cell_type": "code",
   "execution_count": null,
   "metadata": {
    "colab": {
     "base_uri": "https://localhost:8080/"
    },
    "id": "Dm_QMmFwKW97",
    "outputId": "7d380b2a-41bd-4e43-9b11-1a53d185a7bf"
   },
   "outputs": [
    {
     "data": {
      "text/plain": [
       "0.0"
      ]
     },
     "execution_count": 45,
     "metadata": {},
     "output_type": "execute_result"
    }
   ],
   "source": [
    "#print the largest integer that is smaller than or equal to c. ie.round down\n",
    "round(c,-1)\n"
   ]
  },
  {
   "cell_type": "code",
   "execution_count": null,
   "metadata": {
    "colab": {
     "base_uri": "https://localhost:8080/"
    },
    "id": "Ypc78GxIKW98",
    "outputId": "dd56bb8e-fcd3-4984-afb4-48d49a66a5a7"
   },
   "outputs": [
    {
     "data": {
      "text/plain": [
       "1.0"
      ]
     },
     "execution_count": 48,
     "metadata": {},
     "output_type": "execute_result"
    }
   ],
   "source": [
    "#print the smallest integer that is greater than or equal to c ie. round up\n",
    "round(c,0)"
   ]
  },
  {
   "cell_type": "markdown",
   "metadata": {
    "id": "tW0Im6PsKW99"
   },
   "source": [
    "## Logical operations\n"
   ]
  },
  {
   "cell_type": "code",
   "execution_count": null,
   "metadata": {
    "colab": {
     "base_uri": "https://localhost:8080/"
    },
    "id": "FSN1_bOtKW99",
    "outputId": "0449a12b-23b7-4956-bfbb-bd2560e79850"
   },
   "outputs": [
    {
     "name": "stdout",
     "output_type": "stream",
     "text": [
      "True\n",
      "False\n"
     ]
    }
   ],
   "source": [
    "# declare two variables, a = True, b = False\n",
    "a = True\n",
    "b = False\n",
    "print(a)\n",
    "print(b)"
   ]
  },
  {
   "cell_type": "code",
   "execution_count": null,
   "metadata": {
    "colab": {
     "base_uri": "https://localhost:8080/"
    },
    "id": "JozmH608KW9-",
    "outputId": "bd5e5678-d623-4ee9-fcdb-62c6d8780232"
   },
   "outputs": [
    {
     "name": "stdout",
     "output_type": "stream",
     "text": [
      "<class 'bool'>\n",
      "<class 'bool'>\n"
     ]
    }
   ],
   "source": [
    "# print type of a and type of b\n",
    "print(type(a))\n",
    "print(type(b))"
   ]
  },
  {
   "cell_type": "code",
   "execution_count": null,
   "metadata": {
    "colab": {
     "base_uri": "https://localhost:8080/"
    },
    "id": "yQjJe9uzKW-B",
    "outputId": "7be383c4-3f7d-4387-e9f2-30ad4b815a15"
   },
   "outputs": [
    {
     "name": "stdout",
     "output_type": "stream",
     "text": [
      "int of a is 1\n",
      "int of b is 0\n"
     ]
    }
   ],
   "source": [
    "# print int(a) and int(b)\n",
    "print('int of a is', int(a))\n",
    "print('int of b is', int(b))"
   ]
  },
  {
   "cell_type": "code",
   "execution_count": null,
   "metadata": {
    "colab": {
     "base_uri": "https://localhost:8080/"
    },
    "id": "_dA54FfqKW-D",
    "outputId": "c6516b6c-f878-46de-b071-9d5591bc7803"
   },
   "outputs": [
    {
     "name": "stdout",
     "output_type": "stream",
     "text": [
      "not a = False\n",
      "not b = True\n",
      "a and b = False\n",
      "a or b = True\n",
      "a and not b = True\n"
     ]
    }
   ],
   "source": [
    "# Find and print the values of not a, not b, a and b, a or b, a and not b\n",
    "print('not a =', not a)\n",
    "print('not b =', not b)\n",
    "print('a and b =', a and b)\n",
    "print('a or b =', a or b)\n",
    "print('a and not b =', a and not b)"
   ]
  },
  {
   "cell_type": "markdown",
   "metadata": {
    "id": "5m9Tm3wdKW-G"
   },
   "source": [
    "## List Comprehensions\n"
   ]
  },
  {
   "cell_type": "code",
   "execution_count": null,
   "metadata": {
    "colab": {
     "base_uri": "https://localhost:8080/"
    },
    "id": "bRfCT0xgWm7B",
    "outputId": "a5a971c8-7ec7-4396-cf7e-6e82020f90c9"
   },
   "outputs": [
    {
     "data": {
      "text/plain": [
       "[1, 2, 3, 4, 5, 6, 7, 8, 9, 10]"
      ]
     },
     "execution_count": 70,
     "metadata": {},
     "output_type": "execute_result"
    }
   ],
   "source": [
    "lis1 = [x for x in range(1,11)]\n",
    "lis1"
   ]
  },
  {
   "cell_type": "code",
   "execution_count": null,
   "metadata": {
    "colab": {
     "base_uri": "https://localhost:8080/"
    },
    "id": "RySFFoFlKW-H",
    "outputId": "35a010a4-0804-444a-f334-30cfaedabe47"
   },
   "outputs": [
    {
     "data": {
      "text/plain": [
       "[1, 2, 3, 4, 5, 6, 7, 8, 9, 10, 11, 12, 13, 14, 15, 16, 17, 18, 19, 20]"
      ]
     },
     "execution_count": 71,
     "metadata": {},
     "output_type": "execute_result"
    }
   ],
   "source": [
    "# Using list comprehension, create a list containing numbers from 1 to 20. \n",
    "# Hint: You can use range function of python to do this.\n",
    "lis1 = [x for x in range(1,21)]\n",
    "lis1"
   ]
  },
  {
   "cell_type": "code",
   "execution_count": null,
   "metadata": {
    "colab": {
     "base_uri": "https://localhost:8080/"
    },
    "id": "X7vpt2XgKW-J",
    "outputId": "41fbb65b-0646-476a-c3c6-3a48c1b3dce3"
   },
   "outputs": [
    {
     "data": {
      "text/plain": [
       "[2, 4, 6, 8, 10, 12, 14, 16, 18, 20]"
      ]
     },
     "execution_count": 73,
     "metadata": {},
     "output_type": "execute_result"
    }
   ],
   "source": [
    "# Using list comprehension, create a list containing numbers from 1 to 20 that are even\n",
    "lis2 = [x for x in range(1,21) if x%2==0]\n",
    "lis2\n"
   ]
  },
  {
   "cell_type": "markdown",
   "metadata": {
    "id": "9zacaDoYKW-J"
   },
   "source": [
    "Create a list of all the fruits you like. Using list comprehension, create another list which contains the total number of charachters for each corresponding fruits.\n",
    "- Eg. fruits = [‘apple’,’kiwi’,’orange’], then output would be - [5,4,6]\n"
   ]
  },
  {
   "cell_type": "code",
   "execution_count": null,
   "metadata": {
    "colab": {
     "base_uri": "https://localhost:8080/"
    },
    "id": "HS7az-51KW-K",
    "outputId": "ec2f5c48-a203-47c0-c461-684999583023"
   },
   "outputs": [
    {
     "name": "stdout",
     "output_type": "stream",
     "text": [
      "['apple', 'banana', 'grapes', 'oranges']\n",
      "[5, 6, 6, 7]\n"
     ]
    }
   ],
   "source": [
    "fruits = ['apple','banana','grapes','oranges']\n",
    "len_fruits =  [len(x) for x in fruits]\n",
    "\n",
    "print(fruits)\n",
    "print(len_fruits)"
   ]
  },
  {
   "cell_type": "markdown",
   "metadata": {
    "id": "Abm5Yg7CKW-M"
   },
   "source": [
    "## String value and operators\n",
    "\n",
    "<p style='text-align: right;'> 1 + 1 + 1 + 1 + 1 = 5 points </p>\n"
   ]
  },
  {
   "cell_type": "code",
   "execution_count": null,
   "metadata": {
    "colab": {
     "base_uri": "https://localhost:8080/"
    },
    "id": "kOXcvhGVKW-O",
    "outputId": "1da46dfb-f5f5-4acf-e55e-a007cc4f6e51"
   },
   "outputs": [
    {
     "name": "stdout",
     "output_type": "stream",
     "text": [
      "cat\n",
      "dog\n"
     ]
    }
   ],
   "source": [
    "# declare the variables x = cat and y = dog and print it\n",
    "x =  'cat'\n",
    "y = 'dog'\n",
    "\n",
    "print(x)\n",
    "print(y)"
   ]
  },
  {
   "cell_type": "code",
   "execution_count": null,
   "metadata": {
    "colab": {
     "base_uri": "https://localhost:8080/"
    },
    "id": "Xe2cOsUxKW-P",
    "outputId": "fcbb7e1c-5a43-4366-c384-7ee98c89a203"
   },
   "outputs": [
    {
     "name": "stdout",
     "output_type": "stream",
     "text": [
      "First ch of x = c\n",
      "First ch of y = d\n"
     ]
    }
   ],
   "source": [
    "#Print first character of both x and y. \n",
    "print('First ch of x =', x[0])\n",
    "print('First ch of y =', y[0])"
   ]
  },
  {
   "cell_type": "code",
   "execution_count": null,
   "metadata": {
    "colab": {
     "base_uri": "https://localhost:8080/"
    },
    "id": "0JeSmKqFKW-Q",
    "outputId": "5ab45f24-7e92-4297-fc3c-03a2ed1b9946"
   },
   "outputs": [
    {
     "name": "stdout",
     "output_type": "stream",
     "text": [
      "Last ch of x = t\n",
      "Last ch of y = g\n"
     ]
    }
   ],
   "source": [
    "#Print last character of both x and y.\n",
    "print('Last ch of x =', x[-1])\n",
    "print('Last ch of y =', y[-1])"
   ]
  },
  {
   "cell_type": "code",
   "execution_count": null,
   "metadata": {
    "colab": {
     "base_uri": "https://localhost:8080/"
    },
    "id": "L8xMisv0KW-R",
    "outputId": "ae699787-bc45-4277-a6a3-154eba1abeb5"
   },
   "outputs": [
    {
     "name": "stdout",
     "output_type": "stream",
     "text": [
      "Length of x is 3\n",
      "Length of y is 3\n"
     ]
    }
   ],
   "source": [
    "#Print len of both x and y\n",
    "print('Length of x is', len(x))\n",
    "print('Length of y is', len(y))"
   ]
  },
  {
   "cell_type": "code",
   "execution_count": null,
   "metadata": {
    "colab": {
     "base_uri": "https://localhost:8080/"
    },
    "id": "kNDSing9KW-S",
    "outputId": "31fb9fad-7a05-4fb7-bc63-1d25211b3006"
   },
   "outputs": [
    {
     "name": "stdout",
     "output_type": "stream",
     "text": [
      "catdog\n"
     ]
    }
   ],
   "source": [
    "#concatenate both x and y and store it in variable z and print z\n",
    "z = x+y\n",
    "print(z)"
   ]
  },
  {
   "cell_type": "code",
   "execution_count": null,
   "metadata": {
    "colab": {
     "base_uri": "https://localhost:8080/"
    },
    "id": "2d_14sWkKW-U",
    "outputId": "6939be77-9eb2-49d1-861a-1f63750c89ac"
   },
   "outputs": [
    {
     "data": {
      "text/plain": [
       "True"
      ]
     },
     "execution_count": 91,
     "metadata": {},
     "output_type": "execute_result"
    }
   ],
   "source": [
    "#check if x is part of z \n",
    "x in z"
   ]
  },
  {
   "cell_type": "markdown",
   "metadata": {
    "id": "osOadhZ_KW-V"
   },
   "source": [
    "### String slicing"
   ]
  },
  {
   "cell_type": "code",
   "execution_count": null,
   "metadata": {
    "colab": {
     "base_uri": "https://localhost:8080/"
    },
    "id": "_s6XJhZ8KW-W",
    "outputId": "930b1fe6-ccc7-47c0-94b5-b95a1c3b215b"
   },
   "outputs": [
    {
     "name": "stdout",
     "output_type": "stream",
     "text": [
      "pineapple\n"
     ]
    }
   ],
   "source": [
    "#Create variable a = “pineapple”\n",
    "a = 'pineapple'\n",
    "print(a)"
   ]
  },
  {
   "cell_type": "code",
   "execution_count": null,
   "metadata": {
    "colab": {
     "base_uri": "https://localhost:8080/"
    },
    "id": "CIKtbVDuKW-X",
    "outputId": "24e50b82-a23c-4bb7-ef95-848caa517faf"
   },
   "outputs": [
    {
     "name": "stdout",
     "output_type": "stream",
     "text": [
      "pine\n",
      "apple\n"
     ]
    }
   ],
   "source": [
    "# Using index slicing, print the words ‘pine’ and “apple”.\n",
    "# HINT - a[:]\n",
    "print(a[:4])\n",
    "print(a[4:])"
   ]
  },
  {
   "cell_type": "code",
   "execution_count": null,
   "metadata": {
    "colab": {
     "base_uri": "https://localhost:8080/",
     "height": 35
    },
    "id": "UBHOnX8IKW-Y",
    "outputId": "9a2b42c4-4e3a-4244-877d-d4e3e4599ddf"
   },
   "outputs": [
    {
     "data": {
      "application/vnd.google.colaboratory.intrinsic+json": {
       "type": "string"
      },
      "text/plain": [
       "'PINEAPPLE'"
      ]
     },
     "execution_count": 96,
     "metadata": {},
     "output_type": "execute_result"
    }
   ],
   "source": [
    "#Convert a into upper case\n",
    "a.upper()"
   ]
  },
  {
   "cell_type": "markdown",
   "metadata": {
    "id": "68dPLtIuKW-Z"
   },
   "source": [
    "## Dealing with Sentences\n"
   ]
  },
  {
   "cell_type": "code",
   "execution_count": null,
   "metadata": {
    "colab": {
     "base_uri": "https://localhost:8080/"
    },
    "id": "JaQVcOeKKW-a",
    "outputId": "5348949a-accd-4330-8d35-38d1a3da1adf"
   },
   "outputs": [
    {
     "name": "stdout",
     "output_type": "stream",
     "text": [
      "I am flying to London\n"
     ]
    }
   ],
   "source": [
    "# Declare a sentence of ‘I am flying to London’ and print it\n",
    "sent = 'I am flying to London'\n",
    "print(sent)"
   ]
  },
  {
   "cell_type": "code",
   "execution_count": null,
   "metadata": {
    "colab": {
     "base_uri": "https://localhost:8080/"
    },
    "id": "8kInqgYJKW-b",
    "outputId": "791322e5-6c13-45e1-eb1b-b1e1d0e63376"
   },
   "outputs": [
    {
     "name": "stdout",
     "output_type": "stream",
     "text": [
      "Len of sentence is 21\n"
     ]
    }
   ],
   "source": [
    "#Print length of the sentence\n",
    "print('Len of sentence is', len(sent))"
   ]
  },
  {
   "cell_type": "code",
   "execution_count": null,
   "metadata": {
    "id": "kIGlJoPCKW-c",
    "outputId": "e5ca133a-3d61-4cbb-cacd-b7a01fd25e3b"
   },
   "outputs": [
    {
     "data": {
      "text/plain": [
       "'London'"
      ]
     },
     "execution_count": 139,
     "metadata": {},
     "output_type": "execute_result"
    }
   ],
   "source": [
    "#Using list indexing, to print the word London\n",
    "sent[15:]"
   ]
  },
  {
   "cell_type": "code",
   "execution_count": null,
   "metadata": {
    "colab": {
     "base_uri": "https://localhost:8080/"
    },
    "id": "vYQa1japKW-d",
    "outputId": "bbae8a00-08e7-46a8-e52c-36b07316f661"
   },
   "outputs": [
    {
     "data": {
      "text/plain": [
       "['I', 'am', 'flying', 'to', 'London']"
      ]
     },
     "execution_count": 104,
     "metadata": {},
     "output_type": "execute_result"
    }
   ],
   "source": [
    "# Use .split to get list of individual words in the sentence\n",
    "sent.split()"
   ]
  },
  {
   "cell_type": "code",
   "execution_count": null,
   "metadata": {
    "colab": {
     "base_uri": "https://localhost:8080/",
     "height": 35
    },
    "id": "NuxXx3ZVKW-e",
    "outputId": "5a4a686a-a558-488c-d53c-a309e2bf91df"
   },
   "outputs": [
    {
     "data": {
      "application/vnd.google.colaboratory.intrinsic+json": {
       "type": "string"
      },
      "text/plain": [
       "'i am flying to london'"
      ]
     },
     "execution_count": 106,
     "metadata": {},
     "output_type": "execute_result"
    }
   ],
   "source": [
    "# Convert sentence in lower case \n",
    "sent.lower()"
   ]
  },
  {
   "cell_type": "code",
   "execution_count": null,
   "metadata": {
    "colab": {
     "base_uri": "https://localhost:8080/",
     "height": 35
    },
    "id": "PdL1qc2hKW-f",
    "outputId": "7bbe5e76-fd49-49cd-e6ec-7a6e7196ebc6"
   },
   "outputs": [
    {
     "data": {
      "application/vnd.google.colaboratory.intrinsic+json": {
       "type": "string"
      },
      "text/plain": [
       "'I AM FLYING TO LONDON'"
      ]
     },
     "execution_count": 108,
     "metadata": {},
     "output_type": "execute_result"
    }
   ],
   "source": [
    "# Convert sentence in upper case .\n",
    "sent.upper()"
   ]
  },
  {
   "cell_type": "markdown",
   "metadata": {
    "id": "q_dbuVPmKW-g"
   },
   "source": [
    "## Functions\n"
   ]
  },
  {
   "cell_type": "code",
   "execution_count": 2,
   "metadata": {
    "id": "12pY43-1KW-h"
   },
   "outputs": [],
   "source": [
    "def square(x):\n",
    "    return print(f'Square of {x} is ', x**2)\n",
    "    "
   ]
  },
  {
   "cell_type": "markdown",
   "metadata": {
    "id": "pixocdGoKW-i"
   },
   "source": [
    "Call the function to find the value of square of 9."
   ]
  },
  {
   "cell_type": "code",
   "execution_count": 3,
   "metadata": {
    "colab": {
     "base_uri": "https://localhost:8080/"
    },
    "id": "y2c5KI4kKW-j",
    "outputId": "54a07e64-b285-46db-a1a2-2009227b2a23"
   },
   "outputs": [
    {
     "name": "stdout",
     "output_type": "stream",
     "text": [
      "Square of 9 is  81\n"
     ]
    }
   ],
   "source": [
    "# find the square of 9 using the function square you have just created.\n",
    "square(9)"
   ]
  },
  {
   "cell_type": "markdown",
   "metadata": {
    "id": "s4J_2TLVKW-l"
   },
   "source": [
    "#### Define another function which checks whether a given is number is odd or even for a given input and it should print whether the  number is odd or even as an output\n",
    "\n"
   ]
  },
  {
   "cell_type": "code",
   "execution_count": 6,
   "metadata": {
    "id": "cIXQpEHAKW-m"
   },
   "outputs": [],
   "source": [
    "# code here\n",
    "def odd_even(x):\n",
    "  z = float(input(\"Please Enter one Number: \"))\n",
    "  if z%2 == 0:\n",
    "    print(f'{z} is even')\n",
    "  else:\n",
    "    print(f'{z} is odd')\n"
   ]
  },
  {
   "cell_type": "code",
   "execution_count": 82,
   "metadata": {
    "colab": {
     "base_uri": "https://localhost:8080/"
    },
    "id": "-HgVC6a_KW-o",
    "outputId": "a86587e5-912b-4c56-8add-af177b6900e8"
   },
   "outputs": [
    {
     "name": "stdout",
     "output_type": "stream",
     "text": [
      "9 is odd\n",
      "36 is even\n",
      "441 is odd\n"
     ]
    }
   ],
   "source": [
    " #  code here\n",
    "def square(x):\n",
    "    z = x*x\n",
    "    def odd_even(z):\n",
    "      if z%2 == 0:\n",
    "        print(f'{z} is even')\n",
    "      else:\n",
    "        print(f'{z} is odd')\n",
    "    odd_even(z)\n",
    "\n",
    "square(3)\n",
    "square(6)\n",
    "square(21)"
   ]
  },
  {
   "cell_type": "markdown",
   "metadata": {
    "id": "cju6QlvxKW-q"
   },
   "source": [
    "# Loops and Iterations\n"
   ]
  },
  {
   "cell_type": "markdown",
   "metadata": {
    "id": "GuVbGMFHKW-q"
   },
   "source": [
    "## If statement\n",
    "\n",
    "\n"
   ]
  },
  {
   "cell_type": "code",
   "execution_count": 13,
   "metadata": {
    "colab": {
     "base_uri": "https://localhost:8080/"
    },
    "id": "OrP5WJ_vKW-r",
    "outputId": "5dd4554d-4323-4dc0-a736-e56c5f06d267"
   },
   "outputs": [
    {
     "name": "stdout",
     "output_type": "stream",
     "text": [
      "Enter nuber of your choice :-2\n",
      "-2\n"
     ]
    }
   ],
   "source": [
    "#Declare a variable x equal to a number of your choice.\n",
    "x =  int(input(\"Enter nuber of your choice :\"))\n",
    "print(x)"
   ]
  },
  {
   "cell_type": "code",
   "execution_count": 14,
   "metadata": {
    "colab": {
     "base_uri": "https://localhost:8080/"
    },
    "id": "w7AFx0yVKW-s",
    "outputId": "c3ca4680-e350-457e-84f6-9bc2aac961cc"
   },
   "outputs": [
    {
     "name": "stdout",
     "output_type": "stream",
     "text": [
      "-2 is negative\n"
     ]
    }
   ],
   "source": [
    "#Using an if statement, print whether x is zero, positive or negative.\n",
    "if x > 0:\n",
    "  print(f'{x} is positive')\n",
    "elif x < 0:\n",
    "  print(f'{x} is negative')\n",
    "else:\n",
    "  print(f'{x} is zero')\n"
   ]
  },
  {
   "cell_type": "code",
   "execution_count": 18,
   "metadata": {
    "colab": {
     "base_uri": "https://localhost:8080/"
    },
    "id": "hrIz4UQuKW-t",
    "outputId": "a64505b8-e083-4c2f-8e80-d0e72e1731e6"
   },
   "outputs": [
    {
     "name": "stdout",
     "output_type": "stream",
     "text": [
      "Enter a number: 10\n",
      "10 is positive\n",
      "Enter a number: -2\n",
      "-2 is negative\n",
      "Enter a number: 0\n",
      "0 is zero\n"
     ]
    }
   ],
   "source": [
    "# Now Define a function, which takes input from the user and prints whether the given input is zero,positive or negative.\n",
    "def check_num(x):\n",
    "  x = int(input(\"Enter a number: \"))\n",
    "  if x > 0:\n",
    "    print(f'{x} is positive')\n",
    "  elif x < 0:\n",
    "    print(f'{x} is negative')\n",
    "  else:\n",
    "    print(f'{x} is zero')\n",
    "\n",
    "check_num(10)\n",
    "check_num(-2)\n",
    "check_num(0)"
   ]
  },
  {
   "cell_type": "markdown",
   "metadata": {
    "id": "hHIiM92PKW-u"
   },
   "source": [
    "## For loop"
   ]
  },
  {
   "cell_type": "code",
   "execution_count": 19,
   "metadata": {
    "id": "uWvWk0CSKW-v"
   },
   "outputs": [],
   "source": [
    "#Create a list x, such that it contains the elements - ‘India’, ‘Israel’,’Canada’.\n",
    "lis = ['India', 'Israel', 'Canada']"
   ]
  },
  {
   "cell_type": "code",
   "execution_count": 20,
   "metadata": {
    "colab": {
     "base_uri": "https://localhost:8080/"
    },
    "id": "rohmRIHkKW-w",
    "outputId": "899fe966-5273-41ec-bfd0-d3465b3f56ec"
   },
   "outputs": [
    {
     "name": "stdout",
     "output_type": "stream",
     "text": [
      "India\n",
      "Israel\n",
      "Canada\n"
     ]
    }
   ],
   "source": [
    "#Using For loop, iterate over the list and print the elements.\n",
    "for i in lis:\n",
    "  print(i)"
   ]
  },
  {
   "cell_type": "code",
   "execution_count": 32,
   "metadata": {
    "colab": {
     "base_uri": "https://localhost:8080/"
    },
    "id": "zDZnS2vUKW-x",
    "outputId": "6116e5de-57e0-4b41-b16e-51b0931d0b28"
   },
   "outputs": [
    {
     "name": "stdout",
     "output_type": "stream",
     "text": [
      "2 * 2 = 4\n",
      "2 * 3 = 6\n",
      "2 * 4 = 8\n",
      "2 * 5 = 10\n",
      "2 * 6 = 12\n",
      "2 * 7 = 14\n",
      "2 * 8 = 16\n",
      "2 * 9 = 18\n",
      "2 * 10 = 20\n"
     ]
    }
   ],
   "source": [
    "# Using For loop, print the table of 2.\n",
    "num = 2\n",
    "for i in range(2, 11):\n",
    "   print(num, '*', i, '=', num*i)"
   ]
  },
  {
   "cell_type": "markdown",
   "metadata": {
    "id": "KjnTBwemKW-y"
   },
   "source": [
    "For a given list, x = [21, ‘hello,’cream’, 20,19,’village’], using for loop to iterate over the items and using - if statement print the items that are of type int"
   ]
  },
  {
   "cell_type": "code",
   "execution_count": 30,
   "metadata": {
    "colab": {
     "base_uri": "https://localhost:8080/"
    },
    "id": "h0EBiGx7KW-0",
    "outputId": "db2f3ae9-04e8-49c6-d780-50b0abc13f97"
   },
   "outputs": [
    {
     "data": {
      "text/plain": [
       "[21, 20, 19]"
      ]
     },
     "execution_count": 30,
     "metadata": {},
     "output_type": "execute_result"
    }
   ],
   "source": [
    "#code here\n",
    "x = [21, 'hello','cream', 20,19,'village']\n",
    "z = []\n",
    "for i in x:\n",
    "  if type(i) == type(int()):\n",
    "    z.append(i)\n",
    "z"
   ]
  },
  {
   "cell_type": "markdown",
   "metadata": {
    "id": "IVOH1mqAKW-2"
   },
   "source": [
    "Using For loop, lets create a pattern. "
   ]
  },
  {
   "cell_type": "code",
   "execution_count": 46,
   "metadata": {
    "colab": {
     "base_uri": "https://localhost:8080/"
    },
    "id": "1ogdynggKW-4",
    "outputId": "68bbe1bc-50bd-494d-f9c1-7dfab48f3f73"
   },
   "outputs": [
    {
     "name": "stdout",
     "output_type": "stream",
     "text": [
      "\n",
      "* \n",
      "* * \n",
      "* * * \n",
      "* * * * \n",
      "* * * * * \n"
     ]
    }
   ],
   "source": [
    "# print the following pattern\n",
    "for i in range(6):\n",
    "  for j in range(i):\n",
    "    print('*', end = ' ')\n",
    "  print('')"
   ]
  },
  {
   "cell_type": "markdown",
   "metadata": {
    "id": "a4ocPJL-KW-5"
   },
   "source": [
    "## While loop"
   ]
  },
  {
   "cell_type": "markdown",
   "metadata": {
    "id": "DQ7cENH9KW-6"
   },
   "source": [
    "- Using while loop make a function that prints all the values between 1 to n. "
   ]
  },
  {
   "cell_type": "code",
   "execution_count": 59,
   "metadata": {
    "id": "pVcn5lHjKW-7"
   },
   "outputs": [],
   "source": [
    "def counter(n):\n",
    "  for i in range(1,n):\n",
    "    while i == n:\n",
    "      # print (i)\n",
    "      i = i+1\n",
    "    print(i)\n",
    "    "
   ]
  },
  {
   "cell_type": "code",
   "execution_count": 60,
   "metadata": {
    "colab": {
     "base_uri": "https://localhost:8080/"
    },
    "id": "Wi3DrylEKW-8",
    "outputId": "277280b1-64fa-48e9-d1fc-99c9cf4fdaad"
   },
   "outputs": [
    {
     "name": "stdout",
     "output_type": "stream",
     "text": [
      "1\n",
      "2\n",
      "3\n",
      "4\n",
      "5\n",
      "6\n",
      "7\n",
      "8\n",
      "9\n"
     ]
    }
   ],
   "source": [
    "counter(10) #this should print numbers from 1 to 10 but not 10"
   ]
  },
  {
   "cell_type": "markdown",
   "metadata": {
    "id": "Lz7ZJ6RRKW-9"
   },
   "source": [
    "### Write the code for the following, what is the output obtained?\n",
    "- Set a variable flag = True, num = 5\n",
    "- Run a while loop till flag = True\n",
    "- Inside the while loop - \n",
    "    - Increment the value of num by 5\n",
    "    - If value of num is greater then 50, set flag to be False"
   ]
  },
  {
   "cell_type": "code",
   "execution_count": 70,
   "metadata": {
    "colab": {
     "base_uri": "https://localhost:8080/"
    },
    "id": "njnj-zk-KW--",
    "outputId": "07025c70-83db-453a-83d4-939f131854e6",
    "scrolled": true
   },
   "outputs": [
    {
     "name": "stdout",
     "output_type": "stream",
     "text": [
      "5\n",
      "10\n",
      "15\n",
      "20\n",
      "25\n",
      "30\n",
      "35\n",
      "40\n",
      "45\n",
      "50\n"
     ]
    }
   ],
   "source": [
    "\n",
    "flag = True\n",
    "num = 5\n",
    "while flag == True:\n",
    "  if num == 5:\n",
    "    print(num)\n",
    "  num = num+5\n",
    "  if num >= 50:\n",
    "    flag = False\n",
    "  print(num, end=\"\")\n",
    "  print(\"\")"
   ]
  },
  {
   "cell_type": "markdown",
   "metadata": {
    "id": "VjVTS-yQKW-_"
   },
   "source": [
    "----------------------------------------------------------------------"
   ]
  }
 ],
 "metadata": {
  "colab": {
   "collapsed_sections": [],
   "name": "Python Basics_Solutions_by_Gunjan.ipynb",
   "provenance": []
  },
  "kernelspec": {
   "display_name": "Python 3",
   "language": "python",
   "name": "python3"
  },
  "language_info": {
   "codemirror_mode": {
    "name": "ipython",
    "version": 3
   },
   "file_extension": ".py",
   "mimetype": "text/x-python",
   "name": "python",
   "nbconvert_exporter": "python",
   "pygments_lexer": "ipython3",
   "version": "3.8.8"
  }
 },
 "nbformat": 4,
 "nbformat_minor": 1
}
