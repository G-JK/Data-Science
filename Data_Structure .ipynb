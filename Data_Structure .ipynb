{
 "cells": [
  {
   "cell_type": "markdown",
   "id": "0gyFt8s2j4cn",
   "metadata": {
    "id": "0gyFt8s2j4cn"
   },
   "source": [
    "# <center> <u>Data Structures <u> </center>"
   ]
  },
  {
   "cell_type": "markdown",
   "id": "cT9fKk6zj4c9",
   "metadata": {
    "id": "cT9fKk6zj4c9"
   },
   "source": [
    "## 1. Lists\n",
    "\n"
   ]
  },
  {
   "cell_type": "markdown",
   "id": "xVesPyUFj4dF",
   "metadata": {
    "id": "xVesPyUFj4dF"
   },
   "source": [
    "#### 1.1 Create an empty list with the name ‘a’, print the value of a and type(a).\n"
   ]
  },
  {
   "cell_type": "code",
   "execution_count": 1,
   "id": "ppqvM2_8j4dJ",
   "metadata": {
    "id": "ppqvM2_8j4dJ"
   },
   "outputs": [],
   "source": [
    "# create empty list, name it 'a'\n",
    "a = []\n"
   ]
  },
  {
   "cell_type": "code",
   "execution_count": 5,
   "id": "XM5_T49dj4dN",
   "metadata": {
    "colab": {
     "base_uri": "https://localhost:8080/"
    },
    "id": "XM5_T49dj4dN",
    "outputId": "a1088057-1e05-4456-8986-e5b881d12418"
   },
   "outputs": [
    {
     "data": {
      "text/plain": [
       "[]"
      ]
     },
     "execution_count": 5,
     "metadata": {},
     "output_type": "execute_result"
    }
   ],
   "source": [
    "# print the value of a\n",
    "\n",
    "a"
   ]
  },
  {
   "cell_type": "code",
   "execution_count": 3,
   "id": "OGP_TIAWj4dU",
   "metadata": {
    "colab": {
     "base_uri": "https://localhost:8080/"
    },
    "id": "OGP_TIAWj4dU",
    "outputId": "08ed5a3a-979b-40be-d7f1-36f22f21000a"
   },
   "outputs": [
    {
     "data": {
      "text/plain": [
       "list"
      ]
     },
     "execution_count": 3,
     "metadata": {},
     "output_type": "execute_result"
    }
   ],
   "source": [
    "# print the type of a\n",
    "type(a)\n"
   ]
  },
  {
   "cell_type": "markdown",
   "id": "v3jKNKkij4dY",
   "metadata": {
    "id": "v3jKNKkij4dY"
   },
   "source": [
    "#### 1.2.Create a list , languages = ['R','Python', 'SAS', 'Scala', 42], "
   ]
  },
  {
   "cell_type": "code",
   "execution_count": 26,
   "id": "M9a_0f11j4dc",
   "metadata": {
    "id": "M9a_0f11j4dc"
   },
   "outputs": [],
   "source": [
    "#code here\n",
    "languages = ['R','Python','SAS','Scala',42]"
   ]
  },
  {
   "cell_type": "markdown",
   "id": "_CzvP197j4dd",
   "metadata": {
    "id": "_CzvP197j4dd"
   },
   "source": [
    "Print the number of elements in the list"
   ]
  },
  {
   "cell_type": "code",
   "execution_count": 8,
   "id": "mQhZEYjqj4dg",
   "metadata": {
    "colab": {
     "base_uri": "https://localhost:8080/"
    },
    "id": "mQhZEYjqj4dg",
    "outputId": "312bdcc6-e53f-4a25-af7c-507f834d93de"
   },
   "outputs": [
    {
     "data": {
      "text/plain": [
       "5"
      ]
     },
     "execution_count": 8,
     "metadata": {},
     "output_type": "execute_result"
    }
   ],
   "source": [
    "#code here\n",
    "len(languages)"
   ]
  },
  {
   "cell_type": "markdown",
   "id": "ze21Jjbaj4do",
   "metadata": {
    "id": "ze21Jjbaj4do"
   },
   "source": [
    "Using for loop iterate and print all the elements in the list"
   ]
  },
  {
   "cell_type": "code",
   "execution_count": 10,
   "id": "0SiWzOnmj4ds",
   "metadata": {
    "colab": {
     "base_uri": "https://localhost:8080/"
    },
    "id": "0SiWzOnmj4ds",
    "outputId": "d399e838-bbe5-403d-b2f6-9169dc492d71"
   },
   "outputs": [
    {
     "name": "stdout",
     "output_type": "stream",
     "text": [
      "R\n",
      "Python\n",
      "SAS\n",
      "Scala\n",
      "42\n"
     ]
    }
   ],
   "source": [
    "#code here\n",
    "for item in languages:\n",
    "  print (item)\n"
   ]
  },
  {
   "cell_type": "markdown",
   "id": "ZS8lWYydj4du",
   "metadata": {
    "id": "ZS8lWYydj4du"
   },
   "source": [
    "Select the second item, 'Python' and store it in a new variable named 'temp'"
   ]
  },
  {
   "cell_type": "code",
   "execution_count": null,
   "id": "FIVoK16Yj4dv",
   "metadata": {
    "id": "FIVoK16Yj4dv"
   },
   "outputs": [],
   "source": [
    "#code here"
   ]
  },
  {
   "cell_type": "code",
   "execution_count": 11,
   "id": "lNCSgZSDk608",
   "metadata": {
    "id": "lNCSgZSDk608"
   },
   "outputs": [],
   "source": [
    "temp = languages[1]"
   ]
  },
  {
   "cell_type": "markdown",
   "id": "mILCB7jfj4dw",
   "metadata": {
    "id": "mILCB7jfj4dw"
   },
   "source": [
    "Print the value of temp and type(temp)"
   ]
  },
  {
   "cell_type": "code",
   "execution_count": 14,
   "id": "2XAzNBkHj4dx",
   "metadata": {
    "colab": {
     "base_uri": "https://localhost:8080/"
    },
    "id": "2XAzNBkHj4dx",
    "outputId": "cd1b8df6-0df1-4954-e1e7-f73e9df0acde"
   },
   "outputs": [
    {
     "name": "stdout",
     "output_type": "stream",
     "text": [
      "Python\n",
      "<class 'str'>\n"
     ]
    }
   ],
   "source": [
    "#code here\n",
    "print(temp)\n",
    "print(type(temp))\n"
   ]
  },
  {
   "cell_type": "markdown",
   "id": "9iKGuKHgj4dy",
   "metadata": {
    "id": "9iKGuKHgj4dy"
   },
   "source": [
    "Using list comprehension, print the last two elemets of list"
   ]
  },
  {
   "cell_type": "code",
   "execution_count": 32,
   "id": "TIPvQYs_j4dz",
   "metadata": {
    "colab": {
     "base_uri": "https://localhost:8080/"
    },
    "id": "TIPvQYs_j4dz",
    "outputId": "06ebccb7-2344-4d0d-a614-4637afa4e20d"
   },
   "outputs": [
    {
     "name": "stdout",
     "output_type": "stream",
     "text": [
      "['Scala', 42]\n"
     ]
    }
   ],
   "source": [
    "# code here\n",
    "indexes = [3,4]\n",
    "l2 = [languages[index] for index in indexes]\n",
    "print(l2)"
   ]
  },
  {
   "cell_type": "markdown",
   "id": "MF5TX7lxj4d0",
   "metadata": {
    "id": "MF5TX7lxj4d0"
   },
   "source": [
    "Append the element 'Java' in the list"
   ]
  },
  {
   "cell_type": "code",
   "execution_count": 23,
   "id": "g4ujIcaGj4d0",
   "metadata": {
    "id": "g4ujIcaGj4d0"
   },
   "outputs": [],
   "source": [
    "#code here\n",
    "languages.append('Java')"
   ]
  },
  {
   "cell_type": "markdown",
   "id": "NY_bW8c5j4d1",
   "metadata": {
    "id": "NY_bW8c5j4d1"
   },
   "source": [
    "Remove the element 42 from the list and print the list"
   ]
  },
  {
   "cell_type": "code",
   "execution_count": 22,
   "id": "O7HqXC2oj4d5",
   "metadata": {
    "id": "O7HqXC2oj4d5"
   },
   "outputs": [],
   "source": [
    "#code here\n",
    "languages.remove(42)"
   ]
  },
  {
   "cell_type": "markdown",
   "id": "H-PFKQGVj4d6",
   "metadata": {
    "id": "H-PFKQGVj4d6"
   },
   "source": [
    "#### 1.3. Create a list, colors = [‘Red’, ‘Blue’, ‘White’]"
   ]
  },
  {
   "cell_type": "code",
   "execution_count": 24,
   "id": "HRwU3G4cj4d8",
   "metadata": {
    "id": "HRwU3G4cj4d8"
   },
   "outputs": [],
   "source": [
    "#code here\n",
    "colors = ['Red', 'Blue', 'White']"
   ]
  },
  {
   "cell_type": "markdown",
   "id": "8X3-06RHj4d8",
   "metadata": {
    "id": "8X3-06RHj4d8"
   },
   "source": [
    "Append the element 'Black' to colors"
   ]
  },
  {
   "cell_type": "code",
   "execution_count": 25,
   "id": "_Y0fphl6j4d9",
   "metadata": {
    "id": "_Y0fphl6j4d9"
   },
   "outputs": [],
   "source": [
    "#code here\n",
    "colors.append(\"Black\")"
   ]
  },
  {
   "cell_type": "markdown",
   "id": "iLARdSKGj4d-",
   "metadata": {
    "id": "iLARdSKGj4d-"
   },
   "source": [
    "Append the color 'Orange' to second position (index=1) and print the list"
   ]
  },
  {
   "cell_type": "code",
   "execution_count": 33,
   "id": "LSpKcbAOj4d-",
   "metadata": {
    "id": "LSpKcbAOj4d-"
   },
   "outputs": [],
   "source": [
    "# code here\n",
    "colors.insert(1,'Orange')"
   ]
  },
  {
   "cell_type": "markdown",
   "id": "fJIcR-KIj4d_",
   "metadata": {
    "id": "fJIcR-KIj4d_"
   },
   "source": [
    "Print the list\n"
   ]
  },
  {
   "cell_type": "code",
   "execution_count": 34,
   "id": "_41PLfVej4eA",
   "metadata": {
    "colab": {
     "base_uri": "https://localhost:8080/"
    },
    "id": "_41PLfVej4eA",
    "outputId": "233c7b75-1f0e-48c7-8576-f509476fc64e"
   },
   "outputs": [
    {
     "name": "stdout",
     "output_type": "stream",
     "text": [
      "['Red', 'Orange', 'Blue', 'White', 'Black']\n"
     ]
    }
   ],
   "source": [
    "# code here\n",
    "print(colors)"
   ]
  },
  {
   "cell_type": "markdown",
   "id": "MOGKcbB8j4eB",
   "metadata": {
    "id": "MOGKcbB8j4eB"
   },
   "source": [
    "Create another list, colors2 = [‘Grey’, ‘Sky Blue’]"
   ]
  },
  {
   "cell_type": "code",
   "execution_count": 35,
   "id": "KP-OwvGBj4eC",
   "metadata": {
    "id": "KP-OwvGBj4eC"
   },
   "outputs": [],
   "source": [
    "# code here\n",
    "colors2 = ['Grey', 'Sky Blue']"
   ]
  },
  {
   "cell_type": "markdown",
   "id": "oIbGsIVFj4eC",
   "metadata": {
    "id": "oIbGsIVFj4eC"
   },
   "source": [
    "Add the elements of colors2 to colors using extend function in the list"
   ]
  },
  {
   "cell_type": "code",
   "execution_count": 36,
   "id": "MqaTrC18j4eD",
   "metadata": {
    "id": "MqaTrC18j4eD"
   },
   "outputs": [],
   "source": [
    "#code here\n",
    "colors.extend(colors2)"
   ]
  },
  {
   "cell_type": "markdown",
   "id": "FZXDkZyzj4eE",
   "metadata": {
    "id": "FZXDkZyzj4eE"
   },
   "source": [
    "Print len of colors and its elements"
   ]
  },
  {
   "cell_type": "code",
   "execution_count": 39,
   "id": "C1lErSb9j4eE",
   "metadata": {
    "colab": {
     "base_uri": "https://localhost:8080/"
    },
    "id": "C1lErSb9j4eE",
    "outputId": "bf5443a6-b459-4f38-88ac-21afd45f1b0e"
   },
   "outputs": [
    {
     "name": "stdout",
     "output_type": "stream",
     "text": [
      "7\n",
      "['Red', 'Orange', 'Blue', 'White', 'Black', 'Grey', 'Sky Blue']\n"
     ]
    }
   ],
   "source": [
    "# code here\n",
    "print(len(colors))\n",
    "print(colors)\n"
   ]
  },
  {
   "cell_type": "markdown",
   "id": "K8aHHw7Nj4eF",
   "metadata": {
    "id": "K8aHHw7Nj4eF"
   },
   "source": [
    "Sort the list and print it."
   ]
  },
  {
   "cell_type": "code",
   "execution_count": 40,
   "id": "ZXnhLmETj4eH",
   "metadata": {
    "colab": {
     "base_uri": "https://localhost:8080/"
    },
    "id": "ZXnhLmETj4eH",
    "outputId": "7b6158bd-f188-456d-dade-e0f40074a5b9"
   },
   "outputs": [
    {
     "name": "stdout",
     "output_type": "stream",
     "text": [
      "['Black', 'Blue', 'Grey', 'Orange', 'Red', 'Sky Blue', 'White']\n"
     ]
    }
   ],
   "source": [
    "# code here\n",
    "colors.sort()\n",
    "print(colors)\n"
   ]
  },
  {
   "cell_type": "markdown",
   "id": "RVwAUjqXj4eJ",
   "metadata": {
    "id": "RVwAUjqXj4eJ"
   },
   "source": [
    "#### 1.4. Create a string, sent = ‘Coronavirus Caused Lockdowns Around The World.”"
   ]
  },
  {
   "cell_type": "code",
   "execution_count": 41,
   "id": "MOBmu2zKj4eK",
   "metadata": {
    "id": "MOBmu2zKj4eK"
   },
   "outputs": [],
   "source": [
    "# code here\n",
    "sent = 'Coronavirus Caused Lockdowns Around The World.'"
   ]
  },
  {
   "cell_type": "markdown",
   "id": "Xm98H2Ekj4eL",
   "metadata": {
    "id": "Xm98H2Ekj4eL"
   },
   "source": [
    "Use split function to convert the string into a list of words and save it in variable words and print the same"
   ]
  },
  {
   "cell_type": "code",
   "execution_count": 43,
   "id": "qmB9WNaCj4eM",
   "metadata": {
    "colab": {
     "base_uri": "https://localhost:8080/"
    },
    "id": "qmB9WNaCj4eM",
    "outputId": "5071cf6a-18df-4f68-cbde-ffd93eadad24"
   },
   "outputs": [
    {
     "name": "stdout",
     "output_type": "stream",
     "text": [
      "['Coronavirus', 'Caused', 'Lockdowns', 'Around', 'The', 'World.']\n"
     ]
    }
   ],
   "source": [
    "# code here\n",
    "word = sent.split(\" \")\n",
    "print(word)"
   ]
  },
  {
   "cell_type": "markdown",
   "id": "Mbh0jzMSj4eT",
   "metadata": {
    "id": "Mbh0jzMSj4eT"
   },
   "source": [
    "Using list comprehensions, convert each word in the list to lower case and store it in variable words_lower. \n",
    "Print words_lower"
   ]
  },
  {
   "cell_type": "code",
   "execution_count": 45,
   "id": "N1QVyygEj4eV",
   "metadata": {
    "colab": {
     "base_uri": "https://localhost:8080/"
    },
    "id": "N1QVyygEj4eV",
    "outputId": "c5ea1e52-0cdf-4fb0-962e-c3bb5e506e97"
   },
   "outputs": [
    {
     "name": "stdout",
     "output_type": "stream",
     "text": [
      "['coronavirus', 'caused', 'lockdowns', 'around', 'the', 'world.']\n"
     ]
    }
   ],
   "source": [
    "# code here\n",
    "word_lower = [x.lower() for x in word]\n",
    "print(word_lower)"
   ]
  },
  {
   "cell_type": "markdown",
   "id": "Ii413xhPj4eW",
   "metadata": {
    "id": "Ii413xhPj4eW"
   },
   "source": [
    "Check whether ‘country’ is in the list"
   ]
  },
  {
   "cell_type": "code",
   "execution_count": 47,
   "id": "4CrrYQl9j4eW",
   "metadata": {
    "colab": {
     "base_uri": "https://localhost:8080/"
    },
    "id": "4CrrYQl9j4eW",
    "outputId": "ad9ffed3-54e8-44b1-d4b6-97da5fa22368"
   },
   "outputs": [
    {
     "data": {
      "text/plain": [
       "False"
      ]
     },
     "execution_count": 47,
     "metadata": {},
     "output_type": "execute_result"
    }
   ],
   "source": [
    "# code here\n",
    "'country' in word_lower\n"
   ]
  },
  {
   "cell_type": "markdown",
   "id": "J9hmQP1ej4eZ",
   "metadata": {
    "id": "J9hmQP1ej4eZ"
   },
   "source": [
    "Remove the element ‘the’ from the list and print the list."
   ]
  },
  {
   "cell_type": "code",
   "execution_count": 48,
   "id": "BE1idMZUj4ea",
   "metadata": {
    "colab": {
     "base_uri": "https://localhost:8080/"
    },
    "id": "BE1idMZUj4ea",
    "outputId": "48bb1fbe-4000-480d-d0cd-9eac29ced3e2"
   },
   "outputs": [
    {
     "name": "stdout",
     "output_type": "stream",
     "text": [
      "['coronavirus', 'caused', 'lockdowns', 'around', 'world.']\n"
     ]
    }
   ],
   "source": [
    "# code here\n",
    "word_lower.remove('the')\n",
    "print(word_lower)"
   ]
  },
  {
   "cell_type": "markdown",
   "id": "TE-XYdl3j4ec",
   "metadata": {
    "id": "TE-XYdl3j4ec"
   },
   "source": [
    "Select the first 4 words from the list words_lower using slicing and store them in a new variable x4"
   ]
  },
  {
   "cell_type": "code",
   "execution_count": 56,
   "id": "auU9HRGsj4ee",
   "metadata": {
    "id": "auU9HRGsj4ee"
   },
   "outputs": [],
   "source": [
    "#code here\n",
    "x4 = word_lower[:4]\n"
   ]
  },
  {
   "cell_type": "code",
   "execution_count": 57,
   "id": "Q71Ky7isj4ef",
   "metadata": {
    "colab": {
     "base_uri": "https://localhost:8080/"
    },
    "id": "Q71Ky7isj4ef",
    "outputId": "f43cdad3-2fe0-4537-ccb9-538f7a87f5b0"
   },
   "outputs": [
    {
     "name": "stdout",
     "output_type": "stream",
     "text": [
      "['coronavirus', 'caused', 'lockdowns', 'around']\n"
     ]
    }
   ],
   "source": [
    "# print x4\n",
    "print(x4)"
   ]
  },
  {
   "cell_type": "markdown",
   "id": "6g7rItpej4eg",
   "metadata": {
    "id": "6g7rItpej4eg"
   },
   "source": [
    "Convert the list of elements to single string using join function and print it"
   ]
  },
  {
   "cell_type": "code",
   "execution_count": 58,
   "id": "vYVrY1n4j4eh",
   "metadata": {
    "colab": {
     "base_uri": "https://localhost:8080/",
     "height": 35
    },
    "id": "vYVrY1n4j4eh",
    "outputId": "2d5d8fdf-aa1e-4fe4-9cd0-eb7efcf15091"
   },
   "outputs": [
    {
     "data": {
      "application/vnd.google.colaboratory.intrinsic+json": {
       "type": "string"
      },
      "text/plain": [
       "'coronavirus caused lockdowns around'"
      ]
     },
     "execution_count": 58,
     "metadata": {},
     "output_type": "execute_result"
    }
   ],
   "source": [
    "#code here\n",
    "\" \".join(x4)"
   ]
  },
  {
   "cell_type": "markdown",
   "id": "Aa1EauAdj4ei",
   "metadata": {
    "id": "Aa1EauAdj4ei"
   },
   "source": [
    "## 2. Sets\n",
    "\n"
   ]
  },
  {
   "cell_type": "markdown",
   "id": "rcdmWHf6j4ei",
   "metadata": {
    "id": "rcdmWHf6j4ei"
   },
   "source": [
    "#### 2.1. Create stud_grades = ['A','A','B','C','C','F']"
   ]
  },
  {
   "cell_type": "code",
   "execution_count": 64,
   "id": "t4VvCHRdj4ek",
   "metadata": {
    "id": "t4VvCHRdj4ek"
   },
   "outputs": [],
   "source": [
    "#code here\n",
    "stud_grades = ['A','A','B','C','C','F']"
   ]
  },
  {
   "cell_type": "markdown",
   "id": "3VR6mY3vj4ek",
   "metadata": {
    "id": "3VR6mY3vj4ek"
   },
   "source": [
    "Print the len of stud_grades"
   ]
  },
  {
   "cell_type": "code",
   "execution_count": 65,
   "id": "nZApAq3Aj4el",
   "metadata": {
    "colab": {
     "base_uri": "https://localhost:8080/"
    },
    "id": "nZApAq3Aj4el",
    "outputId": "543d97c9-3a63-452f-8bfd-ad8e0e8dece9"
   },
   "outputs": [
    {
     "name": "stdout",
     "output_type": "stream",
     "text": [
      "6\n"
     ]
    }
   ],
   "source": [
    "#code here\n",
    "print(len(stud_grades))"
   ]
  },
  {
   "cell_type": "markdown",
   "id": "wAg9JIIMj4em",
   "metadata": {
    "id": "wAg9JIIMj4em"
   },
   "source": [
    "Create a new variable, stud_grades_set = set(stud_grades)"
   ]
  },
  {
   "cell_type": "code",
   "execution_count": 66,
   "id": "xkXge7uIj4em",
   "metadata": {
    "id": "xkXge7uIj4em"
   },
   "outputs": [],
   "source": [
    "#code here\n",
    "stud_grades_set = set(stud_grades)"
   ]
  },
  {
   "cell_type": "markdown",
   "id": "1_APhUBLj4en",
   "metadata": {
    "id": "1_APhUBLj4en"
   },
   "source": [
    "Print stud_grades_set. "
   ]
  },
  {
   "cell_type": "code",
   "execution_count": 70,
   "id": "cnYYyniMj4eq",
   "metadata": {
    "colab": {
     "base_uri": "https://localhost:8080/"
    },
    "id": "cnYYyniMj4eq",
    "outputId": "ac077621-1d07-4c0f-c592-fde857dd616f"
   },
   "outputs": [
    {
     "name": "stdout",
     "output_type": "stream",
     "text": [
      "{'F', 'A', 'C', 'B'}\n"
     ]
    }
   ],
   "source": [
    "#code here\n",
    "print(stud_grades_set)"
   ]
  },
  {
   "cell_type": "markdown",
   "id": "XxobB_Rgj4es",
   "metadata": {
    "id": "XxobB_Rgj4es"
   },
   "source": [
    "print the type of stud_grades and stud_grades_set and print their corresponding elements. Try to understand the difference between them."
   ]
  },
  {
   "cell_type": "code",
   "execution_count": 74,
   "id": "QOhr42xtj4et",
   "metadata": {
    "colab": {
     "base_uri": "https://localhost:8080/"
    },
    "id": "QOhr42xtj4et",
    "outputId": "f86b662d-2592-4c7f-c753-dcdc323d9b2e"
   },
   "outputs": [
    {
     "name": "stdout",
     "output_type": "stream",
     "text": [
      "<class 'list'> ['A', 'A', 'B', 'C', 'C', 'F']\n",
      "<class 'set'> {'F', 'A', 'C', 'B'}\n"
     ]
    }
   ],
   "source": [
    "#code here\n",
    "print(type(stud_grades) ,stud_grades)\n",
    "print(type(stud_grades_set) , stud_grades_set)\n"
   ]
  },
  {
   "cell_type": "markdown",
   "id": "M6u24Bb_j4eu",
   "metadata": {
    "id": "M6u24Bb_j4eu"
   },
   "source": [
    "Add a new element ‘G’ to stud_grades_set"
   ]
  },
  {
   "cell_type": "code",
   "execution_count": 75,
   "id": "ubCwK8YOj4ev",
   "metadata": {
    "id": "ubCwK8YOj4ev"
   },
   "outputs": [],
   "source": [
    "#code here\n",
    "stud_grades_set.add('G')\n"
   ]
  },
  {
   "cell_type": "markdown",
   "id": "_Anl12kNj4ev",
   "metadata": {
    "id": "_Anl12kNj4ev"
   },
   "source": [
    "Add element 'F' to stud_grades_set. and print it."
   ]
  },
  {
   "cell_type": "code",
   "execution_count": 76,
   "id": "_JxH8JP9j4ew",
   "metadata": {
    "colab": {
     "base_uri": "https://localhost:8080/"
    },
    "id": "_JxH8JP9j4ew",
    "outputId": "8ef82890-f9ba-46ae-f5fe-e4990d04d0a5"
   },
   "outputs": [
    {
     "name": "stdout",
     "output_type": "stream",
     "text": [
      "{'A', 'F', 'G', 'C', 'B'}\n"
     ]
    }
   ],
   "source": [
    "#code here\n",
    "stud_grades_set.add('F')\n",
    "print(stud_grades_set)\n"
   ]
  },
  {
   "cell_type": "markdown",
   "id": "4116n00kj4ex",
   "metadata": {
    "id": "4116n00kj4ex"
   },
   "source": [
    "!!Did you notice? set doesn't add an element if it's already present in it, unlike lists."
   ]
  },
  {
   "cell_type": "markdown",
   "id": "PXQ0fY_Kj4ey",
   "metadata": {
    "id": "PXQ0fY_Kj4ey"
   },
   "source": [
    "Remove ‘F’ from stud_grades_set"
   ]
  },
  {
   "cell_type": "code",
   "execution_count": 77,
   "id": "ce7moYgIj4ez",
   "metadata": {
    "id": "ce7moYgIj4ez"
   },
   "outputs": [],
   "source": [
    "#code here\n",
    "stud_grades_set.remove(\"F\")\n"
   ]
  },
  {
   "cell_type": "markdown",
   "id": "2jD2y9FOj4e0",
   "metadata": {
    "id": "2jD2y9FOj4e0"
   },
   "source": [
    "Print the elements and the length of stud_grades_set"
   ]
  },
  {
   "cell_type": "code",
   "execution_count": 78,
   "id": "TtcxQga8j4e0",
   "metadata": {
    "colab": {
     "base_uri": "https://localhost:8080/"
    },
    "id": "TtcxQga8j4e0",
    "outputId": "a5195083-0c72-4b63-8ebe-773b1726e507"
   },
   "outputs": [
    {
     "name": "stdout",
     "output_type": "stream",
     "text": [
      "{'A', 'G', 'C', 'B'}\n",
      "4\n"
     ]
    }
   ],
   "source": [
    "#code here\n",
    "print(stud_grades_set)\n",
    "print(len(stud_grades_set))\n"
   ]
  },
  {
   "cell_type": "markdown",
   "id": "zFA8Ipw1j4e2",
   "metadata": {
    "id": "zFA8Ipw1j4e2"
   },
   "source": [
    "#### 2.2. Create colors = [‘red’,’blue’,’orange’], and fruits = [‘orange’,’grapes’,’apples’] "
   ]
  },
  {
   "cell_type": "code",
   "execution_count": 79,
   "id": "vJhqbabej4e3",
   "metadata": {
    "id": "vJhqbabej4e3"
   },
   "outputs": [],
   "source": [
    "#code here\n",
    "colors = ['red', 'blue', 'orange']\n",
    "fruits = ['orange','grapes','apples']\n"
   ]
  },
  {
   "cell_type": "markdown",
   "id": "RyFyQNsGj4e4",
   "metadata": {
    "id": "RyFyQNsGj4e4"
   },
   "source": [
    "Print color and fruits"
   ]
  },
  {
   "cell_type": "code",
   "execution_count": 80,
   "id": "nAe4NMASj4e6",
   "metadata": {
    "colab": {
     "base_uri": "https://localhost:8080/"
    },
    "id": "nAe4NMASj4e6",
    "outputId": "6e4a8d52-8cee-40aa-9800-0a0b57704ab2"
   },
   "outputs": [
    {
     "name": "stdout",
     "output_type": "stream",
     "text": [
      "['red', 'blue', 'orange']\n",
      "['orange', 'grapes', 'apples']\n"
     ]
    }
   ],
   "source": [
    "#code here\n",
    "print(colors)\n",
    "print(fruits)"
   ]
  },
  {
   "cell_type": "markdown",
   "id": "KqeD7BQOj4e8",
   "metadata": {
    "id": "KqeD7BQOj4e8"
   },
   "source": [
    "Create colors_set, and fruits_set. (using set() ) and print them"
   ]
  },
  {
   "cell_type": "code",
   "execution_count": 85,
   "id": "RGpNsMaPj4e8",
   "metadata": {
    "colab": {
     "base_uri": "https://localhost:8080/"
    },
    "id": "RGpNsMaPj4e8",
    "outputId": "a0de480b-2d19-4707-c591-ebaf2edc82fc"
   },
   "outputs": [
    {
     "name": "stdout",
     "output_type": "stream",
     "text": [
      "{'red', 'orange', 'blue'}\n",
      "{'apples', 'grapes', 'orange'}\n"
     ]
    }
   ],
   "source": [
    "#code here\n",
    "colors_set = set(colors)\n",
    "fruits_set = set(fruits)\n",
    "print(colors_set)\n",
    "print(fruits_set)\n"
   ]
  },
  {
   "cell_type": "markdown",
   "id": "DSmb4zA2j4e9",
   "metadata": {
    "id": "DSmb4zA2j4e9"
   },
   "source": [
    "Find the union of both the sets."
   ]
  },
  {
   "cell_type": "code",
   "execution_count": 86,
   "id": "_FkXD1dAj4e-",
   "metadata": {
    "colab": {
     "base_uri": "https://localhost:8080/"
    },
    "id": "_FkXD1dAj4e-",
    "outputId": "d4b5cee0-4871-4b61-d79c-8abe08a40532"
   },
   "outputs": [
    {
     "data": {
      "text/plain": [
       "{'apples', 'blue', 'grapes', 'orange', 'red'}"
      ]
     },
     "execution_count": 86,
     "metadata": {},
     "output_type": "execute_result"
    }
   ],
   "source": [
    "#code here\n",
    "colors_set.union(fruits_set)\n"
   ]
  },
  {
   "cell_type": "markdown",
   "id": "6G9D_Rgtj4e_",
   "metadata": {
    "id": "6G9D_Rgtj4e_"
   },
   "source": [
    "Find the intersection of both the sets "
   ]
  },
  {
   "cell_type": "code",
   "execution_count": 87,
   "id": "CX0tWtaEj4e_",
   "metadata": {
    "colab": {
     "base_uri": "https://localhost:8080/"
    },
    "id": "CX0tWtaEj4e_",
    "outputId": "539cc8cd-1ec3-4843-d6fd-9cc38e287473"
   },
   "outputs": [
    {
     "data": {
      "text/plain": [
       "{'orange'}"
      ]
     },
     "execution_count": 87,
     "metadata": {},
     "output_type": "execute_result"
    }
   ],
   "source": [
    "#code here\n",
    "\n",
    "colors_set.intersection(fruits_set)"
   ]
  },
  {
   "cell_type": "markdown",
   "id": "d5slVp3ij4fA",
   "metadata": {
    "id": "d5slVp3ij4fA"
   },
   "source": [
    "Find the elements which are Fruits but not colors (using set.difference() )"
   ]
  },
  {
   "cell_type": "code",
   "execution_count": 88,
   "id": "AkJUxtAcj4fB",
   "metadata": {
    "colab": {
     "base_uri": "https://localhost:8080/"
    },
    "id": "AkJUxtAcj4fB",
    "outputId": "ffe9d4df-a83f-4072-aef5-02c43058e4c2"
   },
   "outputs": [
    {
     "data": {
      "text/plain": [
       "{'apples', 'grapes'}"
      ]
     },
     "execution_count": 88,
     "metadata": {},
     "output_type": "execute_result"
    }
   ],
   "source": [
    "#code here\n",
    "fruits_set.difference(colors_set)"
   ]
  },
  {
   "cell_type": "markdown",
   "id": "-ljIUiXKj4fB",
   "metadata": {
    "id": "-ljIUiXKj4fB"
   },
   "source": [
    "## 3. TUPLES\n",
    "\n"
   ]
  },
  {
   "cell_type": "markdown",
   "id": "Bz6y4YQMj4fC",
   "metadata": {
    "id": "Bz6y4YQMj4fC"
   },
   "source": [
    "#### 3.1 . Create temp = [17, ’Virat’, 50.0]"
   ]
  },
  {
   "cell_type": "code",
   "execution_count": 89,
   "id": "m8_6pZM3j4fD",
   "metadata": {
    "id": "m8_6pZM3j4fD"
   },
   "outputs": [],
   "source": [
    "#code here\n",
    "temp = [17, 'Virat', 50.0]\n",
    "\n"
   ]
  },
  {
   "cell_type": "markdown",
   "id": "i5NnZ0Zej4fE",
   "metadata": {
    "id": "i5NnZ0Zej4fE"
   },
   "source": [
    "Iterate through temp and print all the items in temp"
   ]
  },
  {
   "cell_type": "code",
   "execution_count": 90,
   "id": "Zrrp1UeJj4fE",
   "metadata": {
    "colab": {
     "base_uri": "https://localhost:8080/"
    },
    "id": "Zrrp1UeJj4fE",
    "outputId": "c0f1589e-8f59-4eca-f6cf-9045a0c1f520"
   },
   "outputs": [
    {
     "name": "stdout",
     "output_type": "stream",
     "text": [
      "17\n",
      "Virat\n",
      "50.0\n"
     ]
    }
   ],
   "source": [
    "#code here\n",
    "\n",
    "for item in temp:\n",
    "  print(item)\n"
   ]
  },
  {
   "cell_type": "markdown",
   "id": "K8-RnQv5j4fF",
   "metadata": {
    "id": "K8-RnQv5j4fF"
   },
   "source": [
    "replace first element with 11 in temp"
   ]
  },
  {
   "cell_type": "code",
   "execution_count": 91,
   "id": "KsPDLjaPj4fG",
   "metadata": {
    "id": "KsPDLjaPj4fG"
   },
   "outputs": [],
   "source": [
    "#code here\n",
    "temp[0] = 11\n"
   ]
  },
  {
   "cell_type": "markdown",
   "id": "K6fTd291j4fG",
   "metadata": {
    "id": "K6fTd291j4fG"
   },
   "source": [
    "Set temp1 = tuple(temp)"
   ]
  },
  {
   "cell_type": "code",
   "execution_count": 92,
   "id": "QSUtrF4Ej4fH",
   "metadata": {
    "id": "QSUtrF4Ej4fH"
   },
   "outputs": [],
   "source": [
    "#code here\n",
    "\n",
    "temp1 = tuple(temp)"
   ]
  },
  {
   "cell_type": "markdown",
   "id": "QGHto7UVj4fI",
   "metadata": {
    "id": "QGHto7UVj4fI"
   },
   "source": [
    "Iterate through temp1 and print all the items in temp1. "
   ]
  },
  {
   "cell_type": "code",
   "execution_count": 94,
   "id": "v9vtDYLCj4fJ",
   "metadata": {
    "colab": {
     "base_uri": "https://localhost:8080/"
    },
    "id": "v9vtDYLCj4fJ",
    "outputId": "b287d77e-bb60-4760-d753-4734fa57879a"
   },
   "outputs": [
    {
     "name": "stdout",
     "output_type": "stream",
     "text": [
      "11\n",
      "Virat\n",
      "50.0\n"
     ]
    }
   ],
   "source": [
    "#code here\n",
    "for item in temp1:\n",
    "  print(item)\n"
   ]
  },
  {
   "cell_type": "markdown",
   "id": "7LmHWsflj4fK",
   "metadata": {
    "id": "7LmHWsflj4fK"
   },
   "source": [
    "replace first element with 17 in temp1"
   ]
  },
  {
   "cell_type": "code",
   "execution_count": 95,
   "id": "G1J5ARwRj4fM",
   "metadata": {
    "colab": {
     "base_uri": "https://localhost:8080/",
     "height": 182
    },
    "id": "G1J5ARwRj4fM",
    "outputId": "6cafaebb-7e10-49b1-a61e-c6126f38ccb6"
   },
   "outputs": [
    {
     "ename": "TypeError",
     "evalue": "ignored",
     "output_type": "error",
     "traceback": [
      "\u001b[0;31m---------------------------------------------------------------------------\u001b[0m",
      "\u001b[0;31mTypeError\u001b[0m                                 Traceback (most recent call last)",
      "\u001b[0;32m<ipython-input-95-a9c8ba032b92>\u001b[0m in \u001b[0;36m<module>\u001b[0;34m()\u001b[0m\n\u001b[1;32m      1\u001b[0m \u001b[0;31m#code here\u001b[0m\u001b[0;34m\u001b[0m\u001b[0;34m\u001b[0m\u001b[0;34m\u001b[0m\u001b[0m\n\u001b[0;32m----> 2\u001b[0;31m \u001b[0mtemp1\u001b[0m\u001b[0;34m[\u001b[0m\u001b[0;36m0\u001b[0m\u001b[0;34m]\u001b[0m \u001b[0;34m=\u001b[0m \u001b[0;36m17\u001b[0m\u001b[0;34m\u001b[0m\u001b[0;34m\u001b[0m\u001b[0m\n\u001b[0m",
      "\u001b[0;31mTypeError\u001b[0m: 'tuple' object does not support item assignment"
     ]
    }
   ],
   "source": [
    "#code here\n",
    "temp1[0] = 17\n"
   ]
  },
  {
   "cell_type": "markdown",
   "id": "tfwhu0b0j4fN",
   "metadata": {
    "id": "tfwhu0b0j4fN"
   },
   "source": [
    "<b>Oops!!  got an error.  Don't worry! Its because Once a tuple is created, we cannot change its values unlike list.</b>"
   ]
  },
  {
   "cell_type": "markdown",
   "id": "Nnj7_0k9j4fO",
   "metadata": {
    "id": "Nnj7_0k9j4fO"
   },
   "source": [
    "#### 3.2 . Create city = (\"Bangalore\", 28.9949521, 72)"
   ]
  },
  {
   "cell_type": "code",
   "execution_count": 96,
   "id": "-k5zgSJMj4fP",
   "metadata": {
    "id": "-k5zgSJMj4fP"
   },
   "outputs": [],
   "source": [
    "#code here\n",
    "city = ('Bangalore', 28.9949521, 72)\n"
   ]
  },
  {
   "cell_type": "markdown",
   "id": "kCdR7MENj4fQ",
   "metadata": {
    "id": "kCdR7MENj4fQ"
   },
   "source": [
    "Print first element of city"
   ]
  },
  {
   "cell_type": "code",
   "execution_count": 97,
   "id": "vutfSc9wj4fR",
   "metadata": {
    "colab": {
     "base_uri": "https://localhost:8080/"
    },
    "id": "vutfSc9wj4fR",
    "outputId": "bb7f6931-aa55-4504-ec42-b760ad59ffba"
   },
   "outputs": [
    {
     "name": "stdout",
     "output_type": "stream",
     "text": [
      "Bangalore\n"
     ]
    }
   ],
   "source": [
    "#code here\n",
    "print(city[0])\n"
   ]
  },
  {
   "cell_type": "markdown",
   "id": "gbK4MWMHj4fS",
   "metadata": {
    "id": "gbK4MWMHj4fS"
   },
   "source": [
    "Create city2 = (‘Chennai’, 30.01, 74)"
   ]
  },
  {
   "cell_type": "code",
   "execution_count": 98,
   "id": "gG91J1aXj4fU",
   "metadata": {
    "id": "gG91J1aXj4fU"
   },
   "outputs": [],
   "source": [
    "#code here\n",
    "city2 = ('Chennai',30.01,74)\n"
   ]
  },
  {
   "cell_type": "markdown",
   "id": "I06mzLZHj4fV",
   "metadata": {
    "id": "I06mzLZHj4fV"
   },
   "source": [
    "Create cities which consist of city and city2"
   ]
  },
  {
   "cell_type": "code",
   "execution_count": 105,
   "id": "EocRIoq9j4fY",
   "metadata": {
    "id": "EocRIoq9j4fY"
   },
   "outputs": [],
   "source": [
    "#code here\n",
    "cities = ((city,) + (city2,))\n"
   ]
  },
  {
   "cell_type": "markdown",
   "id": "BYmHTFGVj4fe",
   "metadata": {
    "id": "BYmHTFGVj4fe"
   },
   "source": [
    "Print cities"
   ]
  },
  {
   "cell_type": "code",
   "execution_count": 106,
   "id": "XV5NeLnrj4fh",
   "metadata": {
    "colab": {
     "base_uri": "https://localhost:8080/"
    },
    "id": "XV5NeLnrj4fh",
    "outputId": "c349d72d-e2f6-4e89-c840-a2a8d08930e4"
   },
   "outputs": [
    {
     "name": "stdout",
     "output_type": "stream",
     "text": [
      "(('Bangalore', 28.9949521, 72), ('Chennai', 30.01, 74))\n"
     ]
    }
   ],
   "source": [
    "#code here\n",
    "print(cities)\n"
   ]
  },
  {
   "cell_type": "markdown",
   "id": "YwfL_Yvuj4fk",
   "metadata": {
    "id": "YwfL_Yvuj4fk"
   },
   "source": [
    "Print type of first element in cities"
   ]
  },
  {
   "cell_type": "code",
   "execution_count": 108,
   "id": "O3rLQXRqj4fl",
   "metadata": {
    "colab": {
     "base_uri": "https://localhost:8080/"
    },
    "id": "O3rLQXRqj4fl",
    "outputId": "f255e0d4-83b4-49a5-8a67-e9033071911b"
   },
   "outputs": [
    {
     "name": "stdout",
     "output_type": "stream",
     "text": [
      "<class 'tuple'>\n"
     ]
    }
   ],
   "source": [
    "#code here\n",
    "print(type(cities[0]))\n"
   ]
  },
  {
   "cell_type": "markdown",
   "id": "fmdG0z1jj4fm",
   "metadata": {
    "id": "fmdG0z1jj4fm"
   },
   "source": [
    "print the type of cities\n"
   ]
  },
  {
   "cell_type": "code",
   "execution_count": 109,
   "id": "s44NgpN_j4fn",
   "metadata": {
    "colab": {
     "base_uri": "https://localhost:8080/"
    },
    "id": "s44NgpN_j4fn",
    "outputId": "2ca01bcd-d7a7-440c-c52d-7ec7d73d0e24"
   },
   "outputs": [
    {
     "name": "stdout",
     "output_type": "stream",
     "text": [
      "<class 'tuple'>\n"
     ]
    }
   ],
   "source": [
    "#code here\n",
    "print(type(cities))\n"
   ]
  },
  {
   "cell_type": "markdown",
   "id": "Vm4zVpdYj4fr",
   "metadata": {
    "id": "Vm4zVpdYj4fr"
   },
   "source": [
    "## 4. DICT\n",
    "\n"
   ]
  },
  {
   "cell_type": "markdown",
   "id": "YLhT4EbXj4fs",
   "metadata": {
    "id": "YLhT4EbXj4fs"
   },
   "source": [
    "#### 4.1 Create a dictionary d = {\"actor\":\"amir\",\"animal\":\"cat\",\"earth\":2,\"list\":[23,32,12]}"
   ]
  },
  {
   "cell_type": "code",
   "execution_count": 110,
   "id": "mnhW_qFsj4ft",
   "metadata": {
    "id": "mnhW_qFsj4ft"
   },
   "outputs": [],
   "source": [
    "#code here\n",
    "d = {'actor':'amir','animal':'cat','earth0':2,'list':[23,32,12]}\n"
   ]
  },
  {
   "cell_type": "markdown",
   "id": "sYi34VvDj4fu",
   "metadata": {
    "id": "sYi34VvDj4fu"
   },
   "source": [
    "Print the value of d[0]"
   ]
  },
  {
   "cell_type": "code",
   "execution_count": 111,
   "id": "ByVymPkjj4fu",
   "metadata": {
    "colab": {
     "base_uri": "https://localhost:8080/",
     "height": 182
    },
    "id": "ByVymPkjj4fu",
    "outputId": "0acb035a-3a1b-4cb4-f215-892c61c287af"
   },
   "outputs": [
    {
     "ename": "KeyError",
     "evalue": "ignored",
     "output_type": "error",
     "traceback": [
      "\u001b[0;31m---------------------------------------------------------------------------\u001b[0m",
      "\u001b[0;31mKeyError\u001b[0m                                  Traceback (most recent call last)",
      "\u001b[0;32m<ipython-input-111-ca7d9023e2b8>\u001b[0m in \u001b[0;36m<module>\u001b[0;34m()\u001b[0m\n\u001b[1;32m      1\u001b[0m \u001b[0;31m#code here\u001b[0m\u001b[0;34m\u001b[0m\u001b[0;34m\u001b[0m\u001b[0;34m\u001b[0m\u001b[0m\n\u001b[0;32m----> 2\u001b[0;31m \u001b[0mprint\u001b[0m\u001b[0;34m(\u001b[0m\u001b[0md\u001b[0m\u001b[0;34m[\u001b[0m\u001b[0;36m0\u001b[0m\u001b[0;34m]\u001b[0m\u001b[0;34m)\u001b[0m\u001b[0;34m\u001b[0m\u001b[0;34m\u001b[0m\u001b[0m\n\u001b[0m",
      "\u001b[0;31mKeyError\u001b[0m: 0"
     ]
    }
   ],
   "source": [
    "#code here\n",
    "print(d[0])\n"
   ]
  },
  {
   "cell_type": "markdown",
   "id": "nAeny37Jj4fv",
   "metadata": {
    "id": "nAeny37Jj4fv"
   },
   "source": [
    "<b>Oops!! again an error. again a fun fact. Dictionary return the value for key if key is in the dictionary, else throws KeyError\n",
    "and we don't have key 0 here :( </b>"
   ]
  },
  {
   "cell_type": "markdown",
   "id": "ZkWQ5Ezmj4fw",
   "metadata": {
    "id": "ZkWQ5Ezmj4fw"
   },
   "source": [
    "Store the value of d[‘actor’] to a new variable actor."
   ]
  },
  {
   "cell_type": "code",
   "execution_count": 112,
   "id": "aJ13ucGxj4fx",
   "metadata": {
    "id": "aJ13ucGxj4fx"
   },
   "outputs": [],
   "source": [
    "#code here\n",
    "\n",
    "actor = d['actor']"
   ]
  },
  {
   "cell_type": "markdown",
   "id": "JAs8KxAFj4fx",
   "metadata": {
    "id": "JAs8KxAFj4fx"
   },
   "source": [
    "Print the type of actor"
   ]
  },
  {
   "cell_type": "code",
   "execution_count": 113,
   "id": "O8CYTAh0j4fy",
   "metadata": {
    "colab": {
     "base_uri": "https://localhost:8080/"
    },
    "id": "O8CYTAh0j4fy",
    "outputId": "482da806-3d3e-4551-a1da-730cafe5004b"
   },
   "outputs": [
    {
     "name": "stdout",
     "output_type": "stream",
     "text": [
      "<class 'str'>\n"
     ]
    }
   ],
   "source": [
    "#code here\n",
    "print(type(actor))\n"
   ]
  },
  {
   "cell_type": "markdown",
   "id": "dWWAOCtTj4fz",
   "metadata": {
    "id": "dWWAOCtTj4fz"
   },
   "source": [
    "Store the value of d[‘list’] in new variable l. "
   ]
  },
  {
   "cell_type": "code",
   "execution_count": 114,
   "id": "3Worzb4nj4fz",
   "metadata": {
    "id": "3Worzb4nj4fz"
   },
   "outputs": [],
   "source": [
    "#code here\n",
    "\n",
    "l = d['list']"
   ]
  },
  {
   "cell_type": "markdown",
   "id": "YQAHbTDWj4f0",
   "metadata": {
    "id": "YQAHbTDWj4f0"
   },
   "source": [
    "Print the type of l. "
   ]
  },
  {
   "cell_type": "code",
   "execution_count": 115,
   "id": "JltnFxfBj4f0",
   "metadata": {
    "colab": {
     "base_uri": "https://localhost:8080/"
    },
    "id": "JltnFxfBj4f0",
    "outputId": "fff8eca0-900e-40fe-c6b4-694f6e79a92f"
   },
   "outputs": [
    {
     "name": "stdout",
     "output_type": "stream",
     "text": [
      "<class 'list'>\n"
     ]
    }
   ],
   "source": [
    "#code here\n",
    "print(type(l))\n"
   ]
  },
  {
   "cell_type": "markdown",
   "id": "Rs4I85HPj4f1",
   "metadata": {
    "id": "Rs4I85HPj4f1"
   },
   "source": [
    "Create d1 = { ‘singer’ : ‘Kr$na’ , ‘album’: ‘Still here’, ‘genre’ : ‘hip-hop’}"
   ]
  },
  {
   "cell_type": "code",
   "execution_count": 116,
   "id": "1BHP02rdj4f2",
   "metadata": {
    "id": "1BHP02rdj4f2"
   },
   "outputs": [],
   "source": [
    "#code here\n",
    "d1 = {'singer':'Kr$na','album':'Still here','genre':'hip-hop'}\n"
   ]
  },
  {
   "cell_type": "markdown",
   "id": "sD6LZtC5j4f2",
   "metadata": {
    "id": "sD6LZtC5j4f2"
   },
   "source": [
    "Merge d1 into d."
   ]
  },
  {
   "cell_type": "code",
   "execution_count": 117,
   "id": "Njs7asxvj4f3",
   "metadata": {
    "id": "Njs7asxvj4f3"
   },
   "outputs": [],
   "source": [
    "#code here\n",
    "d.update(d1)\n"
   ]
  },
  {
   "cell_type": "markdown",
   "id": "EuYKSo7oj4f4",
   "metadata": {
    "id": "EuYKSo7oj4f4"
   },
   "source": [
    "print d"
   ]
  },
  {
   "cell_type": "code",
   "execution_count": 130,
   "id": "kthbL6D-j4f5",
   "metadata": {
    "colab": {
     "base_uri": "https://localhost:8080/"
    },
    "id": "kthbL6D-j4f5",
    "outputId": "af1e6334-289f-4696-b5f2-0a8a4622aa36"
   },
   "outputs": [
    {
     "name": "stdout",
     "output_type": "stream",
     "text": [
      "actor  :  amir\n",
      "animal  :  cat\n",
      "earth0  :  2\n",
      "list  :  [23, 32, 12]\n",
      "singer  :  Kr$na\n",
      "album  :  Still here\n",
      "genre  :  hip-hop\n"
     ]
    }
   ],
   "source": [
    "#code here\n",
    "for key, value in d.items():\n",
    "    print(key, ' : ', value)\n"
   ]
  },
  {
   "cell_type": "markdown",
   "id": "lWvSspBSj4f6",
   "metadata": {
    "id": "lWvSspBSj4f6"
   },
   "source": [
    "Print all the keys in d"
   ]
  },
  {
   "cell_type": "code",
   "execution_count": 131,
   "id": "bxo48Z5Lj4f6",
   "metadata": {
    "colab": {
     "base_uri": "https://localhost:8080/"
    },
    "id": "bxo48Z5Lj4f6",
    "outputId": "e94b47b4-006a-483f-d4d6-aac1ab46190c"
   },
   "outputs": [
    {
     "data": {
      "text/plain": [
       "dict_keys(['actor', 'animal', 'earth0', 'list', 'singer', 'album', 'genre'])"
      ]
     },
     "execution_count": 131,
     "metadata": {},
     "output_type": "execute_result"
    }
   ],
   "source": [
    "#code here\n",
    "d.keys()\n"
   ]
  },
  {
   "cell_type": "markdown",
   "id": "J4VCwzKmj4f7",
   "metadata": {
    "id": "J4VCwzKmj4f7"
   },
   "source": [
    "Print all the values in d"
   ]
  },
  {
   "cell_type": "code",
   "execution_count": 132,
   "id": "LfLHbE5-j4f8",
   "metadata": {
    "colab": {
     "base_uri": "https://localhost:8080/"
    },
    "id": "LfLHbE5-j4f8",
    "outputId": "88281594-532f-43fe-feb6-0d1fc35afb4a"
   },
   "outputs": [
    {
     "data": {
      "text/plain": [
       "dict_values(['amir', 'cat', 2, [23, 32, 12], 'Kr$na', 'Still here', 'hip-hop'])"
      ]
     },
     "execution_count": 132,
     "metadata": {},
     "output_type": "execute_result"
    }
   ],
   "source": [
    "#code here\n",
    "d.values()\n"
   ]
  },
  {
   "cell_type": "markdown",
   "id": "dFUy4hSYj4f-",
   "metadata": {
    "id": "dFUy4hSYj4f-"
   },
   "source": [
    "Iterate over d, and print each key, value pair as given in output"
   ]
  },
  {
   "cell_type": "code",
   "execution_count": 133,
   "id": "yicuATsuj4f_",
   "metadata": {
    "colab": {
     "base_uri": "https://localhost:8080/"
    },
    "id": "yicuATsuj4f_",
    "outputId": "76469574-b995-4be5-f622-c28780c54365"
   },
   "outputs": [
    {
     "name": "stdout",
     "output_type": "stream",
     "text": [
      "actor  :  amir\n",
      "animal  :  cat\n",
      "earth0  :  2\n",
      "list  :  [23, 32, 12]\n",
      "singer  :  Kr$na\n",
      "album  :  Still here\n",
      "genre  :  hip-hop\n"
     ]
    }
   ],
   "source": [
    "#code here\n",
    "for key, value in d.items():\n",
    "    print(key, ' : ', value)\n"
   ]
  },
  {
   "cell_type": "markdown",
   "id": "hfc6rfA4j4gA",
   "metadata": {
    "id": "hfc6rfA4j4gA"
   },
   "source": [
    "\n",
    "Create a string, sent = ‘Coronavirus Caused Lockdowns Around The World.”\n",
    "\n",
    "Count the number of occurences of charachters in string named \"sent\" using dictionary and print the same.\n"
   ]
  },
  {
   "cell_type": "code",
   "execution_count": 138,
   "id": "aJvtO5Aij4gB",
   "metadata": {
    "colab": {
     "base_uri": "https://localhost:8080/"
    },
    "id": "aJvtO5Aij4gB",
    "outputId": "ca3954e9-5752-4b21-a7a7-0634b3e17e08"
   },
   "outputs": [
    {
     "data": {
      "text/plain": [
       "{' ': 5,\n",
       " 'A': 1,\n",
       " 'C': 2,\n",
       " 'L': 1,\n",
       " 'T': 1,\n",
       " 'W': 1,\n",
       " 'a': 2,\n",
       " 'c': 1,\n",
       " 'd': 4,\n",
       " 'e': 2,\n",
       " 'h': 1,\n",
       " 'i': 1,\n",
       " 'k': 1,\n",
       " 'l': 1,\n",
       " 'n': 3,\n",
       " 'o': 6,\n",
       " 'r': 4,\n",
       " 's': 3,\n",
       " 'u': 3,\n",
       " 'v': 1,\n",
       " 'w': 1}"
      ]
     },
     "execution_count": 138,
     "metadata": {},
     "output_type": "execute_result"
    }
   ],
   "source": [
    "#code here\n",
    "\n",
    "sent = 'Coronavirus Caused Lockdowns Around The World'\n",
    "\n",
    "dict1 = {}\n",
    "for i in sent:\n",
    "  dict1[i] = 0\n",
    "for j in sent:\n",
    "  dict1[j] = dict1[j]+1\n",
    "\n",
    "dict1\n"
   ]
  },
  {
   "cell_type": "markdown",
   "id": "j8Mdb1fYj4gC",
   "metadata": {
    "id": "j8Mdb1fYj4gC"
   },
   "source": [
    "# --------------------------------------------------------------------"
   ]
  }
 ],
 "metadata": {
  "colab": {
   "collapsed_sections": [],
   "name": "Data Structure_Solution_Gunjan.ipynb",
   "provenance": []
  },
  "kernelspec": {
   "display_name": "Python 3",
   "language": "python",
   "name": "python3"
  },
  "language_info": {
   "codemirror_mode": {
    "name": "ipython",
    "version": 3
   },
   "file_extension": ".py",
   "mimetype": "text/x-python",
   "name": "python",
   "nbconvert_exporter": "python",
   "pygments_lexer": "ipython3",
   "version": "3.8.8"
  }
 },
 "nbformat": 4,
 "nbformat_minor": 5
}
