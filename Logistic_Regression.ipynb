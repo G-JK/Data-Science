{
  "nbformat": 4,
  "nbformat_minor": 0,
  "metadata": {
    "kernelspec": {
      "display_name": "Python 3",
      "language": "python",
      "name": "python3"
    },
    "language_info": {
      "codemirror_mode": {
        "name": "ipython",
        "version": 3
      },
      "file_extension": ".py",
      "mimetype": "text/x-python",
      "name": "python",
      "nbconvert_exporter": "python",
      "pygments_lexer": "ipython3",
      "version": "3.8.8"
    },
    "colab": {
      "name": "Logistic Regression.ipynb",
      "provenance": [],
      "collapsed_sections": []
    }
  },
  "cells": [
    {
      "cell_type": "markdown",
      "metadata": {
        "collapsed": true,
        "id": "i0t0V6iqgbCn"
      },
      "source": [
        "# <font color='blue'><center><u>LOGISTIC REGRESSION</u></center></font>\n",
        "\n",
        ".\n",
        "\n",
        "Logistic regression is a statistical model that in its basic form uses a logistic function to model a binary dependent variable, although many more complex extensions exist. In regression analysis, logistic regression (or logit regression) is estimating the parameters of a logistic model (a form of binary regression).\n",
        "\n",
        "\n",
        "\n",
        "## Problem statement:\n",
        "\n",
        "#### Telecom Churn Case Study\n",
        "\n",
        "With 21 predictor variables we need to predict whether a particular customer will switch to another telecom provider or not. In telecom terminology, this is referred to as churning and not churning, respectively.\n",
        "\n"
      ]
    },
    {
      "cell_type": "markdown",
      "metadata": {
        "id": "HFiwzGi2gbC3"
      },
      "source": [
        "### Importing and Merging Data\n",
        "\n"
      ]
    },
    {
      "cell_type": "code",
      "metadata": {
        "id": "_gI7MMEagbC7"
      },
      "source": [
        "# Importing Pandas and NumPy\n",
        "import numpy as np\n",
        "import pandas as pd\n"
      ],
      "execution_count": null,
      "outputs": []
    },
    {
      "cell_type": "code",
      "metadata": {
        "id": "nYkOOD3xgbC_"
      },
      "source": [
        "import os\n",
        "\n",
        "# hide warnings\n",
        "import warnings\n",
        "warnings.filterwarnings('ignore')\n",
        "# to view all rows and columns of dataset\n",
        "pd.set_option(\"display.max_columns\", None)"
      ],
      "execution_count": null,
      "outputs": []
    },
    {
      "cell_type": "code",
      "metadata": {
        "id": "xI8XBDDEgbDB"
      },
      "source": [
        "# Importing all datasets\n",
        "churn_data = pd.read_csv('churn_data.csv')\n",
        "customer_data = pd.read_csv('customer_data.csv')\n",
        "internet_data = pd.read_csv('internet_data.csv')"
      ],
      "execution_count": null,
      "outputs": []
    },
    {
      "cell_type": "code",
      "metadata": {
        "id": "dgJiGSBZgbDD",
        "outputId": "aa67b470-5971-4dd6-afb3-8c27473b99ac"
      },
      "source": [
        "churn_data.head(1)"
      ],
      "execution_count": null,
      "outputs": [
        {
          "data": {
            "text/html": [
              "<div>\n",
              "<style scoped>\n",
              "    .dataframe tbody tr th:only-of-type {\n",
              "        vertical-align: middle;\n",
              "    }\n",
              "\n",
              "    .dataframe tbody tr th {\n",
              "        vertical-align: top;\n",
              "    }\n",
              "\n",
              "    .dataframe thead th {\n",
              "        text-align: right;\n",
              "    }\n",
              "</style>\n",
              "<table border=\"1\" class=\"dataframe\">\n",
              "  <thead>\n",
              "    <tr style=\"text-align: right;\">\n",
              "      <th></th>\n",
              "      <th>customerID</th>\n",
              "      <th>tenure</th>\n",
              "      <th>PhoneService</th>\n",
              "      <th>Contract</th>\n",
              "      <th>PaperlessBilling</th>\n",
              "      <th>PaymentMethod</th>\n",
              "      <th>MonthlyCharges</th>\n",
              "      <th>TotalCharges</th>\n",
              "      <th>Churn</th>\n",
              "    </tr>\n",
              "  </thead>\n",
              "  <tbody>\n",
              "    <tr>\n",
              "      <th>0</th>\n",
              "      <td>7590-VHVEG</td>\n",
              "      <td>1</td>\n",
              "      <td>No</td>\n",
              "      <td>Month-to-month</td>\n",
              "      <td>Yes</td>\n",
              "      <td>Electronic check</td>\n",
              "      <td>29.85</td>\n",
              "      <td>29.85</td>\n",
              "      <td>No</td>\n",
              "    </tr>\n",
              "  </tbody>\n",
              "</table>\n",
              "</div>"
            ],
            "text/plain": [
              "   customerID  tenure PhoneService        Contract PaperlessBilling  \\\n",
              "0  7590-VHVEG       1           No  Month-to-month              Yes   \n",
              "\n",
              "      PaymentMethod  MonthlyCharges TotalCharges Churn  \n",
              "0  Electronic check           29.85        29.85    No  "
            ]
          },
          "execution_count": 54,
          "metadata": {},
          "output_type": "execute_result"
        }
      ]
    },
    {
      "cell_type": "code",
      "metadata": {
        "id": "Ih0P0iUCgbDJ",
        "outputId": "c2d70510-1e07-4963-f4bf-5bb2f8760902"
      },
      "source": [
        "customer_data.head(1)"
      ],
      "execution_count": null,
      "outputs": [
        {
          "data": {
            "text/html": [
              "<div>\n",
              "<style scoped>\n",
              "    .dataframe tbody tr th:only-of-type {\n",
              "        vertical-align: middle;\n",
              "    }\n",
              "\n",
              "    .dataframe tbody tr th {\n",
              "        vertical-align: top;\n",
              "    }\n",
              "\n",
              "    .dataframe thead th {\n",
              "        text-align: right;\n",
              "    }\n",
              "</style>\n",
              "<table border=\"1\" class=\"dataframe\">\n",
              "  <thead>\n",
              "    <tr style=\"text-align: right;\">\n",
              "      <th></th>\n",
              "      <th>customerID</th>\n",
              "      <th>gender</th>\n",
              "      <th>SeniorCitizen</th>\n",
              "      <th>Partner</th>\n",
              "      <th>Dependents</th>\n",
              "    </tr>\n",
              "  </thead>\n",
              "  <tbody>\n",
              "    <tr>\n",
              "      <th>0</th>\n",
              "      <td>7590-VHVEG</td>\n",
              "      <td>Female</td>\n",
              "      <td>0</td>\n",
              "      <td>Yes</td>\n",
              "      <td>No</td>\n",
              "    </tr>\n",
              "  </tbody>\n",
              "</table>\n",
              "</div>"
            ],
            "text/plain": [
              "   customerID  gender  SeniorCitizen Partner Dependents\n",
              "0  7590-VHVEG  Female              0     Yes         No"
            ]
          },
          "execution_count": 55,
          "metadata": {},
          "output_type": "execute_result"
        }
      ]
    },
    {
      "cell_type": "code",
      "metadata": {
        "id": "rK8j5SE8gbDL",
        "outputId": "29acd493-3e51-4b18-919f-07ae06fe1103"
      },
      "source": [
        "internet_data.head(1)"
      ],
      "execution_count": null,
      "outputs": [
        {
          "data": {
            "text/html": [
              "<div>\n",
              "<style scoped>\n",
              "    .dataframe tbody tr th:only-of-type {\n",
              "        vertical-align: middle;\n",
              "    }\n",
              "\n",
              "    .dataframe tbody tr th {\n",
              "        vertical-align: top;\n",
              "    }\n",
              "\n",
              "    .dataframe thead th {\n",
              "        text-align: right;\n",
              "    }\n",
              "</style>\n",
              "<table border=\"1\" class=\"dataframe\">\n",
              "  <thead>\n",
              "    <tr style=\"text-align: right;\">\n",
              "      <th></th>\n",
              "      <th>customerID</th>\n",
              "      <th>MultipleLines</th>\n",
              "      <th>InternetService</th>\n",
              "      <th>OnlineSecurity</th>\n",
              "      <th>OnlineBackup</th>\n",
              "      <th>DeviceProtection</th>\n",
              "      <th>TechSupport</th>\n",
              "      <th>StreamingTV</th>\n",
              "      <th>StreamingMovies</th>\n",
              "    </tr>\n",
              "  </thead>\n",
              "  <tbody>\n",
              "    <tr>\n",
              "      <th>0</th>\n",
              "      <td>7590-VHVEG</td>\n",
              "      <td>No phone service</td>\n",
              "      <td>DSL</td>\n",
              "      <td>No</td>\n",
              "      <td>Yes</td>\n",
              "      <td>No</td>\n",
              "      <td>No</td>\n",
              "      <td>No</td>\n",
              "      <td>No</td>\n",
              "    </tr>\n",
              "  </tbody>\n",
              "</table>\n",
              "</div>"
            ],
            "text/plain": [
              "   customerID     MultipleLines InternetService OnlineSecurity OnlineBackup  \\\n",
              "0  7590-VHVEG  No phone service             DSL             No          Yes   \n",
              "\n",
              "  DeviceProtection TechSupport StreamingTV StreamingMovies  \n",
              "0               No          No          No              No  "
            ]
          },
          "execution_count": 56,
          "metadata": {},
          "output_type": "execute_result"
        }
      ]
    },
    {
      "cell_type": "code",
      "metadata": {
        "id": "a6TIQvcKgbDN",
        "outputId": "a51b38c8-a954-484b-b492-0b2b5ca65db1"
      },
      "source": [
        "# dataset dimensions\n",
        "churn_data.shape"
      ],
      "execution_count": null,
      "outputs": [
        {
          "data": {
            "text/plain": [
              "(7043, 9)"
            ]
          },
          "execution_count": 6,
          "metadata": {},
          "output_type": "execute_result"
        }
      ]
    },
    {
      "cell_type": "code",
      "metadata": {
        "id": "iRrv331EgbDT",
        "outputId": "3eff3979-0f0b-47a0-8262-27920bc36bce"
      },
      "source": [
        "# dataset dimensions\n",
        "customer_data.shape"
      ],
      "execution_count": null,
      "outputs": [
        {
          "data": {
            "text/plain": [
              "(7043, 5)"
            ]
          },
          "execution_count": 7,
          "metadata": {},
          "output_type": "execute_result"
        }
      ]
    },
    {
      "cell_type": "code",
      "metadata": {
        "id": "eBaHndZvgbDV",
        "outputId": "cc75d476-c045-429c-c81c-0637a90049b3"
      },
      "source": [
        "# dataset dimensions\n",
        "internet_data.shape"
      ],
      "execution_count": null,
      "outputs": [
        {
          "data": {
            "text/plain": [
              "(7043, 9)"
            ]
          },
          "execution_count": 8,
          "metadata": {},
          "output_type": "execute_result"
        }
      ]
    },
    {
      "cell_type": "code",
      "metadata": {
        "id": "nX0h3_BNgbDa"
      },
      "source": [
        "#Merging churn_data and customer_data on 'customerID' using inner join on customerID\n",
        "df_1 =  pd.merge(churn_data,customer_data,how='inner',on='customerID')"
      ],
      "execution_count": null,
      "outputs": []
    },
    {
      "cell_type": "code",
      "metadata": {
        "id": "gLcmwo-3gbDd",
        "outputId": "664ff6c6-518f-49b6-8726-65bbf5a66eda"
      },
      "source": [
        "# dataset dimensions after merging\n",
        "df_1.shape"
      ],
      "execution_count": null,
      "outputs": [
        {
          "data": {
            "text/plain": [
              "(7043, 13)"
            ]
          },
          "execution_count": 10,
          "metadata": {},
          "output_type": "execute_result"
        }
      ]
    },
    {
      "cell_type": "code",
      "metadata": {
        "id": "yvmCRDO2gbDg"
      },
      "source": [
        "#Final dataframe with all predictor variables (merging df_1 and internet_data on 'customerID')\n",
        "telecom = pd.merge(df_1,internet_data,how='inner',on='customerID')"
      ],
      "execution_count": null,
      "outputs": []
    },
    {
      "cell_type": "code",
      "metadata": {
        "id": "oIdCmaMKgbDi",
        "outputId": "db196237-4e60-4801-dd83-d939b11691ed"
      },
      "source": [
        "# dataset dimensions after merging\n",
        "telecom.shape"
      ],
      "execution_count": null,
      "outputs": [
        {
          "data": {
            "text/plain": [
              "(7043, 21)"
            ]
          },
          "execution_count": 73,
          "metadata": {},
          "output_type": "execute_result"
        }
      ]
    },
    {
      "cell_type": "markdown",
      "metadata": {
        "id": "wWuKeIfogbDk"
      },
      "source": [
        "### Let's understand the structure of our dataframe\n",
        "\n"
      ]
    },
    {
      "cell_type": "code",
      "metadata": {
        "id": "5faGDCoFgbDm",
        "outputId": "47a9d6ce-6555-46ef-aa98-ce8a04e88d51"
      },
      "source": [
        "# Let's see the head of our master dataset\n",
        "telecom.head()"
      ],
      "execution_count": null,
      "outputs": [
        {
          "data": {
            "text/html": [
              "<div>\n",
              "<style scoped>\n",
              "    .dataframe tbody tr th:only-of-type {\n",
              "        vertical-align: middle;\n",
              "    }\n",
              "\n",
              "    .dataframe tbody tr th {\n",
              "        vertical-align: top;\n",
              "    }\n",
              "\n",
              "    .dataframe thead th {\n",
              "        text-align: right;\n",
              "    }\n",
              "</style>\n",
              "<table border=\"1\" class=\"dataframe\">\n",
              "  <thead>\n",
              "    <tr style=\"text-align: right;\">\n",
              "      <th></th>\n",
              "      <th>customerID</th>\n",
              "      <th>tenure</th>\n",
              "      <th>PhoneService</th>\n",
              "      <th>Contract</th>\n",
              "      <th>PaperlessBilling</th>\n",
              "      <th>PaymentMethod</th>\n",
              "      <th>MonthlyCharges</th>\n",
              "      <th>TotalCharges</th>\n",
              "      <th>Churn</th>\n",
              "      <th>gender</th>\n",
              "      <th>SeniorCitizen</th>\n",
              "      <th>Partner</th>\n",
              "      <th>Dependents</th>\n",
              "      <th>MultipleLines</th>\n",
              "      <th>InternetService</th>\n",
              "      <th>OnlineSecurity</th>\n",
              "      <th>OnlineBackup</th>\n",
              "      <th>DeviceProtection</th>\n",
              "      <th>TechSupport</th>\n",
              "      <th>StreamingTV</th>\n",
              "      <th>StreamingMovies</th>\n",
              "    </tr>\n",
              "  </thead>\n",
              "  <tbody>\n",
              "    <tr>\n",
              "      <th>0</th>\n",
              "      <td>7590-VHVEG</td>\n",
              "      <td>1</td>\n",
              "      <td>No</td>\n",
              "      <td>Month-to-month</td>\n",
              "      <td>Yes</td>\n",
              "      <td>Electronic check</td>\n",
              "      <td>29.85</td>\n",
              "      <td>29.85</td>\n",
              "      <td>No</td>\n",
              "      <td>Female</td>\n",
              "      <td>0</td>\n",
              "      <td>Yes</td>\n",
              "      <td>No</td>\n",
              "      <td>No phone service</td>\n",
              "      <td>DSL</td>\n",
              "      <td>No</td>\n",
              "      <td>Yes</td>\n",
              "      <td>No</td>\n",
              "      <td>No</td>\n",
              "      <td>No</td>\n",
              "      <td>No</td>\n",
              "    </tr>\n",
              "    <tr>\n",
              "      <th>1</th>\n",
              "      <td>5575-GNVDE</td>\n",
              "      <td>34</td>\n",
              "      <td>Yes</td>\n",
              "      <td>One year</td>\n",
              "      <td>No</td>\n",
              "      <td>Mailed check</td>\n",
              "      <td>56.95</td>\n",
              "      <td>1889.5</td>\n",
              "      <td>No</td>\n",
              "      <td>Male</td>\n",
              "      <td>0</td>\n",
              "      <td>No</td>\n",
              "      <td>No</td>\n",
              "      <td>No</td>\n",
              "      <td>DSL</td>\n",
              "      <td>Yes</td>\n",
              "      <td>No</td>\n",
              "      <td>Yes</td>\n",
              "      <td>No</td>\n",
              "      <td>No</td>\n",
              "      <td>No</td>\n",
              "    </tr>\n",
              "    <tr>\n",
              "      <th>2</th>\n",
              "      <td>3668-QPYBK</td>\n",
              "      <td>2</td>\n",
              "      <td>Yes</td>\n",
              "      <td>Month-to-month</td>\n",
              "      <td>Yes</td>\n",
              "      <td>Mailed check</td>\n",
              "      <td>53.85</td>\n",
              "      <td>108.15</td>\n",
              "      <td>Yes</td>\n",
              "      <td>Male</td>\n",
              "      <td>0</td>\n",
              "      <td>No</td>\n",
              "      <td>No</td>\n",
              "      <td>No</td>\n",
              "      <td>DSL</td>\n",
              "      <td>Yes</td>\n",
              "      <td>Yes</td>\n",
              "      <td>No</td>\n",
              "      <td>No</td>\n",
              "      <td>No</td>\n",
              "      <td>No</td>\n",
              "    </tr>\n",
              "    <tr>\n",
              "      <th>3</th>\n",
              "      <td>7795-CFOCW</td>\n",
              "      <td>45</td>\n",
              "      <td>No</td>\n",
              "      <td>One year</td>\n",
              "      <td>No</td>\n",
              "      <td>Bank transfer (automatic)</td>\n",
              "      <td>42.30</td>\n",
              "      <td>1840.75</td>\n",
              "      <td>No</td>\n",
              "      <td>Male</td>\n",
              "      <td>0</td>\n",
              "      <td>No</td>\n",
              "      <td>No</td>\n",
              "      <td>No phone service</td>\n",
              "      <td>DSL</td>\n",
              "      <td>Yes</td>\n",
              "      <td>No</td>\n",
              "      <td>Yes</td>\n",
              "      <td>Yes</td>\n",
              "      <td>No</td>\n",
              "      <td>No</td>\n",
              "    </tr>\n",
              "    <tr>\n",
              "      <th>4</th>\n",
              "      <td>9237-HQITU</td>\n",
              "      <td>2</td>\n",
              "      <td>Yes</td>\n",
              "      <td>Month-to-month</td>\n",
              "      <td>Yes</td>\n",
              "      <td>Electronic check</td>\n",
              "      <td>70.70</td>\n",
              "      <td>151.65</td>\n",
              "      <td>Yes</td>\n",
              "      <td>Female</td>\n",
              "      <td>0</td>\n",
              "      <td>No</td>\n",
              "      <td>No</td>\n",
              "      <td>No</td>\n",
              "      <td>Fiber optic</td>\n",
              "      <td>No</td>\n",
              "      <td>No</td>\n",
              "      <td>No</td>\n",
              "      <td>No</td>\n",
              "      <td>No</td>\n",
              "      <td>No</td>\n",
              "    </tr>\n",
              "  </tbody>\n",
              "</table>\n",
              "</div>"
            ],
            "text/plain": [
              "   customerID  tenure PhoneService        Contract PaperlessBilling  \\\n",
              "0  7590-VHVEG       1           No  Month-to-month              Yes   \n",
              "1  5575-GNVDE      34          Yes        One year               No   \n",
              "2  3668-QPYBK       2          Yes  Month-to-month              Yes   \n",
              "3  7795-CFOCW      45           No        One year               No   \n",
              "4  9237-HQITU       2          Yes  Month-to-month              Yes   \n",
              "\n",
              "               PaymentMethod  MonthlyCharges TotalCharges Churn  gender  \\\n",
              "0           Electronic check           29.85        29.85    No  Female   \n",
              "1               Mailed check           56.95       1889.5    No    Male   \n",
              "2               Mailed check           53.85       108.15   Yes    Male   \n",
              "3  Bank transfer (automatic)           42.30      1840.75    No    Male   \n",
              "4           Electronic check           70.70       151.65   Yes  Female   \n",
              "\n",
              "   SeniorCitizen Partner Dependents     MultipleLines InternetService  \\\n",
              "0              0     Yes         No  No phone service             DSL   \n",
              "1              0      No         No                No             DSL   \n",
              "2              0      No         No                No             DSL   \n",
              "3              0      No         No  No phone service             DSL   \n",
              "4              0      No         No                No     Fiber optic   \n",
              "\n",
              "  OnlineSecurity OnlineBackup DeviceProtection TechSupport StreamingTV  \\\n",
              "0             No          Yes               No          No          No   \n",
              "1            Yes           No              Yes          No          No   \n",
              "2            Yes          Yes               No          No          No   \n",
              "3            Yes           No              Yes         Yes          No   \n",
              "4             No           No               No          No          No   \n",
              "\n",
              "  StreamingMovies  \n",
              "0              No  \n",
              "1              No  \n",
              "2              No  \n",
              "3              No  \n",
              "4              No  "
            ]
          },
          "execution_count": 74,
          "metadata": {},
          "output_type": "execute_result"
        }
      ]
    },
    {
      "cell_type": "code",
      "metadata": {
        "id": "ZsOUFRsogbDp",
        "outputId": "ed66433e-640c-4470-a774-42715fa98eab"
      },
      "source": [
        "#Lets see statistical description for our master data\n",
        "telecom.describe()"
      ],
      "execution_count": null,
      "outputs": [
        {
          "data": {
            "text/html": [
              "<div>\n",
              "<style scoped>\n",
              "    .dataframe tbody tr th:only-of-type {\n",
              "        vertical-align: middle;\n",
              "    }\n",
              "\n",
              "    .dataframe tbody tr th {\n",
              "        vertical-align: top;\n",
              "    }\n",
              "\n",
              "    .dataframe thead th {\n",
              "        text-align: right;\n",
              "    }\n",
              "</style>\n",
              "<table border=\"1\" class=\"dataframe\">\n",
              "  <thead>\n",
              "    <tr style=\"text-align: right;\">\n",
              "      <th></th>\n",
              "      <th>tenure</th>\n",
              "      <th>MonthlyCharges</th>\n",
              "      <th>SeniorCitizen</th>\n",
              "    </tr>\n",
              "  </thead>\n",
              "  <tbody>\n",
              "    <tr>\n",
              "      <th>count</th>\n",
              "      <td>7043.000000</td>\n",
              "      <td>7043.000000</td>\n",
              "      <td>7043.000000</td>\n",
              "    </tr>\n",
              "    <tr>\n",
              "      <th>mean</th>\n",
              "      <td>32.371149</td>\n",
              "      <td>64.761692</td>\n",
              "      <td>0.162147</td>\n",
              "    </tr>\n",
              "    <tr>\n",
              "      <th>std</th>\n",
              "      <td>24.559481</td>\n",
              "      <td>30.090047</td>\n",
              "      <td>0.368612</td>\n",
              "    </tr>\n",
              "    <tr>\n",
              "      <th>min</th>\n",
              "      <td>0.000000</td>\n",
              "      <td>18.250000</td>\n",
              "      <td>0.000000</td>\n",
              "    </tr>\n",
              "    <tr>\n",
              "      <th>25%</th>\n",
              "      <td>9.000000</td>\n",
              "      <td>35.500000</td>\n",
              "      <td>0.000000</td>\n",
              "    </tr>\n",
              "    <tr>\n",
              "      <th>50%</th>\n",
              "      <td>29.000000</td>\n",
              "      <td>70.350000</td>\n",
              "      <td>0.000000</td>\n",
              "    </tr>\n",
              "    <tr>\n",
              "      <th>75%</th>\n",
              "      <td>55.000000</td>\n",
              "      <td>89.850000</td>\n",
              "      <td>0.000000</td>\n",
              "    </tr>\n",
              "    <tr>\n",
              "      <th>max</th>\n",
              "      <td>72.000000</td>\n",
              "      <td>118.750000</td>\n",
              "      <td>1.000000</td>\n",
              "    </tr>\n",
              "  </tbody>\n",
              "</table>\n",
              "</div>"
            ],
            "text/plain": [
              "            tenure  MonthlyCharges  SeniorCitizen\n",
              "count  7043.000000     7043.000000    7043.000000\n",
              "mean     32.371149       64.761692       0.162147\n",
              "std      24.559481       30.090047       0.368612\n",
              "min       0.000000       18.250000       0.000000\n",
              "25%       9.000000       35.500000       0.000000\n",
              "50%      29.000000       70.350000       0.000000\n",
              "75%      55.000000       89.850000       0.000000\n",
              "max      72.000000      118.750000       1.000000"
            ]
          },
          "execution_count": 75,
          "metadata": {},
          "output_type": "execute_result"
        }
      ]
    },
    {
      "cell_type": "code",
      "metadata": {
        "id": "micGB4ENgbDs",
        "outputId": "60453bff-d3a5-427b-e477-2b68bbd48b2a"
      },
      "source": [
        "# Let's see the type of each column\n",
        "telecom.info()"
      ],
      "execution_count": null,
      "outputs": [
        {
          "name": "stdout",
          "output_type": "stream",
          "text": [
            "<class 'pandas.core.frame.DataFrame'>\n",
            "Int64Index: 7043 entries, 0 to 7042\n",
            "Data columns (total 21 columns):\n",
            " #   Column            Non-Null Count  Dtype  \n",
            "---  ------            --------------  -----  \n",
            " 0   customerID        7043 non-null   object \n",
            " 1   tenure            7043 non-null   int64  \n",
            " 2   PhoneService      7043 non-null   object \n",
            " 3   Contract          7043 non-null   object \n",
            " 4   PaperlessBilling  7043 non-null   object \n",
            " 5   PaymentMethod     7043 non-null   object \n",
            " 6   MonthlyCharges    7043 non-null   float64\n",
            " 7   TotalCharges      7043 non-null   object \n",
            " 8   Churn             7043 non-null   object \n",
            " 9   gender            7043 non-null   object \n",
            " 10  SeniorCitizen     7043 non-null   int64  \n",
            " 11  Partner           7043 non-null   object \n",
            " 12  Dependents        7043 non-null   object \n",
            " 13  MultipleLines     7043 non-null   object \n",
            " 14  InternetService   7043 non-null   object \n",
            " 15  OnlineSecurity    7043 non-null   object \n",
            " 16  OnlineBackup      7043 non-null   object \n",
            " 17  DeviceProtection  7043 non-null   object \n",
            " 18  TechSupport       7043 non-null   object \n",
            " 19  StreamingTV       7043 non-null   object \n",
            " 20  StreamingMovies   7043 non-null   object \n",
            "dtypes: float64(1), int64(2), object(18)\n",
            "memory usage: 1.2+ MB\n"
          ]
        }
      ]
    },
    {
      "cell_type": "markdown",
      "metadata": {
        "id": "ML5JemFQgbDu"
      },
      "source": [
        "## Data Preparation\n",
        "\n"
      ]
    },
    {
      "cell_type": "code",
      "metadata": {
        "id": "2tffXo_MgbD1"
      },
      "source": [
        "# Converting Yes to 1 and No to 0 using map\n",
        "telecom['PhoneService'] = telecom['PhoneService'].map({'Yes': 1, 'No' :0})\n",
        "telecom['PaperlessBilling'] = telecom['PaperlessBilling'].map({'Yes':1,\"No\":0})\n",
        "telecom['Churn'] = telecom['Churn'].map({'Yes':1,\"No\":0})\n",
        "telecom['Partner'] = telecom['Partner'].map({'Yes':1,'No':0})\n",
        "telecom['Dependents'] = telecom['Dependents'].map({'Yes':1,'No':0})"
      ],
      "execution_count": null,
      "outputs": []
    },
    {
      "cell_type": "markdown",
      "metadata": {
        "id": "LVQj6uKfgbD3"
      },
      "source": [
        "### Dummy Variable Creation\n",
        "\n",
        "As you can see there are many textual information in our data set. Lets do encoding for these classes using get_dummies() function.\n",
        "\n",
        "Note: use prefix='column_name' where column_name is the column whose encoding has to be done."
      ]
    },
    {
      "cell_type": "code",
      "metadata": {
        "id": "6cwgQ627gbD5"
      },
      "source": [
        "# Creating a dummy variable for the variable 'Contract' and keeping drop_first=True\n",
        "cont = pd.get_dummies(telecom['Contract'],prefix= 'Contract',drop_first=True)\n",
        "#Adding the results to the master dataframe i.e telecom\n",
        "telecom = pd.concat([telecom,cont], axis=1)\n",
        "\n",
        "# Creating a dummy variable for the variable 'PaymentMethod' and keeping drop_first=True\n",
        "pm = pd.get_dummies(telecom['PaymentMethod'], prefix='PaymentMethod',drop_first=True)\n",
        "#Adding the results to the master dataframe\n",
        "telecom = pd.concat([telecom,pm], axis=1)\n",
        "\n",
        "# Creating a dummy variable for the variable 'gender' and keeping drop_first=True\n",
        "gen = pd.get_dummies(telecom['gender'],prefix='gender',drop_first=True)\n",
        "#Adding the results to the master dataframe\n",
        "telecom = pd.concat([telecom,gen], axis=1)\n",
        "\n",
        "# Creating a dummy variable for the variable 'MultipleLines' and keeping drop_first=True\n",
        "ml = pd.get_dummies(telecom['MultipleLines'],prefix='MultipleLines')\n",
        "# dropping MultipleLines_No phone service column from ml\n",
        "ml1 = ml.drop('MultipleLines_No phone service', axis=1)\n",
        "#Adding the results to the master dataframe\n",
        "telecom = pd.concat([telecom, ml1], axis=1)\n",
        "\n",
        "# Creating a dummy variable for the variable 'InternetService' and keeping drop_first=True\n",
        "iser = pd.get_dummies(telecom['InternetService'], prefix='InternetService',drop_first=True)\n",
        "#Adding the results to the master dataframe\n",
        "telecom = pd.concat([telecom,iser], axis=1)\n",
        "\n",
        "# # Creating a dummy variable for the variable 'OnlineSecurity'.\n",
        "os = pd.get_dummies(telecom['OnlineSecurity'],prefix='OnlineSecurity')\n",
        "#drop OnlineSecurity_No internet service column from os\n",
        "os1=  os.drop('OnlineSecurity_No internet service', axis=1)\n",
        "#Adding os1 to the master dataframe\n",
        "telecom = pd.concat([telecom, os1], axis=1)\n",
        "\n",
        "# Creating a dummy variable for the variable 'OnlineBackup' and keeping drop_first=True\n",
        "ob = pd.get_dummies(telecom['OnlineBackup'],prefix='OnlineBackup')\n",
        "#dropping OnlineBackup_No internet service from ob\n",
        "ob1 = ob.drop('OnlineBackup_No internet service', axis=1)\n",
        "#Adding the results(ob1) to the master dataframe\n",
        "telecom = pd.concat([telecom, ob1], axis=1)\n",
        "\n",
        "# Creating a dummy variable for the variable 'DeviceProtection' and keeping drop_first=True\n",
        "dp = pd.get_dummies(telecom['DeviceProtection'],prefix='DeviceProtection')\n",
        "#dropping DeviceProtection_No internet service from dp\n",
        "dp1 =  dp.drop('DeviceProtection_No internet service', axis=1)\n",
        "#Adding the results(dp1) to the master dataframe\n",
        "telecom = pd.concat([telecom, dp1], axis=1)\n",
        "\n",
        "# Creating a dummy variable for the variable 'TechSupport' and keeping drop_first=True\n",
        "ts = pd.get_dummies(telecom['TechSupport'],prefix='TechSupport')\n",
        "#dropping TechSupport_No internet service from ts\n",
        "ts1 = ts.drop('TechSupport_No internet service', axis=1)\n",
        "#Adding the results(ts1) to the master dataframe\n",
        "telecom = pd.concat([telecom, ts1], axis=1)\n",
        "\n",
        "# Creating a dummy variable for the variable 'StreamingTV' and keeping drop_first=True\n",
        "st = pd.get_dummies(telecom['StreamingTV'],prefix='StreamingTV')\n",
        "#dropping StreamingTV_No internet service from st\n",
        "st1 = st.drop('StreamingTV_No internet service', axis=1)\n",
        "#Adding the results(st1) to the master dataframe\n",
        "telecom = pd.concat([telecom, st1], axis=1)\n",
        "\n",
        "# Creating a dummy variable for the variable 'StreamingMovies' and keeping drop_first=True \n",
        "sm = pd.get_dummies(telecom['StreamingMovies'],prefix='StreamingMovies')\n",
        "#dropping StreamingMovies_No internet service from sm\n",
        "sm1 = sm.drop('StreamingMovies_No internet service', axis=1)\n",
        "#Adding the results(sm1) to the master dataframe\n",
        "telecom = pd.concat([telecom, sm1], axis=1)"
      ],
      "execution_count": null,
      "outputs": []
    },
    {
      "cell_type": "markdown",
      "metadata": {
        "id": "UIZuaEj9gbEA"
      },
      "source": [
        "### Dropping the repeated variables\n",
        "\n",
        "Since We have already created dummies for the below variables\n",
        "    \n",
        "    'Contract',\n",
        "    'PaymentMethod',\n",
        "    'gender',\n",
        "    'MultipleLines',\n",
        "    'InternetService', \n",
        "    'OnlineSecurity', \n",
        "    'OnlineBackup', \n",
        "    'DeviceProtection',\n",
        "    'TechSupport', \n",
        "    'StreamingTV', \n",
        "    'StreamingMovies'\n",
        "so we can drop them off as they are now repeated in our master dataset\n"
      ]
    },
    {
      "cell_type": "code",
      "metadata": {
        "id": "BRRFutSigbEC"
      },
      "source": [
        "# drop all duplicate columns\n",
        "telecom = telecom.drop(['Contract',\n",
        "    'PaymentMethod',\n",
        "    'gender',\n",
        "    'MultipleLines',\n",
        "    'InternetService', \n",
        "    'OnlineSecurity', \n",
        "    'OnlineBackup', \n",
        "    'DeviceProtection',\n",
        "    'TechSupport', \n",
        "    'StreamingTV', \n",
        "    'StreamingMovies'], axis=1)"
      ],
      "execution_count": null,
      "outputs": []
    },
    {
      "cell_type": "markdown",
      "metadata": {
        "id": "8E0LP9D4gbEF"
      },
      "source": [
        "The TotalCharges variable was imported as a string we need to convert it to numeric type<br>\n",
        "Hint: Use pandas.to_numeric() function."
      ]
    },
    {
      "cell_type": "code",
      "metadata": {
        "id": "HgwgL_gvh3-u"
      },
      "source": [
        "# convert to numeric\n",
        "telecom['TotalCharges']= pd.to_numeric(telecom['TotalCharges'],errors='coerce')"
      ],
      "execution_count": null,
      "outputs": []
    },
    {
      "cell_type": "code",
      "metadata": {
        "id": "0LlyLAmvgbEI",
        "outputId": "d1ef1990-bc26-4435-c38d-5eac89d398e0"
      },
      "source": [
        "telecom.head(2)"
      ],
      "execution_count": null,
      "outputs": [
        {
          "data": {
            "text/html": [
              "<div>\n",
              "<style scoped>\n",
              "    .dataframe tbody tr th:only-of-type {\n",
              "        vertical-align: middle;\n",
              "    }\n",
              "\n",
              "    .dataframe tbody tr th {\n",
              "        vertical-align: top;\n",
              "    }\n",
              "\n",
              "    .dataframe thead th {\n",
              "        text-align: right;\n",
              "    }\n",
              "</style>\n",
              "<table border=\"1\" class=\"dataframe\">\n",
              "  <thead>\n",
              "    <tr style=\"text-align: right;\">\n",
              "      <th></th>\n",
              "      <th>customerID</th>\n",
              "      <th>tenure</th>\n",
              "      <th>PhoneService</th>\n",
              "      <th>PaperlessBilling</th>\n",
              "      <th>MonthlyCharges</th>\n",
              "      <th>TotalCharges</th>\n",
              "      <th>Churn</th>\n",
              "      <th>SeniorCitizen</th>\n",
              "      <th>Partner</th>\n",
              "      <th>Dependents</th>\n",
              "      <th>Contract_One year</th>\n",
              "      <th>Contract_Two year</th>\n",
              "      <th>PaymentMethod_Credit card (automatic)</th>\n",
              "      <th>PaymentMethod_Electronic check</th>\n",
              "      <th>PaymentMethod_Mailed check</th>\n",
              "      <th>gender_Male</th>\n",
              "      <th>MultipleLines_No</th>\n",
              "      <th>MultipleLines_Yes</th>\n",
              "      <th>InternetService_Fiber optic</th>\n",
              "      <th>InternetService_No</th>\n",
              "      <th>OnlineSecurity_No</th>\n",
              "      <th>OnlineSecurity_Yes</th>\n",
              "      <th>OnlineBackup_No</th>\n",
              "      <th>OnlineBackup_Yes</th>\n",
              "      <th>DeviceProtection_No</th>\n",
              "      <th>DeviceProtection_Yes</th>\n",
              "      <th>TechSupport_No</th>\n",
              "      <th>TechSupport_Yes</th>\n",
              "      <th>StreamingTV_No</th>\n",
              "      <th>StreamingTV_Yes</th>\n",
              "      <th>StreamingMovies_No</th>\n",
              "      <th>StreamingMovies_Yes</th>\n",
              "    </tr>\n",
              "  </thead>\n",
              "  <tbody>\n",
              "    <tr>\n",
              "      <th>0</th>\n",
              "      <td>7590-VHVEG</td>\n",
              "      <td>1</td>\n",
              "      <td>NaN</td>\n",
              "      <td>NaN</td>\n",
              "      <td>29.85</td>\n",
              "      <td>29.85</td>\n",
              "      <td>NaN</td>\n",
              "      <td>0</td>\n",
              "      <td>NaN</td>\n",
              "      <td>NaN</td>\n",
              "      <td>0</td>\n",
              "      <td>0</td>\n",
              "      <td>0</td>\n",
              "      <td>1</td>\n",
              "      <td>0</td>\n",
              "      <td>0</td>\n",
              "      <td>0</td>\n",
              "      <td>0</td>\n",
              "      <td>0</td>\n",
              "      <td>0</td>\n",
              "      <td>1</td>\n",
              "      <td>0</td>\n",
              "      <td>0</td>\n",
              "      <td>1</td>\n",
              "      <td>1</td>\n",
              "      <td>0</td>\n",
              "      <td>1</td>\n",
              "      <td>0</td>\n",
              "      <td>1</td>\n",
              "      <td>0</td>\n",
              "      <td>1</td>\n",
              "      <td>0</td>\n",
              "    </tr>\n",
              "    <tr>\n",
              "      <th>1</th>\n",
              "      <td>5575-GNVDE</td>\n",
              "      <td>34</td>\n",
              "      <td>NaN</td>\n",
              "      <td>NaN</td>\n",
              "      <td>56.95</td>\n",
              "      <td>1889.50</td>\n",
              "      <td>NaN</td>\n",
              "      <td>0</td>\n",
              "      <td>NaN</td>\n",
              "      <td>NaN</td>\n",
              "      <td>1</td>\n",
              "      <td>0</td>\n",
              "      <td>0</td>\n",
              "      <td>0</td>\n",
              "      <td>1</td>\n",
              "      <td>1</td>\n",
              "      <td>1</td>\n",
              "      <td>0</td>\n",
              "      <td>0</td>\n",
              "      <td>0</td>\n",
              "      <td>0</td>\n",
              "      <td>1</td>\n",
              "      <td>1</td>\n",
              "      <td>0</td>\n",
              "      <td>0</td>\n",
              "      <td>1</td>\n",
              "      <td>1</td>\n",
              "      <td>0</td>\n",
              "      <td>1</td>\n",
              "      <td>0</td>\n",
              "      <td>1</td>\n",
              "      <td>0</td>\n",
              "    </tr>\n",
              "  </tbody>\n",
              "</table>\n",
              "</div>"
            ],
            "text/plain": [
              "   customerID  tenure  PhoneService  PaperlessBilling  MonthlyCharges  \\\n",
              "0  7590-VHVEG       1           NaN               NaN           29.85   \n",
              "1  5575-GNVDE      34           NaN               NaN           56.95   \n",
              "\n",
              "   TotalCharges  Churn  SeniorCitizen  Partner  Dependents  Contract_One year  \\\n",
              "0         29.85    NaN              0      NaN         NaN                  0   \n",
              "1       1889.50    NaN              0      NaN         NaN                  1   \n",
              "\n",
              "   Contract_Two year  PaymentMethod_Credit card (automatic)  \\\n",
              "0                  0                                      0   \n",
              "1                  0                                      0   \n",
              "\n",
              "   PaymentMethod_Electronic check  PaymentMethod_Mailed check  gender_Male  \\\n",
              "0                               1                           0            0   \n",
              "1                               0                           1            1   \n",
              "\n",
              "   MultipleLines_No  MultipleLines_Yes  InternetService_Fiber optic  \\\n",
              "0                 0                  0                            0   \n",
              "1                 1                  0                            0   \n",
              "\n",
              "   InternetService_No  OnlineSecurity_No  OnlineSecurity_Yes  OnlineBackup_No  \\\n",
              "0                   0                  1                   0                0   \n",
              "1                   0                  0                   1                1   \n",
              "\n",
              "   OnlineBackup_Yes  DeviceProtection_No  DeviceProtection_Yes  \\\n",
              "0                 1                    1                     0   \n",
              "1                 0                    0                     1   \n",
              "\n",
              "   TechSupport_No  TechSupport_Yes  StreamingTV_No  StreamingTV_Yes  \\\n",
              "0               1                0               1                0   \n",
              "1               1                0               1                0   \n",
              "\n",
              "   StreamingMovies_No  StreamingMovies_Yes  \n",
              "0                   1                    0  \n",
              "1                   1                    0  "
            ]
          },
          "execution_count": 82,
          "metadata": {},
          "output_type": "execute_result"
        }
      ]
    },
    {
      "cell_type": "code",
      "metadata": {
        "id": "dvxUTZvBgbEL",
        "outputId": "02913c5d-d3bf-484b-b88e-fe72dcb6eaf5"
      },
      "source": [
        "# again check data type informationof our master dataset\n",
        "telecom.info()"
      ],
      "execution_count": null,
      "outputs": [
        {
          "name": "stdout",
          "output_type": "stream",
          "text": [
            "<class 'pandas.core.frame.DataFrame'>\n",
            "Int64Index: 7043 entries, 0 to 7042\n",
            "Data columns (total 32 columns):\n",
            " #   Column                                 Non-Null Count  Dtype  \n",
            "---  ------                                 --------------  -----  \n",
            " 0   customerID                             7043 non-null   object \n",
            " 1   tenure                                 7043 non-null   int64  \n",
            " 2   PhoneService                           7043 non-null   int64  \n",
            " 3   PaperlessBilling                       7043 non-null   int64  \n",
            " 4   MonthlyCharges                         7043 non-null   float64\n",
            " 5   TotalCharges                           7032 non-null   float64\n",
            " 6   Churn                                  7043 non-null   int64  \n",
            " 7   SeniorCitizen                          7043 non-null   int64  \n",
            " 8   Partner                                7043 non-null   int64  \n",
            " 9   Dependents                             7043 non-null   int64  \n",
            " 10  Contract_One year                      7043 non-null   uint8  \n",
            " 11  Contract_Two year                      7043 non-null   uint8  \n",
            " 12  PaymentMethod_Credit card (automatic)  7043 non-null   uint8  \n",
            " 13  PaymentMethod_Electronic check         7043 non-null   uint8  \n",
            " 14  PaymentMethod_Mailed check             7043 non-null   uint8  \n",
            " 15  gender_Male                            7043 non-null   uint8  \n",
            " 16  MultipleLines_No                       7043 non-null   uint8  \n",
            " 17  MultipleLines_Yes                      7043 non-null   uint8  \n",
            " 18  InternetService_Fiber optic            7043 non-null   uint8  \n",
            " 19  InternetService_No                     7043 non-null   uint8  \n",
            " 20  OnlineSecurity_No                      7043 non-null   uint8  \n",
            " 21  OnlineSecurity_Yes                     7043 non-null   uint8  \n",
            " 22  OnlineBackup_No                        7043 non-null   uint8  \n",
            " 23  OnlineBackup_Yes                       7043 non-null   uint8  \n",
            " 24  DeviceProtection_No                    7043 non-null   uint8  \n",
            " 25  DeviceProtection_Yes                   7043 non-null   uint8  \n",
            " 26  TechSupport_No                         7043 non-null   uint8  \n",
            " 27  TechSupport_Yes                        7043 non-null   uint8  \n",
            " 28  StreamingTV_No                         7043 non-null   uint8  \n",
            " 29  StreamingTV_Yes                        7043 non-null   uint8  \n",
            " 30  StreamingMovies_No                     7043 non-null   uint8  \n",
            " 31  StreamingMovies_Yes                    7043 non-null   uint8  \n",
            "dtypes: float64(2), int64(7), object(1), uint8(22)\n",
            "memory usage: 756.6+ KB\n"
          ]
        }
      ]
    },
    {
      "cell_type": "markdown",
      "metadata": {
        "id": "hnYc3y5agbEN"
      },
      "source": [
        "Now we can see we have all variables as integer."
      ]
    },
    {
      "cell_type": "markdown",
      "metadata": {
        "collapsed": true,
        "id": "46bslN_ogbEN"
      },
      "source": [
        "### Checking for Outliers\n",
        "\n",
        "\n",
        "\n",
        "Checking for outliers in the continuous variables like 'tenure','MonthlyCharges','SeniorCitizen','TotalCharges'\n"
      ]
    },
    {
      "cell_type": "code",
      "metadata": {
        "id": "9cI8qbm5gbEO"
      },
      "source": [
        "# Getting all continues variables in separate dataframe\n",
        "num_telecom = telecom[['tenure', 'MonthlyCharges','SeniorCitizen','TotalCharges']]"
      ],
      "execution_count": null,
      "outputs": []
    },
    {
      "cell_type": "code",
      "metadata": {
        "id": "jdkKUYpMgbEP",
        "outputId": "b6a58c27-af01-4dce-fa41-e34509dcc245"
      },
      "source": [
        "# Checking outliers at 25%,50%,75%,90%,95% and 99%\n",
        "num_telecom.describe(percentiles=[.25,.5,.75,.9,.95,.99])"
      ],
      "execution_count": null,
      "outputs": [
        {
          "data": {
            "text/html": [
              "<div>\n",
              "<style scoped>\n",
              "    .dataframe tbody tr th:only-of-type {\n",
              "        vertical-align: middle;\n",
              "    }\n",
              "\n",
              "    .dataframe tbody tr th {\n",
              "        vertical-align: top;\n",
              "    }\n",
              "\n",
              "    .dataframe thead th {\n",
              "        text-align: right;\n",
              "    }\n",
              "</style>\n",
              "<table border=\"1\" class=\"dataframe\">\n",
              "  <thead>\n",
              "    <tr style=\"text-align: right;\">\n",
              "      <th></th>\n",
              "      <th>tenure</th>\n",
              "      <th>MonthlyCharges</th>\n",
              "      <th>SeniorCitizen</th>\n",
              "      <th>TotalCharges</th>\n",
              "    </tr>\n",
              "  </thead>\n",
              "  <tbody>\n",
              "    <tr>\n",
              "      <th>count</th>\n",
              "      <td>7043.000000</td>\n",
              "      <td>7043.000000</td>\n",
              "      <td>7043.000000</td>\n",
              "      <td>7032.000000</td>\n",
              "    </tr>\n",
              "    <tr>\n",
              "      <th>mean</th>\n",
              "      <td>32.371149</td>\n",
              "      <td>64.761692</td>\n",
              "      <td>0.162147</td>\n",
              "      <td>2283.300441</td>\n",
              "    </tr>\n",
              "    <tr>\n",
              "      <th>std</th>\n",
              "      <td>24.559481</td>\n",
              "      <td>30.090047</td>\n",
              "      <td>0.368612</td>\n",
              "      <td>2266.771362</td>\n",
              "    </tr>\n",
              "    <tr>\n",
              "      <th>min</th>\n",
              "      <td>0.000000</td>\n",
              "      <td>18.250000</td>\n",
              "      <td>0.000000</td>\n",
              "      <td>18.800000</td>\n",
              "    </tr>\n",
              "    <tr>\n",
              "      <th>25%</th>\n",
              "      <td>9.000000</td>\n",
              "      <td>35.500000</td>\n",
              "      <td>0.000000</td>\n",
              "      <td>401.450000</td>\n",
              "    </tr>\n",
              "    <tr>\n",
              "      <th>50%</th>\n",
              "      <td>29.000000</td>\n",
              "      <td>70.350000</td>\n",
              "      <td>0.000000</td>\n",
              "      <td>1397.475000</td>\n",
              "    </tr>\n",
              "    <tr>\n",
              "      <th>75%</th>\n",
              "      <td>55.000000</td>\n",
              "      <td>89.850000</td>\n",
              "      <td>0.000000</td>\n",
              "      <td>3794.737500</td>\n",
              "    </tr>\n",
              "    <tr>\n",
              "      <th>90%</th>\n",
              "      <td>69.000000</td>\n",
              "      <td>102.600000</td>\n",
              "      <td>1.000000</td>\n",
              "      <td>5976.640000</td>\n",
              "    </tr>\n",
              "    <tr>\n",
              "      <th>95%</th>\n",
              "      <td>72.000000</td>\n",
              "      <td>107.400000</td>\n",
              "      <td>1.000000</td>\n",
              "      <td>6923.590000</td>\n",
              "    </tr>\n",
              "    <tr>\n",
              "      <th>99%</th>\n",
              "      <td>72.000000</td>\n",
              "      <td>114.729000</td>\n",
              "      <td>1.000000</td>\n",
              "      <td>8039.883000</td>\n",
              "    </tr>\n",
              "    <tr>\n",
              "      <th>max</th>\n",
              "      <td>72.000000</td>\n",
              "      <td>118.750000</td>\n",
              "      <td>1.000000</td>\n",
              "      <td>8684.800000</td>\n",
              "    </tr>\n",
              "  </tbody>\n",
              "</table>\n",
              "</div>"
            ],
            "text/plain": [
              "            tenure  MonthlyCharges  SeniorCitizen  TotalCharges\n",
              "count  7043.000000     7043.000000    7043.000000   7032.000000\n",
              "mean     32.371149       64.761692       0.162147   2283.300441\n",
              "std      24.559481       30.090047       0.368612   2266.771362\n",
              "min       0.000000       18.250000       0.000000     18.800000\n",
              "25%       9.000000       35.500000       0.000000    401.450000\n",
              "50%      29.000000       70.350000       0.000000   1397.475000\n",
              "75%      55.000000       89.850000       0.000000   3794.737500\n",
              "90%      69.000000      102.600000       1.000000   5976.640000\n",
              "95%      72.000000      107.400000       1.000000   6923.590000\n",
              "99%      72.000000      114.729000       1.000000   8039.883000\n",
              "max      72.000000      118.750000       1.000000   8684.800000"
            ]
          },
          "execution_count": 94,
          "metadata": {},
          "output_type": "execute_result"
        }
      ]
    },
    {
      "cell_type": "markdown",
      "metadata": {
        "id": "T7weKslwgbER"
      },
      "source": [
        "From the distribution shown above, you can see that there no outliner in your data as the numbers are gradually increasing."
      ]
    },
    {
      "cell_type": "markdown",
      "metadata": {
        "id": "x0DuTOEVgbES"
      },
      "source": [
        "### Checking for Missing Values and Inputing Them\n",
        "\n"
      ]
    },
    {
      "cell_type": "code",
      "metadata": {
        "id": "mmK3FmQIgbET",
        "outputId": "4e69821a-7e02-4846-fbf1-f96a96537ef5"
      },
      "source": [
        "# Checking total missing values (column-wise)\n",
        "telecom.isnull().sum()"
      ],
      "execution_count": null,
      "outputs": [
        {
          "data": {
            "text/plain": [
              "customerID                                0\n",
              "tenure                                    0\n",
              "PhoneService                              0\n",
              "PaperlessBilling                          0\n",
              "MonthlyCharges                            0\n",
              "TotalCharges                             11\n",
              "Churn                                     0\n",
              "SeniorCitizen                             0\n",
              "Partner                                   0\n",
              "Dependents                                0\n",
              "Contract_One year                         0\n",
              "Contract_Two year                         0\n",
              "PaymentMethod_Credit card (automatic)     0\n",
              "PaymentMethod_Electronic check            0\n",
              "PaymentMethod_Mailed check                0\n",
              "gender_Male                               0\n",
              "MultipleLines_No                          0\n",
              "MultipleLines_Yes                         0\n",
              "InternetService_Fiber optic               0\n",
              "InternetService_No                        0\n",
              "OnlineSecurity_No                         0\n",
              "OnlineSecurity_Yes                        0\n",
              "OnlineBackup_No                           0\n",
              "OnlineBackup_Yes                          0\n",
              "DeviceProtection_No                       0\n",
              "DeviceProtection_Yes                      0\n",
              "TechSupport_No                            0\n",
              "TechSupport_Yes                           0\n",
              "StreamingTV_No                            0\n",
              "StreamingTV_Yes                           0\n",
              "StreamingMovies_No                        0\n",
              "StreamingMovies_Yes                       0\n",
              "dtype: int64"
            ]
          },
          "execution_count": 95,
          "metadata": {},
          "output_type": "execute_result"
        }
      ]
    },
    {
      "cell_type": "code",
      "metadata": {
        "id": "xI89JdihgbEU",
        "outputId": "6a689c11-3d5a-439d-bc66-2d5ceeda146f"
      },
      "source": [
        "# Checking the percentage of missing values\n",
        "round(100*(telecom.isnull().sum()/len(telecom.index)),2)"
      ],
      "execution_count": null,
      "outputs": [
        {
          "data": {
            "text/plain": [
              "customerID                               0.00\n",
              "tenure                                   0.00\n",
              "PhoneService                             0.00\n",
              "PaperlessBilling                         0.00\n",
              "MonthlyCharges                           0.00\n",
              "TotalCharges                             0.16\n",
              "Churn                                    0.00\n",
              "SeniorCitizen                            0.00\n",
              "Partner                                  0.00\n",
              "Dependents                               0.00\n",
              "Contract_One year                        0.00\n",
              "Contract_Two year                        0.00\n",
              "PaymentMethod_Credit card (automatic)    0.00\n",
              "PaymentMethod_Electronic check           0.00\n",
              "PaymentMethod_Mailed check               0.00\n",
              "gender_Male                              0.00\n",
              "MultipleLines_No                         0.00\n",
              "MultipleLines_Yes                        0.00\n",
              "InternetService_Fiber optic              0.00\n",
              "InternetService_No                       0.00\n",
              "OnlineSecurity_No                        0.00\n",
              "OnlineSecurity_Yes                       0.00\n",
              "OnlineBackup_No                          0.00\n",
              "OnlineBackup_Yes                         0.00\n",
              "DeviceProtection_No                      0.00\n",
              "DeviceProtection_Yes                     0.00\n",
              "TechSupport_No                           0.00\n",
              "TechSupport_Yes                          0.00\n",
              "StreamingTV_No                           0.00\n",
              "StreamingTV_Yes                          0.00\n",
              "StreamingMovies_No                       0.00\n",
              "StreamingMovies_Yes                      0.00\n",
              "dtype: float64"
            ]
          },
          "execution_count": 97,
          "metadata": {},
          "output_type": "execute_result"
        }
      ]
    },
    {
      "cell_type": "markdown",
      "metadata": {
        "id": "dC74APvbgbEW"
      },
      "source": [
        "It means that 11/7043 = 0.001561834 i.e 0.15%, the best option to get rid of these null values in this scenario is to remove these observations from the analysis"
      ]
    },
    {
      "cell_type": "code",
      "metadata": {
        "id": "5AAzbg6CgbEa"
      },
      "source": [
        "# Removing NaN form TotalCharges rows\n",
        "telecom = telecom[~np.isnan(telecom['TotalCharges'])]"
      ],
      "execution_count": null,
      "outputs": []
    },
    {
      "cell_type": "code",
      "metadata": {
        "id": "JOQLjp2zgbEc",
        "outputId": "a829ebcf-93ed-4d2f-c93b-2ebe9ee7bc48"
      },
      "source": [
        "# Lets Check percentage of missing values after removing the missing values\n",
        "round(100*(telecom.isnull().sum()/len(telecom.index)), 2)"
      ],
      "execution_count": null,
      "outputs": [
        {
          "data": {
            "text/plain": [
              "customerID                               0.0\n",
              "tenure                                   0.0\n",
              "PhoneService                             0.0\n",
              "PaperlessBilling                         0.0\n",
              "MonthlyCharges                           0.0\n",
              "TotalCharges                             0.0\n",
              "Churn                                    0.0\n",
              "SeniorCitizen                            0.0\n",
              "Partner                                  0.0\n",
              "Dependents                               0.0\n",
              "Contract_One year                        0.0\n",
              "Contract_Two year                        0.0\n",
              "PaymentMethod_Credit card (automatic)    0.0\n",
              "PaymentMethod_Electronic check           0.0\n",
              "PaymentMethod_Mailed check               0.0\n",
              "gender_Male                              0.0\n",
              "MultipleLines_No                         0.0\n",
              "MultipleLines_Yes                        0.0\n",
              "InternetService_Fiber optic              0.0\n",
              "InternetService_No                       0.0\n",
              "OnlineSecurity_No                        0.0\n",
              "OnlineSecurity_Yes                       0.0\n",
              "OnlineBackup_No                          0.0\n",
              "OnlineBackup_Yes                         0.0\n",
              "DeviceProtection_No                      0.0\n",
              "DeviceProtection_Yes                     0.0\n",
              "TechSupport_No                           0.0\n",
              "TechSupport_Yes                          0.0\n",
              "StreamingTV_No                           0.0\n",
              "StreamingTV_Yes                          0.0\n",
              "StreamingMovies_No                       0.0\n",
              "StreamingMovies_Yes                      0.0\n",
              "dtype: float64"
            ]
          },
          "execution_count": 99,
          "metadata": {},
          "output_type": "execute_result"
        }
      ]
    },
    {
      "cell_type": "markdown",
      "metadata": {
        "id": "Ni8bIG1ugbEe"
      },
      "source": [
        "Now we don't have any missing values"
      ]
    },
    {
      "cell_type": "markdown",
      "metadata": {
        "id": "XzKUWrB2gbEf"
      },
      "source": [
        "### Feature Standardisation\n",
        "\n",
        "\n",
        "\n",
        "\n",
        "Standardization is one of the scaling technique where the values are centered around the mean with a unit standard deviation. This means that the mean of the attribute becomes zero and the resultant distribution has a unit standard deviation.\n",
        "\n",
        "Here’s the formula for standardization:\n",
        "\n",
        "\n",
        "![image.png](attachment:image.png)\n",
        "\n",
        "![image-3.png](attachment:image-3.png)\n",
        "\n",
        "\n"
      ]
    },
    {
      "cell_type": "code",
      "metadata": {
        "id": "Twpjx24TgbE0",
        "outputId": "ffec3b07-62be-4655-9a99-a582e9b643a0"
      },
      "source": [
        "# Get telecom data type information\n",
        "telecom.info()"
      ],
      "execution_count": null,
      "outputs": [
        {
          "name": "stdout",
          "output_type": "stream",
          "text": [
            "<class 'pandas.core.frame.DataFrame'>\n",
            "Int64Index: 7032 entries, 0 to 7042\n",
            "Data columns (total 32 columns):\n",
            " #   Column                                 Non-Null Count  Dtype  \n",
            "---  ------                                 --------------  -----  \n",
            " 0   customerID                             7032 non-null   object \n",
            " 1   tenure                                 7032 non-null   int64  \n",
            " 2   PhoneService                           7032 non-null   int64  \n",
            " 3   PaperlessBilling                       7032 non-null   int64  \n",
            " 4   MonthlyCharges                         7032 non-null   float64\n",
            " 5   TotalCharges                           7032 non-null   float64\n",
            " 6   Churn                                  7032 non-null   int64  \n",
            " 7   SeniorCitizen                          7032 non-null   int64  \n",
            " 8   Partner                                7032 non-null   int64  \n",
            " 9   Dependents                             7032 non-null   int64  \n",
            " 10  Contract_One year                      7032 non-null   uint8  \n",
            " 11  Contract_Two year                      7032 non-null   uint8  \n",
            " 12  PaymentMethod_Credit card (automatic)  7032 non-null   uint8  \n",
            " 13  PaymentMethod_Electronic check         7032 non-null   uint8  \n",
            " 14  PaymentMethod_Mailed check             7032 non-null   uint8  \n",
            " 15  gender_Male                            7032 non-null   uint8  \n",
            " 16  MultipleLines_No                       7032 non-null   uint8  \n",
            " 17  MultipleLines_Yes                      7032 non-null   uint8  \n",
            " 18  InternetService_Fiber optic            7032 non-null   uint8  \n",
            " 19  InternetService_No                     7032 non-null   uint8  \n",
            " 20  OnlineSecurity_No                      7032 non-null   uint8  \n",
            " 21  OnlineSecurity_Yes                     7032 non-null   uint8  \n",
            " 22  OnlineBackup_No                        7032 non-null   uint8  \n",
            " 23  OnlineBackup_Yes                       7032 non-null   uint8  \n",
            " 24  DeviceProtection_No                    7032 non-null   uint8  \n",
            " 25  DeviceProtection_Yes                   7032 non-null   uint8  \n",
            " 26  TechSupport_No                         7032 non-null   uint8  \n",
            " 27  TechSupport_Yes                        7032 non-null   uint8  \n",
            " 28  StreamingTV_No                         7032 non-null   uint8  \n",
            " 29  StreamingTV_Yes                        7032 non-null   uint8  \n",
            " 30  StreamingMovies_No                     7032 non-null   uint8  \n",
            " 31  StreamingMovies_Yes                    7032 non-null   uint8  \n",
            "dtypes: float64(2), int64(7), object(1), uint8(22)\n",
            "memory usage: 755.4+ KB\n"
          ]
        }
      ]
    },
    {
      "cell_type": "code",
      "metadata": {
        "id": "dTEaBeUMgbE2"
      },
      "source": [
        "# Getting all desired continues variables like 'tenure','MonthlyCharges' and 'TotalCharges' into one dataframe.\n",
        "df = telecom[['tenure','MonthlyCharges','TotalCharges']]"
      ],
      "execution_count": null,
      "outputs": []
    },
    {
      "cell_type": "code",
      "metadata": {
        "id": "hVgLRZiwgbE3"
      },
      "source": [
        "# Standardising above continuous features\n",
        "\n",
        "std_df= (df - df.mean())/df.std()"
      ],
      "execution_count": null,
      "outputs": []
    },
    {
      "cell_type": "code",
      "metadata": {
        "id": "gj9RxNmsgbE5"
      },
      "source": [
        "# Dropping 'tenure','MonthlyCharges' and 'TotalCharges' from telecom as we want to add the standardised fetaures \n",
        "telecom = telecom.drop(['tenure','MonthlyCharges','TotalCharges'], axis=1)"
      ],
      "execution_count": null,
      "outputs": []
    },
    {
      "cell_type": "code",
      "metadata": {
        "id": "tr6QD9MrgbE9"
      },
      "source": [
        "# Add std_df into telecom\n",
        "telecom = pd.concat([telecom, std_df], axis=1)"
      ],
      "execution_count": null,
      "outputs": []
    },
    {
      "cell_type": "code",
      "metadata": {
        "id": "xPCaU6UwgbE-",
        "outputId": "5bf04c31-ba55-46de-fea3-d49346c62471"
      },
      "source": [
        "# print telecom tail\n",
        "telecom.tail()"
      ],
      "execution_count": null,
      "outputs": [
        {
          "data": {
            "text/html": [
              "<div>\n",
              "<style scoped>\n",
              "    .dataframe tbody tr th:only-of-type {\n",
              "        vertical-align: middle;\n",
              "    }\n",
              "\n",
              "    .dataframe tbody tr th {\n",
              "        vertical-align: top;\n",
              "    }\n",
              "\n",
              "    .dataframe thead th {\n",
              "        text-align: right;\n",
              "    }\n",
              "</style>\n",
              "<table border=\"1\" class=\"dataframe\">\n",
              "  <thead>\n",
              "    <tr style=\"text-align: right;\">\n",
              "      <th></th>\n",
              "      <th>customerID</th>\n",
              "      <th>PhoneService</th>\n",
              "      <th>PaperlessBilling</th>\n",
              "      <th>Churn</th>\n",
              "      <th>SeniorCitizen</th>\n",
              "      <th>Partner</th>\n",
              "      <th>Dependents</th>\n",
              "      <th>Contract_One year</th>\n",
              "      <th>Contract_Two year</th>\n",
              "      <th>PaymentMethod_Credit card (automatic)</th>\n",
              "      <th>PaymentMethod_Electronic check</th>\n",
              "      <th>PaymentMethod_Mailed check</th>\n",
              "      <th>gender_Male</th>\n",
              "      <th>MultipleLines_No</th>\n",
              "      <th>MultipleLines_Yes</th>\n",
              "      <th>InternetService_Fiber optic</th>\n",
              "      <th>InternetService_No</th>\n",
              "      <th>OnlineSecurity_No</th>\n",
              "      <th>OnlineSecurity_Yes</th>\n",
              "      <th>OnlineBackup_No</th>\n",
              "      <th>OnlineBackup_Yes</th>\n",
              "      <th>DeviceProtection_No</th>\n",
              "      <th>DeviceProtection_Yes</th>\n",
              "      <th>TechSupport_No</th>\n",
              "      <th>TechSupport_Yes</th>\n",
              "      <th>StreamingTV_No</th>\n",
              "      <th>StreamingTV_Yes</th>\n",
              "      <th>StreamingMovies_No</th>\n",
              "      <th>StreamingMovies_Yes</th>\n",
              "      <th>tenure</th>\n",
              "      <th>MonthlyCharges</th>\n",
              "      <th>TotalCharges</th>\n",
              "    </tr>\n",
              "  </thead>\n",
              "  <tbody>\n",
              "    <tr>\n",
              "      <th>7038</th>\n",
              "      <td>6840-RESVB</td>\n",
              "      <td>1</td>\n",
              "      <td>1</td>\n",
              "      <td>0</td>\n",
              "      <td>0</td>\n",
              "      <td>1</td>\n",
              "      <td>1</td>\n",
              "      <td>1</td>\n",
              "      <td>0</td>\n",
              "      <td>0</td>\n",
              "      <td>0</td>\n",
              "      <td>1</td>\n",
              "      <td>1</td>\n",
              "      <td>0</td>\n",
              "      <td>1</td>\n",
              "      <td>0</td>\n",
              "      <td>0</td>\n",
              "      <td>0</td>\n",
              "      <td>1</td>\n",
              "      <td>1</td>\n",
              "      <td>0</td>\n",
              "      <td>0</td>\n",
              "      <td>1</td>\n",
              "      <td>0</td>\n",
              "      <td>1</td>\n",
              "      <td>0</td>\n",
              "      <td>1</td>\n",
              "      <td>0</td>\n",
              "      <td>1</td>\n",
              "      <td>-0.343113</td>\n",
              "      <td>0.664821</td>\n",
              "      <td>-0.129171</td>\n",
              "    </tr>\n",
              "    <tr>\n",
              "      <th>7039</th>\n",
              "      <td>2234-XADUH</td>\n",
              "      <td>1</td>\n",
              "      <td>1</td>\n",
              "      <td>0</td>\n",
              "      <td>0</td>\n",
              "      <td>1</td>\n",
              "      <td>1</td>\n",
              "      <td>1</td>\n",
              "      <td>0</td>\n",
              "      <td>1</td>\n",
              "      <td>0</td>\n",
              "      <td>0</td>\n",
              "      <td>0</td>\n",
              "      <td>0</td>\n",
              "      <td>1</td>\n",
              "      <td>1</td>\n",
              "      <td>0</td>\n",
              "      <td>1</td>\n",
              "      <td>0</td>\n",
              "      <td>0</td>\n",
              "      <td>1</td>\n",
              "      <td>0</td>\n",
              "      <td>1</td>\n",
              "      <td>1</td>\n",
              "      <td>0</td>\n",
              "      <td>0</td>\n",
              "      <td>1</td>\n",
              "      <td>0</td>\n",
              "      <td>1</td>\n",
              "      <td>1.612459</td>\n",
              "      <td>1.276402</td>\n",
              "      <td>2.240896</td>\n",
              "    </tr>\n",
              "    <tr>\n",
              "      <th>7040</th>\n",
              "      <td>4801-JZAZL</td>\n",
              "      <td>0</td>\n",
              "      <td>1</td>\n",
              "      <td>0</td>\n",
              "      <td>0</td>\n",
              "      <td>1</td>\n",
              "      <td>1</td>\n",
              "      <td>0</td>\n",
              "      <td>0</td>\n",
              "      <td>0</td>\n",
              "      <td>1</td>\n",
              "      <td>0</td>\n",
              "      <td>0</td>\n",
              "      <td>0</td>\n",
              "      <td>0</td>\n",
              "      <td>0</td>\n",
              "      <td>0</td>\n",
              "      <td>0</td>\n",
              "      <td>1</td>\n",
              "      <td>1</td>\n",
              "      <td>0</td>\n",
              "      <td>1</td>\n",
              "      <td>0</td>\n",
              "      <td>1</td>\n",
              "      <td>0</td>\n",
              "      <td>1</td>\n",
              "      <td>0</td>\n",
              "      <td>1</td>\n",
              "      <td>0</td>\n",
              "      <td>-0.872746</td>\n",
              "      <td>-1.169921</td>\n",
              "      <td>-0.854453</td>\n",
              "    </tr>\n",
              "    <tr>\n",
              "      <th>7041</th>\n",
              "      <td>8361-LTMKD</td>\n",
              "      <td>1</td>\n",
              "      <td>1</td>\n",
              "      <td>1</td>\n",
              "      <td>1</td>\n",
              "      <td>1</td>\n",
              "      <td>0</td>\n",
              "      <td>0</td>\n",
              "      <td>0</td>\n",
              "      <td>0</td>\n",
              "      <td>0</td>\n",
              "      <td>1</td>\n",
              "      <td>1</td>\n",
              "      <td>0</td>\n",
              "      <td>1</td>\n",
              "      <td>1</td>\n",
              "      <td>0</td>\n",
              "      <td>1</td>\n",
              "      <td>0</td>\n",
              "      <td>1</td>\n",
              "      <td>0</td>\n",
              "      <td>1</td>\n",
              "      <td>0</td>\n",
              "      <td>1</td>\n",
              "      <td>0</td>\n",
              "      <td>1</td>\n",
              "      <td>0</td>\n",
              "      <td>1</td>\n",
              "      <td>0</td>\n",
              "      <td>-1.157934</td>\n",
              "      <td>0.319145</td>\n",
              "      <td>-0.872033</td>\n",
              "    </tr>\n",
              "    <tr>\n",
              "      <th>7042</th>\n",
              "      <td>3186-AJIEK</td>\n",
              "      <td>1</td>\n",
              "      <td>1</td>\n",
              "      <td>0</td>\n",
              "      <td>0</td>\n",
              "      <td>0</td>\n",
              "      <td>0</td>\n",
              "      <td>0</td>\n",
              "      <td>1</td>\n",
              "      <td>0</td>\n",
              "      <td>0</td>\n",
              "      <td>0</td>\n",
              "      <td>1</td>\n",
              "      <td>1</td>\n",
              "      <td>0</td>\n",
              "      <td>1</td>\n",
              "      <td>0</td>\n",
              "      <td>0</td>\n",
              "      <td>1</td>\n",
              "      <td>1</td>\n",
              "      <td>0</td>\n",
              "      <td>0</td>\n",
              "      <td>1</td>\n",
              "      <td>0</td>\n",
              "      <td>1</td>\n",
              "      <td>0</td>\n",
              "      <td>1</td>\n",
              "      <td>0</td>\n",
              "      <td>1</td>\n",
              "      <td>1.368012</td>\n",
              "      <td>1.357835</td>\n",
              "      <td>2.012201</td>\n",
              "    </tr>\n",
              "  </tbody>\n",
              "</table>\n",
              "</div>"
            ],
            "text/plain": [
              "      customerID  PhoneService  PaperlessBilling  Churn  SeniorCitizen  \\\n",
              "7038  6840-RESVB             1                 1      0              0   \n",
              "7039  2234-XADUH             1                 1      0              0   \n",
              "7040  4801-JZAZL             0                 1      0              0   \n",
              "7041  8361-LTMKD             1                 1      1              1   \n",
              "7042  3186-AJIEK             1                 1      0              0   \n",
              "\n",
              "      Partner  Dependents  Contract_One year  Contract_Two year  \\\n",
              "7038        1           1                  1                  0   \n",
              "7039        1           1                  1                  0   \n",
              "7040        1           1                  0                  0   \n",
              "7041        1           0                  0                  0   \n",
              "7042        0           0                  0                  1   \n",
              "\n",
              "      PaymentMethod_Credit card (automatic)  PaymentMethod_Electronic check  \\\n",
              "7038                                      0                               0   \n",
              "7039                                      1                               0   \n",
              "7040                                      0                               1   \n",
              "7041                                      0                               0   \n",
              "7042                                      0                               0   \n",
              "\n",
              "      PaymentMethod_Mailed check  gender_Male  MultipleLines_No  \\\n",
              "7038                           1            1                 0   \n",
              "7039                           0            0                 0   \n",
              "7040                           0            0                 0   \n",
              "7041                           1            1                 0   \n",
              "7042                           0            1                 1   \n",
              "\n",
              "      MultipleLines_Yes  InternetService_Fiber optic  InternetService_No  \\\n",
              "7038                  1                            0                   0   \n",
              "7039                  1                            1                   0   \n",
              "7040                  0                            0                   0   \n",
              "7041                  1                            1                   0   \n",
              "7042                  0                            1                   0   \n",
              "\n",
              "      OnlineSecurity_No  OnlineSecurity_Yes  OnlineBackup_No  \\\n",
              "7038                  0                   1                1   \n",
              "7039                  1                   0                0   \n",
              "7040                  0                   1                1   \n",
              "7041                  1                   0                1   \n",
              "7042                  0                   1                1   \n",
              "\n",
              "      OnlineBackup_Yes  DeviceProtection_No  DeviceProtection_Yes  \\\n",
              "7038                 0                    0                     1   \n",
              "7039                 1                    0                     1   \n",
              "7040                 0                    1                     0   \n",
              "7041                 0                    1                     0   \n",
              "7042                 0                    0                     1   \n",
              "\n",
              "      TechSupport_No  TechSupport_Yes  StreamingTV_No  StreamingTV_Yes  \\\n",
              "7038               0                1               0                1   \n",
              "7039               1                0               0                1   \n",
              "7040               1                0               1                0   \n",
              "7041               1                0               1                0   \n",
              "7042               0                1               0                1   \n",
              "\n",
              "      StreamingMovies_No  StreamingMovies_Yes    tenure  MonthlyCharges  \\\n",
              "7038                   0                    1 -0.343113        0.664821   \n",
              "7039                   0                    1  1.612459        1.276402   \n",
              "7040                   1                    0 -0.872746       -1.169921   \n",
              "7041                   1                    0 -1.157934        0.319145   \n",
              "7042                   0                    1  1.368012        1.357835   \n",
              "\n",
              "      TotalCharges  \n",
              "7038     -0.129171  \n",
              "7039      2.240896  \n",
              "7040     -0.854453  \n",
              "7041     -0.872033  \n",
              "7042      2.012201  "
            ]
          },
          "execution_count": 104,
          "metadata": {},
          "output_type": "execute_result"
        }
      ]
    },
    {
      "cell_type": "markdown",
      "metadata": {
        "id": "tlCbK6j1gbE_"
      },
      "source": [
        "### Checking the Churn Rate\n",
        "\n",
        "\n"
      ]
    },
    {
      "cell_type": "code",
      "metadata": {
        "id": "3BE0NDuFgbFA"
      },
      "source": [
        "#caluclating total churn percentage in our master dataframe\n",
        "churn = (sum(telecom['Churn'])/len(telecom['Churn'].index))*100"
      ],
      "execution_count": null,
      "outputs": []
    },
    {
      "cell_type": "code",
      "metadata": {
        "id": "WPi_2vYegbFB",
        "outputId": "26c1776e-a3e2-429a-c477-bec4731c2376"
      },
      "source": [
        "# print churn\n",
        "churn"
      ],
      "execution_count": null,
      "outputs": [
        {
          "data": {
            "text/plain": [
              "26.578498293515356"
            ]
          },
          "execution_count": 107,
          "metadata": {},
          "output_type": "execute_result"
        }
      ]
    },
    {
      "cell_type": "markdown",
      "metadata": {
        "id": "WbyAevUwgbFC"
      },
      "source": [
        "We have almost 27% churn rate"
      ]
    },
    {
      "cell_type": "markdown",
      "metadata": {
        "id": "Lq6Hf2tJgbFD"
      },
      "source": [
        "## Model Building\n",
        "\n",
        "\n",
        "Let's start by splitting our data into a training set and a test set."
      ]
    },
    {
      "cell_type": "code",
      "metadata": {
        "id": "dZnSEBNegbFE"
      },
      "source": [
        "# Putting feature variable to X. drop 'customerID' from features as its not informative for our prediction\n",
        "X = telecom.drop(['Churn','customerID'], axis=1)\n",
        "\n",
        "# Putting response variable to y\n",
        "y = telecom['Churn']"
      ],
      "execution_count": null,
      "outputs": []
    },
    {
      "cell_type": "code",
      "metadata": {
        "id": "9GJdORTcgbFF",
        "outputId": "cf0ecf70-16b4-4082-ca5c-6ba6013a4f09"
      },
      "source": [
        "# print y head\n",
        "y.head()"
      ],
      "execution_count": null,
      "outputs": [
        {
          "data": {
            "text/plain": [
              "0    0\n",
              "1    0\n",
              "2    1\n",
              "3    0\n",
              "4    1\n",
              "Name: Churn, dtype: int64"
            ]
          },
          "execution_count": 109,
          "metadata": {},
          "output_type": "execute_result"
        }
      ]
    },
    {
      "cell_type": "markdown",
      "metadata": {
        "id": "tXdi6OtDgbFG"
      },
      "source": [
        "### Running Your First Training Model"
      ]
    },
    {
      "cell_type": "code",
      "metadata": {
        "id": "xFAuI2XtgbFH"
      },
      "source": [
        "# import statsmodels api as sm\n",
        "import statsmodels.api as sm"
      ],
      "execution_count": null,
      "outputs": []
    },
    {
      "cell_type": "markdown",
      "metadata": {
        "id": "alYcfzeHgbFJ"
      },
      "source": [
        "Statsmodels provides a Logit() function for performing logistic regression. The Logit() function accepts y and X as parameters and returns the Logit object. The model is then fitted to the data.\n"
      ]
    },
    {
      "cell_type": "markdown",
      "metadata": {
        "id": "c05G-21QgbFK"
      },
      "source": [
        "### Splitting Data into Training and Test Sets"
      ]
    },
    {
      "cell_type": "code",
      "metadata": {
        "id": "vF379hThgbFL"
      },
      "source": [
        "# import train_test_split module\n",
        "from sklearn.model_selection import train_test_split"
      ],
      "execution_count": null,
      "outputs": []
    },
    {
      "cell_type": "code",
      "metadata": {
        "id": "ciBaTtpqgbFM"
      },
      "source": [
        "# adding constant to X\n",
        "X= sm.add_constant(X)\n",
        "# Splitting the data into train and test with train_size=0.7 and random_state=100\n",
        "X_train, X_test, y_train, y_test = train_test_split(X,y, train_size= 0.7,test_size=0.3, random_state=100)\n"
      ],
      "execution_count": null,
      "outputs": []
    },
    {
      "cell_type": "code",
      "metadata": {
        "scrolled": false,
        "id": "lEjXj9D8gbFN",
        "outputId": "a66e8821-2031-4977-9fd9-ed53895cd693"
      },
      "source": [
        "# Logistic regression model\n",
        "logm1 = sm.Logit(y_train,X_train)\n",
        "\n",
        "#fitting and printing summary\n",
        "logm1.fit().summary()"
      ],
      "execution_count": null,
      "outputs": [
        {
          "name": "stdout",
          "output_type": "stream",
          "text": [
            "Warning: Maximum number of iterations has been exceeded.\n",
            "         Current function value: 0.407291\n",
            "         Iterations: 35\n"
          ]
        },
        {
          "name": "stderr",
          "output_type": "stream",
          "text": [
            "C:\\Users\\gunja\\anaconda3\\lib\\site-packages\\statsmodels\\base\\model.py:566: ConvergenceWarning: Maximum Likelihood optimization failed to converge. Check mle_retvals\n",
            "  warnings.warn(\"Maximum Likelihood optimization failed to \"\n"
          ]
        },
        {
          "data": {
            "text/html": [
              "<table class=\"simpletable\">\n",
              "<caption>Logit Regression Results</caption>\n",
              "<tr>\n",
              "  <th>Dep. Variable:</th>         <td>Churn</td>      <th>  No. Observations:  </th>  <td>  4922</td> \n",
              "</tr>\n",
              "<tr>\n",
              "  <th>Model:</th>                 <td>Logit</td>      <th>  Df Residuals:      </th>  <td>  4897</td> \n",
              "</tr>\n",
              "<tr>\n",
              "  <th>Method:</th>                 <td>MLE</td>       <th>  Df Model:          </th>  <td>    24</td> \n",
              "</tr>\n",
              "<tr>\n",
              "  <th>Date:</th>            <td>Mon, 04 Oct 2021</td> <th>  Pseudo R-squ.:     </th>  <td>0.2912</td> \n",
              "</tr>\n",
              "<tr>\n",
              "  <th>Time:</th>                <td>14:58:38</td>     <th>  Log-Likelihood:    </th> <td> -2004.7</td>\n",
              "</tr>\n",
              "<tr>\n",
              "  <th>converged:</th>             <td>False</td>      <th>  LL-Null:           </th> <td> -2828.2</td>\n",
              "</tr>\n",
              "<tr>\n",
              "  <th>Covariance Type:</th>     <td>nonrobust</td>    <th>  LLR p-value:       </th>  <td> 0.000</td> \n",
              "</tr>\n",
              "</table>\n",
              "<table class=\"simpletable\">\n",
              "<tr>\n",
              "                    <td></td>                       <th>coef</th>     <th>std err</th>      <th>z</th>      <th>P>|z|</th>  <th>[0.025</th>    <th>0.975]</th>  \n",
              "</tr>\n",
              "<tr>\n",
              "  <th>const</th>                                 <td>   -1.8229</td> <td>      nan</td> <td>      nan</td> <td>   nan</td> <td>      nan</td> <td>      nan</td>\n",
              "</tr>\n",
              "<tr>\n",
              "  <th>PhoneService</th>                          <td>    1.4148</td> <td>      nan</td> <td>      nan</td> <td>   nan</td> <td>      nan</td> <td>      nan</td>\n",
              "</tr>\n",
              "<tr>\n",
              "  <th>PaperlessBilling</th>                      <td>    0.3254</td> <td>    0.090</td> <td>    3.614</td> <td> 0.000</td> <td>    0.149</td> <td>    0.502</td>\n",
              "</tr>\n",
              "<tr>\n",
              "  <th>SeniorCitizen</th>                         <td>    0.3984</td> <td>    0.102</td> <td>    3.924</td> <td> 0.000</td> <td>    0.199</td> <td>    0.597</td>\n",
              "</tr>\n",
              "<tr>\n",
              "  <th>Partner</th>                               <td>    0.0374</td> <td>    0.094</td> <td>    0.399</td> <td> 0.690</td> <td>   -0.146</td> <td>    0.221</td>\n",
              "</tr>\n",
              "<tr>\n",
              "  <th>Dependents</th>                            <td>   -0.1430</td> <td>    0.107</td> <td>   -1.332</td> <td> 0.183</td> <td>   -0.353</td> <td>    0.067</td>\n",
              "</tr>\n",
              "<tr>\n",
              "  <th>Contract_One year</th>                     <td>   -0.6578</td> <td>    0.129</td> <td>   -5.106</td> <td> 0.000</td> <td>   -0.910</td> <td>   -0.405</td>\n",
              "</tr>\n",
              "<tr>\n",
              "  <th>Contract_Two year</th>                     <td>   -1.2455</td> <td>    0.212</td> <td>   -5.874</td> <td> 0.000</td> <td>   -1.661</td> <td>   -0.830</td>\n",
              "</tr>\n",
              "<tr>\n",
              "  <th>PaymentMethod_Credit card (automatic)</th> <td>   -0.2577</td> <td>    0.137</td> <td>   -1.883</td> <td> 0.060</td> <td>   -0.526</td> <td>    0.011</td>\n",
              "</tr>\n",
              "<tr>\n",
              "  <th>PaymentMethod_Electronic check</th>        <td>    0.1615</td> <td>    0.113</td> <td>    1.434</td> <td> 0.152</td> <td>   -0.059</td> <td>    0.382</td>\n",
              "</tr>\n",
              "<tr>\n",
              "  <th>PaymentMethod_Mailed check</th>            <td>   -0.2536</td> <td>    0.137</td> <td>   -1.845</td> <td> 0.065</td> <td>   -0.523</td> <td>    0.016</td>\n",
              "</tr>\n",
              "<tr>\n",
              "  <th>gender_Male</th>                           <td>   -0.0346</td> <td>    0.078</td> <td>   -0.442</td> <td> 0.658</td> <td>   -0.188</td> <td>    0.119</td>\n",
              "</tr>\n",
              "<tr>\n",
              "  <th>MultipleLines_No</th>                      <td>   -0.4641</td> <td>      nan</td> <td>      nan</td> <td>   nan</td> <td>      nan</td> <td>      nan</td>\n",
              "</tr>\n",
              "<tr>\n",
              "  <th>MultipleLines_Yes</th>                     <td>    0.0983</td> <td>      nan</td> <td>      nan</td> <td>   nan</td> <td>      nan</td> <td>      nan</td>\n",
              "</tr>\n",
              "<tr>\n",
              "  <th>InternetService_Fiber optic</th>           <td>    2.5124</td> <td>    0.967</td> <td>    2.599</td> <td> 0.009</td> <td>    0.618</td> <td>    4.407</td>\n",
              "</tr>\n",
              "<tr>\n",
              "  <th>InternetService_No</th>                    <td>   -4.8901</td> <td>      nan</td> <td>      nan</td> <td>   nan</td> <td>      nan</td> <td>      nan</td>\n",
              "</tr>\n",
              "<tr>\n",
              "  <th>OnlineSecurity_No</th>                     <td>   -4.6149</td> <td> 2.59e+06</td> <td>-1.78e-06</td> <td> 1.000</td> <td>-5.08e+06</td> <td> 5.08e+06</td>\n",
              "</tr>\n",
              "<tr>\n",
              "  <th>OnlineSecurity_Yes</th>                    <td>   -4.6394</td> <td> 2.61e+06</td> <td>-1.78e-06</td> <td> 1.000</td> <td>-5.11e+06</td> <td> 5.11e+06</td>\n",
              "</tr>\n",
              "<tr>\n",
              "  <th>OnlineBackup_No</th>                       <td>    2.1219</td> <td>      nan</td> <td>      nan</td> <td>   nan</td> <td>      nan</td> <td>      nan</td>\n",
              "</tr>\n",
              "<tr>\n",
              "  <th>OnlineBackup_Yes</th>                      <td>    2.2959</td> <td> 1.46e+05</td> <td> 1.57e-05</td> <td> 1.000</td> <td>-2.86e+05</td> <td> 2.86e+05</td>\n",
              "</tr>\n",
              "<tr>\n",
              "  <th>DeviceProtection_No</th>                   <td>    0.2575</td> <td> 3.36e+06</td> <td> 7.66e-08</td> <td> 1.000</td> <td>-6.59e+06</td> <td> 6.59e+06</td>\n",
              "</tr>\n",
              "<tr>\n",
              "  <th>DeviceProtection_Yes</th>                  <td>    0.5804</td> <td> 3.35e+06</td> <td> 1.73e-07</td> <td> 1.000</td> <td>-6.57e+06</td> <td> 6.57e+06</td>\n",
              "</tr>\n",
              "<tr>\n",
              "  <th>TechSupport_No</th>                        <td>    1.0960</td> <td>      nan</td> <td>      nan</td> <td>   nan</td> <td>      nan</td> <td>      nan</td>\n",
              "</tr>\n",
              "<tr>\n",
              "  <th>TechSupport_Yes</th>                       <td>    1.0655</td> <td>      nan</td> <td>      nan</td> <td>   nan</td> <td>      nan</td> <td>      nan</td>\n",
              "</tr>\n",
              "<tr>\n",
              "  <th>StreamingTV_No</th>                        <td>   -0.6255</td> <td>      nan</td> <td>      nan</td> <td>   nan</td> <td>      nan</td> <td>      nan</td>\n",
              "</tr>\n",
              "<tr>\n",
              "  <th>StreamingTV_Yes</th>                       <td>    0.3343</td> <td>      nan</td> <td>      nan</td> <td>   nan</td> <td>      nan</td> <td>      nan</td>\n",
              "</tr>\n",
              "<tr>\n",
              "  <th>StreamingMovies_No</th>                    <td>   -0.3459</td> <td>      nan</td> <td>      nan</td> <td>   nan</td> <td>      nan</td> <td>      nan</td>\n",
              "</tr>\n",
              "<tr>\n",
              "  <th>StreamingMovies_Yes</th>                   <td>    0.5024</td> <td>      nan</td> <td>      nan</td> <td>   nan</td> <td>      nan</td> <td>      nan</td>\n",
              "</tr>\n",
              "<tr>\n",
              "  <th>tenure</th>                                <td>   -1.5198</td> <td>    0.190</td> <td>   -8.015</td> <td> 0.000</td> <td>   -1.891</td> <td>   -1.148</td>\n",
              "</tr>\n",
              "<tr>\n",
              "  <th>MonthlyCharges</th>                        <td>   -2.1817</td> <td>    1.160</td> <td>   -1.880</td> <td> 0.060</td> <td>   -4.456</td> <td>    0.092</td>\n",
              "</tr>\n",
              "<tr>\n",
              "  <th>TotalCharges</th>                          <td>    0.7329</td> <td>    0.198</td> <td>    3.705</td> <td> 0.000</td> <td>    0.345</td> <td>    1.121</td>\n",
              "</tr>\n",
              "</table>"
            ],
            "text/plain": [
              "<class 'statsmodels.iolib.summary.Summary'>\n",
              "\"\"\"\n",
              "                           Logit Regression Results                           \n",
              "==============================================================================\n",
              "Dep. Variable:                  Churn   No. Observations:                 4922\n",
              "Model:                          Logit   Df Residuals:                     4897\n",
              "Method:                           MLE   Df Model:                           24\n",
              "Date:                Mon, 04 Oct 2021   Pseudo R-squ.:                  0.2912\n",
              "Time:                        14:58:38   Log-Likelihood:                -2004.7\n",
              "converged:                      False   LL-Null:                       -2828.2\n",
              "Covariance Type:            nonrobust   LLR p-value:                     0.000\n",
              "=========================================================================================================\n",
              "                                            coef    std err          z      P>|z|      [0.025      0.975]\n",
              "---------------------------------------------------------------------------------------------------------\n",
              "const                                    -1.8229        nan        nan        nan         nan         nan\n",
              "PhoneService                              1.4148        nan        nan        nan         nan         nan\n",
              "PaperlessBilling                          0.3254      0.090      3.614      0.000       0.149       0.502\n",
              "SeniorCitizen                             0.3984      0.102      3.924      0.000       0.199       0.597\n",
              "Partner                                   0.0374      0.094      0.399      0.690      -0.146       0.221\n",
              "Dependents                               -0.1430      0.107     -1.332      0.183      -0.353       0.067\n",
              "Contract_One year                        -0.6578      0.129     -5.106      0.000      -0.910      -0.405\n",
              "Contract_Two year                        -1.2455      0.212     -5.874      0.000      -1.661      -0.830\n",
              "PaymentMethod_Credit card (automatic)    -0.2577      0.137     -1.883      0.060      -0.526       0.011\n",
              "PaymentMethod_Electronic check            0.1615      0.113      1.434      0.152      -0.059       0.382\n",
              "PaymentMethod_Mailed check               -0.2536      0.137     -1.845      0.065      -0.523       0.016\n",
              "gender_Male                              -0.0346      0.078     -0.442      0.658      -0.188       0.119\n",
              "MultipleLines_No                         -0.4641        nan        nan        nan         nan         nan\n",
              "MultipleLines_Yes                         0.0983        nan        nan        nan         nan         nan\n",
              "InternetService_Fiber optic               2.5124      0.967      2.599      0.009       0.618       4.407\n",
              "InternetService_No                       -4.8901        nan        nan        nan         nan         nan\n",
              "OnlineSecurity_No                        -4.6149   2.59e+06  -1.78e-06      1.000   -5.08e+06    5.08e+06\n",
              "OnlineSecurity_Yes                       -4.6394   2.61e+06  -1.78e-06      1.000   -5.11e+06    5.11e+06\n",
              "OnlineBackup_No                           2.1219        nan        nan        nan         nan         nan\n",
              "OnlineBackup_Yes                          2.2959   1.46e+05   1.57e-05      1.000   -2.86e+05    2.86e+05\n",
              "DeviceProtection_No                       0.2575   3.36e+06   7.66e-08      1.000   -6.59e+06    6.59e+06\n",
              "DeviceProtection_Yes                      0.5804   3.35e+06   1.73e-07      1.000   -6.57e+06    6.57e+06\n",
              "TechSupport_No                            1.0960        nan        nan        nan         nan         nan\n",
              "TechSupport_Yes                           1.0655        nan        nan        nan         nan         nan\n",
              "StreamingTV_No                           -0.6255        nan        nan        nan         nan         nan\n",
              "StreamingTV_Yes                           0.3343        nan        nan        nan         nan         nan\n",
              "StreamingMovies_No                       -0.3459        nan        nan        nan         nan         nan\n",
              "StreamingMovies_Yes                       0.5024        nan        nan        nan         nan         nan\n",
              "tenure                                   -1.5198      0.190     -8.015      0.000      -1.891      -1.148\n",
              "MonthlyCharges                           -2.1817      1.160     -1.880      0.060      -4.456       0.092\n",
              "TotalCharges                              0.7329      0.198      3.705      0.000       0.345       1.121\n",
              "=========================================================================================================\n",
              "\"\"\""
            ]
          },
          "execution_count": 115,
          "metadata": {},
          "output_type": "execute_result"
        }
      ]
    },
    {
      "cell_type": "markdown",
      "metadata": {
        "id": "UjZW1At5gbFS"
      },
      "source": [
        "From above you can see that there few statistically insignificant variables present in our dataset. Lets drop them off.\n",
        "\n",
        "Here drop those variables which has less than 70% confidence to reject the null hyposthesis looking into P values.\n",
        "\n",
        "Few insignificant variables we can see from above stats summary are:\n",
        " \n",
        "    partner\n",
        "    Dependents\t\n",
        "    PaymentMethod_Electronic check\t\n",
        "    gender_Male\n",
        "    InternetService_No\n",
        "    DeviceProtection_no\n",
        "    DeviceProtection_Yes\n",
        "    \n",
        "So lets drop them off from X\n",
        "\n",
        "Note: We are not dropping const variable as it is required for OLS model building"
      ]
    },
    {
      "cell_type": "code",
      "metadata": {
        "id": "mT_I_ZQUgbFT"
      },
      "source": [
        "# drop above features from X\n",
        "X.drop(['Partner','Dependents','PaymentMethod_Electronic check',   \n",
        "'gender_Male',\n",
        "'InternetService_No',\n",
        "'DeviceProtection_No',\n",
        "'DeviceProtection_Yes'], axis = 1, inplace=True)"
      ],
      "execution_count": null,
      "outputs": []
    },
    {
      "cell_type": "markdown",
      "metadata": {
        "id": "w8Xl1xRJgbFV"
      },
      "source": [
        "### Correlation Matrix\n",
        "\n"
      ]
    },
    {
      "cell_type": "code",
      "metadata": {
        "id": "C3xoz9hbgbFW"
      },
      "source": [
        "# Importing matplotlib and seaborn\n",
        "import matplotlib.pyplot as plt\n",
        "import seaborn as sns\n",
        "%matplotlib inline\n",
        "plt.style.use('ggplot')"
      ],
      "execution_count": null,
      "outputs": []
    },
    {
      "cell_type": "code",
      "metadata": {
        "id": "TNPoDK0ZgbFX",
        "outputId": "974b0d4e-bd79-463c-f5a0-a4fd6bf1b2ac"
      },
      "source": [
        "# Let's see the correlation matrix \n",
        "plt.figure(figsize = (20,10))        # Size of the figure\n",
        "sns.heatmap(X.corr(), annot=True)"
      ],
      "execution_count": null,
      "outputs": [
        {
          "data": {
            "text/plain": [
              "<AxesSubplot:>"
            ]
          },
          "execution_count": 121,
          "metadata": {},
          "output_type": "execute_result"
        },
        {
          "data": {
            "image/png": "[encoded data removed]",
            "text/plain": [
              "<Figure size 1440x720 with 2 Axes>"
            ]
          },
          "metadata": {},
          "output_type": "display_data"
        }
      ]
    },
    {
      "cell_type": "markdown",
      "metadata": {
        "id": "tV32WPhngbFY"
      },
      "source": [
        "### Dropping highly correlated variables.\n",
        "\n"
      ]
    },
    {
      "cell_type": "code",
      "metadata": {
        "id": "A1t3g4dEgbFY"
      },
      "source": [
        "# Write a correlation function to  remove highly correlated variables (>70%)\n",
        "def correlation(dataset, threshold):\n",
        "    col_corr = set() # set for all correlated columns \n",
        "    corr_matrix = dataset.corr()\n",
        "    for i in range(len(corr_matrix.columns)):\n",
        "        for j in range(i):\n",
        "            if abs(corr_matrix.iloc[i,j]) > threshold:   # comparing absolute corr_value with threshold\n",
        "                col_name = corr_matrix.columns[i]   # getting the name of columns\n",
        "                col_corr.add(col_name)       \n",
        "    return col_corr"
      ],
      "execution_count": null,
      "outputs": []
    },
    {
      "cell_type": "code",
      "metadata": {
        "id": "Umjjl8NGgbFZ",
        "outputId": "fca95f73-96e7-4b5b-887e-33cae4b39765"
      },
      "source": [
        "#get correlation function output with dataset as X and threshold as 0.7\n",
        "corr_features = correlation(X,0.7)\n",
        "\n",
        "# print length of corr_features\n",
        "len(corr_features)"
      ],
      "execution_count": null,
      "outputs": [
        {
          "data": {
            "text/plain": [
              "3"
            ]
          },
          "execution_count": 127,
          "metadata": {},
          "output_type": "execute_result"
        }
      ]
    },
    {
      "cell_type": "code",
      "metadata": {
        "id": "93kHMorugbFa",
        "outputId": "34bf6464-4152-41aa-e9a9-4ebc839ab44b"
      },
      "source": [
        "#print corr_features\n",
        "corr_features\n"
      ],
      "execution_count": null,
      "outputs": [
        {
          "data": {
            "text/plain": [
              "{'MonthlyCharges', 'MultipleLines_Yes', 'TotalCharges'}"
            ]
          },
          "execution_count": 129,
          "metadata": {},
          "output_type": "execute_result"
        }
      ]
    },
    {
      "cell_type": "code",
      "metadata": {
        "id": "-4qLa0P7gbFb"
      },
      "source": [
        "# Lets drop the above variables from X\n",
        "\n",
        "X.drop(['MonthlyCharges', 'MultipleLines_Yes', 'TotalCharges'], axis=1, inplace=True)"
      ],
      "execution_count": null,
      "outputs": []
    },
    {
      "cell_type": "markdown",
      "metadata": {
        "id": "Z3b_qYVEgbFc"
      },
      "source": [
        "## Dropping Variable with high VIF\n",
        "\n",
        "\n",
        "\n",
        "\n",
        "Lets check multicollinearity using Variance inflation factor too!\n"
      ]
    },
    {
      "cell_type": "code",
      "metadata": {
        "id": "Zkq8wgDKgbFd"
      },
      "source": [
        "# Import library for VIF\n",
        "from statsmodels.stats.outliers_influence import variance_inflation_factor\n",
        "\n",
        "# empty dataframe\n",
        "vif= pd.DataFrame()\n",
        "\n",
        "#variables names with all variables in column X\n",
        "vif[\"variables\"] = X.columns\n",
        "\n",
        "# Vif scores for corresponding features\n",
        "vif[\"VIF\"] = [round(variance_inflation_factor(X.values,i),2) for i in range(X.shape[1])]"
      ],
      "execution_count": null,
      "outputs": []
    },
    {
      "cell_type": "code",
      "metadata": {
        "id": "nFDPb1vRgbFd",
        "outputId": "6be61d75-a0be-4316-ec1c-1ec21fc7428c"
      },
      "source": [
        "# print vif\n",
        "vif.sort_values(by = 'VIF')"
      ],
      "execution_count": null,
      "outputs": [
        {
          "data": {
            "text/html": [
              "<div>\n",
              "<style scoped>\n",
              "    .dataframe tbody tr th:only-of-type {\n",
              "        vertical-align: middle;\n",
              "    }\n",
              "\n",
              "    .dataframe tbody tr th {\n",
              "        vertical-align: top;\n",
              "    }\n",
              "\n",
              "    .dataframe thead th {\n",
              "        text-align: right;\n",
              "    }\n",
              "</style>\n",
              "<table border=\"1\" class=\"dataframe\">\n",
              "  <thead>\n",
              "    <tr style=\"text-align: right;\">\n",
              "      <th></th>\n",
              "      <th>variables</th>\n",
              "      <th>VIF</th>\n",
              "    </tr>\n",
              "  </thead>\n",
              "  <tbody>\n",
              "    <tr>\n",
              "      <th>3</th>\n",
              "      <td>SeniorCitizen</td>\n",
              "      <td>1.11</td>\n",
              "    </tr>\n",
              "    <tr>\n",
              "      <th>6</th>\n",
              "      <td>PaymentMethod_Credit card (automatic)</td>\n",
              "      <td>1.17</td>\n",
              "    </tr>\n",
              "    <tr>\n",
              "      <th>2</th>\n",
              "      <td>PaperlessBilling</td>\n",
              "      <td>1.21</td>\n",
              "    </tr>\n",
              "    <tr>\n",
              "      <th>7</th>\n",
              "      <td>PaymentMethod_Mailed check</td>\n",
              "      <td>1.37</td>\n",
              "    </tr>\n",
              "    <tr>\n",
              "      <th>1</th>\n",
              "      <td>PhoneService</td>\n",
              "      <td>1.45</td>\n",
              "    </tr>\n",
              "    <tr>\n",
              "      <th>8</th>\n",
              "      <td>MultipleLines_No</td>\n",
              "      <td>1.46</td>\n",
              "    </tr>\n",
              "    <tr>\n",
              "      <th>4</th>\n",
              "      <td>Contract_One year</td>\n",
              "      <td>1.60</td>\n",
              "    </tr>\n",
              "    <tr>\n",
              "      <th>9</th>\n",
              "      <td>InternetService_Fiber optic</td>\n",
              "      <td>1.99</td>\n",
              "    </tr>\n",
              "    <tr>\n",
              "      <th>5</th>\n",
              "      <td>Contract_Two year</td>\n",
              "      <td>2.59</td>\n",
              "    </tr>\n",
              "    <tr>\n",
              "      <th>20</th>\n",
              "      <td>tenure</td>\n",
              "      <td>2.63</td>\n",
              "    </tr>\n",
              "    <tr>\n",
              "      <th>0</th>\n",
              "      <td>const</td>\n",
              "      <td>26.40</td>\n",
              "    </tr>\n",
              "    <tr>\n",
              "      <th>11</th>\n",
              "      <td>OnlineSecurity_Yes</td>\n",
              "      <td>inf</td>\n",
              "    </tr>\n",
              "    <tr>\n",
              "      <th>12</th>\n",
              "      <td>OnlineBackup_No</td>\n",
              "      <td>inf</td>\n",
              "    </tr>\n",
              "    <tr>\n",
              "      <th>13</th>\n",
              "      <td>OnlineBackup_Yes</td>\n",
              "      <td>inf</td>\n",
              "    </tr>\n",
              "    <tr>\n",
              "      <th>14</th>\n",
              "      <td>TechSupport_No</td>\n",
              "      <td>inf</td>\n",
              "    </tr>\n",
              "    <tr>\n",
              "      <th>15</th>\n",
              "      <td>TechSupport_Yes</td>\n",
              "      <td>inf</td>\n",
              "    </tr>\n",
              "    <tr>\n",
              "      <th>16</th>\n",
              "      <td>StreamingTV_No</td>\n",
              "      <td>inf</td>\n",
              "    </tr>\n",
              "    <tr>\n",
              "      <th>17</th>\n",
              "      <td>StreamingTV_Yes</td>\n",
              "      <td>inf</td>\n",
              "    </tr>\n",
              "    <tr>\n",
              "      <th>18</th>\n",
              "      <td>StreamingMovies_No</td>\n",
              "      <td>inf</td>\n",
              "    </tr>\n",
              "    <tr>\n",
              "      <th>19</th>\n",
              "      <td>StreamingMovies_Yes</td>\n",
              "      <td>inf</td>\n",
              "    </tr>\n",
              "    <tr>\n",
              "      <th>10</th>\n",
              "      <td>OnlineSecurity_No</td>\n",
              "      <td>inf</td>\n",
              "    </tr>\n",
              "  </tbody>\n",
              "</table>\n",
              "</div>"
            ],
            "text/plain": [
              "                                variables    VIF\n",
              "3                           SeniorCitizen   1.11\n",
              "6   PaymentMethod_Credit card (automatic)   1.17\n",
              "2                        PaperlessBilling   1.21\n",
              "7              PaymentMethod_Mailed check   1.37\n",
              "1                            PhoneService   1.45\n",
              "8                        MultipleLines_No   1.46\n",
              "4                       Contract_One year   1.60\n",
              "9             InternetService_Fiber optic   1.99\n",
              "5                       Contract_Two year   2.59\n",
              "20                                 tenure   2.63\n",
              "0                                   const  26.40\n",
              "11                     OnlineSecurity_Yes    inf\n",
              "12                        OnlineBackup_No    inf\n",
              "13                       OnlineBackup_Yes    inf\n",
              "14                         TechSupport_No    inf\n",
              "15                        TechSupport_Yes    inf\n",
              "16                         StreamingTV_No    inf\n",
              "17                        StreamingTV_Yes    inf\n",
              "18                     StreamingMovies_No    inf\n",
              "19                    StreamingMovies_Yes    inf\n",
              "10                      OnlineSecurity_No    inf"
            ]
          },
          "execution_count": 132,
          "metadata": {},
          "output_type": "execute_result"
        }
      ]
    },
    {
      "cell_type": "markdown",
      "metadata": {
        "id": "L9bqdyTwgbFf"
      },
      "source": [
        "Lets drop variables which are having infinite vif scores.\n",
        "\n",
        "they are:\n",
        "    \n",
        "    OnlineSecurity_No\n",
        "    OnlineSecurity_Yes\n",
        "    OnlineBackup_No\n",
        "    OnlineBackup_Yes\n",
        "    TechSupport_No\n",
        "    TechSupport_Yes\n",
        "    StreamingTV_No\n",
        "    StreamingTV_Yes\n",
        "    StreamingMovies_No\n",
        "    StreamingMovies_Yes"
      ]
    },
    {
      "cell_type": "code",
      "metadata": {
        "id": "Zy764Bq0gbFg"
      },
      "source": [
        "# Lets drop above variables also from X\n",
        "X.drop(['OnlineSecurity_No','OnlineSecurity_Yes','OnlineBackup_No','OnlineBackup_Yes','TechSupport_No',\n",
        "        'TechSupport_Yes','StreamingTV_No','StreamingTV_Yes','StreamingMovies_No','StreamingMovies_Yes'],\n",
        "       axis=1, inplace=True)\n",
        "\n"
      ],
      "execution_count": null,
      "outputs": []
    },
    {
      "cell_type": "markdown",
      "metadata": {
        "id": "MyhUkTbzgbFh"
      },
      "source": [
        "### Checking the Correlation Matrix again"
      ]
    },
    {
      "cell_type": "markdown",
      "metadata": {
        "id": "jqQBzeyggbFi"
      },
      "source": [
        "After dropping highly correlated variables now let's check the correlation matrix again."
      ]
    },
    {
      "cell_type": "code",
      "metadata": {
        "id": "GkgUH5w8gbFi",
        "outputId": "f5f1cf3d-c2a4-4d0c-9a4b-7c5879f9219d"
      },
      "source": [
        "#plot heatmap\n",
        "plt.figure(figsize = (20,10))        # Size of the figure\n",
        "sns.heatmap(X.corr(), annot=True)\n"
      ],
      "execution_count": null,
      "outputs": [
        {
          "data": {
            "text/plain": [
              "<AxesSubplot:>"
            ]
          },
          "execution_count": 136,
          "metadata": {},
          "output_type": "execute_result"
        },
        {
          "data": {
            "image/png": "[encoded data removed]",
            "text/plain": [
              "<Figure size 1440x720 with 2 Axes>"
            ]
          },
          "metadata": {},
          "output_type": "display_data"
        }
      ]
    },
    {
      "cell_type": "markdown",
      "metadata": {
        "id": "ZQZ385imgbFl"
      },
      "source": [
        "### Re-Running the Model\n",
        "\n",
        "<p style='text-align: right;'> 3 points</p>\n"
      ]
    },
    {
      "cell_type": "markdown",
      "metadata": {
        "id": "DTUv7IdegbFm"
      },
      "source": [
        "Now let's run our model again after dropping highly correlated variables"
      ]
    },
    {
      "cell_type": "code",
      "metadata": {
        "id": "rC4FUuuAgbFo",
        "outputId": "2b05d39c-3b22-48a3-c328-2ed98a0e4231"
      },
      "source": [
        "# Splitting the data into train and test with train_size=0.7 and random_state=100 again\n",
        "X_train, X_test, y_train, y_test = train_test_split(X,y, train_size=0.7, test_size=0.3, random_state=100)\n",
        "\n",
        "# building model again\n",
        "logm2 = sm.Logit(y_train, X_train)\n",
        "\n",
        "#fitting model and printing summary\n",
        "logm2.fit().summary()\n"
      ],
      "execution_count": null,
      "outputs": [
        {
          "name": "stdout",
          "output_type": "stream",
          "text": [
            "Optimization terminated successfully.\n",
            "         Current function value: 0.417905\n",
            "         Iterations 8\n"
          ]
        },
        {
          "data": {
            "text/html": [
              "<table class=\"simpletable\">\n",
              "<caption>Logit Regression Results</caption>\n",
              "<tr>\n",
              "  <th>Dep. Variable:</th>         <td>Churn</td>      <th>  No. Observations:  </th>  <td>  4922</td> \n",
              "</tr>\n",
              "<tr>\n",
              "  <th>Model:</th>                 <td>Logit</td>      <th>  Df Residuals:      </th>  <td>  4911</td> \n",
              "</tr>\n",
              "<tr>\n",
              "  <th>Method:</th>                 <td>MLE</td>       <th>  Df Model:          </th>  <td>    10</td> \n",
              "</tr>\n",
              "<tr>\n",
              "  <th>Date:</th>            <td>Mon, 04 Oct 2021</td> <th>  Pseudo R-squ.:     </th>  <td>0.2727</td> \n",
              "</tr>\n",
              "<tr>\n",
              "  <th>Time:</th>                <td>15:58:51</td>     <th>  Log-Likelihood:    </th> <td> -2056.9</td>\n",
              "</tr>\n",
              "<tr>\n",
              "  <th>converged:</th>             <td>True</td>       <th>  LL-Null:           </th> <td> -2828.2</td>\n",
              "</tr>\n",
              "<tr>\n",
              "  <th>Covariance Type:</th>     <td>nonrobust</td>    <th>  LLR p-value:       </th>  <td> 0.000</td> \n",
              "</tr>\n",
              "</table>\n",
              "<table class=\"simpletable\">\n",
              "<tr>\n",
              "                    <td></td>                       <th>coef</th>     <th>std err</th>      <th>z</th>      <th>P>|z|</th>  <th>[0.025</th>    <th>0.975]</th>  \n",
              "</tr>\n",
              "<tr>\n",
              "  <th>const</th>                                 <td>   -1.2686</td> <td>    0.151</td> <td>   -8.421</td> <td> 0.000</td> <td>   -1.564</td> <td>   -0.973</td>\n",
              "</tr>\n",
              "<tr>\n",
              "  <th>PhoneService</th>                          <td>   -0.4334</td> <td>    0.156</td> <td>   -2.771</td> <td> 0.006</td> <td>   -0.740</td> <td>   -0.127</td>\n",
              "</tr>\n",
              "<tr>\n",
              "  <th>PaperlessBilling</th>                      <td>    0.4239</td> <td>    0.088</td> <td>    4.831</td> <td> 0.000</td> <td>    0.252</td> <td>    0.596</td>\n",
              "</tr>\n",
              "<tr>\n",
              "  <th>SeniorCitizen</th>                         <td>    0.4801</td> <td>    0.099</td> <td>    4.830</td> <td> 0.000</td> <td>    0.285</td> <td>    0.675</td>\n",
              "</tr>\n",
              "<tr>\n",
              "  <th>Contract_One year</th>                     <td>   -0.7379</td> <td>    0.124</td> <td>   -5.973</td> <td> 0.000</td> <td>   -0.980</td> <td>   -0.496</td>\n",
              "</tr>\n",
              "<tr>\n",
              "  <th>Contract_Two year</th>                     <td>   -1.4344</td> <td>    0.203</td> <td>   -7.076</td> <td> 0.000</td> <td>   -1.832</td> <td>   -1.037</td>\n",
              "</tr>\n",
              "<tr>\n",
              "  <th>PaymentMethod_Credit card (automatic)</th> <td>   -0.4385</td> <td>    0.112</td> <td>   -3.927</td> <td> 0.000</td> <td>   -0.657</td> <td>   -0.220</td>\n",
              "</tr>\n",
              "<tr>\n",
              "  <th>PaymentMethod_Mailed check</th>            <td>   -0.4864</td> <td>    0.107</td> <td>   -4.560</td> <td> 0.000</td> <td>   -0.695</td> <td>   -0.277</td>\n",
              "</tr>\n",
              "<tr>\n",
              "  <th>MultipleLines_No</th>                      <td>   -0.3268</td> <td>    0.094</td> <td>   -3.487</td> <td> 0.000</td> <td>   -0.511</td> <td>   -0.143</td>\n",
              "</tr>\n",
              "<tr>\n",
              "  <th>InternetService_Fiber optic</th>           <td>    1.2979</td> <td>    0.099</td> <td>   13.065</td> <td> 0.000</td> <td>    1.103</td> <td>    1.493</td>\n",
              "</tr>\n",
              "<tr>\n",
              "  <th>tenure</th>                                <td>   -0.9134</td> <td>    0.063</td> <td>  -14.468</td> <td> 0.000</td> <td>   -1.037</td> <td>   -0.790</td>\n",
              "</tr>\n",
              "</table>"
            ],
            "text/plain": [
              "<class 'statsmodels.iolib.summary.Summary'>\n",
              "\"\"\"\n",
              "                           Logit Regression Results                           \n",
              "==============================================================================\n",
              "Dep. Variable:                  Churn   No. Observations:                 4922\n",
              "Model:                          Logit   Df Residuals:                     4911\n",
              "Method:                           MLE   Df Model:                           10\n",
              "Date:                Mon, 04 Oct 2021   Pseudo R-squ.:                  0.2727\n",
              "Time:                        15:58:51   Log-Likelihood:                -2056.9\n",
              "converged:                       True   LL-Null:                       -2828.2\n",
              "Covariance Type:            nonrobust   LLR p-value:                     0.000\n",
              "=========================================================================================================\n",
              "                                            coef    std err          z      P>|z|      [0.025      0.975]\n",
              "---------------------------------------------------------------------------------------------------------\n",
              "const                                    -1.2686      0.151     -8.421      0.000      -1.564      -0.973\n",
              "PhoneService                             -0.4334      0.156     -2.771      0.006      -0.740      -0.127\n",
              "PaperlessBilling                          0.4239      0.088      4.831      0.000       0.252       0.596\n",
              "SeniorCitizen                             0.4801      0.099      4.830      0.000       0.285       0.675\n",
              "Contract_One year                        -0.7379      0.124     -5.973      0.000      -0.980      -0.496\n",
              "Contract_Two year                        -1.4344      0.203     -7.076      0.000      -1.832      -1.037\n",
              "PaymentMethod_Credit card (automatic)    -0.4385      0.112     -3.927      0.000      -0.657      -0.220\n",
              "PaymentMethod_Mailed check               -0.4864      0.107     -4.560      0.000      -0.695      -0.277\n",
              "MultipleLines_No                         -0.3268      0.094     -3.487      0.000      -0.511      -0.143\n",
              "InternetService_Fiber optic               1.2979      0.099     13.065      0.000       1.103       1.493\n",
              "tenure                                   -0.9134      0.063    -14.468      0.000      -1.037      -0.790\n",
              "=========================================================================================================\n",
              "\"\"\""
            ]
          },
          "execution_count": 137,
          "metadata": {},
          "output_type": "execute_result"
        }
      ]
    },
    {
      "cell_type": "markdown",
      "metadata": {
        "id": "31o5IeeCgbFq"
      },
      "source": [
        "Now you can see after removing all multicollinear features we got all P values to zero,  so now we can say that all features are statistically significant.\n",
        "\n",
        "### Feature Selection Using RFE\n",
        "\n",
        "\n",
        "\n",
        "\n",
        "Lets do feature selection using LogisticRegression with RFE"
      ]
    },
    {
      "cell_type": "code",
      "metadata": {
        "id": "Id3BQpH7gbFr",
        "outputId": "5a6a0bfa-8556-4cd7-8bc4-2a634994a807"
      },
      "source": [
        "# import RFE and LogisticRegression\n",
        "from sklearn.linear_model import LogisticRegression\n",
        "from sklearn.feature_selection import RFE\n",
        "\n",
        "# Initiate LogisticRegression()\n",
        "logreg = LogisticRegression()\n",
        "\n",
        " # Initialise RFE \n",
        "rfe =  RFE(logreg)\n",
        "\n",
        "# fitting RFE \n",
        "rfe = rfe.fit(X,y)\n",
        "\n",
        "# Printing the boolean results\n",
        "print(rfe.support_)     \n",
        "# Printing the ranking\n",
        "print(rfe.ranking_)           "
      ],
      "execution_count": null,
      "outputs": [
        {
          "name": "stdout",
          "output_type": "stream",
          "text": [
            "[False  True False False  True  True False False False  True  True]\n",
            "[7 1 2 6 1 1 5 4 3 1 1]\n"
          ]
        }
      ]
    },
    {
      "cell_type": "code",
      "metadata": {
        "id": "VB61D80NgbFs",
        "outputId": "f1f653a8-c715-4dd9-8eed-94c2f35bd0b3"
      },
      "source": [
        "# printing column names which were suppported by RFE\n",
        "X.columns[(rfe.support_)]"
      ],
      "execution_count": null,
      "outputs": [
        {
          "data": {
            "text/plain": [
              "Index(['PhoneService', 'Contract_One year', 'Contract_Two year',\n",
              "       'InternetService_Fiber optic', 'tenure'],\n",
              "      dtype='object')"
            ]
          },
          "execution_count": 141,
          "metadata": {},
          "output_type": "execute_result"
        }
      ]
    },
    {
      "cell_type": "code",
      "metadata": {
        "id": "bSo1HN-FgbFu"
      },
      "source": [
        "# Variables selected by RFE \n",
        "col = ['PhoneService', 'Contract_One year', 'Contract_Two year',\n",
        "       'InternetService_Fiber optic', 'tenure']"
      ],
      "execution_count": null,
      "outputs": []
    },
    {
      "cell_type": "code",
      "metadata": {
        "id": "_aXj4yTTgbFw",
        "outputId": "ad26affe-e2b7-4625-b5bb-7c7823de7576"
      },
      "source": [
        "# Let's run the model using the selected variables but this time we will use Logistic Regression\n",
        "\n",
        "#initialise Logistic Regression\n",
        "logsk = LogisticRegression()\n",
        "\n",
        "#fitting model using above columns as input\n",
        "logsk.fit(X_train[col], y_train)"
      ],
      "execution_count": null,
      "outputs": [
        {
          "data": {
            "text/plain": [
              "LogisticRegression()"
            ]
          },
          "execution_count": 144,
          "metadata": {},
          "output_type": "execute_result"
        }
      ]
    },
    {
      "cell_type": "code",
      "metadata": {
        "id": "kLOsaMCigbFy",
        "outputId": "9ac4b155-168c-4f16-b694-346e0881b1c0"
      },
      "source": [
        "#recreating the model with StatsModels with RFE selecte columns\n",
        "\n",
        "logm3 = sm.Logit(y_train, X_train[col])\n",
        "\n",
        "# Fitting and printing model summary\n",
        "logm3.fit().summary()"
      ],
      "execution_count": null,
      "outputs": [
        {
          "name": "stdout",
          "output_type": "stream",
          "text": [
            "Optimization terminated successfully.\n",
            "         Current function value: 0.435736\n",
            "         Iterations 8\n"
          ]
        },
        {
          "data": {
            "text/html": [
              "<table class=\"simpletable\">\n",
              "<caption>Logit Regression Results</caption>\n",
              "<tr>\n",
              "  <th>Dep. Variable:</th>         <td>Churn</td>      <th>  No. Observations:  </th>   <td>  4922</td>  \n",
              "</tr>\n",
              "<tr>\n",
              "  <th>Model:</th>                 <td>Logit</td>      <th>  Df Residuals:      </th>   <td>  4917</td>  \n",
              "</tr>\n",
              "<tr>\n",
              "  <th>Method:</th>                 <td>MLE</td>       <th>  Df Model:          </th>   <td>     4</td>  \n",
              "</tr>\n",
              "<tr>\n",
              "  <th>Date:</th>            <td>Mon, 04 Oct 2021</td> <th>  Pseudo R-squ.:     </th>   <td>0.2417</td>  \n",
              "</tr>\n",
              "<tr>\n",
              "  <th>Time:</th>                <td>16:10:00</td>     <th>  Log-Likelihood:    </th>  <td> -2144.7</td> \n",
              "</tr>\n",
              "<tr>\n",
              "  <th>converged:</th>             <td>True</td>       <th>  LL-Null:           </th>  <td> -2828.2</td> \n",
              "</tr>\n",
              "<tr>\n",
              "  <th>Covariance Type:</th>     <td>nonrobust</td>    <th>  LLR p-value:       </th> <td>1.009e-294</td>\n",
              "</tr>\n",
              "</table>\n",
              "<table class=\"simpletable\">\n",
              "<tr>\n",
              "               <td></td>                  <th>coef</th>     <th>std err</th>      <th>z</th>      <th>P>|z|</th>  <th>[0.025</th>    <th>0.975]</th>  \n",
              "</tr>\n",
              "<tr>\n",
              "  <th>PhoneService</th>                <td>   -1.6604</td> <td>    0.085</td> <td>  -19.428</td> <td> 0.000</td> <td>   -1.828</td> <td>   -1.493</td>\n",
              "</tr>\n",
              "<tr>\n",
              "  <th>Contract_One year</th>           <td>   -1.2033</td> <td>    0.115</td> <td>  -10.497</td> <td> 0.000</td> <td>   -1.428</td> <td>   -0.979</td>\n",
              "</tr>\n",
              "<tr>\n",
              "  <th>Contract_Two year</th>           <td>   -2.1243</td> <td>    0.192</td> <td>  -11.050</td> <td> 0.000</td> <td>   -2.501</td> <td>   -1.748</td>\n",
              "</tr>\n",
              "<tr>\n",
              "  <th>InternetService_Fiber optic</th> <td>    1.6316</td> <td>    0.089</td> <td>   18.334</td> <td> 0.000</td> <td>    1.457</td> <td>    1.806</td>\n",
              "</tr>\n",
              "<tr>\n",
              "  <th>tenure</th>                      <td>   -0.6128</td> <td>    0.053</td> <td>  -11.648</td> <td> 0.000</td> <td>   -0.716</td> <td>   -0.510</td>\n",
              "</tr>\n",
              "</table>"
            ],
            "text/plain": [
              "<class 'statsmodels.iolib.summary.Summary'>\n",
              "\"\"\"\n",
              "                           Logit Regression Results                           \n",
              "==============================================================================\n",
              "Dep. Variable:                  Churn   No. Observations:                 4922\n",
              "Model:                          Logit   Df Residuals:                     4917\n",
              "Method:                           MLE   Df Model:                            4\n",
              "Date:                Mon, 04 Oct 2021   Pseudo R-squ.:                  0.2417\n",
              "Time:                        16:10:00   Log-Likelihood:                -2144.7\n",
              "converged:                       True   LL-Null:                       -2828.2\n",
              "Covariance Type:            nonrobust   LLR p-value:                1.009e-294\n",
              "===============================================================================================\n",
              "                                  coef    std err          z      P>|z|      [0.025      0.975]\n",
              "-----------------------------------------------------------------------------------------------\n",
              "PhoneService                   -1.6604      0.085    -19.428      0.000      -1.828      -1.493\n",
              "Contract_One year              -1.2033      0.115    -10.497      0.000      -1.428      -0.979\n",
              "Contract_Two year              -2.1243      0.192    -11.050      0.000      -2.501      -1.748\n",
              "InternetService_Fiber optic     1.6316      0.089     18.334      0.000       1.457       1.806\n",
              "tenure                         -0.6128      0.053    -11.648      0.000      -0.716      -0.510\n",
              "===============================================================================================\n",
              "\"\"\""
            ]
          },
          "execution_count": 145,
          "metadata": {},
          "output_type": "execute_result"
        }
      ]
    },
    {
      "cell_type": "markdown",
      "metadata": {
        "id": "aBxWgQ0qgbF1"
      },
      "source": [
        "### Making Predictions\n",
        "\n"
      ]
    },
    {
      "cell_type": "code",
      "metadata": {
        "id": "q-BP_ObzgbF3"
      },
      "source": [
        "# Predicted probabilities\n",
        "y_pred = logsk.predict_proba(X_test[col])"
      ],
      "execution_count": null,
      "outputs": []
    },
    {
      "cell_type": "code",
      "metadata": {
        "id": "4_Ygzlh-gbF4"
      },
      "source": [
        "# Converting y_pred to a dataframe which is an array\n",
        "y_pred_df = pd.DataFrame(y_pred)"
      ],
      "execution_count": null,
      "outputs": []
    },
    {
      "cell_type": "code",
      "metadata": {
        "id": "U7EJPYPmgbF6"
      },
      "source": [
        "# Converting to column dataframe\n",
        "y_pred_1 = y_pred_df.iloc[:,[1]]"
      ],
      "execution_count": null,
      "outputs": []
    },
    {
      "cell_type": "code",
      "metadata": {
        "id": "Ij3ci7ZggbF9",
        "outputId": "146941a0-b779-4735-fe82-139db1304507"
      },
      "source": [
        "# Let's see the head\n",
        "y_pred_1.head()"
      ],
      "execution_count": null,
      "outputs": [
        {
          "data": {
            "text/html": [
              "<div>\n",
              "<style scoped>\n",
              "    .dataframe tbody tr th:only-of-type {\n",
              "        vertical-align: middle;\n",
              "    }\n",
              "\n",
              "    .dataframe tbody tr th {\n",
              "        vertical-align: top;\n",
              "    }\n",
              "\n",
              "    .dataframe thead th {\n",
              "        text-align: right;\n",
              "    }\n",
              "</style>\n",
              "<table border=\"1\" class=\"dataframe\">\n",
              "  <thead>\n",
              "    <tr style=\"text-align: right;\">\n",
              "      <th></th>\n",
              "      <th>1</th>\n",
              "    </tr>\n",
              "  </thead>\n",
              "  <tbody>\n",
              "    <tr>\n",
              "      <th>0</th>\n",
              "      <td>0.534503</td>\n",
              "    </tr>\n",
              "    <tr>\n",
              "      <th>1</th>\n",
              "      <td>0.292735</td>\n",
              "    </tr>\n",
              "    <tr>\n",
              "      <th>2</th>\n",
              "      <td>0.013463</td>\n",
              "    </tr>\n",
              "    <tr>\n",
              "      <th>3</th>\n",
              "      <td>0.700441</td>\n",
              "    </tr>\n",
              "    <tr>\n",
              "      <th>4</th>\n",
              "      <td>0.022563</td>\n",
              "    </tr>\n",
              "  </tbody>\n",
              "</table>\n",
              "</div>"
            ],
            "text/plain": [
              "          1\n",
              "0  0.534503\n",
              "1  0.292735\n",
              "2  0.013463\n",
              "3  0.700441\n",
              "4  0.022563"
            ]
          },
          "execution_count": 163,
          "metadata": {},
          "output_type": "execute_result"
        }
      ]
    },
    {
      "cell_type": "code",
      "metadata": {
        "id": "qXk8YW5NgbGA"
      },
      "source": [
        "# Converting y_test to dataframe\n",
        "y_test_df = pd.DataFrame(y_test)"
      ],
      "execution_count": null,
      "outputs": []
    },
    {
      "cell_type": "code",
      "metadata": {
        "id": "_jR96ZwQgbGB"
      },
      "source": [
        "# Putting CustID to index\n",
        "y_test_df['CustID'] = y_test_df.index"
      ],
      "execution_count": null,
      "outputs": []
    },
    {
      "cell_type": "code",
      "metadata": {
        "id": "0MsmvKAugbGC"
      },
      "source": [
        "# Removing index for both dataframes to append them side by side \n",
        "y_pred_1.reset_index(drop=True, inplace=True)\n",
        "y_test_df.reset_index(drop=True, inplace=True)\n",
        "\n"
      ],
      "execution_count": null,
      "outputs": []
    },
    {
      "cell_type": "code",
      "metadata": {
        "id": "WSSHrOC8gbGE"
      },
      "source": [
        "# Appending y_test_df and y_pred_1\n",
        "y_pred_final = pd.concat([y_test_df,y_pred_1], axis=1)"
      ],
      "execution_count": null,
      "outputs": []
    },
    {
      "cell_type": "code",
      "metadata": {
        "id": "hYXRe_r1gbGH"
      },
      "source": [
        "# Renaming the column \n",
        "y_pred_final= y_pred_final.rename(columns={1:'churn_prob'})"
      ],
      "execution_count": null,
      "outputs": []
    },
    {
      "cell_type": "code",
      "metadata": {
        "id": "2OLTKzVegbGJ",
        "outputId": "2f896993-e0bd-4fb4-e083-996463870e5a"
      },
      "source": [
        "#printing y_pred_final\n",
        "y_pred_final"
      ],
      "execution_count": null,
      "outputs": [
        {
          "data": {
            "text/html": [
              "<div>\n",
              "<style scoped>\n",
              "    .dataframe tbody tr th:only-of-type {\n",
              "        vertical-align: middle;\n",
              "    }\n",
              "\n",
              "    .dataframe tbody tr th {\n",
              "        vertical-align: top;\n",
              "    }\n",
              "\n",
              "    .dataframe thead th {\n",
              "        text-align: right;\n",
              "    }\n",
              "</style>\n",
              "<table border=\"1\" class=\"dataframe\">\n",
              "  <thead>\n",
              "    <tr style=\"text-align: right;\">\n",
              "      <th></th>\n",
              "      <th>Churn</th>\n",
              "      <th>CustID</th>\n",
              "      <th>churn_prob</th>\n",
              "    </tr>\n",
              "  </thead>\n",
              "  <tbody>\n",
              "    <tr>\n",
              "      <th>0</th>\n",
              "      <td>0</td>\n",
              "      <td>942</td>\n",
              "      <td>0.534503</td>\n",
              "    </tr>\n",
              "    <tr>\n",
              "      <th>1</th>\n",
              "      <td>1</td>\n",
              "      <td>3730</td>\n",
              "      <td>0.292735</td>\n",
              "    </tr>\n",
              "    <tr>\n",
              "      <th>2</th>\n",
              "      <td>0</td>\n",
              "      <td>1761</td>\n",
              "      <td>0.013463</td>\n",
              "    </tr>\n",
              "    <tr>\n",
              "      <th>3</th>\n",
              "      <td>1</td>\n",
              "      <td>2283</td>\n",
              "      <td>0.700441</td>\n",
              "    </tr>\n",
              "    <tr>\n",
              "      <th>4</th>\n",
              "      <td>0</td>\n",
              "      <td>1872</td>\n",
              "      <td>0.022563</td>\n",
              "    </tr>\n",
              "    <tr>\n",
              "      <th>...</th>\n",
              "      <td>...</td>\n",
              "      <td>...</td>\n",
              "      <td>...</td>\n",
              "    </tr>\n",
              "    <tr>\n",
              "      <th>2105</th>\n",
              "      <td>0</td>\n",
              "      <td>1289</td>\n",
              "      <td>0.024736</td>\n",
              "    </tr>\n",
              "    <tr>\n",
              "      <th>2106</th>\n",
              "      <td>0</td>\n",
              "      <td>3508</td>\n",
              "      <td>0.049254</td>\n",
              "    </tr>\n",
              "    <tr>\n",
              "      <th>2107</th>\n",
              "      <td>0</td>\n",
              "      <td>6765</td>\n",
              "      <td>0.009619</td>\n",
              "    </tr>\n",
              "    <tr>\n",
              "      <th>2108</th>\n",
              "      <td>0</td>\n",
              "      <td>3598</td>\n",
              "      <td>0.298253</td>\n",
              "    </tr>\n",
              "    <tr>\n",
              "      <th>2109</th>\n",
              "      <td>0</td>\n",
              "      <td>4987</td>\n",
              "      <td>0.009047</td>\n",
              "    </tr>\n",
              "  </tbody>\n",
              "</table>\n",
              "<p>2110 rows × 3 columns</p>\n",
              "</div>"
            ],
            "text/plain": [
              "      Churn  CustID  churn_prob\n",
              "0         0     942    0.534503\n",
              "1         1    3730    0.292735\n",
              "2         0    1761    0.013463\n",
              "3         1    2283    0.700441\n",
              "4         0    1872    0.022563\n",
              "...     ...     ...         ...\n",
              "2105      0    1289    0.024736\n",
              "2106      0    3508    0.049254\n",
              "2107      0    6765    0.009619\n",
              "2108      0    3598    0.298253\n",
              "2109      0    4987    0.009047\n",
              "\n",
              "[2110 rows x 3 columns]"
            ]
          },
          "execution_count": 169,
          "metadata": {},
          "output_type": "execute_result"
        }
      ]
    },
    {
      "cell_type": "code",
      "metadata": {
        "id": "q8Qca7Y8gbGU"
      },
      "source": [
        "# Rearranging the columns\n",
        "y_pred_final = y_pred_final.reindex(columns=['CustID','Churn','churn_prob'])"
      ],
      "execution_count": null,
      "outputs": []
    },
    {
      "cell_type": "code",
      "metadata": {
        "id": "Q3bdO1UogbGW",
        "outputId": "8f91d7b7-3215-46a4-a849-8816abb50b74"
      },
      "source": [
        "# Let's see the head of y_pred_final\n",
        "y_pred_final.head()"
      ],
      "execution_count": null,
      "outputs": [
        {
          "data": {
            "text/html": [
              "<div>\n",
              "<style scoped>\n",
              "    .dataframe tbody tr th:only-of-type {\n",
              "        vertical-align: middle;\n",
              "    }\n",
              "\n",
              "    .dataframe tbody tr th {\n",
              "        vertical-align: top;\n",
              "    }\n",
              "\n",
              "    .dataframe thead th {\n",
              "        text-align: right;\n",
              "    }\n",
              "</style>\n",
              "<table border=\"1\" class=\"dataframe\">\n",
              "  <thead>\n",
              "    <tr style=\"text-align: right;\">\n",
              "      <th></th>\n",
              "      <th>CustID</th>\n",
              "      <th>Churn</th>\n",
              "      <th>churn_prob</th>\n",
              "    </tr>\n",
              "  </thead>\n",
              "  <tbody>\n",
              "    <tr>\n",
              "      <th>0</th>\n",
              "      <td>942</td>\n",
              "      <td>0</td>\n",
              "      <td>0.534503</td>\n",
              "    </tr>\n",
              "    <tr>\n",
              "      <th>1</th>\n",
              "      <td>3730</td>\n",
              "      <td>1</td>\n",
              "      <td>0.292735</td>\n",
              "    </tr>\n",
              "    <tr>\n",
              "      <th>2</th>\n",
              "      <td>1761</td>\n",
              "      <td>0</td>\n",
              "      <td>0.013463</td>\n",
              "    </tr>\n",
              "    <tr>\n",
              "      <th>3</th>\n",
              "      <td>2283</td>\n",
              "      <td>1</td>\n",
              "      <td>0.700441</td>\n",
              "    </tr>\n",
              "    <tr>\n",
              "      <th>4</th>\n",
              "      <td>1872</td>\n",
              "      <td>0</td>\n",
              "      <td>0.022563</td>\n",
              "    </tr>\n",
              "  </tbody>\n",
              "</table>\n",
              "</div>"
            ],
            "text/plain": [
              "   CustID  Churn  churn_prob\n",
              "0     942      0    0.534503\n",
              "1    3730      1    0.292735\n",
              "2    1761      0    0.013463\n",
              "3    2283      1    0.700441\n",
              "4    1872      0    0.022563"
            ]
          },
          "execution_count": 171,
          "metadata": {},
          "output_type": "execute_result"
        }
      ]
    },
    {
      "cell_type": "code",
      "metadata": {
        "id": "SyFP9P76gbGY"
      },
      "source": [
        "# Creating new column 'predicted' with 1 if Churn_Prob>0.5 else 0\n",
        "y_pred_final['predicted'] = y_pred_final.churn_prob.map(lambda x: 1 if x > 0.5 else 0)"
      ],
      "execution_count": null,
      "outputs": []
    },
    {
      "cell_type": "code",
      "metadata": {
        "id": "MtOgSBW2gbGb",
        "outputId": "900423fe-8ed3-489b-c741-1c8c3505de51"
      },
      "source": [
        "# Let's see the head\n",
        "y_pred_final.head()\n"
      ],
      "execution_count": null,
      "outputs": [
        {
          "data": {
            "text/html": [
              "<div>\n",
              "<style scoped>\n",
              "    .dataframe tbody tr th:only-of-type {\n",
              "        vertical-align: middle;\n",
              "    }\n",
              "\n",
              "    .dataframe tbody tr th {\n",
              "        vertical-align: top;\n",
              "    }\n",
              "\n",
              "    .dataframe thead th {\n",
              "        text-align: right;\n",
              "    }\n",
              "</style>\n",
              "<table border=\"1\" class=\"dataframe\">\n",
              "  <thead>\n",
              "    <tr style=\"text-align: right;\">\n",
              "      <th></th>\n",
              "      <th>CustID</th>\n",
              "      <th>Churn</th>\n",
              "      <th>churn_prob</th>\n",
              "      <th>predicted</th>\n",
              "    </tr>\n",
              "  </thead>\n",
              "  <tbody>\n",
              "    <tr>\n",
              "      <th>0</th>\n",
              "      <td>942</td>\n",
              "      <td>0</td>\n",
              "      <td>0.534503</td>\n",
              "      <td>1</td>\n",
              "    </tr>\n",
              "    <tr>\n",
              "      <th>1</th>\n",
              "      <td>3730</td>\n",
              "      <td>1</td>\n",
              "      <td>0.292735</td>\n",
              "      <td>0</td>\n",
              "    </tr>\n",
              "    <tr>\n",
              "      <th>2</th>\n",
              "      <td>1761</td>\n",
              "      <td>0</td>\n",
              "      <td>0.013463</td>\n",
              "      <td>0</td>\n",
              "    </tr>\n",
              "    <tr>\n",
              "      <th>3</th>\n",
              "      <td>2283</td>\n",
              "      <td>1</td>\n",
              "      <td>0.700441</td>\n",
              "      <td>1</td>\n",
              "    </tr>\n",
              "    <tr>\n",
              "      <th>4</th>\n",
              "      <td>1872</td>\n",
              "      <td>0</td>\n",
              "      <td>0.022563</td>\n",
              "      <td>0</td>\n",
              "    </tr>\n",
              "  </tbody>\n",
              "</table>\n",
              "</div>"
            ],
            "text/plain": [
              "   CustID  Churn  churn_prob  predicted\n",
              "0     942      0    0.534503          1\n",
              "1    3730      1    0.292735          0\n",
              "2    1761      0    0.013463          0\n",
              "3    2283      1    0.700441          1\n",
              "4    1872      0    0.022563          0"
            ]
          },
          "execution_count": 173,
          "metadata": {},
          "output_type": "execute_result"
        }
      ]
    },
    {
      "cell_type": "markdown",
      "metadata": {
        "id": "oY9nf9GVgbGd"
      },
      "source": [
        "### Model Evaluation\n",
        "\n",
        "\n",
        "\n",
        "\n",
        "Choosing the right metric is very important in any classification problem.\n",
        "\n",
        "\n",
        "\n",
        "Lets check Confusion matrix for model evaluation\n"
      ]
    },
    {
      "cell_type": "code",
      "metadata": {
        "id": "s-VHGKmigbGe"
      },
      "source": [
        "# import metrics \n",
        "from sklearn import metrics"
      ],
      "execution_count": null,
      "outputs": []
    },
    {
      "cell_type": "code",
      "metadata": {
        "id": "k6tD-9IUgbGg",
        "outputId": "bec56eb8-34b6-4581-841e-b3eb1c231302"
      },
      "source": [
        "# Lets check what all things python provides us in confusion matrix using help function.\n",
        "\n",
        "help(metrics.confusion_matrix)"
      ],
      "execution_count": null,
      "outputs": [
        {
          "name": "stdout",
          "output_type": "stream",
          "text": [
            "Help on function confusion_matrix in module sklearn.metrics._classification:\n",
            "\n",
            "confusion_matrix(y_true, y_pred, *, labels=None, sample_weight=None, normalize=None)\n",
            "    Compute confusion matrix to evaluate the accuracy of a classification.\n",
            "    \n",
            "    By definition a confusion matrix :math:`C` is such that :math:`C_{i, j}`\n",
            "    is equal to the number of observations known to be in group :math:`i` and\n",
            "    predicted to be in group :math:`j`.\n",
            "    \n",
            "    Thus in binary classification, the count of true negatives is\n",
            "    :math:`C_{0,0}`, false negatives is :math:`C_{1,0}`, true positives is\n",
            "    :math:`C_{1,1}` and false positives is :math:`C_{0,1}`.\n",
            "    \n",
            "    Read more in the :ref:`User Guide <confusion_matrix>`.\n",
            "    \n",
            "    Parameters\n",
            "    ----------\n",
            "    y_true : array-like of shape (n_samples,)\n",
            "        Ground truth (correct) target values.\n",
            "    \n",
            "    y_pred : array-like of shape (n_samples,)\n",
            "        Estimated targets as returned by a classifier.\n",
            "    \n",
            "    labels : array-like of shape (n_classes), default=None\n",
            "        List of labels to index the matrix. This may be used to reorder\n",
            "        or select a subset of labels.\n",
            "        If ``None`` is given, those that appear at least once\n",
            "        in ``y_true`` or ``y_pred`` are used in sorted order.\n",
            "    \n",
            "    sample_weight : array-like of shape (n_samples,), default=None\n",
            "        Sample weights.\n",
            "    \n",
            "        .. versionadded:: 0.18\n",
            "    \n",
            "    normalize : {'true', 'pred', 'all'}, default=None\n",
            "        Normalizes confusion matrix over the true (rows), predicted (columns)\n",
            "        conditions or all the population. If None, confusion matrix will not be\n",
            "        normalized.\n",
            "    \n",
            "    Returns\n",
            "    -------\n",
            "    C : ndarray of shape (n_classes, n_classes)\n",
            "        Confusion matrix whose i-th row and j-th\n",
            "        column entry indicates the number of\n",
            "        samples with true label being i-th class\n",
            "        and predicted label being j-th class.\n",
            "    \n",
            "    See Also\n",
            "    --------\n",
            "    plot_confusion_matrix : Plot Confusion Matrix.\n",
            "    ConfusionMatrixDisplay : Confusion Matrix visualization.\n",
            "    \n",
            "    References\n",
            "    ----------\n",
            "    .. [1] `Wikipedia entry for the Confusion matrix\n",
            "           <https://en.wikipedia.org/wiki/Confusion_matrix>`_\n",
            "           (Wikipedia and other references may use a different\n",
            "           convention for axes).\n",
            "    \n",
            "    Examples\n",
            "    --------\n",
            "    >>> from sklearn.metrics import confusion_matrix\n",
            "    >>> y_true = [2, 0, 2, 2, 0, 1]\n",
            "    >>> y_pred = [0, 0, 2, 2, 0, 2]\n",
            "    >>> confusion_matrix(y_true, y_pred)\n",
            "    array([[2, 0, 0],\n",
            "           [0, 0, 1],\n",
            "           [1, 0, 2]])\n",
            "    \n",
            "    >>> y_true = [\"cat\", \"ant\", \"cat\", \"cat\", \"ant\", \"bird\"]\n",
            "    >>> y_pred = [\"ant\", \"ant\", \"cat\", \"cat\", \"ant\", \"cat\"]\n",
            "    >>> confusion_matrix(y_true, y_pred, labels=[\"ant\", \"bird\", \"cat\"])\n",
            "    array([[2, 0, 0],\n",
            "           [0, 0, 1],\n",
            "           [1, 0, 2]])\n",
            "    \n",
            "    In the binary case, we can extract true positives, etc as follows:\n",
            "    \n",
            "    >>> tn, fp, fn, tp = confusion_matrix([0, 1, 0, 1], [1, 1, 1, 0]).ravel()\n",
            "    >>> (tn, fp, fn, tp)\n",
            "    (0, 2, 1, 1)\n",
            "\n"
          ]
        }
      ]
    },
    {
      "cell_type": "code",
      "metadata": {
        "id": "IgB2um74gbGl",
        "outputId": "1f4c7fe1-4827-4de9-e5ed-25b026c257de"
      },
      "source": [
        "# get Confusion matrix \n",
        "confusion = metrics.confusion_matrix(y_pred_final.Churn, y_pred_final.predicted)\n",
        "\n",
        "#print confusion matrix\n",
        "confusion"
      ],
      "execution_count": null,
      "outputs": [
        {
          "data": {
            "text/plain": [
              "array([[1363,  165],\n",
              "       [ 303,  279]], dtype=int64)"
            ]
          },
          "execution_count": 176,
          "metadata": {},
          "output_type": "execute_result"
        }
      ]
    },
    {
      "cell_type": "code",
      "metadata": {
        "id": "vIYqPiI0gbGn"
      },
      "source": [
        "# meaning of above confusion matrix is\n",
        "\n",
        "# Predicted     not_churn    churn\n",
        "# Actual\n",
        "# not_churn        1363      165\n",
        "# churn            273       309"
      ],
      "execution_count": null,
      "outputs": []
    },
    {
      "cell_type": "code",
      "metadata": {
        "id": "QGQOg4LzgbGp",
        "outputId": "b224b649-d2e3-4fc6-feaf-f1a798813f75"
      },
      "source": [
        "#Let's check the overall accuracy.\n",
        "metrics.accuracy_score(y_pred_final.Churn, y_pred_final.predicted)"
      ],
      "execution_count": null,
      "outputs": [
        {
          "data": {
            "text/plain": [
              "0.7781990521327015"
            ]
          },
          "execution_count": 177,
          "metadata": {},
          "output_type": "execute_result"
        }
      ]
    },
    {
      "cell_type": "code",
      "metadata": {
        "id": "_bABB0nEgbGr"
      },
      "source": [
        "# Lets check true positive ,true negatives,false positives and false negatives\n",
        "\n",
        "TP =  confusion[1,1]   # TRUE POSITIVE\n",
        "TN = confusion[0,0]    # TRUE NEGATIVE\n",
        "FP =  confusion[0,1]   # FALSE POSITIVE\n",
        "FN = confusion[1,0]    # FALSE NEGATIVE"
      ],
      "execution_count": null,
      "outputs": []
    },
    {
      "cell_type": "code",
      "metadata": {
        "id": "W4zPQH6fgbGt",
        "outputId": "1a0a7b00-38f9-4782-b2a0-719381f5b1d2"
      },
      "source": [
        "# Let's see the sensitivity(TP/TP+FN) of our logistic regression model\n",
        "TP/float(TP+FN)"
      ],
      "execution_count": null,
      "outputs": [
        {
          "data": {
            "text/plain": [
              "0.4793814432989691"
            ]
          },
          "execution_count": 179,
          "metadata": {},
          "output_type": "execute_result"
        }
      ]
    },
    {
      "cell_type": "code",
      "metadata": {
        "id": "naFWzRt7gbGu",
        "outputId": "09ee4cf0-6fd6-4a74-ebad-7bb09843e273"
      },
      "source": [
        "# Let us calculate specificity(TN/TN+FP)\n",
        "TN/float(TN+FP)"
      ],
      "execution_count": null,
      "outputs": [
        {
          "data": {
            "text/plain": [
              "0.8920157068062827"
            ]
          },
          "execution_count": 180,
          "metadata": {},
          "output_type": "execute_result"
        }
      ]
    },
    {
      "cell_type": "code",
      "metadata": {
        "id": "MjWMobVRgbGw",
        "outputId": "a9cd6e86-b166-468d-9347-a6e3ad887b0a"
      },
      "source": [
        "# Calculate false postive rate - predicting churn when customer does not have churned\n",
        "FP/float(TN+FP)"
      ],
      "execution_count": null,
      "outputs": [
        {
          "data": {
            "text/plain": [
              "0.10798429319371727"
            ]
          },
          "execution_count": 181,
          "metadata": {},
          "output_type": "execute_result"
        }
      ]
    },
    {
      "cell_type": "code",
      "metadata": {
        "id": "IZuDMZ5vgbGy",
        "outputId": "bc4be918-c9ab-4066-ba45-5aef6b76af9a"
      },
      "source": [
        "# positive predictive value \n",
        "TP/float(TP+FP)"
      ],
      "execution_count": null,
      "outputs": [
        {
          "data": {
            "text/plain": [
              "0.6283783783783784"
            ]
          },
          "execution_count": 182,
          "metadata": {},
          "output_type": "execute_result"
        }
      ]
    },
    {
      "cell_type": "code",
      "metadata": {
        "id": "MAzj1ikogbG0",
        "outputId": "273954a0-e11d-4938-feee-bb164f78f267"
      },
      "source": [
        "# Negative predictive value\n",
        "TN/float(TN+FN)"
      ],
      "execution_count": null,
      "outputs": [
        {
          "data": {
            "text/plain": [
              "0.8181272509003601"
            ]
          },
          "execution_count": 183,
          "metadata": {},
          "output_type": "execute_result"
        }
      ]
    },
    {
      "cell_type": "markdown",
      "metadata": {
        "id": "RSiU1yF-gbG1"
      },
      "source": [
        "You can also use classification_report to get precision, recall, f1-score, support"
      ]
    },
    {
      "cell_type": "code",
      "metadata": {
        "id": "FIu2jou9gbG2",
        "outputId": "69a4b2e0-9c81-479b-cc5f-c6f6489700c1"
      },
      "source": [
        "# import classification report\n",
        "from sklearn.metrics import classification_report\n",
        "# print classification_report\n",
        "print(classification_report(y_pred_final.Churn, y_pred_final.predicted))"
      ],
      "execution_count": null,
      "outputs": [
        {
          "name": "stdout",
          "output_type": "stream",
          "text": [
            "              precision    recall  f1-score   support\n",
            "\n",
            "           0       0.82      0.89      0.85      1528\n",
            "           1       0.63      0.48      0.54       582\n",
            "\n",
            "    accuracy                           0.78      2110\n",
            "   macro avg       0.72      0.69      0.70      2110\n",
            "weighted avg       0.77      0.78      0.77      2110\n",
            "\n"
          ]
        }
      ]
    },
    {
      "cell_type": "markdown",
      "metadata": {
        "collapsed": true,
        "id": "6unsA1LrgbG3"
      },
      "source": [
        "### ROC Curve\n",
        "\n",
        "\n"
      ]
    },
    {
      "cell_type": "markdown",
      "metadata": {
        "collapsed": true,
        "id": "jjNVpczggbG5"
      },
      "source": [
        "An ROC curve demonstrates several things:\n",
        "\n",
        "- It shows the tradeoff between sensitivity and specificity (any increase in sensitivity will be accompanied by a decrease in specificity).\n",
        "- The closer the curve follows the left-hand border and then the top border of the ROC space, the more accurate the test.\n",
        "- The closer the curve comes to the 45-degree diagonal of the ROC space, the less accurate the test."
      ]
    },
    {
      "cell_type": "code",
      "metadata": {
        "id": "YQTaW_jTgbG6"
      },
      "source": [
        "# function to plot ROC curve\n",
        "\n",
        "def draw_roc( actual, probs ):\n",
        "    fpr, tpr, thresholds = metrics.roc_curve( actual, probs,\n",
        "                                              drop_intermediate = False )\n",
        "    auc_score = metrics.roc_auc_score( actual, probs )\n",
        "    plt.figure(figsize=(6, 4))\n",
        "    plt.plot( fpr, tpr, label='ROC curve (area = %0.2f)' % auc_score )\n",
        "    plt.plot([0, 1], [0, 1], 'k--')\n",
        "    plt.xlim([0.0, 1.0])\n",
        "    plt.ylim([0.0, 1.05])\n",
        "    plt.xlabel('False Positive Rate or [1 - True Negative Rate]')\n",
        "    plt.ylabel('True Positive Rate')\n",
        "    plt.title('Receiver operating characteristic example')\n",
        "    plt.legend(loc=\"lower right\")\n",
        "    plt.show()\n",
        "\n",
        "    return fpr, tpr, thresholds"
      ],
      "execution_count": null,
      "outputs": []
    },
    {
      "cell_type": "code",
      "metadata": {
        "id": "AUhCT7aLgbG7",
        "outputId": "7cd4925a-b1c9-447a-e302-374a205c1b62"
      },
      "source": [
        "# Use above function to plot ROC curve\n",
        "draw_roc(y_pred_final.Churn, y_pred_final.predicted)\n"
      ],
      "execution_count": null,
      "outputs": [
        {
          "data": {
            "image/png": "[encoded data removed]",
            "text/plain": [
              "<Figure size 432x288 with 1 Axes>"
            ]
          },
          "metadata": {},
          "output_type": "display_data"
        },
        {
          "data": {
            "text/plain": [
              "(array([0.        , 0.10798429, 1.        ]),\n",
              " array([0.        , 0.47938144, 1.        ]),\n",
              " array([2, 1, 0], dtype=int64))"
            ]
          },
          "execution_count": 187,
          "metadata": {},
          "output_type": "execute_result"
        }
      ]
    },
    {
      "cell_type": "markdown",
      "metadata": {
        "id": "NenyooJbgbG8"
      },
      "source": [
        "### Finding Optimal Cutoff Point'\n"
      ]
    },
    {
      "cell_type": "markdown",
      "metadata": {
        "id": "JTUWX47ugbG9"
      },
      "source": [
        "Optimal cutoff probability is that probability where we get balanced sensitivity and specificity"
      ]
    },
    {
      "cell_type": "code",
      "metadata": {
        "id": "I3bSIfFSgbG9",
        "outputId": "afe196e3-191f-4361-eeb6-9dfc89bdd515"
      },
      "source": [
        "# Let's create columns with different probability cutoffs \n",
        "\n",
        "numbers = [float(x)/10 for x in range(10)]\n",
        "\n",
        "# loop numbers and append churn probability to y_pred_final for different prob cutoff \n",
        "for i in numbers:\n",
        "    y_pred_final[i]= y_pred_final.churn_prob.map( lambda x: 1 if x > i else 0)\n",
        "\n",
        "    \n",
        "# print  y_pred_final head\n",
        "y_pred_final.head()"
      ],
      "execution_count": null,
      "outputs": [
        {
          "data": {
            "text/html": [
              "<div>\n",
              "<style scoped>\n",
              "    .dataframe tbody tr th:only-of-type {\n",
              "        vertical-align: middle;\n",
              "    }\n",
              "\n",
              "    .dataframe tbody tr th {\n",
              "        vertical-align: top;\n",
              "    }\n",
              "\n",
              "    .dataframe thead th {\n",
              "        text-align: right;\n",
              "    }\n",
              "</style>\n",
              "<table border=\"1\" class=\"dataframe\">\n",
              "  <thead>\n",
              "    <tr style=\"text-align: right;\">\n",
              "      <th></th>\n",
              "      <th>CustID</th>\n",
              "      <th>Churn</th>\n",
              "      <th>churn_prob</th>\n",
              "      <th>predicted</th>\n",
              "      <th>0.0</th>\n",
              "      <th>0.1</th>\n",
              "      <th>0.2</th>\n",
              "      <th>0.3</th>\n",
              "      <th>0.4</th>\n",
              "      <th>0.5</th>\n",
              "      <th>0.6</th>\n",
              "      <th>0.7</th>\n",
              "      <th>0.8</th>\n",
              "      <th>0.9</th>\n",
              "    </tr>\n",
              "  </thead>\n",
              "  <tbody>\n",
              "    <tr>\n",
              "      <th>0</th>\n",
              "      <td>942</td>\n",
              "      <td>0</td>\n",
              "      <td>0.534503</td>\n",
              "      <td>1</td>\n",
              "      <td>1</td>\n",
              "      <td>1</td>\n",
              "      <td>1</td>\n",
              "      <td>1</td>\n",
              "      <td>1</td>\n",
              "      <td>1</td>\n",
              "      <td>0</td>\n",
              "      <td>0</td>\n",
              "      <td>0</td>\n",
              "      <td>0</td>\n",
              "    </tr>\n",
              "    <tr>\n",
              "      <th>1</th>\n",
              "      <td>3730</td>\n",
              "      <td>1</td>\n",
              "      <td>0.292735</td>\n",
              "      <td>0</td>\n",
              "      <td>1</td>\n",
              "      <td>1</td>\n",
              "      <td>1</td>\n",
              "      <td>0</td>\n",
              "      <td>0</td>\n",
              "      <td>0</td>\n",
              "      <td>0</td>\n",
              "      <td>0</td>\n",
              "      <td>0</td>\n",
              "      <td>0</td>\n",
              "    </tr>\n",
              "    <tr>\n",
              "      <th>2</th>\n",
              "      <td>1761</td>\n",
              "      <td>0</td>\n",
              "      <td>0.013463</td>\n",
              "      <td>0</td>\n",
              "      <td>1</td>\n",
              "      <td>0</td>\n",
              "      <td>0</td>\n",
              "      <td>0</td>\n",
              "      <td>0</td>\n",
              "      <td>0</td>\n",
              "      <td>0</td>\n",
              "      <td>0</td>\n",
              "      <td>0</td>\n",
              "      <td>0</td>\n",
              "    </tr>\n",
              "    <tr>\n",
              "      <th>3</th>\n",
              "      <td>2283</td>\n",
              "      <td>1</td>\n",
              "      <td>0.700441</td>\n",
              "      <td>1</td>\n",
              "      <td>1</td>\n",
              "      <td>1</td>\n",
              "      <td>1</td>\n",
              "      <td>1</td>\n",
              "      <td>1</td>\n",
              "      <td>1</td>\n",
              "      <td>1</td>\n",
              "      <td>1</td>\n",
              "      <td>0</td>\n",
              "      <td>0</td>\n",
              "    </tr>\n",
              "    <tr>\n",
              "      <th>4</th>\n",
              "      <td>1872</td>\n",
              "      <td>0</td>\n",
              "      <td>0.022563</td>\n",
              "      <td>0</td>\n",
              "      <td>1</td>\n",
              "      <td>0</td>\n",
              "      <td>0</td>\n",
              "      <td>0</td>\n",
              "      <td>0</td>\n",
              "      <td>0</td>\n",
              "      <td>0</td>\n",
              "      <td>0</td>\n",
              "      <td>0</td>\n",
              "      <td>0</td>\n",
              "    </tr>\n",
              "  </tbody>\n",
              "</table>\n",
              "</div>"
            ],
            "text/plain": [
              "   CustID  Churn  churn_prob  predicted  0.0  0.1  0.2  0.3  0.4  0.5  0.6  \\\n",
              "0     942      0    0.534503          1    1    1    1    1    1    1    0   \n",
              "1    3730      1    0.292735          0    1    1    1    0    0    0    0   \n",
              "2    1761      0    0.013463          0    1    0    0    0    0    0    0   \n",
              "3    2283      1    0.700441          1    1    1    1    1    1    1    1   \n",
              "4    1872      0    0.022563          0    1    0    0    0    0    0    0   \n",
              "\n",
              "   0.7  0.8  0.9  \n",
              "0    0    0    0  \n",
              "1    0    0    0  \n",
              "2    0    0    0  \n",
              "3    1    0    0  \n",
              "4    0    0    0  "
            ]
          },
          "execution_count": 188,
          "metadata": {},
          "output_type": "execute_result"
        }
      ]
    },
    {
      "cell_type": "markdown",
      "metadata": {
        "id": "XPYFy6dWgbG-"
      },
      "source": [
        "Now let's calculate accuracy sensitivity and specificity for various probability cutoffs.\n"
      ]
    },
    {
      "cell_type": "code",
      "metadata": {
        "id": "AQ7epcyngbG_",
        "outputId": "cbdc0cc1-9afb-4c0f-d32b-8e97ebd976b2"
      },
      "source": [
        "# Create an empty dataframe with columns 'prob','accuracy','sensi' and 'speci'\n",
        "cutoff_df = pd.DataFrame(columns=['prob', 'accuracy','speci','sensi'])\n",
        "\n",
        "num = [0.0,0.1,0.2,0.3,0.4,0.5,0.6,0.7,0.8,0.9]\n",
        "\n",
        "#iterate through num\n",
        "for i in num:\n",
        "    #calculate confusion metrics\n",
        "    cm1 = metrics.confusion_matrix(y_pred_final.Churn, y_pred_final[i])\n",
        "    \n",
        "    #total in cm1\n",
        "    total1= sum(sum(cm1))\n",
        "    \n",
        "    #Calculate accuracy\n",
        "    accuracy = (cm1[0,0]+cm1[1,1])/total1\n",
        "    \n",
        "    #calculate specificity\n",
        "    speci = cm1[0,0]/(cm1[0,0]+cm1[0,1])\n",
        "    \n",
        "    #calculate sensitivity\n",
        "    sensi = cm1[1,1]/(cm1[1,1]+cm1[1,0])\n",
        "    \n",
        "    #append rows in cutoff_df with cutoff values, accuracy, sensitivity and specificity\n",
        "    cutoff_df.loc[i] = [i, accuracy, speci, sensi]\n",
        "\n",
        "# print cutoff_df \n",
        "print(cutoff_df)"
      ],
      "execution_count": null,
      "outputs": [
        {
          "name": "stdout",
          "output_type": "stream",
          "text": [
            "     prob  accuracy     speci     sensi\n",
            "0.0   0.0  0.275829  0.000000  1.000000\n",
            "0.1   0.1  0.596209  0.460733  0.951890\n",
            "0.2   0.2  0.681991  0.607330  0.878007\n",
            "0.3   0.3  0.760190  0.797775  0.661512\n",
            "0.4   0.4  0.768720  0.835079  0.594502\n",
            "0.5   0.5  0.778199  0.892016  0.479381\n",
            "0.6   0.6  0.782938  0.934555  0.384880\n",
            "0.7   0.7  0.749763  0.994110  0.108247\n",
            "0.8   0.8  0.724171  1.000000  0.000000\n",
            "0.9   0.9  0.724171  1.000000  0.000000\n"
          ]
        }
      ]
    },
    {
      "cell_type": "code",
      "metadata": {
        "id": "FYl9quH8gbHB",
        "outputId": "1d03954a-29fe-42d2-a08a-d72e965b21f6"
      },
      "source": [
        "# Let's plot accuracy sensitivity and specificity for various probabilities.\n",
        "cutoff_df.plot.line(x='prob', y=['accuracy','speci','sensi'])"
      ],
      "execution_count": null,
      "outputs": [
        {
          "data": {
            "text/plain": [
              "<AxesSubplot:xlabel='prob'>"
            ]
          },
          "execution_count": 193,
          "metadata": {},
          "output_type": "execute_result"
        },
        {
          "data": {
            "image/png": "[encoded data removed]",
            "text/plain": [
              "<Figure size 432x288 with 1 Axes>"
            ]
          },
          "metadata": {},
          "output_type": "display_data"
        }
      ]
    },
    {
      "cell_type": "markdown",
      "metadata": {
        "id": "bx7n3BoggbHF"
      },
      "source": [
        "### From the curve above, 0.3 is the optimum point to take it as a cutoff probability.\n",
        "\n"
      ]
    },
    {
      "cell_type": "code",
      "metadata": {
        "id": "cD8bGjhygbHG"
      },
      "source": [
        "# Now lets get another column with final_predicted which has 0.3 cutoff probability\n",
        "\n",
        "y_pred_final['final_predicted'] = y_pred_final.churn_prob.map(lambda x: 1 if x > 0.3 else 0)"
      ],
      "execution_count": null,
      "outputs": []
    },
    {
      "cell_type": "code",
      "metadata": {
        "id": "fljqfPRpgbHG",
        "outputId": "6b8ea4f8-47aa-4df0-bfdb-b1ab1feb9415"
      },
      "source": [
        "# print y_pred_final head\n",
        "y_pred_final.head()"
      ],
      "execution_count": null,
      "outputs": [
        {
          "data": {
            "text/html": [
              "<div>\n",
              "<style scoped>\n",
              "    .dataframe tbody tr th:only-of-type {\n",
              "        vertical-align: middle;\n",
              "    }\n",
              "\n",
              "    .dataframe tbody tr th {\n",
              "        vertical-align: top;\n",
              "    }\n",
              "\n",
              "    .dataframe thead th {\n",
              "        text-align: right;\n",
              "    }\n",
              "</style>\n",
              "<table border=\"1\" class=\"dataframe\">\n",
              "  <thead>\n",
              "    <tr style=\"text-align: right;\">\n",
              "      <th></th>\n",
              "      <th>CustID</th>\n",
              "      <th>Churn</th>\n",
              "      <th>churn_prob</th>\n",
              "      <th>predicted</th>\n",
              "      <th>0.0</th>\n",
              "      <th>0.1</th>\n",
              "      <th>0.2</th>\n",
              "      <th>0.3</th>\n",
              "      <th>0.4</th>\n",
              "      <th>0.5</th>\n",
              "      <th>0.6</th>\n",
              "      <th>0.7</th>\n",
              "      <th>0.8</th>\n",
              "      <th>0.9</th>\n",
              "      <th>final_predicted</th>\n",
              "    </tr>\n",
              "  </thead>\n",
              "  <tbody>\n",
              "    <tr>\n",
              "      <th>0</th>\n",
              "      <td>942</td>\n",
              "      <td>0</td>\n",
              "      <td>0.534503</td>\n",
              "      <td>1</td>\n",
              "      <td>1</td>\n",
              "      <td>1</td>\n",
              "      <td>1</td>\n",
              "      <td>1</td>\n",
              "      <td>1</td>\n",
              "      <td>1</td>\n",
              "      <td>0</td>\n",
              "      <td>0</td>\n",
              "      <td>0</td>\n",
              "      <td>0</td>\n",
              "      <td>1</td>\n",
              "    </tr>\n",
              "    <tr>\n",
              "      <th>1</th>\n",
              "      <td>3730</td>\n",
              "      <td>1</td>\n",
              "      <td>0.292735</td>\n",
              "      <td>0</td>\n",
              "      <td>1</td>\n",
              "      <td>1</td>\n",
              "      <td>1</td>\n",
              "      <td>0</td>\n",
              "      <td>0</td>\n",
              "      <td>0</td>\n",
              "      <td>0</td>\n",
              "      <td>0</td>\n",
              "      <td>0</td>\n",
              "      <td>0</td>\n",
              "      <td>0</td>\n",
              "    </tr>\n",
              "    <tr>\n",
              "      <th>2</th>\n",
              "      <td>1761</td>\n",
              "      <td>0</td>\n",
              "      <td>0.013463</td>\n",
              "      <td>0</td>\n",
              "      <td>1</td>\n",
              "      <td>0</td>\n",
              "      <td>0</td>\n",
              "      <td>0</td>\n",
              "      <td>0</td>\n",
              "      <td>0</td>\n",
              "      <td>0</td>\n",
              "      <td>0</td>\n",
              "      <td>0</td>\n",
              "      <td>0</td>\n",
              "      <td>0</td>\n",
              "    </tr>\n",
              "    <tr>\n",
              "      <th>3</th>\n",
              "      <td>2283</td>\n",
              "      <td>1</td>\n",
              "      <td>0.700441</td>\n",
              "      <td>1</td>\n",
              "      <td>1</td>\n",
              "      <td>1</td>\n",
              "      <td>1</td>\n",
              "      <td>1</td>\n",
              "      <td>1</td>\n",
              "      <td>1</td>\n",
              "      <td>1</td>\n",
              "      <td>1</td>\n",
              "      <td>0</td>\n",
              "      <td>0</td>\n",
              "      <td>1</td>\n",
              "    </tr>\n",
              "    <tr>\n",
              "      <th>4</th>\n",
              "      <td>1872</td>\n",
              "      <td>0</td>\n",
              "      <td>0.022563</td>\n",
              "      <td>0</td>\n",
              "      <td>1</td>\n",
              "      <td>0</td>\n",
              "      <td>0</td>\n",
              "      <td>0</td>\n",
              "      <td>0</td>\n",
              "      <td>0</td>\n",
              "      <td>0</td>\n",
              "      <td>0</td>\n",
              "      <td>0</td>\n",
              "      <td>0</td>\n",
              "      <td>0</td>\n",
              "    </tr>\n",
              "  </tbody>\n",
              "</table>\n",
              "</div>"
            ],
            "text/plain": [
              "   CustID  Churn  churn_prob  predicted  0.0  0.1  0.2  0.3  0.4  0.5  0.6  \\\n",
              "0     942      0    0.534503          1    1    1    1    1    1    1    0   \n",
              "1    3730      1    0.292735          0    1    1    1    0    0    0    0   \n",
              "2    1761      0    0.013463          0    1    0    0    0    0    0    0   \n",
              "3    2283      1    0.700441          1    1    1    1    1    1    1    1   \n",
              "4    1872      0    0.022563          0    1    0    0    0    0    0    0   \n",
              "\n",
              "   0.7  0.8  0.9  final_predicted  \n",
              "0    0    0    0                1  \n",
              "1    0    0    0                0  \n",
              "2    0    0    0                0  \n",
              "3    1    0    0                1  \n",
              "4    0    0    0                0  "
            ]
          },
          "execution_count": 196,
          "metadata": {},
          "output_type": "execute_result"
        }
      ]
    },
    {
      "cell_type": "code",
      "metadata": {
        "id": "A3Bf8ku8gbHI",
        "outputId": "4d420b09-3e3a-407f-b4d0-b091b45dc206"
      },
      "source": [
        "#Let's check the overall accuracy now again\n",
        "metrics.accuracy_score(y_pred_final.Churn, y_pred_final.final_predicted)"
      ],
      "execution_count": null,
      "outputs": [
        {
          "data": {
            "text/plain": [
              "0.7601895734597156"
            ]
          },
          "execution_count": 198,
          "metadata": {},
          "output_type": "execute_result"
        }
      ]
    },
    {
      "cell_type": "code",
      "metadata": {
        "id": "4iPfinUQgbHJ",
        "outputId": "1984c25b-bfa8-407b-d5a4-3dd0bac558b7"
      },
      "source": [
        "#Let's check the overall accuracy now again\n",
        "metrics.confusion_matrix(y_pred_final.Churn, y_pred_final.final_predicted)"
      ],
      "execution_count": null,
      "outputs": [
        {
          "data": {
            "text/plain": [
              "array([[1219,  309],\n",
              "       [ 197,  385]], dtype=int64)"
            ]
          },
          "execution_count": 199,
          "metadata": {},
          "output_type": "execute_result"
        }
      ]
    },
    {
      "cell_type": "markdown",
      "metadata": {
        "id": "BnigO5yagbHL"
      },
      "source": [
        "Though this approach of finding best cutoff probability is perfectly fine, but as you can see our error got increased when cutoff is 0.3. \n",
        "\n",
        "\n",
        "The reason may be the features which we used to predict. We need go back and check them again. Else we can even try out different classification problems. \n",
        "\n",
        "\n",
        "\n",
        "\n"
      ]
    },
    {
      "cell_type": "markdown",
      "metadata": {
        "id": "vozaAfpOgbHZ"
      },
      "source": [
        "_______________________________"
      ]
    }
  ]
}