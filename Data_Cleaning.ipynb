{
 "cells": [
  {
   "cell_type": "markdown",
   "metadata": {
    "id": "rc6I3sagkqhR"
   },
   "source": [
    "# <center><u>Data Cleaning</u></center>"
   ]
  },
  {
   "cell_type": "markdown",
   "metadata": {
    "id": "h9sXOHkckqhY"
   },
   "source": [
    " Data cleaning is a part of the process on a data science project.\n",
    " \n",
    "Data cleaning is the process of fixing or removing incorrect, corrupted, incorrectly formatted, duplicate, or incomplete data within a dataset.\n",
    "<br>\n",
    "When you clean your data, all outdated or incorrect information is gone – leaving you with the highest quality information for your analysis and model building."
   ]
  },
  {
   "cell_type": "code",
   "execution_count": 1,
   "metadata": {
    "id": "wF_oQrRAkqhe"
   },
   "outputs": [],
   "source": [
    "# import pandas and numpy with alias pd and np respectively\n",
    "import numpy as np\n",
    "import pandas as pd"
   ]
  },
  {
   "cell_type": "markdown",
   "metadata": {
    "id": "7k4VuSAekqhe"
   },
   "source": [
    "Create a dataframe, d1 = pd.DataFrame( {‘Temperature’ : [1, np.nan, 3, 2, 3] ,’Humidity’ : [22, np.nan, 2 , np.nan, 20 ] })"
   ]
  },
  {
   "cell_type": "code",
   "execution_count": null,
   "metadata": {
    "id": "8fjpdGnskqhe"
   },
   "outputs": [],
   "source": [
    "#create d1\n",
    "d1 = pd.DataFrame({'Temperature':[1,np.nan,3,2,3],'Humidity':[22,np.nan,2,np.nan,20]})"
   ]
  },
  {
   "cell_type": "markdown",
   "metadata": {
    "id": "_6S2Agszkqhf"
   },
   "source": [
    "print the dataframe d1"
   ]
  },
  {
   "cell_type": "code",
   "execution_count": null,
   "metadata": {
    "colab": {
     "base_uri": "https://localhost:8080/",
     "height": 204
    },
    "id": "fauZD3xnkqhf",
    "outputId": "08e7ae08-eb28-411f-98fa-1d4c2dfef95b"
   },
   "outputs": [
    {
     "data": {
      "text/html": [
       "<div>\n",
       "<style scoped>\n",
       "    .dataframe tbody tr th:only-of-type {\n",
       "        vertical-align: middle;\n",
       "    }\n",
       "\n",
       "    .dataframe tbody tr th {\n",
       "        vertical-align: top;\n",
       "    }\n",
       "\n",
       "    .dataframe thead th {\n",
       "        text-align: right;\n",
       "    }\n",
       "</style>\n",
       "<table border=\"1\" class=\"dataframe\">\n",
       "  <thead>\n",
       "    <tr style=\"text-align: right;\">\n",
       "      <th></th>\n",
       "      <th>Temperature</th>\n",
       "      <th>Humidity</th>\n",
       "    </tr>\n",
       "  </thead>\n",
       "  <tbody>\n",
       "    <tr>\n",
       "      <th>0</th>\n",
       "      <td>1.0</td>\n",
       "      <td>22.0</td>\n",
       "    </tr>\n",
       "    <tr>\n",
       "      <th>1</th>\n",
       "      <td>NaN</td>\n",
       "      <td>NaN</td>\n",
       "    </tr>\n",
       "    <tr>\n",
       "      <th>2</th>\n",
       "      <td>3.0</td>\n",
       "      <td>2.0</td>\n",
       "    </tr>\n",
       "    <tr>\n",
       "      <th>3</th>\n",
       "      <td>2.0</td>\n",
       "      <td>NaN</td>\n",
       "    </tr>\n",
       "    <tr>\n",
       "      <th>4</th>\n",
       "      <td>3.0</td>\n",
       "      <td>20.0</td>\n",
       "    </tr>\n",
       "  </tbody>\n",
       "</table>\n",
       "</div>"
      ],
      "text/plain": [
       "   Temperature  Humidity\n",
       "0          1.0      22.0\n",
       "1          NaN       NaN\n",
       "2          3.0       2.0\n",
       "3          2.0       NaN\n",
       "4          3.0      20.0"
      ]
     },
     "execution_count": 3,
     "metadata": {},
     "output_type": "execute_result"
    }
   ],
   "source": [
    "#print d1\n",
    "d1"
   ]
  },
  {
   "cell_type": "markdown",
   "metadata": {
    "id": "PIvW5svikqhg"
   },
   "source": [
    "Find whether the given dataframe contain any missing values? "
   ]
  },
  {
   "cell_type": "code",
   "execution_count": null,
   "metadata": {
    "colab": {
     "base_uri": "https://localhost:8080/",
     "height": 204
    },
    "id": "lJ3MiNk-kqhg",
    "outputId": "e6a50663-d744-40c6-defc-d7340ec8c295"
   },
   "outputs": [
    {
     "data": {
      "text/html": [
       "<div>\n",
       "<style scoped>\n",
       "    .dataframe tbody tr th:only-of-type {\n",
       "        vertical-align: middle;\n",
       "    }\n",
       "\n",
       "    .dataframe tbody tr th {\n",
       "        vertical-align: top;\n",
       "    }\n",
       "\n",
       "    .dataframe thead th {\n",
       "        text-align: right;\n",
       "    }\n",
       "</style>\n",
       "<table border=\"1\" class=\"dataframe\">\n",
       "  <thead>\n",
       "    <tr style=\"text-align: right;\">\n",
       "      <th></th>\n",
       "      <th>Temperature</th>\n",
       "      <th>Humidity</th>\n",
       "    </tr>\n",
       "  </thead>\n",
       "  <tbody>\n",
       "    <tr>\n",
       "      <th>0</th>\n",
       "      <td>False</td>\n",
       "      <td>False</td>\n",
       "    </tr>\n",
       "    <tr>\n",
       "      <th>1</th>\n",
       "      <td>True</td>\n",
       "      <td>True</td>\n",
       "    </tr>\n",
       "    <tr>\n",
       "      <th>2</th>\n",
       "      <td>False</td>\n",
       "      <td>False</td>\n",
       "    </tr>\n",
       "    <tr>\n",
       "      <th>3</th>\n",
       "      <td>False</td>\n",
       "      <td>True</td>\n",
       "    </tr>\n",
       "    <tr>\n",
       "      <th>4</th>\n",
       "      <td>False</td>\n",
       "      <td>False</td>\n",
       "    </tr>\n",
       "  </tbody>\n",
       "</table>\n",
       "</div>"
      ],
      "text/plain": [
       "   Temperature  Humidity\n",
       "0        False     False\n",
       "1         True      True\n",
       "2        False     False\n",
       "3        False      True\n",
       "4        False     False"
      ]
     },
     "execution_count": 5,
     "metadata": {},
     "output_type": "execute_result"
    }
   ],
   "source": [
    "#check for null\n",
    "d1.isnull()"
   ]
  },
  {
   "cell_type": "markdown",
   "metadata": {
    "id": "1mR6mwjZkqhg"
   },
   "source": [
    "How many missing values does each column have?"
   ]
  },
  {
   "cell_type": "code",
   "execution_count": null,
   "metadata": {
    "colab": {
     "base_uri": "https://localhost:8080/"
    },
    "id": "GuttaqhSkqhg",
    "outputId": "082a1e5f-92a1-4db3-c005-f5a6c4bae1f2"
   },
   "outputs": [
    {
     "data": {
      "text/plain": [
       "Temperature    1\n",
       "Humidity       2\n",
       "dtype: int64"
      ]
     },
     "execution_count": 7,
     "metadata": {},
     "output_type": "execute_result"
    }
   ],
   "source": [
    "#total null\n",
    "d1.isnull().sum()"
   ]
  },
  {
   "cell_type": "markdown",
   "metadata": {
    "id": "RdJX6nKdkqhh"
   },
   "source": [
    "## Dealing with missing values\n",
    "\n",
    "\n",
    "\n",
    "<br>Now, we know we have missing values, the next thing that we need to work on, is how to deal with these missing values"
   ]
  },
  {
   "cell_type": "markdown",
   "metadata": {
    "id": "5iYTalWckqhh"
   },
   "source": [
    " - ## Method 1: Delete the rows which contain missing values.\n",
    " This method include dropping all the rows that have missing value in any column. "
   ]
  },
  {
   "cell_type": "markdown",
   "metadata": {
    "id": "sB425bYFkqhh"
   },
   "source": [
    "Use a suitable method to drop all the rows having missing values and save the change in d2 variable"
   ]
  },
  {
   "cell_type": "code",
   "execution_count": null,
   "metadata": {
    "id": "ms-0jJZpkqhh"
   },
   "outputs": [],
   "source": [
    "#drop nan\n",
    "d2 = d1.dropna()"
   ]
  },
  {
   "cell_type": "markdown",
   "metadata": {
    "id": "uvJFaJ8bkqhi"
   },
   "source": [
    "Print d2"
   ]
  },
  {
   "cell_type": "code",
   "execution_count": null,
   "metadata": {
    "colab": {
     "base_uri": "https://localhost:8080/",
     "height": 142
    },
    "id": "YoXoAdXGkqhi",
    "outputId": "b3292468-6ed9-462e-809f-f9ce2852ad42"
   },
   "outputs": [
    {
     "data": {
      "text/html": [
       "<div>\n",
       "<style scoped>\n",
       "    .dataframe tbody tr th:only-of-type {\n",
       "        vertical-align: middle;\n",
       "    }\n",
       "\n",
       "    .dataframe tbody tr th {\n",
       "        vertical-align: top;\n",
       "    }\n",
       "\n",
       "    .dataframe thead th {\n",
       "        text-align: right;\n",
       "    }\n",
       "</style>\n",
       "<table border=\"1\" class=\"dataframe\">\n",
       "  <thead>\n",
       "    <tr style=\"text-align: right;\">\n",
       "      <th></th>\n",
       "      <th>Temperature</th>\n",
       "      <th>Humidity</th>\n",
       "    </tr>\n",
       "  </thead>\n",
       "  <tbody>\n",
       "    <tr>\n",
       "      <th>0</th>\n",
       "      <td>1.0</td>\n",
       "      <td>22.0</td>\n",
       "    </tr>\n",
       "    <tr>\n",
       "      <th>2</th>\n",
       "      <td>3.0</td>\n",
       "      <td>2.0</td>\n",
       "    </tr>\n",
       "    <tr>\n",
       "      <th>4</th>\n",
       "      <td>3.0</td>\n",
       "      <td>20.0</td>\n",
       "    </tr>\n",
       "  </tbody>\n",
       "</table>\n",
       "</div>"
      ],
      "text/plain": [
       "   Temperature  Humidity\n",
       "0          1.0      22.0\n",
       "2          3.0       2.0\n",
       "4          3.0      20.0"
      ]
     },
     "execution_count": 11,
     "metadata": {},
     "output_type": "execute_result"
    }
   ],
   "source": [
    "#print nan\n",
    "d2"
   ]
  },
  {
   "cell_type": "markdown",
   "metadata": {
    "id": "_BYBoQIFkqhi"
   },
   "source": [
    "Hey Remember : droping rows with nan is one of the method to deal with missing values. But you have to decide if you need to go for this method by checking percentage of nan present in the dataframe.\n",
    "\n",
    "If a column is having more than 60% of nan values then its better to remove such variables altogether if business permits "
   ]
  },
  {
   "cell_type": "markdown",
   "metadata": {
    "id": "0E0Gyw0mkqhi"
   },
   "source": [
    "- ## Method 2: Replacing missing values\n",
    "Sometimes rather than dropping NA values, you'd rather replace them with a valid value. This value might be a single number like zero, or it might be some sort of imputation or interpolation"
   ]
  },
  {
   "cell_type": "markdown",
   "metadata": {
    "id": "rwg-9c8ukqhj"
   },
   "source": [
    "Impute the missing values with constant number of your choice"
   ]
  },
  {
   "cell_type": "code",
   "execution_count": null,
   "metadata": {
    "colab": {
     "base_uri": "https://localhost:8080/",
     "height": 204
    },
    "id": "CCzT8A-4kqhj",
    "outputId": "52f56a0d-1935-4f4a-f9c0-45a555ec5c1a"
   },
   "outputs": [
    {
     "data": {
      "text/html": [
       "<div>\n",
       "<style scoped>\n",
       "    .dataframe tbody tr th:only-of-type {\n",
       "        vertical-align: middle;\n",
       "    }\n",
       "\n",
       "    .dataframe tbody tr th {\n",
       "        vertical-align: top;\n",
       "    }\n",
       "\n",
       "    .dataframe thead th {\n",
       "        text-align: right;\n",
       "    }\n",
       "</style>\n",
       "<table border=\"1\" class=\"dataframe\">\n",
       "  <thead>\n",
       "    <tr style=\"text-align: right;\">\n",
       "      <th></th>\n",
       "      <th>Temperature</th>\n",
       "      <th>Humidity</th>\n",
       "    </tr>\n",
       "  </thead>\n",
       "  <tbody>\n",
       "    <tr>\n",
       "      <th>0</th>\n",
       "      <td>1.0</td>\n",
       "      <td>22.0</td>\n",
       "    </tr>\n",
       "    <tr>\n",
       "      <th>1</th>\n",
       "      <td>100.0</td>\n",
       "      <td>100.0</td>\n",
       "    </tr>\n",
       "    <tr>\n",
       "      <th>2</th>\n",
       "      <td>3.0</td>\n",
       "      <td>2.0</td>\n",
       "    </tr>\n",
       "    <tr>\n",
       "      <th>3</th>\n",
       "      <td>2.0</td>\n",
       "      <td>100.0</td>\n",
       "    </tr>\n",
       "    <tr>\n",
       "      <th>4</th>\n",
       "      <td>3.0</td>\n",
       "      <td>20.0</td>\n",
       "    </tr>\n",
       "  </tbody>\n",
       "</table>\n",
       "</div>"
      ],
      "text/plain": [
       "   Temperature  Humidity\n",
       "0          1.0      22.0\n",
       "1        100.0     100.0\n",
       "2          3.0       2.0\n",
       "3          2.0     100.0\n",
       "4          3.0      20.0"
      ]
     },
     "execution_count": 15,
     "metadata": {},
     "output_type": "execute_result"
    }
   ],
   "source": [
    "# The below output has imputed missing  values with 100\n",
    "\n",
    "d_nan = d1.fillna(100)\n",
    "d_nan\n"
   ]
  },
  {
   "cell_type": "markdown",
   "metadata": {
    "id": "Owk-O3CZkqhj"
   },
   "source": [
    "Do you think its a  good way to treat Nan values? What if such constant values are not suitable for our further analysis?\n",
    "Try to give your thoughts on this."
   ]
  },
  {
   "cell_type": "code",
   "execution_count": null,
   "metadata": {
    "colab": {
     "base_uri": "https://localhost:8080/",
     "height": 35
    },
    "id": "4Vn0HNw4kqhj",
    "outputId": "7821cc9a-5f11-4394-a5d2-7729e3a3f90d"
   },
   "outputs": [
    {
     "data": {
      "application/vnd.google.colaboratory.intrinsic+json": {
       "type": "string"
      },
      "text/plain": [
       "'No, treating Nan values with random number is not a great choice, it can make data skewed, or biased with one particular value'"
      ]
     },
     "execution_count": 13,
     "metadata": {},
     "output_type": "execute_result"
    }
   ],
   "source": [
    "\"\"\"No, treating Nan values with random number is not a great choice, it can make data skewed, or biased with one particular value\"\"\""
   ]
  },
  {
   "cell_type": "markdown",
   "metadata": {
    "id": "rHxP4ad7kqhj"
   },
   "source": [
    "Impute the missing values with mean"
   ]
  },
  {
   "cell_type": "code",
   "execution_count": null,
   "metadata": {
    "colab": {
     "base_uri": "https://localhost:8080/",
     "height": 204
    },
    "id": "FKB7R8Takqhk",
    "outputId": "ebae179d-9028-4013-abb1-2d69723bc35c"
   },
   "outputs": [
    {
     "data": {
      "text/html": [
       "<div>\n",
       "<style scoped>\n",
       "    .dataframe tbody tr th:only-of-type {\n",
       "        vertical-align: middle;\n",
       "    }\n",
       "\n",
       "    .dataframe tbody tr th {\n",
       "        vertical-align: top;\n",
       "    }\n",
       "\n",
       "    .dataframe thead th {\n",
       "        text-align: right;\n",
       "    }\n",
       "</style>\n",
       "<table border=\"1\" class=\"dataframe\">\n",
       "  <thead>\n",
       "    <tr style=\"text-align: right;\">\n",
       "      <th></th>\n",
       "      <th>Temperature</th>\n",
       "      <th>Humidity</th>\n",
       "    </tr>\n",
       "  </thead>\n",
       "  <tbody>\n",
       "    <tr>\n",
       "      <th>0</th>\n",
       "      <td>1.00</td>\n",
       "      <td>22.000000</td>\n",
       "    </tr>\n",
       "    <tr>\n",
       "      <th>1</th>\n",
       "      <td>2.25</td>\n",
       "      <td>14.666667</td>\n",
       "    </tr>\n",
       "    <tr>\n",
       "      <th>2</th>\n",
       "      <td>3.00</td>\n",
       "      <td>2.000000</td>\n",
       "    </tr>\n",
       "    <tr>\n",
       "      <th>3</th>\n",
       "      <td>2.00</td>\n",
       "      <td>14.666667</td>\n",
       "    </tr>\n",
       "    <tr>\n",
       "      <th>4</th>\n",
       "      <td>3.00</td>\n",
       "      <td>20.000000</td>\n",
       "    </tr>\n",
       "  </tbody>\n",
       "</table>\n",
       "</div>"
      ],
      "text/plain": [
       "   Temperature   Humidity\n",
       "0         1.00  22.000000\n",
       "1         2.25  14.666667\n",
       "2         3.00   2.000000\n",
       "3         2.00  14.666667\n",
       "4         3.00  20.000000"
      ]
     },
     "execution_count": 20,
     "metadata": {},
     "output_type": "execute_result"
    }
   ],
   "source": [
    "#  imputing mean\n",
    "d_mean = d1.fillna({'Temperature':np.mean(d1['Temperature']),'Humidity': np.mean(d1['Humidity'])})\n",
    "d_mean"
   ]
  },
  {
   "cell_type": "markdown",
   "metadata": {
    "id": "wzwa_GzRkqhk"
   },
   "source": [
    "Impute the missing values with median"
   ]
  },
  {
   "cell_type": "code",
   "execution_count": null,
   "metadata": {
    "colab": {
     "base_uri": "https://localhost:8080/",
     "height": 204
    },
    "id": "CrDrortKkqhk",
    "outputId": "2c54c6b6-95af-433b-d537-48da8f7791a5"
   },
   "outputs": [
    {
     "data": {
      "text/html": [
       "<div>\n",
       "<style scoped>\n",
       "    .dataframe tbody tr th:only-of-type {\n",
       "        vertical-align: middle;\n",
       "    }\n",
       "\n",
       "    .dataframe tbody tr th {\n",
       "        vertical-align: top;\n",
       "    }\n",
       "\n",
       "    .dataframe thead th {\n",
       "        text-align: right;\n",
       "    }\n",
       "</style>\n",
       "<table border=\"1\" class=\"dataframe\">\n",
       "  <thead>\n",
       "    <tr style=\"text-align: right;\">\n",
       "      <th></th>\n",
       "      <th>Temperature</th>\n",
       "      <th>Humidity</th>\n",
       "    </tr>\n",
       "  </thead>\n",
       "  <tbody>\n",
       "    <tr>\n",
       "      <th>0</th>\n",
       "      <td>1.0</td>\n",
       "      <td>22.0</td>\n",
       "    </tr>\n",
       "    <tr>\n",
       "      <th>1</th>\n",
       "      <td>2.5</td>\n",
       "      <td>20.0</td>\n",
       "    </tr>\n",
       "    <tr>\n",
       "      <th>2</th>\n",
       "      <td>3.0</td>\n",
       "      <td>2.0</td>\n",
       "    </tr>\n",
       "    <tr>\n",
       "      <th>3</th>\n",
       "      <td>2.0</td>\n",
       "      <td>20.0</td>\n",
       "    </tr>\n",
       "    <tr>\n",
       "      <th>4</th>\n",
       "      <td>3.0</td>\n",
       "      <td>20.0</td>\n",
       "    </tr>\n",
       "  </tbody>\n",
       "</table>\n",
       "</div>"
      ],
      "text/plain": [
       "   Temperature  Humidity\n",
       "0          1.0      22.0\n",
       "1          2.5      20.0\n",
       "2          3.0       2.0\n",
       "3          2.0      20.0\n",
       "4          3.0      20.0"
      ]
     },
     "execution_count": 23,
     "metadata": {},
     "output_type": "execute_result"
    }
   ],
   "source": [
    "#median imputing\n",
    "\n",
    "d_median = d1.fillna({'Temperature': d1['Temperature'].median(), 'Humidity':d1['Humidity'].median()})\n",
    "d_median"
   ]
  },
  {
   "cell_type": "markdown",
   "metadata": {
    "id": "PRzK4otMkqhk"
   },
   "source": [
    "Replacing with the mean, mode or median approximations are a statistical approach of handling the missing values.\n",
    "\n",
    "Another Fun fact:\n",
    "    \n",
    "    This is an approximation which can add variance to the data set. But the loss of the data can be negated by this method which yields better results compared to removal of rows and columns."
   ]
  },
  {
   "cell_type": "markdown",
   "metadata": {
    "id": "GMtx5Urqkqhk"
   },
   "source": [
    "Impute Nan with forward fill"
   ]
  },
  {
   "cell_type": "code",
   "execution_count": null,
   "metadata": {
    "colab": {
     "base_uri": "https://localhost:8080/",
     "height": 204
    },
    "id": "te5396qBkqhl",
    "outputId": "f2f0f377-b54c-4d0d-eca7-121e78492413"
   },
   "outputs": [
    {
     "data": {
      "text/html": [
       "<div>\n",
       "<style scoped>\n",
       "    .dataframe tbody tr th:only-of-type {\n",
       "        vertical-align: middle;\n",
       "    }\n",
       "\n",
       "    .dataframe tbody tr th {\n",
       "        vertical-align: top;\n",
       "    }\n",
       "\n",
       "    .dataframe thead th {\n",
       "        text-align: right;\n",
       "    }\n",
       "</style>\n",
       "<table border=\"1\" class=\"dataframe\">\n",
       "  <thead>\n",
       "    <tr style=\"text-align: right;\">\n",
       "      <th></th>\n",
       "      <th>Temperature</th>\n",
       "      <th>Humidity</th>\n",
       "    </tr>\n",
       "  </thead>\n",
       "  <tbody>\n",
       "    <tr>\n",
       "      <th>0</th>\n",
       "      <td>1.0</td>\n",
       "      <td>22.0</td>\n",
       "    </tr>\n",
       "    <tr>\n",
       "      <th>1</th>\n",
       "      <td>1.0</td>\n",
       "      <td>22.0</td>\n",
       "    </tr>\n",
       "    <tr>\n",
       "      <th>2</th>\n",
       "      <td>3.0</td>\n",
       "      <td>2.0</td>\n",
       "    </tr>\n",
       "    <tr>\n",
       "      <th>3</th>\n",
       "      <td>2.0</td>\n",
       "      <td>2.0</td>\n",
       "    </tr>\n",
       "    <tr>\n",
       "      <th>4</th>\n",
       "      <td>3.0</td>\n",
       "      <td>20.0</td>\n",
       "    </tr>\n",
       "  </tbody>\n",
       "</table>\n",
       "</div>"
      ],
      "text/plain": [
       "   Temperature  Humidity\n",
       "0          1.0      22.0\n",
       "1          1.0      22.0\n",
       "2          3.0       2.0\n",
       "3          2.0       2.0\n",
       "4          3.0      20.0"
      ]
     },
     "execution_count": 24,
     "metadata": {},
     "output_type": "execute_result"
    }
   ],
   "source": [
    "#forward fill\n",
    "d_ffill = d1.fillna(method='ffill')\n",
    "d_ffill"
   ]
  },
  {
   "cell_type": "markdown",
   "metadata": {
    "id": "eH05-uFJkqhl"
   },
   "source": [
    "Impute Nan with backward fill"
   ]
  },
  {
   "cell_type": "code",
   "execution_count": null,
   "metadata": {
    "colab": {
     "base_uri": "https://localhost:8080/",
     "height": 204
    },
    "id": "8qRteICGkqhl",
    "outputId": "e9632a91-57d0-472a-d7af-710483e2e1e9"
   },
   "outputs": [
    {
     "data": {
      "text/html": [
       "<div>\n",
       "<style scoped>\n",
       "    .dataframe tbody tr th:only-of-type {\n",
       "        vertical-align: middle;\n",
       "    }\n",
       "\n",
       "    .dataframe tbody tr th {\n",
       "        vertical-align: top;\n",
       "    }\n",
       "\n",
       "    .dataframe thead th {\n",
       "        text-align: right;\n",
       "    }\n",
       "</style>\n",
       "<table border=\"1\" class=\"dataframe\">\n",
       "  <thead>\n",
       "    <tr style=\"text-align: right;\">\n",
       "      <th></th>\n",
       "      <th>Temperature</th>\n",
       "      <th>Humidity</th>\n",
       "    </tr>\n",
       "  </thead>\n",
       "  <tbody>\n",
       "    <tr>\n",
       "      <th>0</th>\n",
       "      <td>1.0</td>\n",
       "      <td>22.0</td>\n",
       "    </tr>\n",
       "    <tr>\n",
       "      <th>1</th>\n",
       "      <td>3.0</td>\n",
       "      <td>2.0</td>\n",
       "    </tr>\n",
       "    <tr>\n",
       "      <th>2</th>\n",
       "      <td>3.0</td>\n",
       "      <td>2.0</td>\n",
       "    </tr>\n",
       "    <tr>\n",
       "      <th>3</th>\n",
       "      <td>2.0</td>\n",
       "      <td>20.0</td>\n",
       "    </tr>\n",
       "    <tr>\n",
       "      <th>4</th>\n",
       "      <td>3.0</td>\n",
       "      <td>20.0</td>\n",
       "    </tr>\n",
       "  </tbody>\n",
       "</table>\n",
       "</div>"
      ],
      "text/plain": [
       "   Temperature  Humidity\n",
       "0          1.0      22.0\n",
       "1          3.0       2.0\n",
       "2          3.0       2.0\n",
       "3          2.0      20.0\n",
       "4          3.0      20.0"
      ]
     },
     "execution_count": 25,
     "metadata": {},
     "output_type": "execute_result"
    }
   ],
   "source": [
    "#backward fill\n",
    "d_bfill = d1.fillna(method='bfill')\n",
    "d_bfill"
   ]
  },
  {
   "cell_type": "markdown",
   "metadata": {
    "id": "b9M8GD2Jkqhl"
   },
   "source": [
    "Hey a fun fact here, as sweet as a cookie:\n",
    "\n",
    "- ffill/pad/bfill are good imputation method if our data is of time series. This would keep the trend unaffected for our analysis."
   ]
  },
  {
   "cell_type": "markdown",
   "metadata": {
    "id": "x5J30Hulkqhl"
   },
   "source": [
    "Impute nan using interpolation method"
   ]
  },
  {
   "cell_type": "code",
   "execution_count": null,
   "metadata": {
    "colab": {
     "base_uri": "https://localhost:8080/",
     "height": 204
    },
    "id": "TM3KAAC0kqhl",
    "outputId": "216ad604-fc4b-42ac-f695-9a896d190690"
   },
   "outputs": [
    {
     "data": {
      "text/html": [
       "<div>\n",
       "<style scoped>\n",
       "    .dataframe tbody tr th:only-of-type {\n",
       "        vertical-align: middle;\n",
       "    }\n",
       "\n",
       "    .dataframe tbody tr th {\n",
       "        vertical-align: top;\n",
       "    }\n",
       "\n",
       "    .dataframe thead th {\n",
       "        text-align: right;\n",
       "    }\n",
       "</style>\n",
       "<table border=\"1\" class=\"dataframe\">\n",
       "  <thead>\n",
       "    <tr style=\"text-align: right;\">\n",
       "      <th></th>\n",
       "      <th>Temperature</th>\n",
       "      <th>Humidity</th>\n",
       "    </tr>\n",
       "  </thead>\n",
       "  <tbody>\n",
       "    <tr>\n",
       "      <th>0</th>\n",
       "      <td>1.0</td>\n",
       "      <td>22.0</td>\n",
       "    </tr>\n",
       "    <tr>\n",
       "      <th>1</th>\n",
       "      <td>2.0</td>\n",
       "      <td>12.0</td>\n",
       "    </tr>\n",
       "    <tr>\n",
       "      <th>2</th>\n",
       "      <td>3.0</td>\n",
       "      <td>2.0</td>\n",
       "    </tr>\n",
       "    <tr>\n",
       "      <th>3</th>\n",
       "      <td>2.0</td>\n",
       "      <td>11.0</td>\n",
       "    </tr>\n",
       "    <tr>\n",
       "      <th>4</th>\n",
       "      <td>3.0</td>\n",
       "      <td>20.0</td>\n",
       "    </tr>\n",
       "  </tbody>\n",
       "</table>\n",
       "</div>"
      ],
      "text/plain": [
       "   Temperature  Humidity\n",
       "0          1.0      22.0\n",
       "1          2.0      12.0\n",
       "2          3.0       2.0\n",
       "3          2.0      11.0\n",
       "4          3.0      20.0"
      ]
     },
     "execution_count": 26,
     "metadata": {},
     "output_type": "execute_result"
    }
   ],
   "source": [
    "#interpolate\n",
    "d_ipol = d1.interpolate()\n",
    "d_ipol"
   ]
  },
  {
   "cell_type": "markdown",
   "metadata": {
    "id": "RU3U6gp9kqhm"
   },
   "source": [
    "\n",
    " - Interpolation method by default is linear in nature. It is an imputation technique that assumes a linear relationship between data points and utilises non-missing values from adjacent data points to compute a value for a missing data point.\n",
    "\n",
    "\n"
   ]
  },
  {
   "cell_type": "markdown",
   "metadata": {
    "id": "o8_jyqTskqhm"
   },
   "source": [
    "Perform KNN imputation\n"
   ]
  },
  {
   "cell_type": "code",
   "execution_count": null,
   "metadata": {
    "id": "Dn4P0klaUEWx"
   },
   "outputs": [],
   "source": [
    "from sklearn.impute import KNNImputer\n"
   ]
  },
  {
   "cell_type": "code",
   "execution_count": null,
   "metadata": {
    "colab": {
     "base_uri": "https://localhost:8080/",
     "height": 204
    },
    "id": "_8fxGCuUkqhm",
    "outputId": "cf45e830-d8c7-4c25-b44b-4f2f7d0a77de"
   },
   "outputs": [
    {
     "data": {
      "text/html": [
       "<div>\n",
       "<style scoped>\n",
       "    .dataframe tbody tr th:only-of-type {\n",
       "        vertical-align: middle;\n",
       "    }\n",
       "\n",
       "    .dataframe tbody tr th {\n",
       "        vertical-align: top;\n",
       "    }\n",
       "\n",
       "    .dataframe thead th {\n",
       "        text-align: right;\n",
       "    }\n",
       "</style>\n",
       "<table border=\"1\" class=\"dataframe\">\n",
       "  <thead>\n",
       "    <tr style=\"text-align: right;\">\n",
       "      <th></th>\n",
       "      <th>Temperature</th>\n",
       "      <th>Humidity</th>\n",
       "    </tr>\n",
       "  </thead>\n",
       "  <tbody>\n",
       "    <tr>\n",
       "      <th>0</th>\n",
       "      <td>1.00</td>\n",
       "      <td>22.000000</td>\n",
       "    </tr>\n",
       "    <tr>\n",
       "      <th>1</th>\n",
       "      <td>2.25</td>\n",
       "      <td>14.666667</td>\n",
       "    </tr>\n",
       "    <tr>\n",
       "      <th>2</th>\n",
       "      <td>3.00</td>\n",
       "      <td>2.000000</td>\n",
       "    </tr>\n",
       "    <tr>\n",
       "      <th>3</th>\n",
       "      <td>2.00</td>\n",
       "      <td>12.000000</td>\n",
       "    </tr>\n",
       "    <tr>\n",
       "      <th>4</th>\n",
       "      <td>3.00</td>\n",
       "      <td>20.000000</td>\n",
       "    </tr>\n",
       "  </tbody>\n",
       "</table>\n",
       "</div>"
      ],
      "text/plain": [
       "   Temperature   Humidity\n",
       "0         1.00  22.000000\n",
       "1         2.25  14.666667\n",
       "2         3.00   2.000000\n",
       "3         2.00  12.000000\n",
       "4         3.00  20.000000"
      ]
     },
     "execution_count": 28,
     "metadata": {},
     "output_type": "execute_result"
    }
   ],
   "source": [
    "# Hint: Import KNNImputer and impute it on d1. Also note: Use n_neighbors=2\n",
    "imputer = KNNImputer(n_neighbors=2)\n",
    "d_knn = pd.DataFrame(imputer.fit_transform(d1), columns= d1.columns)\n",
    "d_knn"
   ]
  },
  {
   "cell_type": "markdown",
   "metadata": {
    "id": "sESbshdUkqhm"
   },
   "source": [
    "Point to ponder: KNN is an algorithm that is useful for matching a point with its closest k neighbors in a multi-dimensional space.\n",
    "\n",
    "Do you think scaling is required to implement this method?. Yes you are right the answer is YES.\n",
    "Can you comment below why normalized data is required, so that we understand your logic on this."
   ]
  },
  {
   "cell_type": "markdown",
   "metadata": {
    "id": "xEL5JbBYkqhm"
   },
   "source": [
    "It requires us to normalize our data. Otherwise, the different scales of our data will lead the KNN Imputer to generate biased replacements for the missing values."
   ]
  },
  {
   "cell_type": "raw",
   "metadata": {
    "colab": {
     "base_uri": "https://localhost:8080/",
     "height": 69
    },
    "id": "-v0deGzGVnGb",
    "outputId": "6f71cce5-a3a1-4288-c8f9-c0ee107f657d"
   },
   "source": [
    "normalizing the data set helps to bring data value in the range of 0 and 1, knn method use mean of nearest neighbouring group \n",
    "for imputation of missing value, suppose any of the group contains outlier, then it will skew the data, if we normalized rhe data first hand,\n",
    " no chance of outliers to skew our data, and all the missing value will be in range of 0 to 1"
   ]
  },
  {
   "cell_type": "markdown",
   "metadata": {
    "id": "ReGk1Utckqhn"
   },
   "source": [
    "# Dropping Irrelevant Columns\n",
    "\n"
   ]
  },
  {
   "cell_type": "markdown",
   "metadata": {
    "id": "rJZ0HZJPkqhn"
   },
   "source": [
    "Create a dataframe df = pd.DataFrame(np.random.randint(0,100,size=(100, 5)), columns=list('ABCDE'))\n"
   ]
  },
  {
   "cell_type": "code",
   "execution_count": null,
   "metadata": {
    "id": "XtENCthAkqhn"
   },
   "outputs": [],
   "source": [
    "np.random.seed(10)\n",
    "\n",
    "df = pd.DataFrame(np.random.randint(0,100,size=(100,5)),columns=list('ABCDE'))\n"
   ]
  },
  {
   "cell_type": "markdown",
   "metadata": {
    "id": "bUQ0M4CKkqhn"
   },
   "source": [
    "print df"
   ]
  },
  {
   "cell_type": "code",
   "execution_count": null,
   "metadata": {
    "colab": {
     "base_uri": "https://localhost:8080/",
     "height": 419
    },
    "id": "iuFh13J_kqho",
    "outputId": "ddfb568f-60d5-447f-94da-5486ad5b076e"
   },
   "outputs": [
    {
     "data": {
      "text/html": [
       "<div>\n",
       "<style scoped>\n",
       "    .dataframe tbody tr th:only-of-type {\n",
       "        vertical-align: middle;\n",
       "    }\n",
       "\n",
       "    .dataframe tbody tr th {\n",
       "        vertical-align: top;\n",
       "    }\n",
       "\n",
       "    .dataframe thead th {\n",
       "        text-align: right;\n",
       "    }\n",
       "</style>\n",
       "<table border=\"1\" class=\"dataframe\">\n",
       "  <thead>\n",
       "    <tr style=\"text-align: right;\">\n",
       "      <th></th>\n",
       "      <th>A</th>\n",
       "      <th>B</th>\n",
       "      <th>C</th>\n",
       "      <th>D</th>\n",
       "      <th>E</th>\n",
       "    </tr>\n",
       "  </thead>\n",
       "  <tbody>\n",
       "    <tr>\n",
       "      <th>0</th>\n",
       "      <td>9</td>\n",
       "      <td>15</td>\n",
       "      <td>64</td>\n",
       "      <td>28</td>\n",
       "      <td>89</td>\n",
       "    </tr>\n",
       "    <tr>\n",
       "      <th>1</th>\n",
       "      <td>93</td>\n",
       "      <td>29</td>\n",
       "      <td>8</td>\n",
       "      <td>73</td>\n",
       "      <td>0</td>\n",
       "    </tr>\n",
       "    <tr>\n",
       "      <th>2</th>\n",
       "      <td>40</td>\n",
       "      <td>36</td>\n",
       "      <td>16</td>\n",
       "      <td>11</td>\n",
       "      <td>54</td>\n",
       "    </tr>\n",
       "    <tr>\n",
       "      <th>3</th>\n",
       "      <td>88</td>\n",
       "      <td>62</td>\n",
       "      <td>33</td>\n",
       "      <td>72</td>\n",
       "      <td>78</td>\n",
       "    </tr>\n",
       "    <tr>\n",
       "      <th>4</th>\n",
       "      <td>49</td>\n",
       "      <td>51</td>\n",
       "      <td>54</td>\n",
       "      <td>77</td>\n",
       "      <td>69</td>\n",
       "    </tr>\n",
       "    <tr>\n",
       "      <th>...</th>\n",
       "      <td>...</td>\n",
       "      <td>...</td>\n",
       "      <td>...</td>\n",
       "      <td>...</td>\n",
       "      <td>...</td>\n",
       "    </tr>\n",
       "    <tr>\n",
       "      <th>95</th>\n",
       "      <td>3</td>\n",
       "      <td>50</td>\n",
       "      <td>59</td>\n",
       "      <td>34</td>\n",
       "      <td>21</td>\n",
       "    </tr>\n",
       "    <tr>\n",
       "      <th>96</th>\n",
       "      <td>16</td>\n",
       "      <td>18</td>\n",
       "      <td>61</td>\n",
       "      <td>54</td>\n",
       "      <td>60</td>\n",
       "    </tr>\n",
       "    <tr>\n",
       "      <th>97</th>\n",
       "      <td>21</td>\n",
       "      <td>87</td>\n",
       "      <td>83</td>\n",
       "      <td>71</td>\n",
       "      <td>16</td>\n",
       "    </tr>\n",
       "    <tr>\n",
       "      <th>98</th>\n",
       "      <td>67</td>\n",
       "      <td>38</td>\n",
       "      <td>27</td>\n",
       "      <td>96</td>\n",
       "      <td>87</td>\n",
       "    </tr>\n",
       "    <tr>\n",
       "      <th>99</th>\n",
       "      <td>98</td>\n",
       "      <td>89</td>\n",
       "      <td>16</td>\n",
       "      <td>82</td>\n",
       "      <td>19</td>\n",
       "    </tr>\n",
       "  </tbody>\n",
       "</table>\n",
       "<p>100 rows × 5 columns</p>\n",
       "</div>"
      ],
      "text/plain": [
       "     A   B   C   D   E\n",
       "0    9  15  64  28  89\n",
       "1   93  29   8  73   0\n",
       "2   40  36  16  11  54\n",
       "3   88  62  33  72  78\n",
       "4   49  51  54  77  69\n",
       "..  ..  ..  ..  ..  ..\n",
       "95   3  50  59  34  21\n",
       "96  16  18  61  54  60\n",
       "97  21  87  83  71  16\n",
       "98  67  38  27  96  87\n",
       "99  98  89  16  82  19\n",
       "\n",
       "[100 rows x 5 columns]"
      ]
     },
     "execution_count": 33,
     "metadata": {},
     "output_type": "execute_result"
    }
   ],
   "source": [
    "# print df\n",
    "df"
   ]
  },
  {
   "cell_type": "markdown",
   "metadata": {
    "id": "cctu8rh5lL9j"
   },
   "source": [
    "Note: Since all the rows are having random numbers, your dataframe observations might be different than the output given above"
   ]
  },
  {
   "cell_type": "markdown",
   "metadata": {
    "id": "wwTEQf2Jkqho"
   },
   "source": [
    "Suppose for our analysis our project do not require column E. So you need to remove this column. update this new change using inplace parameter"
   ]
  },
  {
   "cell_type": "code",
   "execution_count": null,
   "metadata": {
    "id": "6dPLhUwikqho"
   },
   "outputs": [],
   "source": [
    "#drop E\n",
    "df.drop(columns='E', inplace= True)"
   ]
  },
  {
   "cell_type": "markdown",
   "metadata": {
    "id": "1rtM-5APkqho"
   },
   "source": [
    "Check if column **E** is removed by printing head of df"
   ]
  },
  {
   "cell_type": "code",
   "execution_count": null,
   "metadata": {
    "colab": {
     "base_uri": "https://localhost:8080/",
     "height": 204
    },
    "id": "yvEa_vfOkqhp",
    "outputId": "b1c1d18b-12f4-4a2b-ba13-574e44573602"
   },
   "outputs": [
    {
     "data": {
      "text/html": [
       "<div>\n",
       "<style scoped>\n",
       "    .dataframe tbody tr th:only-of-type {\n",
       "        vertical-align: middle;\n",
       "    }\n",
       "\n",
       "    .dataframe tbody tr th {\n",
       "        vertical-align: top;\n",
       "    }\n",
       "\n",
       "    .dataframe thead th {\n",
       "        text-align: right;\n",
       "    }\n",
       "</style>\n",
       "<table border=\"1\" class=\"dataframe\">\n",
       "  <thead>\n",
       "    <tr style=\"text-align: right;\">\n",
       "      <th></th>\n",
       "      <th>A</th>\n",
       "      <th>B</th>\n",
       "      <th>C</th>\n",
       "      <th>D</th>\n",
       "    </tr>\n",
       "  </thead>\n",
       "  <tbody>\n",
       "    <tr>\n",
       "      <th>0</th>\n",
       "      <td>9</td>\n",
       "      <td>15</td>\n",
       "      <td>64</td>\n",
       "      <td>28</td>\n",
       "    </tr>\n",
       "    <tr>\n",
       "      <th>1</th>\n",
       "      <td>93</td>\n",
       "      <td>29</td>\n",
       "      <td>8</td>\n",
       "      <td>73</td>\n",
       "    </tr>\n",
       "    <tr>\n",
       "      <th>2</th>\n",
       "      <td>40</td>\n",
       "      <td>36</td>\n",
       "      <td>16</td>\n",
       "      <td>11</td>\n",
       "    </tr>\n",
       "    <tr>\n",
       "      <th>3</th>\n",
       "      <td>88</td>\n",
       "      <td>62</td>\n",
       "      <td>33</td>\n",
       "      <td>72</td>\n",
       "    </tr>\n",
       "    <tr>\n",
       "      <th>4</th>\n",
       "      <td>49</td>\n",
       "      <td>51</td>\n",
       "      <td>54</td>\n",
       "      <td>77</td>\n",
       "    </tr>\n",
       "  </tbody>\n",
       "</table>\n",
       "</div>"
      ],
      "text/plain": [
       "    A   B   C   D\n",
       "0   9  15  64  28\n",
       "1  93  29   8  73\n",
       "2  40  36  16  11\n",
       "3  88  62  33  72\n",
       "4  49  51  54  77"
      ]
     },
     "execution_count": 35,
     "metadata": {},
     "output_type": "execute_result"
    }
   ],
   "source": [
    "#df head\n",
    "df.head()"
   ]
  },
  {
   "cell_type": "markdown",
   "metadata": {
    "id": "XQDwFmMKkqhq"
   },
   "source": [
    "# Ensure requirements as per domain\n"
   ]
  },
  {
   "cell_type": "markdown",
   "metadata": {
    "id": "V1LgaSKOjnPm"
   },
   "source": [
    "\n",
    "Shallow copy the dataframe df in variable df2 and print df2 head\n",
    "\n",
    "\n",
    "\n",
    "\n"
   ]
  },
  {
   "cell_type": "code",
   "execution_count": null,
   "metadata": {
    "colab": {
     "base_uri": "https://localhost:8080/",
     "height": 204
    },
    "id": "uFK6ZRVZjTAt",
    "outputId": "b88fbd8b-d22a-4abb-bc20-f073d8ceb1ee"
   },
   "outputs": [
    {
     "data": {
      "text/html": [
       "<div>\n",
       "<style scoped>\n",
       "    .dataframe tbody tr th:only-of-type {\n",
       "        vertical-align: middle;\n",
       "    }\n",
       "\n",
       "    .dataframe tbody tr th {\n",
       "        vertical-align: top;\n",
       "    }\n",
       "\n",
       "    .dataframe thead th {\n",
       "        text-align: right;\n",
       "    }\n",
       "</style>\n",
       "<table border=\"1\" class=\"dataframe\">\n",
       "  <thead>\n",
       "    <tr style=\"text-align: right;\">\n",
       "      <th></th>\n",
       "      <th>A</th>\n",
       "      <th>B</th>\n",
       "      <th>C</th>\n",
       "      <th>D</th>\n",
       "    </tr>\n",
       "  </thead>\n",
       "  <tbody>\n",
       "    <tr>\n",
       "      <th>0</th>\n",
       "      <td>9</td>\n",
       "      <td>15</td>\n",
       "      <td>64</td>\n",
       "      <td>28</td>\n",
       "    </tr>\n",
       "    <tr>\n",
       "      <th>1</th>\n",
       "      <td>93</td>\n",
       "      <td>29</td>\n",
       "      <td>8</td>\n",
       "      <td>73</td>\n",
       "    </tr>\n",
       "    <tr>\n",
       "      <th>2</th>\n",
       "      <td>40</td>\n",
       "      <td>36</td>\n",
       "      <td>16</td>\n",
       "      <td>11</td>\n",
       "    </tr>\n",
       "    <tr>\n",
       "      <th>3</th>\n",
       "      <td>88</td>\n",
       "      <td>62</td>\n",
       "      <td>33</td>\n",
       "      <td>72</td>\n",
       "    </tr>\n",
       "    <tr>\n",
       "      <th>4</th>\n",
       "      <td>49</td>\n",
       "      <td>51</td>\n",
       "      <td>54</td>\n",
       "      <td>77</td>\n",
       "    </tr>\n",
       "  </tbody>\n",
       "</table>\n",
       "</div>"
      ],
      "text/plain": [
       "    A   B   C   D\n",
       "0   9  15  64  28\n",
       "1  93  29   8  73\n",
       "2  40  36  16  11\n",
       "3  88  62  33  72\n",
       "4  49  51  54  77"
      ]
     },
     "execution_count": 36,
     "metadata": {},
     "output_type": "execute_result"
    }
   ],
   "source": [
    "df2= df.copy(deep= False)\n",
    "\n",
    "#df2 head\n",
    "df2.head()"
   ]
  },
  {
   "cell_type": "markdown",
   "metadata": {
    "id": "2OmoXpwLkqhq"
   },
   "source": [
    "Suppose your domain expert says to filter column B with even numbers to do correct analysis. Implement the same below and update the change in varaible df2."
   ]
  },
  {
   "cell_type": "code",
   "execution_count": null,
   "metadata": {
    "id": "lOG09CHLkqhq"
   },
   "outputs": [],
   "source": [
    "df2= df2[df2['B']%2==0]"
   ]
  },
  {
   "cell_type": "markdown",
   "metadata": {
    "id": "9glWk_f8kqhq"
   },
   "source": [
    "print updated head of *df2*"
   ]
  },
  {
   "cell_type": "code",
   "execution_count": null,
   "metadata": {
    "colab": {
     "base_uri": "https://localhost:8080/",
     "height": 204
    },
    "id": "-7DJrucnkqhq",
    "outputId": "e9e7877e-5375-4975-a840-87232dd7aa81"
   },
   "outputs": [
    {
     "data": {
      "text/html": [
       "<div>\n",
       "<style scoped>\n",
       "    .dataframe tbody tr th:only-of-type {\n",
       "        vertical-align: middle;\n",
       "    }\n",
       "\n",
       "    .dataframe tbody tr th {\n",
       "        vertical-align: top;\n",
       "    }\n",
       "\n",
       "    .dataframe thead th {\n",
       "        text-align: right;\n",
       "    }\n",
       "</style>\n",
       "<table border=\"1\" class=\"dataframe\">\n",
       "  <thead>\n",
       "    <tr style=\"text-align: right;\">\n",
       "      <th></th>\n",
       "      <th>A</th>\n",
       "      <th>B</th>\n",
       "      <th>C</th>\n",
       "      <th>D</th>\n",
       "    </tr>\n",
       "  </thead>\n",
       "  <tbody>\n",
       "    <tr>\n",
       "      <th>2</th>\n",
       "      <td>40</td>\n",
       "      <td>36</td>\n",
       "      <td>16</td>\n",
       "      <td>11</td>\n",
       "    </tr>\n",
       "    <tr>\n",
       "      <th>3</th>\n",
       "      <td>88</td>\n",
       "      <td>62</td>\n",
       "      <td>33</td>\n",
       "      <td>72</td>\n",
       "    </tr>\n",
       "    <tr>\n",
       "      <th>6</th>\n",
       "      <td>30</td>\n",
       "      <td>30</td>\n",
       "      <td>89</td>\n",
       "      <td>12</td>\n",
       "    </tr>\n",
       "    <tr>\n",
       "      <th>9</th>\n",
       "      <td>11</td>\n",
       "      <td>28</td>\n",
       "      <td>74</td>\n",
       "      <td>88</td>\n",
       "    </tr>\n",
       "    <tr>\n",
       "      <th>10</th>\n",
       "      <td>15</td>\n",
       "      <td>18</td>\n",
       "      <td>80</td>\n",
       "      <td>71</td>\n",
       "    </tr>\n",
       "  </tbody>\n",
       "</table>\n",
       "</div>"
      ],
      "text/plain": [
       "     A   B   C   D\n",
       "2   40  36  16  11\n",
       "3   88  62  33  72\n",
       "6   30  30  89  12\n",
       "9   11  28  74  88\n",
       "10  15  18  80  71"
      ]
     },
     "execution_count": 38,
     "metadata": {},
     "output_type": "execute_result"
    }
   ],
   "source": [
    "# df2 head\n",
    "df2.head()"
   ]
  },
  {
   "cell_type": "markdown",
   "metadata": {
    "id": "dRAh9uVnkqhq"
   },
   "source": [
    "# Creating a sensible index values\n",
    "\n"
   ]
  },
  {
   "cell_type": "markdown",
   "metadata": {
    "id": "ngZAGkC2kqhr"
   },
   "source": [
    "Oops. The index in this dataframe doesn't make sense. please correct index in a sequential manner starting from 1. Save the updates in df2"
   ]
  },
  {
   "cell_type": "code",
   "execution_count": null,
   "metadata": {
    "id": "X_M-38Qxkqhr"
   },
   "outputs": [],
   "source": [
    "#set proper index\n",
    "df2.index = [x for x in range(1, len(df2.values)+1)]"
   ]
  },
  {
   "cell_type": "markdown",
   "metadata": {
    "id": "k7MEL_Ldkqhr"
   },
   "source": [
    "print df2 head again"
   ]
  },
  {
   "cell_type": "code",
   "execution_count": null,
   "metadata": {
    "colab": {
     "base_uri": "https://localhost:8080/",
     "height": 204
    },
    "id": "_qLt44-vkqhr",
    "outputId": "c341711b-6a30-4e20-aaeb-e098a82754df"
   },
   "outputs": [
    {
     "data": {
      "text/html": [
       "<div>\n",
       "<style scoped>\n",
       "    .dataframe tbody tr th:only-of-type {\n",
       "        vertical-align: middle;\n",
       "    }\n",
       "\n",
       "    .dataframe tbody tr th {\n",
       "        vertical-align: top;\n",
       "    }\n",
       "\n",
       "    .dataframe thead th {\n",
       "        text-align: right;\n",
       "    }\n",
       "</style>\n",
       "<table border=\"1\" class=\"dataframe\">\n",
       "  <thead>\n",
       "    <tr style=\"text-align: right;\">\n",
       "      <th></th>\n",
       "      <th>A</th>\n",
       "      <th>B</th>\n",
       "      <th>C</th>\n",
       "      <th>D</th>\n",
       "    </tr>\n",
       "  </thead>\n",
       "  <tbody>\n",
       "    <tr>\n",
       "      <th>1</th>\n",
       "      <td>40</td>\n",
       "      <td>36</td>\n",
       "      <td>16</td>\n",
       "      <td>11</td>\n",
       "    </tr>\n",
       "    <tr>\n",
       "      <th>2</th>\n",
       "      <td>88</td>\n",
       "      <td>62</td>\n",
       "      <td>33</td>\n",
       "      <td>72</td>\n",
       "    </tr>\n",
       "    <tr>\n",
       "      <th>3</th>\n",
       "      <td>30</td>\n",
       "      <td>30</td>\n",
       "      <td>89</td>\n",
       "      <td>12</td>\n",
       "    </tr>\n",
       "    <tr>\n",
       "      <th>4</th>\n",
       "      <td>11</td>\n",
       "      <td>28</td>\n",
       "      <td>74</td>\n",
       "      <td>88</td>\n",
       "    </tr>\n",
       "    <tr>\n",
       "      <th>5</th>\n",
       "      <td>15</td>\n",
       "      <td>18</td>\n",
       "      <td>80</td>\n",
       "      <td>71</td>\n",
       "    </tr>\n",
       "  </tbody>\n",
       "</table>\n",
       "</div>"
      ],
      "text/plain": [
       "    A   B   C   D\n",
       "1  40  36  16  11\n",
       "2  88  62  33  72\n",
       "3  30  30  89  12\n",
       "4  11  28  74  88\n",
       "5  15  18  80  71"
      ]
     },
     "execution_count": 44,
     "metadata": {},
     "output_type": "execute_result"
    }
   ],
   "source": [
    "# df2 head\n",
    "df2.head()"
   ]
  },
  {
   "cell_type": "markdown",
   "metadata": {
    "id": "t1htc1J-kqhr"
   },
   "source": [
    "# Renaming column names to meaningful names.\n",
    "\n",
    "\n"
   ]
  },
  {
   "cell_type": "markdown",
   "metadata": {
    "id": "P3JtdP4fkqhr"
   },
   "source": [
    "Now df2 columns represents marks of the adventurous 'Anand', the brave 'Barkha', the compassionate 'Chandu' and the dashing 'Daniel'. Rename the columns with their name inplace of their first letter of their name."
   ]
  },
  {
   "cell_type": "code",
   "execution_count": null,
   "metadata": {
    "id": "wsQ2Sr-9kqhs"
   },
   "outputs": [],
   "source": [
    "#column renaming\n",
    "df2.rename(columns={'A':'Anand','B':'Barkha','C':'Chandu','D':'Daniel'}, inplace= True)"
   ]
  },
  {
   "cell_type": "markdown",
   "metadata": {
    "id": "wwV5om7Ikqhs"
   },
   "source": [
    "print df2 tail with updated column names"
   ]
  },
  {
   "cell_type": "code",
   "execution_count": null,
   "metadata": {
    "colab": {
     "base_uri": "https://localhost:8080/",
     "height": 204
    },
    "id": "ZA5btO84kqhs",
    "outputId": "529c9df8-b134-4d2f-bf25-9e75f0e0b5f8"
   },
   "outputs": [
    {
     "data": {
      "text/html": [
       "<div>\n",
       "<style scoped>\n",
       "    .dataframe tbody tr th:only-of-type {\n",
       "        vertical-align: middle;\n",
       "    }\n",
       "\n",
       "    .dataframe tbody tr th {\n",
       "        vertical-align: top;\n",
       "    }\n",
       "\n",
       "    .dataframe thead th {\n",
       "        text-align: right;\n",
       "    }\n",
       "</style>\n",
       "<table border=\"1\" class=\"dataframe\">\n",
       "  <thead>\n",
       "    <tr style=\"text-align: right;\">\n",
       "      <th></th>\n",
       "      <th>Anand</th>\n",
       "      <th>Barkha</th>\n",
       "      <th>Chandu</th>\n",
       "      <th>Daniel</th>\n",
       "    </tr>\n",
       "  </thead>\n",
       "  <tbody>\n",
       "    <tr>\n",
       "      <th>44</th>\n",
       "      <td>1</td>\n",
       "      <td>82</td>\n",
       "      <td>34</td>\n",
       "      <td>11</td>\n",
       "    </tr>\n",
       "    <tr>\n",
       "      <th>45</th>\n",
       "      <td>74</td>\n",
       "      <td>36</td>\n",
       "      <td>6</td>\n",
       "      <td>63</td>\n",
       "    </tr>\n",
       "    <tr>\n",
       "      <th>46</th>\n",
       "      <td>3</td>\n",
       "      <td>50</td>\n",
       "      <td>59</td>\n",
       "      <td>34</td>\n",
       "    </tr>\n",
       "    <tr>\n",
       "      <th>47</th>\n",
       "      <td>16</td>\n",
       "      <td>18</td>\n",
       "      <td>61</td>\n",
       "      <td>54</td>\n",
       "    </tr>\n",
       "    <tr>\n",
       "      <th>48</th>\n",
       "      <td>67</td>\n",
       "      <td>38</td>\n",
       "      <td>27</td>\n",
       "      <td>96</td>\n",
       "    </tr>\n",
       "  </tbody>\n",
       "</table>\n",
       "</div>"
      ],
      "text/plain": [
       "    Anand  Barkha  Chandu  Daniel\n",
       "44      1      82      34      11\n",
       "45     74      36       6      63\n",
       "46      3      50      59      34\n",
       "47     16      18      61      54\n",
       "48     67      38      27      96"
      ]
     },
     "execution_count": 46,
     "metadata": {},
     "output_type": "execute_result"
    }
   ],
   "source": [
    "# df2 head\n",
    "df2.tail()"
   ]
  },
  {
   "cell_type": "markdown",
   "metadata": {
    "id": "OVPJo5YEkqhs"
   },
   "source": [
    "Yeah! now the data looks pretty meaningful to study"
   ]
  },
  {
   "cell_type": "markdown",
   "metadata": {
    "id": "TmIexkkOkqhs"
   },
   "source": [
    "# Treating Duplicate Data\n"
   ]
  },
  {
   "cell_type": "markdown",
   "metadata": {
    "id": "FisYRuFD0CA7"
   },
   "source": [
    "Make another dataframe df3 by deep copying df2."
   ]
  },
  {
   "cell_type": "code",
   "execution_count": null,
   "metadata": {
    "id": "7YdZvdGozNFT"
   },
   "outputs": [],
   "source": [
    "df3= df2.copy(deep = True)"
   ]
  },
  {
   "cell_type": "markdown",
   "metadata": {
    "id": "3hCi4Zjokqhs"
   },
   "source": [
    "Make another column in df3 with name 'dummy' having 0 as values\n",
    "throughout the rows."
   ]
  },
  {
   "cell_type": "code",
   "execution_count": null,
   "metadata": {
    "id": "IdXkjwYHkqht"
   },
   "outputs": [],
   "source": [
    "#assign dummy column full of zero value\n",
    "df3['dummy'] = 0"
   ]
  },
  {
   "cell_type": "code",
   "execution_count": null,
   "metadata": {
    "colab": {
     "base_uri": "https://localhost:8080/"
    },
    "id": "en7XzaxD2rrV",
    "outputId": "907cac90-4e6d-4e74-94a7-d433ab4f7728"
   },
   "outputs": [
    {
     "name": "stdout",
     "output_type": "stream",
     "text": [
      "    A   B   C   D\n",
      "0   9  15  64  28\n",
      "1  93  29   8  73\n",
      "2  40  36  16  11\n",
      "3  88  62  33  72\n",
      "4  49  51  54  77\n",
      "   Anand  Barkha  Chandu  Daniel\n",
      "1     40      36      16      11\n",
      "2     88      62      33      72\n",
      "3     30      30      89      12\n",
      "4     11      28      74      88\n",
      "5     15      18      80      71\n",
      "   Anand  Barkha  Chandu  Daniel  dummy\n",
      "1     40      36      16      11      0\n",
      "2     88      62      33      72      0\n",
      "3     30      30      89      12      0\n",
      "4     11      28      74      88      0\n",
      "5     15      18      80      71      0\n"
     ]
    }
   ],
   "source": [
    "# print head of df, df2 and df3\n",
    "print(df.head())\n",
    "print(df2.head())\n",
    "print(df3.head())\n"
   ]
  },
  {
   "cell_type": "markdown",
   "metadata": {
    "id": "MxcNd_Ja1YXs"
   },
   "source": [
    "Don't you think, there is some difference between copy operation used for creating df2 and df3.\n",
    "\n"
   ]
  },
  {
   "cell_type": "code",
   "execution_count": null,
   "metadata": {
    "id": "HLLRqTPx1oRs"
   },
   "outputs": [],
   "source": [
    "# copy provides two method shallow and deep, shaloow method actually points to the original dataset, so when we imply any change to the any of the dataset it will reflect back to both the dataset original and copied\n",
    "# while when we use deep method, it creates another memory location for the copied dataframe, and any changes made to any one of the dataset will remain intact with themself only"
   ]
  },
  {
   "cell_type": "markdown",
   "metadata": {
    "id": "2vlkb3edkqht"
   },
   "source": [
    "print tail of df3"
   ]
  },
  {
   "cell_type": "code",
   "execution_count": null,
   "metadata": {
    "colab": {
     "base_uri": "https://localhost:8080/",
     "height": 204
    },
    "id": "asZ8XuR55qIC",
    "outputId": "6ddc2b8e-b4eb-49bc-fd9f-c24a1027f517"
   },
   "outputs": [
    {
     "data": {
      "text/html": [
       "<div>\n",
       "<style scoped>\n",
       "    .dataframe tbody tr th:only-of-type {\n",
       "        vertical-align: middle;\n",
       "    }\n",
       "\n",
       "    .dataframe tbody tr th {\n",
       "        vertical-align: top;\n",
       "    }\n",
       "\n",
       "    .dataframe thead th {\n",
       "        text-align: right;\n",
       "    }\n",
       "</style>\n",
       "<table border=\"1\" class=\"dataframe\">\n",
       "  <thead>\n",
       "    <tr style=\"text-align: right;\">\n",
       "      <th></th>\n",
       "      <th>Anand</th>\n",
       "      <th>Barkha</th>\n",
       "      <th>Chandu</th>\n",
       "      <th>Daniel</th>\n",
       "      <th>dummy</th>\n",
       "    </tr>\n",
       "  </thead>\n",
       "  <tbody>\n",
       "    <tr>\n",
       "      <th>44</th>\n",
       "      <td>1</td>\n",
       "      <td>82</td>\n",
       "      <td>34</td>\n",
       "      <td>11</td>\n",
       "      <td>0</td>\n",
       "    </tr>\n",
       "    <tr>\n",
       "      <th>45</th>\n",
       "      <td>74</td>\n",
       "      <td>36</td>\n",
       "      <td>6</td>\n",
       "      <td>63</td>\n",
       "      <td>0</td>\n",
       "    </tr>\n",
       "    <tr>\n",
       "      <th>46</th>\n",
       "      <td>3</td>\n",
       "      <td>50</td>\n",
       "      <td>59</td>\n",
       "      <td>34</td>\n",
       "      <td>0</td>\n",
       "    </tr>\n",
       "    <tr>\n",
       "      <th>47</th>\n",
       "      <td>16</td>\n",
       "      <td>18</td>\n",
       "      <td>61</td>\n",
       "      <td>54</td>\n",
       "      <td>0</td>\n",
       "    </tr>\n",
       "    <tr>\n",
       "      <th>48</th>\n",
       "      <td>67</td>\n",
       "      <td>38</td>\n",
       "      <td>27</td>\n",
       "      <td>96</td>\n",
       "      <td>0</td>\n",
       "    </tr>\n",
       "  </tbody>\n",
       "</table>\n",
       "</div>"
      ],
      "text/plain": [
       "    Anand  Barkha  Chandu  Daniel  dummy\n",
       "44      1      82      34      11      0\n",
       "45     74      36       6      63      0\n",
       "46      3      50      59      34      0\n",
       "47     16      18      61      54      0\n",
       "48     67      38      27      96      0"
      ]
     },
     "execution_count": 56,
     "metadata": {},
     "output_type": "execute_result"
    }
   ],
   "source": [
    "# df3 tail\n",
    "df3.tail()"
   ]
  },
  {
   "cell_type": "markdown",
   "metadata": {
    "id": "r4ulvQTdkqht"
   },
   "source": [
    "make an array name 'ListB' with values of column 'Barkha'"
   ]
  },
  {
   "cell_type": "code",
   "execution_count": null,
   "metadata": {
    "id": "DDQvQNGdkqht"
   },
   "outputs": [],
   "source": [
    "ListB= np.array(df3['Barkha'])"
   ]
  },
  {
   "cell_type": "markdown",
   "metadata": {
    "id": "kxp2Sttm57LA"
   },
   "source": [
    "Print ListB"
   ]
  },
  {
   "cell_type": "code",
   "execution_count": null,
   "metadata": {
    "colab": {
     "base_uri": "https://localhost:8080/"
    },
    "id": "fCqZUrDdkqht",
    "outputId": "5d17e96c-374d-4a53-cddc-bb5f41e74069"
   },
   "outputs": [
    {
     "data": {
      "text/plain": [
       "array([36, 62, 30, 28, 18, 50, 88, 50, 80, 66, 96, 30,  4, 30,  2, 42, 94,\n",
       "       18, 44, 68, 58, 48, 70, 22, 36, 32, 32, 96, 30, 86,  0, 76, 88, 64,\n",
       "       52, 46, 20, 66, 56,  8, 68, 50, 28, 82, 36, 50, 18, 38])"
      ]
     },
     "execution_count": 60,
     "metadata": {},
     "output_type": "execute_result"
    }
   ],
   "source": [
    "#print ListB\n",
    "ListB"
   ]
  },
  {
   "cell_type": "markdown",
   "metadata": {
    "id": "XdTgrnTJkqhu"
   },
   "source": [
    "Assign this array values as another column in df3 with name 'Anonymous'"
   ]
  },
  {
   "cell_type": "code",
   "execution_count": null,
   "metadata": {
    "id": "2U01qa6Akqhu"
   },
   "outputs": [],
   "source": [
    "#create Anonymous column\n",
    "df3['Anonymous'] = pd.DataFrame(ListB,index= df3.index)"
   ]
  },
  {
   "cell_type": "code",
   "execution_count": null,
   "metadata": {
    "colab": {
     "base_uri": "https://localhost:8080/",
     "height": 204
    },
    "id": "Z6awXZkc5uzn",
    "outputId": "2b3fe5c7-631c-437c-c981-e2bdf0aa0a29"
   },
   "outputs": [
    {
     "data": {
      "text/html": [
       "<div>\n",
       "<style scoped>\n",
       "    .dataframe tbody tr th:only-of-type {\n",
       "        vertical-align: middle;\n",
       "    }\n",
       "\n",
       "    .dataframe tbody tr th {\n",
       "        vertical-align: top;\n",
       "    }\n",
       "\n",
       "    .dataframe thead th {\n",
       "        text-align: right;\n",
       "    }\n",
       "</style>\n",
       "<table border=\"1\" class=\"dataframe\">\n",
       "  <thead>\n",
       "    <tr style=\"text-align: right;\">\n",
       "      <th></th>\n",
       "      <th>Anand</th>\n",
       "      <th>Barkha</th>\n",
       "      <th>Chandu</th>\n",
       "      <th>Daniel</th>\n",
       "      <th>dummy</th>\n",
       "      <th>Anonymous</th>\n",
       "    </tr>\n",
       "  </thead>\n",
       "  <tbody>\n",
       "    <tr>\n",
       "      <th>1</th>\n",
       "      <td>40</td>\n",
       "      <td>36</td>\n",
       "      <td>16</td>\n",
       "      <td>11</td>\n",
       "      <td>0</td>\n",
       "      <td>36</td>\n",
       "    </tr>\n",
       "    <tr>\n",
       "      <th>2</th>\n",
       "      <td>88</td>\n",
       "      <td>62</td>\n",
       "      <td>33</td>\n",
       "      <td>72</td>\n",
       "      <td>0</td>\n",
       "      <td>62</td>\n",
       "    </tr>\n",
       "    <tr>\n",
       "      <th>3</th>\n",
       "      <td>30</td>\n",
       "      <td>30</td>\n",
       "      <td>89</td>\n",
       "      <td>12</td>\n",
       "      <td>0</td>\n",
       "      <td>30</td>\n",
       "    </tr>\n",
       "    <tr>\n",
       "      <th>4</th>\n",
       "      <td>11</td>\n",
       "      <td>28</td>\n",
       "      <td>74</td>\n",
       "      <td>88</td>\n",
       "      <td>0</td>\n",
       "      <td>28</td>\n",
       "    </tr>\n",
       "    <tr>\n",
       "      <th>5</th>\n",
       "      <td>15</td>\n",
       "      <td>18</td>\n",
       "      <td>80</td>\n",
       "      <td>71</td>\n",
       "      <td>0</td>\n",
       "      <td>18</td>\n",
       "    </tr>\n",
       "  </tbody>\n",
       "</table>\n",
       "</div>"
      ],
      "text/plain": [
       "   Anand  Barkha  Chandu  Daniel  dummy  Anonymous\n",
       "1     40      36      16      11      0         36\n",
       "2     88      62      33      72      0         62\n",
       "3     30      30      89      12      0         30\n",
       "4     11      28      74      88      0         28\n",
       "5     15      18      80      71      0         18"
      ]
     },
     "execution_count": 71,
     "metadata": {},
     "output_type": "execute_result"
    }
   ],
   "source": [
    "df3.head()"
   ]
  },
  {
   "cell_type": "markdown",
   "metadata": {
    "id": "9Tnv9FxNkqhu"
   },
   "source": [
    "#Create a dataframe 'ListA' with values of row index 3, 10 and 40 -->"
   ]
  },
  {
   "cell_type": "code",
   "execution_count": null,
   "metadata": {
    "id": "6KjmI6RRkqhu"
   },
   "outputs": [],
   "source": [
    "ListA= df3.loc[[3,10,40]]"
   ]
  },
  {
   "cell_type": "markdown",
   "metadata": {
    "id": "536Zw_9kkqhu"
   },
   "source": [
    "print ListA"
   ]
  },
  {
   "cell_type": "code",
   "execution_count": null,
   "metadata": {
    "colab": {
     "base_uri": "https://localhost:8080/",
     "height": 142
    },
    "id": "uiwW-8S9kqhu",
    "outputId": "aeaea931-7490-437e-edd8-f6d30e9c144b"
   },
   "outputs": [
    {
     "data": {
      "text/html": [
       "<div>\n",
       "<style scoped>\n",
       "    .dataframe tbody tr th:only-of-type {\n",
       "        vertical-align: middle;\n",
       "    }\n",
       "\n",
       "    .dataframe tbody tr th {\n",
       "        vertical-align: top;\n",
       "    }\n",
       "\n",
       "    .dataframe thead th {\n",
       "        text-align: right;\n",
       "    }\n",
       "</style>\n",
       "<table border=\"1\" class=\"dataframe\">\n",
       "  <thead>\n",
       "    <tr style=\"text-align: right;\">\n",
       "      <th></th>\n",
       "      <th>Anand</th>\n",
       "      <th>Barkha</th>\n",
       "      <th>Chandu</th>\n",
       "      <th>Daniel</th>\n",
       "      <th>dummy</th>\n",
       "      <th>Anonymous</th>\n",
       "    </tr>\n",
       "  </thead>\n",
       "  <tbody>\n",
       "    <tr>\n",
       "      <th>3</th>\n",
       "      <td>30</td>\n",
       "      <td>30</td>\n",
       "      <td>89</td>\n",
       "      <td>12</td>\n",
       "      <td>0</td>\n",
       "      <td>30</td>\n",
       "    </tr>\n",
       "    <tr>\n",
       "      <th>10</th>\n",
       "      <td>96</td>\n",
       "      <td>66</td>\n",
       "      <td>67</td>\n",
       "      <td>62</td>\n",
       "      <td>0</td>\n",
       "      <td>66</td>\n",
       "    </tr>\n",
       "    <tr>\n",
       "      <th>40</th>\n",
       "      <td>74</td>\n",
       "      <td>8</td>\n",
       "      <td>92</td>\n",
       "      <td>32</td>\n",
       "      <td>0</td>\n",
       "      <td>8</td>\n",
       "    </tr>\n",
       "  </tbody>\n",
       "</table>\n",
       "</div>"
      ],
      "text/plain": [
       "    Anand  Barkha  Chandu  Daniel  dummy  Anonymous\n",
       "3      30      30      89      12      0         30\n",
       "10     96      66      67      62      0         66\n",
       "40     74       8      92      32      0          8"
      ]
     },
     "execution_count": 74,
     "metadata": {},
     "output_type": "execute_result"
    }
   ],
   "source": [
    "# print ListA\n",
    "ListA"
   ]
  },
  {
   "cell_type": "markdown",
   "metadata": {
    "id": "HLT1U7ZQkqhu"
   },
   "source": [
    "Concat ListA to df3 ignoring the index values of ListA so that we can maintain the sequential index value thoughout the dataframe."
   ]
  },
  {
   "cell_type": "code",
   "execution_count": null,
   "metadata": {
    "id": "zj_zUXiokqhv"
   },
   "outputs": [],
   "source": [
    "df3= df3.append(ListA, ignore_index= True)"
   ]
  },
  {
   "cell_type": "markdown",
   "metadata": {
    "id": "qp2M-WnYkqhv"
   },
   "source": [
    "print head of df3"
   ]
  },
  {
   "cell_type": "code",
   "execution_count": null,
   "metadata": {
    "colab": {
     "base_uri": "https://localhost:8080/",
     "height": 204
    },
    "id": "GwotDl4Tkqhv",
    "outputId": "84e9744d-a2a6-4737-fc2f-5595353a89ca"
   },
   "outputs": [
    {
     "data": {
      "text/html": [
       "<div>\n",
       "<style scoped>\n",
       "    .dataframe tbody tr th:only-of-type {\n",
       "        vertical-align: middle;\n",
       "    }\n",
       "\n",
       "    .dataframe tbody tr th {\n",
       "        vertical-align: top;\n",
       "    }\n",
       "\n",
       "    .dataframe thead th {\n",
       "        text-align: right;\n",
       "    }\n",
       "</style>\n",
       "<table border=\"1\" class=\"dataframe\">\n",
       "  <thead>\n",
       "    <tr style=\"text-align: right;\">\n",
       "      <th></th>\n",
       "      <th>Anand</th>\n",
       "      <th>Barkha</th>\n",
       "      <th>Chandu</th>\n",
       "      <th>Daniel</th>\n",
       "      <th>dummy</th>\n",
       "      <th>Anonymous</th>\n",
       "    </tr>\n",
       "  </thead>\n",
       "  <tbody>\n",
       "    <tr>\n",
       "      <th>0</th>\n",
       "      <td>40</td>\n",
       "      <td>36</td>\n",
       "      <td>16</td>\n",
       "      <td>11</td>\n",
       "      <td>0</td>\n",
       "      <td>36</td>\n",
       "    </tr>\n",
       "    <tr>\n",
       "      <th>1</th>\n",
       "      <td>88</td>\n",
       "      <td>62</td>\n",
       "      <td>33</td>\n",
       "      <td>72</td>\n",
       "      <td>0</td>\n",
       "      <td>62</td>\n",
       "    </tr>\n",
       "    <tr>\n",
       "      <th>2</th>\n",
       "      <td>30</td>\n",
       "      <td>30</td>\n",
       "      <td>89</td>\n",
       "      <td>12</td>\n",
       "      <td>0</td>\n",
       "      <td>30</td>\n",
       "    </tr>\n",
       "    <tr>\n",
       "      <th>3</th>\n",
       "      <td>11</td>\n",
       "      <td>28</td>\n",
       "      <td>74</td>\n",
       "      <td>88</td>\n",
       "      <td>0</td>\n",
       "      <td>28</td>\n",
       "    </tr>\n",
       "    <tr>\n",
       "      <th>4</th>\n",
       "      <td>15</td>\n",
       "      <td>18</td>\n",
       "      <td>80</td>\n",
       "      <td>71</td>\n",
       "      <td>0</td>\n",
       "      <td>18</td>\n",
       "    </tr>\n",
       "  </tbody>\n",
       "</table>\n",
       "</div>"
      ],
      "text/plain": [
       "   Anand  Barkha  Chandu  Daniel  dummy  Anonymous\n",
       "0     40      36      16      11      0         36\n",
       "1     88      62      33      72      0         62\n",
       "2     30      30      89      12      0         30\n",
       "3     11      28      74      88      0         28\n",
       "4     15      18      80      71      0         18"
      ]
     },
     "execution_count": 79,
     "metadata": {},
     "output_type": "execute_result"
    }
   ],
   "source": [
    "# df3 head\n",
    "df3.head()"
   ]
  },
  {
   "cell_type": "markdown",
   "metadata": {
    "id": "ETx-cCU5kqhv"
   },
   "source": [
    "Check if there is any duplicate rows present in the dataframe df3"
   ]
  },
  {
   "cell_type": "code",
   "execution_count": null,
   "metadata": {
    "colab": {
     "base_uri": "https://localhost:8080/",
     "height": 142
    },
    "id": "KkK9vv6Lkqhv",
    "outputId": "cc24c958-547b-4de1-e56c-9c0191a44d8a"
   },
   "outputs": [
    {
     "data": {
      "text/html": [
       "<div>\n",
       "<style scoped>\n",
       "    .dataframe tbody tr th:only-of-type {\n",
       "        vertical-align: middle;\n",
       "    }\n",
       "\n",
       "    .dataframe tbody tr th {\n",
       "        vertical-align: top;\n",
       "    }\n",
       "\n",
       "    .dataframe thead th {\n",
       "        text-align: right;\n",
       "    }\n",
       "</style>\n",
       "<table border=\"1\" class=\"dataframe\">\n",
       "  <thead>\n",
       "    <tr style=\"text-align: right;\">\n",
       "      <th></th>\n",
       "      <th>Anand</th>\n",
       "      <th>Barkha</th>\n",
       "      <th>Chandu</th>\n",
       "      <th>Daniel</th>\n",
       "      <th>dummy</th>\n",
       "      <th>Anonymous</th>\n",
       "    </tr>\n",
       "  </thead>\n",
       "  <tbody>\n",
       "    <tr>\n",
       "      <th>48</th>\n",
       "      <td>30</td>\n",
       "      <td>30</td>\n",
       "      <td>89</td>\n",
       "      <td>12</td>\n",
       "      <td>0</td>\n",
       "      <td>30</td>\n",
       "    </tr>\n",
       "    <tr>\n",
       "      <th>49</th>\n",
       "      <td>96</td>\n",
       "      <td>66</td>\n",
       "      <td>67</td>\n",
       "      <td>62</td>\n",
       "      <td>0</td>\n",
       "      <td>66</td>\n",
       "    </tr>\n",
       "    <tr>\n",
       "      <th>50</th>\n",
       "      <td>74</td>\n",
       "      <td>8</td>\n",
       "      <td>92</td>\n",
       "      <td>32</td>\n",
       "      <td>0</td>\n",
       "      <td>8</td>\n",
       "    </tr>\n",
       "  </tbody>\n",
       "</table>\n",
       "</div>"
      ],
      "text/plain": [
       "    Anand  Barkha  Chandu  Daniel  dummy  Anonymous\n",
       "48     30      30      89      12      0         30\n",
       "49     96      66      67      62      0         66\n",
       "50     74       8      92      32      0          8"
      ]
     },
     "execution_count": 83,
     "metadata": {},
     "output_type": "execute_result"
    }
   ],
   "source": [
    "#check duplicate\n",
    "df3[df3.duplicated()]"
   ]
  },
  {
   "cell_type": "markdown",
   "metadata": {
    "id": "Okvw1xgtkqhv"
   },
   "source": [
    "By above output it seems we do have duplicated rows in our dataset"
   ]
  },
  {
   "cell_type": "markdown",
   "metadata": {
    "id": "z0QOuS-_kqhw"
   },
   "source": [
    "Drop duplicated rows using pandas function keeping first values of such duplicated observations"
   ]
  },
  {
   "cell_type": "code",
   "execution_count": null,
   "metadata": {
    "id": "gRsgecqbkqhw"
   },
   "outputs": [],
   "source": [
    "#drop duplicate\n",
    "df3.drop_duplicates(keep='first',inplace= True)"
   ]
  },
  {
   "cell_type": "markdown",
   "metadata": {
    "id": "FbNFF-4jkqhw"
   },
   "source": [
    "Check again if we have any duplicate row values present "
   ]
  },
  {
   "cell_type": "code",
   "execution_count": null,
   "metadata": {
    "id": "ehOxm1Mckqhw"
   },
   "outputs": [],
   "source": [
    "#check duplicate\n",
    "def check_duplicate_columns(df):\n",
    "  #create empty set\n",
    "  duplicateColumnsName = set()\n",
    "  #iterate through all column values\n",
    "  for x in range(df.shape[1]):\n",
    "    #take column at xth index\n",
    "    col = df.iloc[:,x]\n",
    "    #iterate through all columns from x+1 to last column\n",
    "    for y in range(x+1, df.shape[1]):\n",
    "      # take column at yth index\n",
    "      otherCol = df.iloc[:, y]\n",
    "      # check if two columns at xth and yth are eual or not\n",
    "      # add to set if equal\n",
    "      if col.equals(otherCol):\n",
    "        duplicateColumnsName.add(df.columns.values[y])\n",
    "    # Return list of unique column names \n",
    "    # whose contents are duplicates.\n",
    "  return list(duplicateColumnsName)\n",
    "\n",
    " \n"
   ]
  },
  {
   "cell_type": "code",
   "execution_count": null,
   "metadata": {
    "colab": {
     "base_uri": "https://localhost:8080/"
    },
    "id": "bZMGrSpMPLVP",
    "outputId": "df6be5d1-7242-437d-bb6b-4cd8f0265056"
   },
   "outputs": [
    {
     "data": {
      "text/plain": [
       "['Anonymous']"
      ]
     },
     "execution_count": 159,
     "metadata": {},
     "output_type": "execute_result"
    }
   ],
   "source": [
    "check_duplicate_columns(df3)"
   ]
  },
  {
   "cell_type": "code",
   "execution_count": null,
   "metadata": {
    "colab": {
     "base_uri": "https://localhost:8080/"
    },
    "id": "VGrB1ZufKHrK",
    "outputId": "849d8a56-cfcd-4d54-a65f-6748df8da02f"
   },
   "outputs": [
    {
     "name": "stdout",
     "output_type": "stream",
     "text": [
      "Duplicate Columns are :\n",
      "Column Name :  Anonymous\n"
     ]
    }
   ],
   "source": [
    "# Get list of duplicate columns\n",
    "duplicateColumnsName = check_duplicate_columns(df3)\n",
    "  \n",
    "print('Duplicate Columns are :')\n",
    "        \n",
    "    # Iterate through duplicate\n",
    "    # column names\n",
    "for column in duplicateColumnsName :\n",
    "  print('Column Name : ', column)"
   ]
  },
  {
   "cell_type": "markdown",
   "metadata": {
    "id": "7Sg80lIkkqhw"
   },
   "source": [
    "Yipeee!! Did you notice the dataframe is free from any duplicate rows now."
   ]
  },
  {
   "cell_type": "markdown",
   "metadata": {
    "id": "za0nup3Pkqhw"
   },
   "source": [
    "Drop any duplicate columns present in the dataframe df"
   ]
  },
  {
   "cell_type": "code",
   "execution_count": null,
   "metadata": {
    "colab": {
     "base_uri": "https://localhost:8080/",
     "height": 204
    },
    "id": "UnJ6lWoMhCtn",
    "outputId": "f3d36415-2e59-44a6-baf7-72dcb7343ef9"
   },
   "outputs": [
    {
     "data": {
      "text/html": [
       "<div>\n",
       "<style scoped>\n",
       "    .dataframe tbody tr th:only-of-type {\n",
       "        vertical-align: middle;\n",
       "    }\n",
       "\n",
       "    .dataframe tbody tr th {\n",
       "        vertical-align: top;\n",
       "    }\n",
       "\n",
       "    .dataframe thead th {\n",
       "        text-align: right;\n",
       "    }\n",
       "</style>\n",
       "<table border=\"1\" class=\"dataframe\">\n",
       "  <thead>\n",
       "    <tr style=\"text-align: right;\">\n",
       "      <th></th>\n",
       "      <th>Anand</th>\n",
       "      <th>Barkha</th>\n",
       "      <th>Chandu</th>\n",
       "      <th>Daniel</th>\n",
       "      <th>dummy</th>\n",
       "      <th>Anonymous</th>\n",
       "    </tr>\n",
       "  </thead>\n",
       "  <tbody>\n",
       "    <tr>\n",
       "      <th>0</th>\n",
       "      <td>40</td>\n",
       "      <td>36</td>\n",
       "      <td>16</td>\n",
       "      <td>11</td>\n",
       "      <td>0</td>\n",
       "      <td>36</td>\n",
       "    </tr>\n",
       "    <tr>\n",
       "      <th>1</th>\n",
       "      <td>88</td>\n",
       "      <td>62</td>\n",
       "      <td>33</td>\n",
       "      <td>72</td>\n",
       "      <td>0</td>\n",
       "      <td>62</td>\n",
       "    </tr>\n",
       "    <tr>\n",
       "      <th>2</th>\n",
       "      <td>30</td>\n",
       "      <td>30</td>\n",
       "      <td>89</td>\n",
       "      <td>12</td>\n",
       "      <td>0</td>\n",
       "      <td>30</td>\n",
       "    </tr>\n",
       "    <tr>\n",
       "      <th>3</th>\n",
       "      <td>11</td>\n",
       "      <td>28</td>\n",
       "      <td>74</td>\n",
       "      <td>88</td>\n",
       "      <td>0</td>\n",
       "      <td>28</td>\n",
       "    </tr>\n",
       "    <tr>\n",
       "      <th>4</th>\n",
       "      <td>15</td>\n",
       "      <td>18</td>\n",
       "      <td>80</td>\n",
       "      <td>71</td>\n",
       "      <td>0</td>\n",
       "      <td>18</td>\n",
       "    </tr>\n",
       "  </tbody>\n",
       "</table>\n",
       "</div>"
      ],
      "text/plain": [
       "   Anand  Barkha  Chandu  Daniel  dummy  Anonymous\n",
       "0     40      36      16      11      0         36\n",
       "1     88      62      33      72      0         62\n",
       "2     30      30      89      12      0         30\n",
       "3     11      28      74      88      0         28\n",
       "4     15      18      80      71      0         18"
      ]
     },
     "execution_count": 148,
     "metadata": {},
     "output_type": "execute_result"
    }
   ],
   "source": [
    "df3.head()"
   ]
  },
  {
   "cell_type": "code",
   "execution_count": null,
   "metadata": {
    "colab": {
     "base_uri": "https://localhost:8080/",
     "height": 1000
    },
    "id": "NE9l9xM0kqhw",
    "outputId": "06f16746-ca06-48df-b458-8d100f555d24"
   },
   "outputs": [
    {
     "data": {
      "text/html": [
       "<div>\n",
       "<style scoped>\n",
       "    .dataframe tbody tr th:only-of-type {\n",
       "        vertical-align: middle;\n",
       "    }\n",
       "\n",
       "    .dataframe tbody tr th {\n",
       "        vertical-align: top;\n",
       "    }\n",
       "\n",
       "    .dataframe thead th {\n",
       "        text-align: right;\n",
       "    }\n",
       "</style>\n",
       "<table border=\"1\" class=\"dataframe\">\n",
       "  <thead>\n",
       "    <tr style=\"text-align: right;\">\n",
       "      <th></th>\n",
       "      <th>Anand</th>\n",
       "      <th>Barkha</th>\n",
       "      <th>Chandu</th>\n",
       "      <th>Daniel</th>\n",
       "      <th>dummy</th>\n",
       "    </tr>\n",
       "  </thead>\n",
       "  <tbody>\n",
       "    <tr>\n",
       "      <th>0</th>\n",
       "      <td>40</td>\n",
       "      <td>36</td>\n",
       "      <td>16</td>\n",
       "      <td>11</td>\n",
       "      <td>0</td>\n",
       "    </tr>\n",
       "    <tr>\n",
       "      <th>1</th>\n",
       "      <td>88</td>\n",
       "      <td>62</td>\n",
       "      <td>33</td>\n",
       "      <td>72</td>\n",
       "      <td>0</td>\n",
       "    </tr>\n",
       "    <tr>\n",
       "      <th>2</th>\n",
       "      <td>30</td>\n",
       "      <td>30</td>\n",
       "      <td>89</td>\n",
       "      <td>12</td>\n",
       "      <td>0</td>\n",
       "    </tr>\n",
       "    <tr>\n",
       "      <th>3</th>\n",
       "      <td>11</td>\n",
       "      <td>28</td>\n",
       "      <td>74</td>\n",
       "      <td>88</td>\n",
       "      <td>0</td>\n",
       "    </tr>\n",
       "    <tr>\n",
       "      <th>4</th>\n",
       "      <td>15</td>\n",
       "      <td>18</td>\n",
       "      <td>80</td>\n",
       "      <td>71</td>\n",
       "      <td>0</td>\n",
       "    </tr>\n",
       "    <tr>\n",
       "      <th>5</th>\n",
       "      <td>88</td>\n",
       "      <td>50</td>\n",
       "      <td>54</td>\n",
       "      <td>34</td>\n",
       "      <td>0</td>\n",
       "    </tr>\n",
       "    <tr>\n",
       "      <th>6</th>\n",
       "      <td>77</td>\n",
       "      <td>88</td>\n",
       "      <td>15</td>\n",
       "      <td>6</td>\n",
       "      <td>0</td>\n",
       "    </tr>\n",
       "    <tr>\n",
       "      <th>7</th>\n",
       "      <td>97</td>\n",
       "      <td>50</td>\n",
       "      <td>45</td>\n",
       "      <td>40</td>\n",
       "      <td>0</td>\n",
       "    </tr>\n",
       "    <tr>\n",
       "      <th>8</th>\n",
       "      <td>81</td>\n",
       "      <td>80</td>\n",
       "      <td>41</td>\n",
       "      <td>90</td>\n",
       "      <td>0</td>\n",
       "    </tr>\n",
       "    <tr>\n",
       "      <th>9</th>\n",
       "      <td>96</td>\n",
       "      <td>66</td>\n",
       "      <td>67</td>\n",
       "      <td>62</td>\n",
       "      <td>0</td>\n",
       "    </tr>\n",
       "    <tr>\n",
       "      <th>10</th>\n",
       "      <td>88</td>\n",
       "      <td>96</td>\n",
       "      <td>73</td>\n",
       "      <td>40</td>\n",
       "      <td>0</td>\n",
       "    </tr>\n",
       "    <tr>\n",
       "      <th>11</th>\n",
       "      <td>28</td>\n",
       "      <td>30</td>\n",
       "      <td>89</td>\n",
       "      <td>25</td>\n",
       "      <td>0</td>\n",
       "    </tr>\n",
       "    <tr>\n",
       "      <th>12</th>\n",
       "      <td>33</td>\n",
       "      <td>4</td>\n",
       "      <td>87</td>\n",
       "      <td>94</td>\n",
       "      <td>0</td>\n",
       "    </tr>\n",
       "    <tr>\n",
       "      <th>13</th>\n",
       "      <td>68</td>\n",
       "      <td>30</td>\n",
       "      <td>70</td>\n",
       "      <td>74</td>\n",
       "      <td>0</td>\n",
       "    </tr>\n",
       "    <tr>\n",
       "      <th>14</th>\n",
       "      <td>9</td>\n",
       "      <td>2</td>\n",
       "      <td>65</td>\n",
       "      <td>13</td>\n",
       "      <td>0</td>\n",
       "    </tr>\n",
       "    <tr>\n",
       "      <th>15</th>\n",
       "      <td>62</td>\n",
       "      <td>42</td>\n",
       "      <td>34</td>\n",
       "      <td>40</td>\n",
       "      <td>0</td>\n",
       "    </tr>\n",
       "    <tr>\n",
       "      <th>16</th>\n",
       "      <td>32</td>\n",
       "      <td>94</td>\n",
       "      <td>86</td>\n",
       "      <td>58</td>\n",
       "      <td>0</td>\n",
       "    </tr>\n",
       "    <tr>\n",
       "      <th>17</th>\n",
       "      <td>45</td>\n",
       "      <td>18</td>\n",
       "      <td>50</td>\n",
       "      <td>44</td>\n",
       "      <td>0</td>\n",
       "    </tr>\n",
       "    <tr>\n",
       "      <th>18</th>\n",
       "      <td>6</td>\n",
       "      <td>44</td>\n",
       "      <td>9</td>\n",
       "      <td>50</td>\n",
       "      <td>0</td>\n",
       "    </tr>\n",
       "    <tr>\n",
       "      <th>19</th>\n",
       "      <td>44</td>\n",
       "      <td>68</td>\n",
       "      <td>14</td>\n",
       "      <td>4</td>\n",
       "      <td>0</td>\n",
       "    </tr>\n",
       "    <tr>\n",
       "      <th>20</th>\n",
       "      <td>39</td>\n",
       "      <td>58</td>\n",
       "      <td>81</td>\n",
       "      <td>39</td>\n",
       "      <td>0</td>\n",
       "    </tr>\n",
       "    <tr>\n",
       "      <th>21</th>\n",
       "      <td>69</td>\n",
       "      <td>48</td>\n",
       "      <td>60</td>\n",
       "      <td>58</td>\n",
       "      <td>0</td>\n",
       "    </tr>\n",
       "    <tr>\n",
       "      <th>22</th>\n",
       "      <td>5</td>\n",
       "      <td>70</td>\n",
       "      <td>61</td>\n",
       "      <td>16</td>\n",
       "      <td>0</td>\n",
       "    </tr>\n",
       "    <tr>\n",
       "      <th>23</th>\n",
       "      <td>4</td>\n",
       "      <td>22</td>\n",
       "      <td>19</td>\n",
       "      <td>85</td>\n",
       "      <td>0</td>\n",
       "    </tr>\n",
       "    <tr>\n",
       "      <th>24</th>\n",
       "      <td>10</td>\n",
       "      <td>36</td>\n",
       "      <td>0</td>\n",
       "      <td>30</td>\n",
       "      <td>0</td>\n",
       "    </tr>\n",
       "    <tr>\n",
       "      <th>25</th>\n",
       "      <td>85</td>\n",
       "      <td>32</td>\n",
       "      <td>81</td>\n",
       "      <td>13</td>\n",
       "      <td>0</td>\n",
       "    </tr>\n",
       "    <tr>\n",
       "      <th>26</th>\n",
       "      <td>31</td>\n",
       "      <td>32</td>\n",
       "      <td>96</td>\n",
       "      <td>38</td>\n",
       "      <td>0</td>\n",
       "    </tr>\n",
       "    <tr>\n",
       "      <th>27</th>\n",
       "      <td>0</td>\n",
       "      <td>96</td>\n",
       "      <td>25</td>\n",
       "      <td>63</td>\n",
       "      <td>0</td>\n",
       "    </tr>\n",
       "    <tr>\n",
       "      <th>28</th>\n",
       "      <td>2</td>\n",
       "      <td>30</td>\n",
       "      <td>17</td>\n",
       "      <td>59</td>\n",
       "      <td>0</td>\n",
       "    </tr>\n",
       "    <tr>\n",
       "      <th>29</th>\n",
       "      <td>63</td>\n",
       "      <td>86</td>\n",
       "      <td>29</td>\n",
       "      <td>71</td>\n",
       "      <td>0</td>\n",
       "    </tr>\n",
       "    <tr>\n",
       "      <th>30</th>\n",
       "      <td>19</td>\n",
       "      <td>0</td>\n",
       "      <td>7</td>\n",
       "      <td>93</td>\n",
       "      <td>0</td>\n",
       "    </tr>\n",
       "    <tr>\n",
       "      <th>31</th>\n",
       "      <td>58</td>\n",
       "      <td>76</td>\n",
       "      <td>10</td>\n",
       "      <td>79</td>\n",
       "      <td>0</td>\n",
       "    </tr>\n",
       "    <tr>\n",
       "      <th>32</th>\n",
       "      <td>7</td>\n",
       "      <td>88</td>\n",
       "      <td>96</td>\n",
       "      <td>38</td>\n",
       "      <td>0</td>\n",
       "    </tr>\n",
       "    <tr>\n",
       "      <th>33</th>\n",
       "      <td>27</td>\n",
       "      <td>64</td>\n",
       "      <td>49</td>\n",
       "      <td>90</td>\n",
       "      <td>0</td>\n",
       "    </tr>\n",
       "    <tr>\n",
       "      <th>34</th>\n",
       "      <td>27</td>\n",
       "      <td>52</td>\n",
       "      <td>90</td>\n",
       "      <td>57</td>\n",
       "      <td>0</td>\n",
       "    </tr>\n",
       "    <tr>\n",
       "      <th>35</th>\n",
       "      <td>99</td>\n",
       "      <td>46</td>\n",
       "      <td>46</td>\n",
       "      <td>45</td>\n",
       "      <td>0</td>\n",
       "    </tr>\n",
       "    <tr>\n",
       "      <th>36</th>\n",
       "      <td>84</td>\n",
       "      <td>20</td>\n",
       "      <td>49</td>\n",
       "      <td>33</td>\n",
       "      <td>0</td>\n",
       "    </tr>\n",
       "    <tr>\n",
       "      <th>37</th>\n",
       "      <td>77</td>\n",
       "      <td>66</td>\n",
       "      <td>37</td>\n",
       "      <td>31</td>\n",
       "      <td>0</td>\n",
       "    </tr>\n",
       "    <tr>\n",
       "      <th>38</th>\n",
       "      <td>82</td>\n",
       "      <td>56</td>\n",
       "      <td>41</td>\n",
       "      <td>90</td>\n",
       "      <td>0</td>\n",
       "    </tr>\n",
       "    <tr>\n",
       "      <th>39</th>\n",
       "      <td>74</td>\n",
       "      <td>8</td>\n",
       "      <td>92</td>\n",
       "      <td>32</td>\n",
       "      <td>0</td>\n",
       "    </tr>\n",
       "    <tr>\n",
       "      <th>40</th>\n",
       "      <td>87</td>\n",
       "      <td>68</td>\n",
       "      <td>86</td>\n",
       "      <td>14</td>\n",
       "      <td>0</td>\n",
       "    </tr>\n",
       "    <tr>\n",
       "      <th>41</th>\n",
       "      <td>50</td>\n",
       "      <td>50</td>\n",
       "      <td>85</td>\n",
       "      <td>14</td>\n",
       "      <td>0</td>\n",
       "    </tr>\n",
       "    <tr>\n",
       "      <th>42</th>\n",
       "      <td>1</td>\n",
       "      <td>28</td>\n",
       "      <td>58</td>\n",
       "      <td>10</td>\n",
       "      <td>0</td>\n",
       "    </tr>\n",
       "    <tr>\n",
       "      <th>43</th>\n",
       "      <td>1</td>\n",
       "      <td>82</td>\n",
       "      <td>34</td>\n",
       "      <td>11</td>\n",
       "      <td>0</td>\n",
       "    </tr>\n",
       "    <tr>\n",
       "      <th>44</th>\n",
       "      <td>74</td>\n",
       "      <td>36</td>\n",
       "      <td>6</td>\n",
       "      <td>63</td>\n",
       "      <td>0</td>\n",
       "    </tr>\n",
       "    <tr>\n",
       "      <th>45</th>\n",
       "      <td>3</td>\n",
       "      <td>50</td>\n",
       "      <td>59</td>\n",
       "      <td>34</td>\n",
       "      <td>0</td>\n",
       "    </tr>\n",
       "    <tr>\n",
       "      <th>46</th>\n",
       "      <td>16</td>\n",
       "      <td>18</td>\n",
       "      <td>61</td>\n",
       "      <td>54</td>\n",
       "      <td>0</td>\n",
       "    </tr>\n",
       "    <tr>\n",
       "      <th>47</th>\n",
       "      <td>67</td>\n",
       "      <td>38</td>\n",
       "      <td>27</td>\n",
       "      <td>96</td>\n",
       "      <td>0</td>\n",
       "    </tr>\n",
       "  </tbody>\n",
       "</table>\n",
       "</div>"
      ],
      "text/plain": [
       "    Anand  Barkha  Chandu  Daniel  dummy\n",
       "0      40      36      16      11      0\n",
       "1      88      62      33      72      0\n",
       "2      30      30      89      12      0\n",
       "3      11      28      74      88      0\n",
       "4      15      18      80      71      0\n",
       "5      88      50      54      34      0\n",
       "6      77      88      15       6      0\n",
       "7      97      50      45      40      0\n",
       "8      81      80      41      90      0\n",
       "9      96      66      67      62      0\n",
       "10     88      96      73      40      0\n",
       "11     28      30      89      25      0\n",
       "12     33       4      87      94      0\n",
       "13     68      30      70      74      0\n",
       "14      9       2      65      13      0\n",
       "15     62      42      34      40      0\n",
       "16     32      94      86      58      0\n",
       "17     45      18      50      44      0\n",
       "18      6      44       9      50      0\n",
       "19     44      68      14       4      0\n",
       "20     39      58      81      39      0\n",
       "21     69      48      60      58      0\n",
       "22      5      70      61      16      0\n",
       "23      4      22      19      85      0\n",
       "24     10      36       0      30      0\n",
       "25     85      32      81      13      0\n",
       "26     31      32      96      38      0\n",
       "27      0      96      25      63      0\n",
       "28      2      30      17      59      0\n",
       "29     63      86      29      71      0\n",
       "30     19       0       7      93      0\n",
       "31     58      76      10      79      0\n",
       "32      7      88      96      38      0\n",
       "33     27      64      49      90      0\n",
       "34     27      52      90      57      0\n",
       "35     99      46      46      45      0\n",
       "36     84      20      49      33      0\n",
       "37     77      66      37      31      0\n",
       "38     82      56      41      90      0\n",
       "39     74       8      92      32      0\n",
       "40     87      68      86      14      0\n",
       "41     50      50      85      14      0\n",
       "42      1      28      58      10      0\n",
       "43      1      82      34      11      0\n",
       "44     74      36       6      63      0\n",
       "45      3      50      59      34      0\n",
       "46     16      18      61      54      0\n",
       "47     67      38      27      96      0"
      ]
     },
     "execution_count": 161,
     "metadata": {},
     "output_type": "execute_result"
    }
   ],
   "source": [
    "df3 = df3.T.drop_duplicates().T\n",
    "\n",
    "#print df3\n",
    "df3"
   ]
  },
  {
   "cell_type": "markdown",
   "metadata": {
    "id": "HAMB8--rkqhx"
   },
   "source": [
    "Did you notice which Column is dropped?\n",
    "I am sure you noticed it.\n",
    "Name that column below"
   ]
  },
  {
   "cell_type": "code",
   "execution_count": null,
   "metadata": {
    "id": "x7HRPWXHkqhx"
   },
   "outputs": [],
   "source": [
    "#Column:_Anonymous___________"
   ]
  },
  {
   "cell_type": "markdown",
   "metadata": {
    "id": "n53B2-pCkqhx"
   },
   "source": [
    "# Treating constant column values\n",
    "\n"
   ]
  },
  {
   "cell_type": "markdown",
   "metadata": {
    "id": "fDpWhHSlkqhx"
   },
   "source": [
    "Check unique values in each columns"
   ]
  },
  {
   "cell_type": "code",
   "execution_count": null,
   "metadata": {
    "colab": {
     "base_uri": "https://localhost:8080/"
    },
    "id": "5-L6SLhqkqhx",
    "outputId": "364d6724-595e-43e1-8cbf-a2979ef4c560"
   },
   "outputs": [
    {
     "data": {
      "text/plain": [
       "Anand     42\n",
       "Barkha    32\n",
       "Chandu    40\n",
       "Daniel    36\n",
       "dummy      1\n",
       "dtype: int64"
      ]
     },
     "execution_count": 143,
     "metadata": {},
     "output_type": "execute_result"
    }
   ],
   "source": [
    "# df3 unique value\n",
    "df3.nunique(axis =0)"
   ]
  },
  {
   "cell_type": "markdown",
   "metadata": {
    "id": "4G9ZC-n-kqhx"
   },
   "source": [
    "By above output which column has only 1 value as unique throught the rows? \n",
    "Yeah! you are right, its dummy column.\n",
    "So lets drop it"
   ]
  },
  {
   "cell_type": "markdown",
   "metadata": {
    "id": "D3y3ZWW6kqhx"
   },
   "source": [
    "Drop dummy column as it has constant values which will not give us any information and save the changes to df3 using inplace parameter"
   ]
  },
  {
   "cell_type": "code",
   "execution_count": null,
   "metadata": {
    "id": "SR10jRVQkqhy"
   },
   "outputs": [],
   "source": [
    "# drop dummy\n",
    "df3 = df3.drop('dummy', axis= 1)"
   ]
  },
  {
   "cell_type": "markdown",
   "metadata": {
    "id": "nHdi2uHskqhy"
   },
   "source": [
    "print final obtained dataframe df3"
   ]
  },
  {
   "cell_type": "code",
   "execution_count": null,
   "metadata": {
    "colab": {
     "base_uri": "https://localhost:8080/",
     "height": 1000
    },
    "id": "0-YUwfDKkqhy",
    "outputId": "8a753b7c-c4b1-4f0c-9679-788b09c8f1b9"
   },
   "outputs": [
    {
     "data": {
      "text/html": [
       "<div>\n",
       "<style scoped>\n",
       "    .dataframe tbody tr th:only-of-type {\n",
       "        vertical-align: middle;\n",
       "    }\n",
       "\n",
       "    .dataframe tbody tr th {\n",
       "        vertical-align: top;\n",
       "    }\n",
       "\n",
       "    .dataframe thead th {\n",
       "        text-align: right;\n",
       "    }\n",
       "</style>\n",
       "<table border=\"1\" class=\"dataframe\">\n",
       "  <thead>\n",
       "    <tr style=\"text-align: right;\">\n",
       "      <th></th>\n",
       "      <th>Anand</th>\n",
       "      <th>Barkha</th>\n",
       "      <th>Chandu</th>\n",
       "      <th>Daniel</th>\n",
       "    </tr>\n",
       "  </thead>\n",
       "  <tbody>\n",
       "    <tr>\n",
       "      <th>0</th>\n",
       "      <td>40</td>\n",
       "      <td>36</td>\n",
       "      <td>16</td>\n",
       "      <td>11</td>\n",
       "    </tr>\n",
       "    <tr>\n",
       "      <th>1</th>\n",
       "      <td>88</td>\n",
       "      <td>62</td>\n",
       "      <td>33</td>\n",
       "      <td>72</td>\n",
       "    </tr>\n",
       "    <tr>\n",
       "      <th>2</th>\n",
       "      <td>30</td>\n",
       "      <td>30</td>\n",
       "      <td>89</td>\n",
       "      <td>12</td>\n",
       "    </tr>\n",
       "    <tr>\n",
       "      <th>3</th>\n",
       "      <td>11</td>\n",
       "      <td>28</td>\n",
       "      <td>74</td>\n",
       "      <td>88</td>\n",
       "    </tr>\n",
       "    <tr>\n",
       "      <th>4</th>\n",
       "      <td>15</td>\n",
       "      <td>18</td>\n",
       "      <td>80</td>\n",
       "      <td>71</td>\n",
       "    </tr>\n",
       "    <tr>\n",
       "      <th>5</th>\n",
       "      <td>88</td>\n",
       "      <td>50</td>\n",
       "      <td>54</td>\n",
       "      <td>34</td>\n",
       "    </tr>\n",
       "    <tr>\n",
       "      <th>6</th>\n",
       "      <td>77</td>\n",
       "      <td>88</td>\n",
       "      <td>15</td>\n",
       "      <td>6</td>\n",
       "    </tr>\n",
       "    <tr>\n",
       "      <th>7</th>\n",
       "      <td>97</td>\n",
       "      <td>50</td>\n",
       "      <td>45</td>\n",
       "      <td>40</td>\n",
       "    </tr>\n",
       "    <tr>\n",
       "      <th>8</th>\n",
       "      <td>81</td>\n",
       "      <td>80</td>\n",
       "      <td>41</td>\n",
       "      <td>90</td>\n",
       "    </tr>\n",
       "    <tr>\n",
       "      <th>9</th>\n",
       "      <td>96</td>\n",
       "      <td>66</td>\n",
       "      <td>67</td>\n",
       "      <td>62</td>\n",
       "    </tr>\n",
       "    <tr>\n",
       "      <th>10</th>\n",
       "      <td>88</td>\n",
       "      <td>96</td>\n",
       "      <td>73</td>\n",
       "      <td>40</td>\n",
       "    </tr>\n",
       "    <tr>\n",
       "      <th>11</th>\n",
       "      <td>28</td>\n",
       "      <td>30</td>\n",
       "      <td>89</td>\n",
       "      <td>25</td>\n",
       "    </tr>\n",
       "    <tr>\n",
       "      <th>12</th>\n",
       "      <td>33</td>\n",
       "      <td>4</td>\n",
       "      <td>87</td>\n",
       "      <td>94</td>\n",
       "    </tr>\n",
       "    <tr>\n",
       "      <th>13</th>\n",
       "      <td>68</td>\n",
       "      <td>30</td>\n",
       "      <td>70</td>\n",
       "      <td>74</td>\n",
       "    </tr>\n",
       "    <tr>\n",
       "      <th>14</th>\n",
       "      <td>9</td>\n",
       "      <td>2</td>\n",
       "      <td>65</td>\n",
       "      <td>13</td>\n",
       "    </tr>\n",
       "    <tr>\n",
       "      <th>15</th>\n",
       "      <td>62</td>\n",
       "      <td>42</td>\n",
       "      <td>34</td>\n",
       "      <td>40</td>\n",
       "    </tr>\n",
       "    <tr>\n",
       "      <th>16</th>\n",
       "      <td>32</td>\n",
       "      <td>94</td>\n",
       "      <td>86</td>\n",
       "      <td>58</td>\n",
       "    </tr>\n",
       "    <tr>\n",
       "      <th>17</th>\n",
       "      <td>45</td>\n",
       "      <td>18</td>\n",
       "      <td>50</td>\n",
       "      <td>44</td>\n",
       "    </tr>\n",
       "    <tr>\n",
       "      <th>18</th>\n",
       "      <td>6</td>\n",
       "      <td>44</td>\n",
       "      <td>9</td>\n",
       "      <td>50</td>\n",
       "    </tr>\n",
       "    <tr>\n",
       "      <th>19</th>\n",
       "      <td>44</td>\n",
       "      <td>68</td>\n",
       "      <td>14</td>\n",
       "      <td>4</td>\n",
       "    </tr>\n",
       "    <tr>\n",
       "      <th>20</th>\n",
       "      <td>39</td>\n",
       "      <td>58</td>\n",
       "      <td>81</td>\n",
       "      <td>39</td>\n",
       "    </tr>\n",
       "    <tr>\n",
       "      <th>21</th>\n",
       "      <td>69</td>\n",
       "      <td>48</td>\n",
       "      <td>60</td>\n",
       "      <td>58</td>\n",
       "    </tr>\n",
       "    <tr>\n",
       "      <th>22</th>\n",
       "      <td>5</td>\n",
       "      <td>70</td>\n",
       "      <td>61</td>\n",
       "      <td>16</td>\n",
       "    </tr>\n",
       "    <tr>\n",
       "      <th>23</th>\n",
       "      <td>4</td>\n",
       "      <td>22</td>\n",
       "      <td>19</td>\n",
       "      <td>85</td>\n",
       "    </tr>\n",
       "    <tr>\n",
       "      <th>24</th>\n",
       "      <td>10</td>\n",
       "      <td>36</td>\n",
       "      <td>0</td>\n",
       "      <td>30</td>\n",
       "    </tr>\n",
       "    <tr>\n",
       "      <th>25</th>\n",
       "      <td>85</td>\n",
       "      <td>32</td>\n",
       "      <td>81</td>\n",
       "      <td>13</td>\n",
       "    </tr>\n",
       "    <tr>\n",
       "      <th>26</th>\n",
       "      <td>31</td>\n",
       "      <td>32</td>\n",
       "      <td>96</td>\n",
       "      <td>38</td>\n",
       "    </tr>\n",
       "    <tr>\n",
       "      <th>27</th>\n",
       "      <td>0</td>\n",
       "      <td>96</td>\n",
       "      <td>25</td>\n",
       "      <td>63</td>\n",
       "    </tr>\n",
       "    <tr>\n",
       "      <th>28</th>\n",
       "      <td>2</td>\n",
       "      <td>30</td>\n",
       "      <td>17</td>\n",
       "      <td>59</td>\n",
       "    </tr>\n",
       "    <tr>\n",
       "      <th>29</th>\n",
       "      <td>63</td>\n",
       "      <td>86</td>\n",
       "      <td>29</td>\n",
       "      <td>71</td>\n",
       "    </tr>\n",
       "    <tr>\n",
       "      <th>30</th>\n",
       "      <td>19</td>\n",
       "      <td>0</td>\n",
       "      <td>7</td>\n",
       "      <td>93</td>\n",
       "    </tr>\n",
       "    <tr>\n",
       "      <th>31</th>\n",
       "      <td>58</td>\n",
       "      <td>76</td>\n",
       "      <td>10</td>\n",
       "      <td>79</td>\n",
       "    </tr>\n",
       "    <tr>\n",
       "      <th>32</th>\n",
       "      <td>7</td>\n",
       "      <td>88</td>\n",
       "      <td>96</td>\n",
       "      <td>38</td>\n",
       "    </tr>\n",
       "    <tr>\n",
       "      <th>33</th>\n",
       "      <td>27</td>\n",
       "      <td>64</td>\n",
       "      <td>49</td>\n",
       "      <td>90</td>\n",
       "    </tr>\n",
       "    <tr>\n",
       "      <th>34</th>\n",
       "      <td>27</td>\n",
       "      <td>52</td>\n",
       "      <td>90</td>\n",
       "      <td>57</td>\n",
       "    </tr>\n",
       "    <tr>\n",
       "      <th>35</th>\n",
       "      <td>99</td>\n",
       "      <td>46</td>\n",
       "      <td>46</td>\n",
       "      <td>45</td>\n",
       "    </tr>\n",
       "    <tr>\n",
       "      <th>36</th>\n",
       "      <td>84</td>\n",
       "      <td>20</td>\n",
       "      <td>49</td>\n",
       "      <td>33</td>\n",
       "    </tr>\n",
       "    <tr>\n",
       "      <th>37</th>\n",
       "      <td>77</td>\n",
       "      <td>66</td>\n",
       "      <td>37</td>\n",
       "      <td>31</td>\n",
       "    </tr>\n",
       "    <tr>\n",
       "      <th>38</th>\n",
       "      <td>82</td>\n",
       "      <td>56</td>\n",
       "      <td>41</td>\n",
       "      <td>90</td>\n",
       "    </tr>\n",
       "    <tr>\n",
       "      <th>39</th>\n",
       "      <td>74</td>\n",
       "      <td>8</td>\n",
       "      <td>92</td>\n",
       "      <td>32</td>\n",
       "    </tr>\n",
       "    <tr>\n",
       "      <th>40</th>\n",
       "      <td>87</td>\n",
       "      <td>68</td>\n",
       "      <td>86</td>\n",
       "      <td>14</td>\n",
       "    </tr>\n",
       "    <tr>\n",
       "      <th>41</th>\n",
       "      <td>50</td>\n",
       "      <td>50</td>\n",
       "      <td>85</td>\n",
       "      <td>14</td>\n",
       "    </tr>\n",
       "    <tr>\n",
       "      <th>42</th>\n",
       "      <td>1</td>\n",
       "      <td>28</td>\n",
       "      <td>58</td>\n",
       "      <td>10</td>\n",
       "    </tr>\n",
       "    <tr>\n",
       "      <th>43</th>\n",
       "      <td>1</td>\n",
       "      <td>82</td>\n",
       "      <td>34</td>\n",
       "      <td>11</td>\n",
       "    </tr>\n",
       "    <tr>\n",
       "      <th>44</th>\n",
       "      <td>74</td>\n",
       "      <td>36</td>\n",
       "      <td>6</td>\n",
       "      <td>63</td>\n",
       "    </tr>\n",
       "    <tr>\n",
       "      <th>45</th>\n",
       "      <td>3</td>\n",
       "      <td>50</td>\n",
       "      <td>59</td>\n",
       "      <td>34</td>\n",
       "    </tr>\n",
       "    <tr>\n",
       "      <th>46</th>\n",
       "      <td>16</td>\n",
       "      <td>18</td>\n",
       "      <td>61</td>\n",
       "      <td>54</td>\n",
       "    </tr>\n",
       "    <tr>\n",
       "      <th>47</th>\n",
       "      <td>67</td>\n",
       "      <td>38</td>\n",
       "      <td>27</td>\n",
       "      <td>96</td>\n",
       "    </tr>\n",
       "  </tbody>\n",
       "</table>\n",
       "</div>"
      ],
      "text/plain": [
       "    Anand  Barkha  Chandu  Daniel\n",
       "0      40      36      16      11\n",
       "1      88      62      33      72\n",
       "2      30      30      89      12\n",
       "3      11      28      74      88\n",
       "4      15      18      80      71\n",
       "5      88      50      54      34\n",
       "6      77      88      15       6\n",
       "7      97      50      45      40\n",
       "8      81      80      41      90\n",
       "9      96      66      67      62\n",
       "10     88      96      73      40\n",
       "11     28      30      89      25\n",
       "12     33       4      87      94\n",
       "13     68      30      70      74\n",
       "14      9       2      65      13\n",
       "15     62      42      34      40\n",
       "16     32      94      86      58\n",
       "17     45      18      50      44\n",
       "18      6      44       9      50\n",
       "19     44      68      14       4\n",
       "20     39      58      81      39\n",
       "21     69      48      60      58\n",
       "22      5      70      61      16\n",
       "23      4      22      19      85\n",
       "24     10      36       0      30\n",
       "25     85      32      81      13\n",
       "26     31      32      96      38\n",
       "27      0      96      25      63\n",
       "28      2      30      17      59\n",
       "29     63      86      29      71\n",
       "30     19       0       7      93\n",
       "31     58      76      10      79\n",
       "32      7      88      96      38\n",
       "33     27      64      49      90\n",
       "34     27      52      90      57\n",
       "35     99      46      46      45\n",
       "36     84      20      49      33\n",
       "37     77      66      37      31\n",
       "38     82      56      41      90\n",
       "39     74       8      92      32\n",
       "40     87      68      86      14\n",
       "41     50      50      85      14\n",
       "42      1      28      58      10\n",
       "43      1      82      34      11\n",
       "44     74      36       6      63\n",
       "45      3      50      59      34\n",
       "46     16      18      61      54\n",
       "47     67      38      27      96"
      ]
     },
     "execution_count": 145,
     "metadata": {},
     "output_type": "execute_result"
    }
   ],
   "source": [
    "# print df3\n",
    "df3"
   ]
  },
  {
   "cell_type": "markdown",
   "metadata": {
    "id": "UyIOQG1HI0Ic"
   },
   "source": [
    "# Iterating dataframes\n",
    "\n",
    "Let's look at three main ways to iterate over DataFrames.\n",
    "\n",
    "1. iteritems()\n",
    "2. iterrows()\n",
    "3. itertuples()\n",
    "\n",
    "We will also see time taken by these methods to print our dataframe. \n",
    "\n",
    "**1. Iterating DataFrames with iteritems()**\n",
    "\n",
    "Lets iterate over rows of df3 uisng iteritems.\n",
    "\n"
   ]
  },
  {
   "cell_type": "code",
   "execution_count": null,
   "metadata": {
    "colab": {
     "base_uri": "https://localhost:8080/"
    },
    "id": "fQDbjuPdI0Id",
    "outputId": "75b6702d-0d61-4b39-8483-f0805ae7c60f"
   },
   "outputs": [
    {
     "name": "stdout",
     "output_type": "stream",
     "text": [
      "Anand\n",
      "0     40\n",
      "1     88\n",
      "2     30\n",
      "3     11\n",
      "4     15\n",
      "5     88\n",
      "6     77\n",
      "7     97\n",
      "8     81\n",
      "9     96\n",
      "10    88\n",
      "11    28\n",
      "12    33\n",
      "13    68\n",
      "14     9\n",
      "15    62\n",
      "16    32\n",
      "17    45\n",
      "18     6\n",
      "19    44\n",
      "20    39\n",
      "21    69\n",
      "22     5\n",
      "23     4\n",
      "24    10\n",
      "25    85\n",
      "26    31\n",
      "27     0\n",
      "28     2\n",
      "29    63\n",
      "30    19\n",
      "31    58\n",
      "32     7\n",
      "33    27\n",
      "34    27\n",
      "35    99\n",
      "36    84\n",
      "37    77\n",
      "38    82\n",
      "39    74\n",
      "40    87\n",
      "41    50\n",
      "42     1\n",
      "43     1\n",
      "44    74\n",
      "45     3\n",
      "46    16\n",
      "47    67\n",
      "Name: Anand, dtype: int64\n",
      "Barkha\n",
      "0     36\n",
      "1     62\n",
      "2     30\n",
      "3     28\n",
      "4     18\n",
      "5     50\n",
      "6     88\n",
      "7     50\n",
      "8     80\n",
      "9     66\n",
      "10    96\n",
      "11    30\n",
      "12     4\n",
      "13    30\n",
      "14     2\n",
      "15    42\n",
      "16    94\n",
      "17    18\n",
      "18    44\n",
      "19    68\n",
      "20    58\n",
      "21    48\n",
      "22    70\n",
      "23    22\n",
      "24    36\n",
      "25    32\n",
      "26    32\n",
      "27    96\n",
      "28    30\n",
      "29    86\n",
      "30     0\n",
      "31    76\n",
      "32    88\n",
      "33    64\n",
      "34    52\n",
      "35    46\n",
      "36    20\n",
      "37    66\n",
      "38    56\n",
      "39     8\n",
      "40    68\n",
      "41    50\n",
      "42    28\n",
      "43    82\n",
      "44    36\n",
      "45    50\n",
      "46    18\n",
      "47    38\n",
      "Name: Barkha, dtype: int64\n",
      "Chandu\n",
      "0     16\n",
      "1     33\n",
      "2     89\n",
      "3     74\n",
      "4     80\n",
      "5     54\n",
      "6     15\n",
      "7     45\n",
      "8     41\n",
      "9     67\n",
      "10    73\n",
      "11    89\n",
      "12    87\n",
      "13    70\n",
      "14    65\n",
      "15    34\n",
      "16    86\n",
      "17    50\n",
      "18     9\n",
      "19    14\n",
      "20    81\n",
      "21    60\n",
      "22    61\n",
      "23    19\n",
      "24     0\n",
      "25    81\n",
      "26    96\n",
      "27    25\n",
      "28    17\n",
      "29    29\n",
      "30     7\n",
      "31    10\n",
      "32    96\n",
      "33    49\n",
      "34    90\n",
      "35    46\n",
      "36    49\n",
      "37    37\n",
      "38    41\n",
      "39    92\n",
      "40    86\n",
      "41    85\n",
      "42    58\n",
      "43    34\n",
      "44     6\n",
      "45    59\n",
      "46    61\n",
      "47    27\n",
      "Name: Chandu, dtype: int64\n",
      "Daniel\n",
      "0     11\n",
      "1     72\n",
      "2     12\n",
      "3     88\n",
      "4     71\n",
      "5     34\n",
      "6      6\n",
      "7     40\n",
      "8     90\n",
      "9     62\n",
      "10    40\n",
      "11    25\n",
      "12    94\n",
      "13    74\n",
      "14    13\n",
      "15    40\n",
      "16    58\n",
      "17    44\n",
      "18    50\n",
      "19     4\n",
      "20    39\n",
      "21    58\n",
      "22    16\n",
      "23    85\n",
      "24    30\n",
      "25    13\n",
      "26    38\n",
      "27    63\n",
      "28    59\n",
      "29    71\n",
      "30    93\n",
      "31    79\n",
      "32    38\n",
      "33    90\n",
      "34    57\n",
      "35    45\n",
      "36    33\n",
      "37    31\n",
      "38    90\n",
      "39    32\n",
      "40    14\n",
      "41    14\n",
      "42    10\n",
      "43    11\n",
      "44    63\n",
      "45    34\n",
      "46    54\n",
      "47    96\n",
      "Name: Daniel, dtype: int64\n",
      "dummy\n",
      "0     0\n",
      "1     0\n",
      "2     0\n",
      "3     0\n",
      "4     0\n",
      "5     0\n",
      "6     0\n",
      "7     0\n",
      "8     0\n",
      "9     0\n",
      "10    0\n",
      "11    0\n",
      "12    0\n",
      "13    0\n",
      "14    0\n",
      "15    0\n",
      "16    0\n",
      "17    0\n",
      "18    0\n",
      "19    0\n",
      "20    0\n",
      "21    0\n",
      "22    0\n",
      "23    0\n",
      "24    0\n",
      "25    0\n",
      "26    0\n",
      "27    0\n",
      "28    0\n",
      "29    0\n",
      "30    0\n",
      "31    0\n",
      "32    0\n",
      "33    0\n",
      "34    0\n",
      "35    0\n",
      "36    0\n",
      "37    0\n",
      "38    0\n",
      "39    0\n",
      "40    0\n",
      "41    0\n",
      "42    0\n",
      "43    0\n",
      "44    0\n",
      "45    0\n",
      "46    0\n",
      "47    0\n",
      "Name: dummy, dtype: int64\n",
      "Time taken(sec):  4.168987274169922\n"
     ]
    }
   ],
   "source": [
    "import time\n",
    "start = time.time()\n",
    "\n",
    "#Use iteritems to iterate\n",
    "\n",
    "for i,j in df3.iteritems():\n",
    "  print(i)\n",
    "  print(j)\n",
    "\n",
    "print('Time taken(sec): ',(time.time()-start)*1000)"
   ]
  },
  {
   "cell_type": "markdown",
   "metadata": {
    "id": "ywxTepkwI0Ie"
   },
   "source": [
    "Did you notice, how iteritems are iterating over df3.\n",
    "\n",
    "Along with ways each iterating function works, also keep tallying the time taken for all other lopps too!. This will be fun, lets check iterrows()\n",
    "\n",
    "**2. Iterating DataFrames with iterrows()**"
   ]
  },
  {
   "cell_type": "code",
   "execution_count": null,
   "metadata": {
    "colab": {
     "base_uri": "https://localhost:8080/"
    },
    "id": "ytCv33QqI0If",
    "outputId": "63bab1af-ce30-463c-d493-e7b74195ab28"
   },
   "outputs": [
    {
     "name": "stdout",
     "output_type": "stream",
     "text": [
      "0\n",
      "Anand     40\n",
      "Barkha    36\n",
      "Chandu    16\n",
      "Daniel    11\n",
      "dummy      0\n",
      "Name: 0, dtype: int64\n",
      "1\n",
      "Anand     88\n",
      "Barkha    62\n",
      "Chandu    33\n",
      "Daniel    72\n",
      "dummy      0\n",
      "Name: 1, dtype: int64\n",
      "2\n",
      "Anand     30\n",
      "Barkha    30\n",
      "Chandu    89\n",
      "Daniel    12\n",
      "dummy      0\n",
      "Name: 2, dtype: int64\n",
      "3\n",
      "Anand     11\n",
      "Barkha    28\n",
      "Chandu    74\n",
      "Daniel    88\n",
      "dummy      0\n",
      "Name: 3, dtype: int64\n",
      "4\n",
      "Anand     15\n",
      "Barkha    18\n",
      "Chandu    80\n",
      "Daniel    71\n",
      "dummy      0\n",
      "Name: 4, dtype: int64\n",
      "5\n",
      "Anand     88\n",
      "Barkha    50\n",
      "Chandu    54\n",
      "Daniel    34\n",
      "dummy      0\n",
      "Name: 5, dtype: int64\n",
      "6\n",
      "Anand     77\n",
      "Barkha    88\n",
      "Chandu    15\n",
      "Daniel     6\n",
      "dummy      0\n",
      "Name: 6, dtype: int64\n",
      "7\n",
      "Anand     97\n",
      "Barkha    50\n",
      "Chandu    45\n",
      "Daniel    40\n",
      "dummy      0\n",
      "Name: 7, dtype: int64\n",
      "8\n",
      "Anand     81\n",
      "Barkha    80\n",
      "Chandu    41\n",
      "Daniel    90\n",
      "dummy      0\n",
      "Name: 8, dtype: int64\n",
      "9\n",
      "Anand     96\n",
      "Barkha    66\n",
      "Chandu    67\n",
      "Daniel    62\n",
      "dummy      0\n",
      "Name: 9, dtype: int64\n",
      "10\n",
      "Anand     88\n",
      "Barkha    96\n",
      "Chandu    73\n",
      "Daniel    40\n",
      "dummy      0\n",
      "Name: 10, dtype: int64\n",
      "11\n",
      "Anand     28\n",
      "Barkha    30\n",
      "Chandu    89\n",
      "Daniel    25\n",
      "dummy      0\n",
      "Name: 11, dtype: int64\n",
      "12\n",
      "Anand     33\n",
      "Barkha     4\n",
      "Chandu    87\n",
      "Daniel    94\n",
      "dummy      0\n",
      "Name: 12, dtype: int64\n",
      "13\n",
      "Anand     68\n",
      "Barkha    30\n",
      "Chandu    70\n",
      "Daniel    74\n",
      "dummy      0\n",
      "Name: 13, dtype: int64\n",
      "14\n",
      "Anand      9\n",
      "Barkha     2\n",
      "Chandu    65\n",
      "Daniel    13\n",
      "dummy      0\n",
      "Name: 14, dtype: int64\n",
      "15\n",
      "Anand     62\n",
      "Barkha    42\n",
      "Chandu    34\n",
      "Daniel    40\n",
      "dummy      0\n",
      "Name: 15, dtype: int64\n",
      "16\n",
      "Anand     32\n",
      "Barkha    94\n",
      "Chandu    86\n",
      "Daniel    58\n",
      "dummy      0\n",
      "Name: 16, dtype: int64\n",
      "17\n",
      "Anand     45\n",
      "Barkha    18\n",
      "Chandu    50\n",
      "Daniel    44\n",
      "dummy      0\n",
      "Name: 17, dtype: int64\n",
      "18\n",
      "Anand      6\n",
      "Barkha    44\n",
      "Chandu     9\n",
      "Daniel    50\n",
      "dummy      0\n",
      "Name: 18, dtype: int64\n",
      "19\n",
      "Anand     44\n",
      "Barkha    68\n",
      "Chandu    14\n",
      "Daniel     4\n",
      "dummy      0\n",
      "Name: 19, dtype: int64\n",
      "20\n",
      "Anand     39\n",
      "Barkha    58\n",
      "Chandu    81\n",
      "Daniel    39\n",
      "dummy      0\n",
      "Name: 20, dtype: int64\n",
      "21\n",
      "Anand     69\n",
      "Barkha    48\n",
      "Chandu    60\n",
      "Daniel    58\n",
      "dummy      0\n",
      "Name: 21, dtype: int64\n",
      "22\n",
      "Anand      5\n",
      "Barkha    70\n",
      "Chandu    61\n",
      "Daniel    16\n",
      "dummy      0\n",
      "Name: 22, dtype: int64\n",
      "23\n",
      "Anand      4\n",
      "Barkha    22\n",
      "Chandu    19\n",
      "Daniel    85\n",
      "dummy      0\n",
      "Name: 23, dtype: int64\n",
      "24\n",
      "Anand     10\n",
      "Barkha    36\n",
      "Chandu     0\n",
      "Daniel    30\n",
      "dummy      0\n",
      "Name: 24, dtype: int64\n",
      "25\n",
      "Anand     85\n",
      "Barkha    32\n",
      "Chandu    81\n",
      "Daniel    13\n",
      "dummy      0\n",
      "Name: 25, dtype: int64\n",
      "26\n",
      "Anand     31\n",
      "Barkha    32\n",
      "Chandu    96\n",
      "Daniel    38\n",
      "dummy      0\n",
      "Name: 26, dtype: int64\n",
      "27\n",
      "Anand      0\n",
      "Barkha    96\n",
      "Chandu    25\n",
      "Daniel    63\n",
      "dummy      0\n",
      "Name: 27, dtype: int64\n",
      "28\n",
      "Anand      2\n",
      "Barkha    30\n",
      "Chandu    17\n",
      "Daniel    59\n",
      "dummy      0\n",
      "Name: 28, dtype: int64\n",
      "29\n",
      "Anand     63\n",
      "Barkha    86\n",
      "Chandu    29\n",
      "Daniel    71\n",
      "dummy      0\n",
      "Name: 29, dtype: int64\n",
      "30\n",
      "Anand     19\n",
      "Barkha     0\n",
      "Chandu     7\n",
      "Daniel    93\n",
      "dummy      0\n",
      "Name: 30, dtype: int64\n",
      "31\n",
      "Anand     58\n",
      "Barkha    76\n",
      "Chandu    10\n",
      "Daniel    79\n",
      "dummy      0\n",
      "Name: 31, dtype: int64\n",
      "32\n",
      "Anand      7\n",
      "Barkha    88\n",
      "Chandu    96\n",
      "Daniel    38\n",
      "dummy      0\n",
      "Name: 32, dtype: int64\n",
      "33\n",
      "Anand     27\n",
      "Barkha    64\n",
      "Chandu    49\n",
      "Daniel    90\n",
      "dummy      0\n",
      "Name: 33, dtype: int64\n",
      "34\n",
      "Anand     27\n",
      "Barkha    52\n",
      "Chandu    90\n",
      "Daniel    57\n",
      "dummy      0\n",
      "Name: 34, dtype: int64\n",
      "35\n",
      "Anand     99\n",
      "Barkha    46\n",
      "Chandu    46\n",
      "Daniel    45\n",
      "dummy      0\n",
      "Name: 35, dtype: int64\n",
      "36\n",
      "Anand     84\n",
      "Barkha    20\n",
      "Chandu    49\n",
      "Daniel    33\n",
      "dummy      0\n",
      "Name: 36, dtype: int64\n",
      "37\n",
      "Anand     77\n",
      "Barkha    66\n",
      "Chandu    37\n",
      "Daniel    31\n",
      "dummy      0\n",
      "Name: 37, dtype: int64\n",
      "38\n",
      "Anand     82\n",
      "Barkha    56\n",
      "Chandu    41\n",
      "Daniel    90\n",
      "dummy      0\n",
      "Name: 38, dtype: int64\n",
      "39\n",
      "Anand     74\n",
      "Barkha     8\n",
      "Chandu    92\n",
      "Daniel    32\n",
      "dummy      0\n",
      "Name: 39, dtype: int64\n",
      "40\n",
      "Anand     87\n",
      "Barkha    68\n",
      "Chandu    86\n",
      "Daniel    14\n",
      "dummy      0\n",
      "Name: 40, dtype: int64\n",
      "41\n",
      "Anand     50\n",
      "Barkha    50\n",
      "Chandu    85\n",
      "Daniel    14\n",
      "dummy      0\n",
      "Name: 41, dtype: int64\n",
      "42\n",
      "Anand      1\n",
      "Barkha    28\n",
      "Chandu    58\n",
      "Daniel    10\n",
      "dummy      0\n",
      "Name: 42, dtype: int64\n",
      "43\n",
      "Anand      1\n",
      "Barkha    82\n",
      "Chandu    34\n",
      "Daniel    11\n",
      "dummy      0\n",
      "Name: 43, dtype: int64\n",
      "44\n",
      "Anand     74\n",
      "Barkha    36\n",
      "Chandu     6\n",
      "Daniel    63\n",
      "dummy      0\n",
      "Name: 44, dtype: int64\n",
      "45\n",
      "Anand      3\n",
      "Barkha    50\n",
      "Chandu    59\n",
      "Daniel    34\n",
      "dummy      0\n",
      "Name: 45, dtype: int64\n",
      "46\n",
      "Anand     16\n",
      "Barkha    18\n",
      "Chandu    61\n",
      "Daniel    54\n",
      "dummy      0\n",
      "Name: 46, dtype: int64\n",
      "47\n",
      "Anand     67\n",
      "Barkha    38\n",
      "Chandu    27\n",
      "Daniel    96\n",
      "dummy      0\n",
      "Name: 47, dtype: int64\n",
      "Time taken(sec):  45.342206954956055\n"
     ]
    }
   ],
   "source": [
    "import time\n",
    "start = time.time()\n",
    "#Use iterrows to iterate\n",
    "for i,j in df3.iterrows():\n",
    "  print(i)\n",
    "  print(j)\n",
    "\n",
    "print('Time taken(sec): ',(time.time()-start)*1000)"
   ]
  },
  {
   "cell_type": "markdown",
   "metadata": {
    "id": "XuAsqkIsI0Ig"
   },
   "source": [
    "**3. Iterating DataFrames with itertuples()**"
   ]
  },
  {
   "cell_type": "code",
   "execution_count": null,
   "metadata": {
    "colab": {
     "base_uri": "https://localhost:8080/"
    },
    "id": "TkhymSyoI0Ih",
    "outputId": "ded08dd6-51c6-4001-de74-4bedbc02a35e"
   },
   "outputs": [
    {
     "name": "stdout",
     "output_type": "stream",
     "text": [
      "Pandas(Index=0, Anand=40, Barkha=36, Chandu=16, Daniel=11, dummy=0)\n",
      "Pandas(Index=1, Anand=88, Barkha=62, Chandu=33, Daniel=72, dummy=0)\n",
      "Pandas(Index=2, Anand=30, Barkha=30, Chandu=89, Daniel=12, dummy=0)\n",
      "Pandas(Index=3, Anand=11, Barkha=28, Chandu=74, Daniel=88, dummy=0)\n",
      "Pandas(Index=4, Anand=15, Barkha=18, Chandu=80, Daniel=71, dummy=0)\n",
      "Pandas(Index=5, Anand=88, Barkha=50, Chandu=54, Daniel=34, dummy=0)\n",
      "Pandas(Index=6, Anand=77, Barkha=88, Chandu=15, Daniel=6, dummy=0)\n",
      "Pandas(Index=7, Anand=97, Barkha=50, Chandu=45, Daniel=40, dummy=0)\n",
      "Pandas(Index=8, Anand=81, Barkha=80, Chandu=41, Daniel=90, dummy=0)\n",
      "Pandas(Index=9, Anand=96, Barkha=66, Chandu=67, Daniel=62, dummy=0)\n",
      "Pandas(Index=10, Anand=88, Barkha=96, Chandu=73, Daniel=40, dummy=0)\n",
      "Pandas(Index=11, Anand=28, Barkha=30, Chandu=89, Daniel=25, dummy=0)\n",
      "Pandas(Index=12, Anand=33, Barkha=4, Chandu=87, Daniel=94, dummy=0)\n",
      "Pandas(Index=13, Anand=68, Barkha=30, Chandu=70, Daniel=74, dummy=0)\n",
      "Pandas(Index=14, Anand=9, Barkha=2, Chandu=65, Daniel=13, dummy=0)\n",
      "Pandas(Index=15, Anand=62, Barkha=42, Chandu=34, Daniel=40, dummy=0)\n",
      "Pandas(Index=16, Anand=32, Barkha=94, Chandu=86, Daniel=58, dummy=0)\n",
      "Pandas(Index=17, Anand=45, Barkha=18, Chandu=50, Daniel=44, dummy=0)\n",
      "Pandas(Index=18, Anand=6, Barkha=44, Chandu=9, Daniel=50, dummy=0)\n",
      "Pandas(Index=19, Anand=44, Barkha=68, Chandu=14, Daniel=4, dummy=0)\n",
      "Pandas(Index=20, Anand=39, Barkha=58, Chandu=81, Daniel=39, dummy=0)\n",
      "Pandas(Index=21, Anand=69, Barkha=48, Chandu=60, Daniel=58, dummy=0)\n",
      "Pandas(Index=22, Anand=5, Barkha=70, Chandu=61, Daniel=16, dummy=0)\n",
      "Pandas(Index=23, Anand=4, Barkha=22, Chandu=19, Daniel=85, dummy=0)\n",
      "Pandas(Index=24, Anand=10, Barkha=36, Chandu=0, Daniel=30, dummy=0)\n",
      "Pandas(Index=25, Anand=85, Barkha=32, Chandu=81, Daniel=13, dummy=0)\n",
      "Pandas(Index=26, Anand=31, Barkha=32, Chandu=96, Daniel=38, dummy=0)\n",
      "Pandas(Index=27, Anand=0, Barkha=96, Chandu=25, Daniel=63, dummy=0)\n",
      "Pandas(Index=28, Anand=2, Barkha=30, Chandu=17, Daniel=59, dummy=0)\n",
      "Pandas(Index=29, Anand=63, Barkha=86, Chandu=29, Daniel=71, dummy=0)\n",
      "Pandas(Index=30, Anand=19, Barkha=0, Chandu=7, Daniel=93, dummy=0)\n",
      "Pandas(Index=31, Anand=58, Barkha=76, Chandu=10, Daniel=79, dummy=0)\n",
      "Pandas(Index=32, Anand=7, Barkha=88, Chandu=96, Daniel=38, dummy=0)\n",
      "Pandas(Index=33, Anand=27, Barkha=64, Chandu=49, Daniel=90, dummy=0)\n",
      "Pandas(Index=34, Anand=27, Barkha=52, Chandu=90, Daniel=57, dummy=0)\n",
      "Pandas(Index=35, Anand=99, Barkha=46, Chandu=46, Daniel=45, dummy=0)\n",
      "Pandas(Index=36, Anand=84, Barkha=20, Chandu=49, Daniel=33, dummy=0)\n",
      "Pandas(Index=37, Anand=77, Barkha=66, Chandu=37, Daniel=31, dummy=0)\n",
      "Pandas(Index=38, Anand=82, Barkha=56, Chandu=41, Daniel=90, dummy=0)\n",
      "Pandas(Index=39, Anand=74, Barkha=8, Chandu=92, Daniel=32, dummy=0)\n",
      "Pandas(Index=40, Anand=87, Barkha=68, Chandu=86, Daniel=14, dummy=0)\n",
      "Pandas(Index=41, Anand=50, Barkha=50, Chandu=85, Daniel=14, dummy=0)\n",
      "Pandas(Index=42, Anand=1, Barkha=28, Chandu=58, Daniel=10, dummy=0)\n",
      "Pandas(Index=43, Anand=1, Barkha=82, Chandu=34, Daniel=11, dummy=0)\n",
      "Pandas(Index=44, Anand=74, Barkha=36, Chandu=6, Daniel=63, dummy=0)\n",
      "Pandas(Index=45, Anand=3, Barkha=50, Chandu=59, Daniel=34, dummy=0)\n",
      "Pandas(Index=46, Anand=16, Barkha=18, Chandu=61, Daniel=54, dummy=0)\n",
      "Pandas(Index=47, Anand=67, Barkha=38, Chandu=27, Daniel=96, dummy=0)\n",
      "Time taken(sec):  6.472349166870117\n"
     ]
    }
   ],
   "source": [
    "#iterate df3 using itertuples\n",
    "import time\n",
    "start = time.time()\n",
    "\n",
    "#Use itertuples to iterate\n",
    "for row in df3.itertuples():\n",
    "  print(row)\n",
    "  \n",
    "\n",
    "\n",
    "print('Time taken(sec): ',(time.time()-start)*1000)"
   ]
  },
  {
   "cell_type": "markdown",
   "metadata": {
    "id": "c4L94hh_I0Ij"
   },
   "source": [
    "\n",
    "    \n",
    "    iteritems(): Helps to iterate over each element of the set, column-wise. \n",
    "    iterrows(): Each element of the set, row-wise. \n",
    "    itertuple(): Each row and form a tuple out of them.\n",
    "\n",
    "But if you ask for speed. The most best perfromance is given by itertuples compared to other two iterating methods.\n",
    "So if anytime you need to save your computation time on iteration of dataframes you can go for itertuples. Was'nt it fun?:)"
   ]
  },
  {
   "cell_type": "markdown",
   "metadata": {
    "id": "IDYj2cP9riJM"
   },
   "source": [
    "# Regular Expression \n",
    "\n",
    "\n",
    "Python has a module named re to work with RegEx\n",
    "\n",
    "\n",
    "### **!Are you ready to try regex on dataframes?**\n",
    "\n",
    "*So here we go.!*\n",
    "\n",
    "We are gonna try out following awesome re module functions\n",
    "\n",
    "1. findall \n",
    "2. search\n",
    "3. sub\n",
    "4. split\n",
    "\n"
   ]
  },
  {
   "cell_type": "code",
   "execution_count": 3,
   "metadata": {
    "colab": {
     "base_uri": "https://localhost:8080/",
     "height": 73,
     "resources": {
      "http://localhost:8080/nbextensions/google.colab/files.js": {
       "data": "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",
       "headers": [
        [
         "content-type",
         "application/javascript"
        ]
       ],
       "ok": true,
       "status": 200,
       "status_text": ""
      }
     }
    },
    "id": "i-8qDS8caMNz",
    "outputId": "3d006dc3-7413-4358-f6ae-6ebb05951575"
   },
   "outputs": [
    {
     "data": {
      "text/html": [
       "\n",
       "     <input type=\"file\" id=\"files-97fc9d3d-eaa7-4031-bc3f-6ea2d4dfd4ac\" name=\"files[]\" multiple disabled\n",
       "        style=\"border:none\" />\n",
       "     <output id=\"result-97fc9d3d-eaa7-4031-bc3f-6ea2d4dfd4ac\">\n",
       "      Upload widget is only available when the cell has been executed in the\n",
       "      current browser session. Please rerun this cell to enable.\n",
       "      </output>\n",
       "      <script src=\"/nbextensions/google.colab/files.js\"></script> "
      ],
      "text/plain": [
       "<IPython.core.display.HTML object>"
      ]
     },
     "metadata": {},
     "output_type": "display_data"
    },
    {
     "name": "stdout",
     "output_type": "stream",
     "text": [
      "Saving trump_insult_tweets_2014_to_2021.csv to trump_insult_tweets_2014_to_2021.csv\n"
     ]
    }
   ],
   "source": [
    "from google.colab import files\n",
    "uploaded = files.upload()"
   ]
  },
  {
   "cell_type": "code",
   "execution_count": 44,
   "metadata": {
    "id": "G59gMr-OI0Im"
   },
   "outputs": [],
   "source": [
    "import io\n",
    "#load dataset\n",
    "tweet_data= pd.read_csv(io.BytesIO(uploaded['trump_insult_tweets_2014_to_2021.csv']))"
   ]
  },
  {
   "cell_type": "code",
   "execution_count": 5,
   "metadata": {
    "colab": {
     "base_uri": "https://localhost:8080/",
     "height": 204
    },
    "id": "l4LXEoWsI0In",
    "outputId": "36acdb5d-3dd9-4050-f098-8dff433c923b"
   },
   "outputs": [
    {
     "data": {
      "text/html": [
       "<div>\n",
       "<style scoped>\n",
       "    .dataframe tbody tr th:only-of-type {\n",
       "        vertical-align: middle;\n",
       "    }\n",
       "\n",
       "    .dataframe tbody tr th {\n",
       "        vertical-align: top;\n",
       "    }\n",
       "\n",
       "    .dataframe thead th {\n",
       "        text-align: right;\n",
       "    }\n",
       "</style>\n",
       "<table border=\"1\" class=\"dataframe\">\n",
       "  <thead>\n",
       "    <tr style=\"text-align: right;\">\n",
       "      <th></th>\n",
       "      <th>Unnamed: 0</th>\n",
       "      <th>date</th>\n",
       "      <th>target</th>\n",
       "      <th>insult</th>\n",
       "      <th>tweet</th>\n",
       "    </tr>\n",
       "  </thead>\n",
       "  <tbody>\n",
       "    <tr>\n",
       "      <th>0</th>\n",
       "      <td>1</td>\n",
       "      <td>2014-10-09</td>\n",
       "      <td>thomas-frieden</td>\n",
       "      <td>fool</td>\n",
       "      <td>Can you believe this fool, Dr. Thomas Frieden ...</td>\n",
       "    </tr>\n",
       "    <tr>\n",
       "      <th>1</th>\n",
       "      <td>2</td>\n",
       "      <td>2014-10-09</td>\n",
       "      <td>thomas-frieden</td>\n",
       "      <td>DOPE</td>\n",
       "      <td>Can you believe this fool, Dr. Thomas Frieden ...</td>\n",
       "    </tr>\n",
       "    <tr>\n",
       "      <th>2</th>\n",
       "      <td>3</td>\n",
       "      <td>2015-06-16</td>\n",
       "      <td>politicians</td>\n",
       "      <td>all talk and no action</td>\n",
       "      <td>Big time in U.S. today - MAKE AMERICA GREAT AG...</td>\n",
       "    </tr>\n",
       "    <tr>\n",
       "      <th>3</th>\n",
       "      <td>4</td>\n",
       "      <td>2015-06-24</td>\n",
       "      <td>ben-cardin</td>\n",
       "      <td>It's politicians like Cardin that have destroy...</td>\n",
       "      <td>Politician @SenatorCardin didn't like that I s...</td>\n",
       "    </tr>\n",
       "    <tr>\n",
       "      <th>4</th>\n",
       "      <td>5</td>\n",
       "      <td>2015-06-24</td>\n",
       "      <td>neil-young</td>\n",
       "      <td>total hypocrite</td>\n",
       "      <td>For the nonbeliever, here is a photo of @Neily...</td>\n",
       "    </tr>\n",
       "  </tbody>\n",
       "</table>\n",
       "</div>"
      ],
      "text/plain": [
       "   Unnamed: 0  ...                                              tweet\n",
       "0           1  ...  Can you believe this fool, Dr. Thomas Frieden ...\n",
       "1           2  ...  Can you believe this fool, Dr. Thomas Frieden ...\n",
       "2           3  ...  Big time in U.S. today - MAKE AMERICA GREAT AG...\n",
       "3           4  ...  Politician @SenatorCardin didn't like that I s...\n",
       "4           5  ...  For the nonbeliever, here is a photo of @Neily...\n",
       "\n",
       "[5 rows x 5 columns]"
      ]
     },
     "execution_count": 5,
     "metadata": {},
     "output_type": "execute_result"
    }
   ],
   "source": [
    "#import re module\n",
    "import re\n",
    "\n",
    "#print head of tweet_data\n",
    "tweet_data.head()"
   ]
  },
  {
   "cell_type": "markdown",
   "metadata": {
    "id": "-cnI270kI0Iq"
   },
   "source": [
    "Lets do some analysis using regex on this dataset\n",
    "\n",
    "\n",
    "**1. findall()**\n",
    "\n",
    "Make another column 'year' with year in each row using regex on date column.\n"
   ]
  },
  {
   "cell_type": "code",
   "execution_count": 45,
   "metadata": {
    "colab": {
     "base_uri": "https://localhost:8080/",
     "height": 204
    },
    "id": "OfDiVy7DI0Iq",
    "outputId": "275d0e8e-1d7d-4adf-c58e-79deb799d366"
   },
   "outputs": [
    {
     "data": {
      "text/html": [
       "<div>\n",
       "<style scoped>\n",
       "    .dataframe tbody tr th:only-of-type {\n",
       "        vertical-align: middle;\n",
       "    }\n",
       "\n",
       "    .dataframe tbody tr th {\n",
       "        vertical-align: top;\n",
       "    }\n",
       "\n",
       "    .dataframe thead th {\n",
       "        text-align: right;\n",
       "    }\n",
       "</style>\n",
       "<table border=\"1\" class=\"dataframe\">\n",
       "  <thead>\n",
       "    <tr style=\"text-align: right;\">\n",
       "      <th></th>\n",
       "      <th>Unnamed: 0</th>\n",
       "      <th>date</th>\n",
       "      <th>target</th>\n",
       "      <th>insult</th>\n",
       "      <th>tweet</th>\n",
       "      <th>year</th>\n",
       "    </tr>\n",
       "  </thead>\n",
       "  <tbody>\n",
       "    <tr>\n",
       "      <th>0</th>\n",
       "      <td>1</td>\n",
       "      <td>2014-10-09</td>\n",
       "      <td>thomas-frieden</td>\n",
       "      <td>fool</td>\n",
       "      <td>Can you believe this fool, Dr. Thomas Frieden ...</td>\n",
       "      <td>2014</td>\n",
       "    </tr>\n",
       "    <tr>\n",
       "      <th>1</th>\n",
       "      <td>2</td>\n",
       "      <td>2014-10-09</td>\n",
       "      <td>thomas-frieden</td>\n",
       "      <td>DOPE</td>\n",
       "      <td>Can you believe this fool, Dr. Thomas Frieden ...</td>\n",
       "      <td>2014</td>\n",
       "    </tr>\n",
       "    <tr>\n",
       "      <th>2</th>\n",
       "      <td>3</td>\n",
       "      <td>2015-06-16</td>\n",
       "      <td>politicians</td>\n",
       "      <td>all talk and no action</td>\n",
       "      <td>Big time in U.S. today - MAKE AMERICA GREAT AG...</td>\n",
       "      <td>2015</td>\n",
       "    </tr>\n",
       "    <tr>\n",
       "      <th>3</th>\n",
       "      <td>4</td>\n",
       "      <td>2015-06-24</td>\n",
       "      <td>ben-cardin</td>\n",
       "      <td>It's politicians like Cardin that have destroy...</td>\n",
       "      <td>Politician @SenatorCardin didn't like that I s...</td>\n",
       "      <td>2015</td>\n",
       "    </tr>\n",
       "    <tr>\n",
       "      <th>4</th>\n",
       "      <td>5</td>\n",
       "      <td>2015-06-24</td>\n",
       "      <td>neil-young</td>\n",
       "      <td>total hypocrite</td>\n",
       "      <td>For the nonbeliever, here is a photo of @Neily...</td>\n",
       "      <td>2015</td>\n",
       "    </tr>\n",
       "  </tbody>\n",
       "</table>\n",
       "</div>"
      ],
      "text/plain": [
       "   Unnamed: 0  ...  year\n",
       "0           1  ...  2014\n",
       "1           2  ...  2014\n",
       "2           3  ...  2015\n",
       "3           4  ...  2015\n",
       "4           5  ...  2015\n",
       "\n",
       "[5 rows x 6 columns]"
      ]
     },
     "execution_count": 45,
     "metadata": {},
     "output_type": "execute_result"
    }
   ],
   "source": [
    "# create a function which takes date as parameter and applies regex on it\n",
    "def get_year(dd):\n",
    "  pattern = r'([0-9]{4})\\b'\n",
    "  result = re.findall(pattern,dd)[0]\n",
    "  return result\n",
    "\n",
    "#use apply function on tweet_data to use above function in order to make year column\n",
    "tweet_data['year'] = tweet_data['date'].apply(lambda dd: get_year(dd))\n",
    "\n",
    "#print tweet_data head\n",
    "tweet_data.head()"
   ]
  },
  {
   "cell_type": "markdown",
   "metadata": {
    "id": "P2kjkkUSI0Is"
   },
   "source": [
    "lets filter year from 2020-2021 which was the election time in USA.\n",
    "\n",
    "**2. search**\n",
    "\n",
    "We will use regex search for this "
   ]
  },
  {
   "cell_type": "code",
   "execution_count": 46,
   "metadata": {
    "colab": {
     "base_uri": "https://localhost:8080/",
     "height": 204
    },
    "id": "KxLHcap-I0It",
    "outputId": "dd049fd8-0f2b-4e3d-c6a2-400f10ead0c5"
   },
   "outputs": [
    {
     "data": {
      "text/html": [
       "<div>\n",
       "<style scoped>\n",
       "    .dataframe tbody tr th:only-of-type {\n",
       "        vertical-align: middle;\n",
       "    }\n",
       "\n",
       "    .dataframe tbody tr th {\n",
       "        vertical-align: top;\n",
       "    }\n",
       "\n",
       "    .dataframe thead th {\n",
       "        text-align: right;\n",
       "    }\n",
       "</style>\n",
       "<table border=\"1\" class=\"dataframe\">\n",
       "  <thead>\n",
       "    <tr style=\"text-align: right;\">\n",
       "      <th></th>\n",
       "      <th>Unnamed: 0</th>\n",
       "      <th>date</th>\n",
       "      <th>target</th>\n",
       "      <th>insult</th>\n",
       "      <th>tweet</th>\n",
       "      <th>year</th>\n",
       "    </tr>\n",
       "  </thead>\n",
       "  <tbody>\n",
       "    <tr>\n",
       "      <th>0</th>\n",
       "      <td>1</td>\n",
       "      <td>2014-10-09</td>\n",
       "      <td>thomas-frieden</td>\n",
       "      <td>fool</td>\n",
       "      <td>Can you believe this fool, Dr. Thomas Frieden ...</td>\n",
       "      <td>None</td>\n",
       "    </tr>\n",
       "    <tr>\n",
       "      <th>1</th>\n",
       "      <td>2</td>\n",
       "      <td>2014-10-09</td>\n",
       "      <td>thomas-frieden</td>\n",
       "      <td>DOPE</td>\n",
       "      <td>Can you believe this fool, Dr. Thomas Frieden ...</td>\n",
       "      <td>None</td>\n",
       "    </tr>\n",
       "    <tr>\n",
       "      <th>2</th>\n",
       "      <td>3</td>\n",
       "      <td>2015-06-16</td>\n",
       "      <td>politicians</td>\n",
       "      <td>all talk and no action</td>\n",
       "      <td>Big time in U.S. today - MAKE AMERICA GREAT AG...</td>\n",
       "      <td>None</td>\n",
       "    </tr>\n",
       "    <tr>\n",
       "      <th>3</th>\n",
       "      <td>4</td>\n",
       "      <td>2015-06-24</td>\n",
       "      <td>ben-cardin</td>\n",
       "      <td>It's politicians like Cardin that have destroy...</td>\n",
       "      <td>Politician @SenatorCardin didn't like that I s...</td>\n",
       "      <td>None</td>\n",
       "    </tr>\n",
       "    <tr>\n",
       "      <th>4</th>\n",
       "      <td>5</td>\n",
       "      <td>2015-06-24</td>\n",
       "      <td>neil-young</td>\n",
       "      <td>total hypocrite</td>\n",
       "      <td>For the nonbeliever, here is a photo of @Neily...</td>\n",
       "      <td>None</td>\n",
       "    </tr>\n",
       "  </tbody>\n",
       "</table>\n",
       "</div>"
      ],
      "text/plain": [
       "   Unnamed: 0  ...  year\n",
       "0           1  ...  None\n",
       "1           2  ...  None\n",
       "2           3  ...  None\n",
       "3           4  ...  None\n",
       "4           5  ...  None\n",
       "\n",
       "[5 rows x 6 columns]"
      ]
     },
     "execution_count": 46,
     "metadata": {},
     "output_type": "execute_result"
    }
   ],
   "source": [
    "# create a function which takes year as parameter and applies regex on it\n",
    "def ext_year(dt):\n",
    "  x = re.search(\"^202\\d\", dt)\n",
    "  if x:\n",
    "    return dt\n",
    "    \n",
    "#use apply function on tweet_data to use above function in order to search tweets of 2020-2021\n",
    "tweet_data['year'] = tweet_data['year'].apply(ext_year)\n",
    "\n",
    "#tweet_data head\n",
    "tweet_data.head()"
   ]
  },
  {
   "cell_type": "code",
   "execution_count": null,
   "metadata": {
    "id": "NupRDzexENfs"
   },
   "outputs": [],
   "source": [
    "tweet_data['year'] = tweet_data['year'].str.match(pat = '(2020)|(2021)')\n",
    "tweet_data"
   ]
  },
  {
   "cell_type": "code",
   "execution_count": 38,
   "metadata": {
    "id": "ZA27DzVOEo2n"
   },
   "outputs": [],
   "source": [
    "def ext_year(dd):\n",
    "  result = dd.str.match(pat = (2020)|(2021))\n",
    "  return result"
   ]
  },
  {
   "cell_type": "code",
   "execution_count": 47,
   "metadata": {
    "colab": {
     "base_uri": "https://localhost:8080/",
     "height": 419
    },
    "id": "WA5h_X_XFBQZ",
    "outputId": "7a3ed243-29c0-4289-d5e7-b5528a3945b8"
   },
   "outputs": [
    {
     "data": {
      "text/html": [
       "<div>\n",
       "<style scoped>\n",
       "    .dataframe tbody tr th:only-of-type {\n",
       "        vertical-align: middle;\n",
       "    }\n",
       "\n",
       "    .dataframe tbody tr th {\n",
       "        vertical-align: top;\n",
       "    }\n",
       "\n",
       "    .dataframe thead th {\n",
       "        text-align: right;\n",
       "    }\n",
       "</style>\n",
       "<table border=\"1\" class=\"dataframe\">\n",
       "  <thead>\n",
       "    <tr style=\"text-align: right;\">\n",
       "      <th></th>\n",
       "      <th>Unnamed: 0</th>\n",
       "      <th>date</th>\n",
       "      <th>target</th>\n",
       "      <th>insult</th>\n",
       "      <th>tweet</th>\n",
       "      <th>year</th>\n",
       "    </tr>\n",
       "  </thead>\n",
       "  <tbody>\n",
       "    <tr>\n",
       "      <th>7621</th>\n",
       "      <td>7622</td>\n",
       "      <td>2020-01-01</td>\n",
       "      <td>impeachment-inquiry</td>\n",
       "      <td>The greatest Witch Hunt in U.S. history</td>\n",
       "      <td>Thank you Steve. The greatest Witch Hunt in U....</td>\n",
       "      <td>2020</td>\n",
       "    </tr>\n",
       "    <tr>\n",
       "      <th>7622</th>\n",
       "      <td>7623</td>\n",
       "      <td>2020-01-02</td>\n",
       "      <td>impeachment-inquiry</td>\n",
       "      <td>Witch Hunt is sputtering badly, but still goin...</td>\n",
       "      <td>A lot of very good people were taken down by a...</td>\n",
       "      <td>2020</td>\n",
       "    </tr>\n",
       "    <tr>\n",
       "      <th>7623</th>\n",
       "      <td>7624</td>\n",
       "      <td>2020-01-04</td>\n",
       "      <td>impeachment-inquiry</td>\n",
       "      <td>this ridiculous Impeachment Lite Hoax</td>\n",
       "      <td>As hard as I work, &amp; as successful as our Coun...</td>\n",
       "      <td>2020</td>\n",
       "    </tr>\n",
       "    <tr>\n",
       "      <th>7624</th>\n",
       "      <td>7625</td>\n",
       "      <td>2020-01-06</td>\n",
       "      <td>los-angeles</td>\n",
       "      <td>poorly run</td>\n",
       "      <td>....If however, the city or state in question ...</td>\n",
       "      <td>2020</td>\n",
       "    </tr>\n",
       "    <tr>\n",
       "      <th>7625</th>\n",
       "      <td>7626</td>\n",
       "      <td>2020-01-06</td>\n",
       "      <td>impeachment-inquiry</td>\n",
       "      <td>The great Scam continues</td>\n",
       "      <td>“The reason they are not sending the Articles ...</td>\n",
       "      <td>2020</td>\n",
       "    </tr>\n",
       "    <tr>\n",
       "      <th>...</th>\n",
       "      <td>...</td>\n",
       "      <td>...</td>\n",
       "      <td>...</td>\n",
       "      <td>...</td>\n",
       "      <td>...</td>\n",
       "      <td>...</td>\n",
       "    </tr>\n",
       "    <tr>\n",
       "      <th>10355</th>\n",
       "      <td>10356</td>\n",
       "      <td>2021-01-06</td>\n",
       "      <td>2020-election</td>\n",
       "      <td>Many States want to decertify the mistake they...</td>\n",
       "      <td>If Vice President @Mike_Pence comes through fo...</td>\n",
       "      <td>2021</td>\n",
       "    </tr>\n",
       "    <tr>\n",
       "      <th>10356</th>\n",
       "      <td>10357</td>\n",
       "      <td>2021-01-06</td>\n",
       "      <td>2020-election</td>\n",
       "      <td>based on irregularities and fraud, plus corrup...</td>\n",
       "      <td>States want to correct their votes, which they...</td>\n",
       "      <td>2021</td>\n",
       "    </tr>\n",
       "    <tr>\n",
       "      <th>10357</th>\n",
       "      <td>10358</td>\n",
       "      <td>2021-01-06</td>\n",
       "      <td>2020-election</td>\n",
       "      <td>Our Election Process is worse than that of thi...</td>\n",
       "      <td>They just happened to find 50,000 ballots late...</td>\n",
       "      <td>2021</td>\n",
       "    </tr>\n",
       "    <tr>\n",
       "      <th>10358</th>\n",
       "      <td>10359</td>\n",
       "      <td>2021-01-06</td>\n",
       "      <td>2020-election</td>\n",
       "      <td>a FRAUD</td>\n",
       "      <td>The States want to redo their votes. They foun...</td>\n",
       "      <td>2021</td>\n",
       "    </tr>\n",
       "    <tr>\n",
       "      <th>10359</th>\n",
       "      <td>10360</td>\n",
       "      <td>2021-01-06</td>\n",
       "      <td>chuck-todd</td>\n",
       "      <td>Sleepy Eyes,  Sad to watch!</td>\n",
       "      <td>Sleepy Eyes Chuck Todd is so happy with the fa...</td>\n",
       "      <td>2021</td>\n",
       "    </tr>\n",
       "  </tbody>\n",
       "</table>\n",
       "<p>2739 rows × 6 columns</p>\n",
       "</div>"
      ],
      "text/plain": [
       "       Unnamed: 0  ...  year\n",
       "7621         7622  ...  2020\n",
       "7622         7623  ...  2020\n",
       "7623         7624  ...  2020\n",
       "7624         7625  ...  2020\n",
       "7625         7626  ...  2020\n",
       "...           ...  ...   ...\n",
       "10355       10356  ...  2021\n",
       "10356       10357  ...  2021\n",
       "10357       10358  ...  2021\n",
       "10358       10359  ...  2021\n",
       "10359       10360  ...  2021\n",
       "\n",
       "[2739 rows x 6 columns]"
      ]
     },
     "execution_count": 47,
     "metadata": {},
     "output_type": "execute_result"
    }
   ],
   "source": [
    "tweet_data[tweet_data['year'].str.match('^202\\d') == True]"
   ]
  },
  {
   "cell_type": "markdown",
   "metadata": {
    "id": "GHRT9nw7I0Iv"
   },
   "source": [
    "cool right!\n",
    "\n",
    "You got some null values after applying above function. Lets drop them using dropna function. Also drop 'Unnamed: 0' column as it does not give any information.\n"
   ]
  },
  {
   "cell_type": "code",
   "execution_count": 48,
   "metadata": {
    "id": "y3hILyfNI0Iw"
   },
   "outputs": [],
   "source": [
    "#drop na and Unnamed: 0 column\n",
    "tweet_data.dropna(inplace = True)\n",
    "tweet_data.drop(['Unnamed: 0'], axis= 1, inplace= True)\n"
   ]
  },
  {
   "cell_type": "markdown",
   "metadata": {
    "id": "mEdzDoa7I0Ix"
   },
   "source": [
    "**3. sub() Function**\n",
    "\n",
    "Now you have filtered the dataset with 2739 rows. Let's remove all @ from tweet column suing re sub() function."
   ]
  },
  {
   "cell_type": "code",
   "execution_count": 49,
   "metadata": {
    "colab": {
     "base_uri": "https://localhost:8080/",
     "height": 204
    },
    "id": "ivp5J2PaI0Iy",
    "outputId": "637feff9-84b3-4210-fda7-6a17e23601ed"
   },
   "outputs": [
    {
     "data": {
      "text/html": [
       "<div>\n",
       "<style scoped>\n",
       "    .dataframe tbody tr th:only-of-type {\n",
       "        vertical-align: middle;\n",
       "    }\n",
       "\n",
       "    .dataframe tbody tr th {\n",
       "        vertical-align: top;\n",
       "    }\n",
       "\n",
       "    .dataframe thead th {\n",
       "        text-align: right;\n",
       "    }\n",
       "</style>\n",
       "<table border=\"1\" class=\"dataframe\">\n",
       "  <thead>\n",
       "    <tr style=\"text-align: right;\">\n",
       "      <th></th>\n",
       "      <th>date</th>\n",
       "      <th>target</th>\n",
       "      <th>insult</th>\n",
       "      <th>tweet</th>\n",
       "      <th>year</th>\n",
       "    </tr>\n",
       "  </thead>\n",
       "  <tbody>\n",
       "    <tr>\n",
       "      <th>7621</th>\n",
       "      <td>2020-01-01</td>\n",
       "      <td>impeachment-inquiry</td>\n",
       "      <td>The greatest Witch Hunt in U.S. history</td>\n",
       "      <td>Thank you Steve. The greatest Witch Hunt in U....</td>\n",
       "      <td>2020</td>\n",
       "    </tr>\n",
       "    <tr>\n",
       "      <th>7622</th>\n",
       "      <td>2020-01-02</td>\n",
       "      <td>impeachment-inquiry</td>\n",
       "      <td>Witch Hunt is sputtering badly, but still goin...</td>\n",
       "      <td>A lot of very good people were taken down by a...</td>\n",
       "      <td>2020</td>\n",
       "    </tr>\n",
       "    <tr>\n",
       "      <th>7623</th>\n",
       "      <td>2020-01-04</td>\n",
       "      <td>impeachment-inquiry</td>\n",
       "      <td>this ridiculous Impeachment Lite Hoax</td>\n",
       "      <td>As hard as I work, &amp; as successful as our Coun...</td>\n",
       "      <td>2020</td>\n",
       "    </tr>\n",
       "    <tr>\n",
       "      <th>7624</th>\n",
       "      <td>2020-01-06</td>\n",
       "      <td>los-angeles</td>\n",
       "      <td>poorly run</td>\n",
       "      <td>....If however, the city or state in question ...</td>\n",
       "      <td>2020</td>\n",
       "    </tr>\n",
       "    <tr>\n",
       "      <th>7625</th>\n",
       "      <td>2020-01-06</td>\n",
       "      <td>impeachment-inquiry</td>\n",
       "      <td>The great Scam continues</td>\n",
       "      <td>“The reason they are not sending the Articles ...</td>\n",
       "      <td>2020</td>\n",
       "    </tr>\n",
       "  </tbody>\n",
       "</table>\n",
       "</div>"
      ],
      "text/plain": [
       "            date  ...  year\n",
       "7621  2020-01-01  ...  2020\n",
       "7622  2020-01-02  ...  2020\n",
       "7623  2020-01-04  ...  2020\n",
       "7624  2020-01-06  ...  2020\n",
       "7625  2020-01-06  ...  2020\n",
       "\n",
       "[5 rows x 5 columns]"
      ]
     },
     "execution_count": 49,
     "metadata": {},
     "output_type": "execute_result"
    }
   ],
   "source": [
    "# create a function which takes tweet as parameter and applies regex on it\n",
    "def tweets(tweet):\n",
    "  pattern = r'@'\n",
    "  result = re.sub(pattern,'', tweet)\n",
    "  return result\n",
    "\n",
    "\n",
    "#use apply function on tweet_data to use above function in order to remove @ from tweets\n",
    "tweet_data['tweet'] = tweet_data['tweet'].apply(tweets)\n",
    "#tweet_data head\n",
    "tweet_data.head()"
   ]
  },
  {
   "cell_type": "markdown",
   "metadata": {
    "id": "S570j8prI0Iz"
   },
   "source": [
    "You can also use the sub function just in one line using list comprehension. Can you try doing it below?"
   ]
  },
  {
   "cell_type": "code",
   "execution_count": 50,
   "metadata": {
    "id": "cTJSecJWI0Iz"
   },
   "outputs": [],
   "source": [
    "# sub() suing list comprehension\n",
    "tweet_data['tweet'] = [re.sub(r'@','',str(x)) for x in tweet_data['tweet']]"
   ]
  },
  {
   "cell_type": "markdown",
   "metadata": {
    "id": "IOJOgUshI0I0"
   },
   "source": [
    "**4. split() Function**\n",
    "\n",
    "Lets now split the column target by making another column Name which has name before hyphen(\"-\")\n"
   ]
  },
  {
   "cell_type": "code",
   "execution_count": 51,
   "metadata": {
    "colab": {
     "base_uri": "https://localhost:8080/",
     "height": 204
    },
    "id": "V12tGX1MI0I1",
    "outputId": "a29adf34-f705-4c4e-d510-6cd329e7a498"
   },
   "outputs": [
    {
     "data": {
      "text/html": [
       "<div>\n",
       "<style scoped>\n",
       "    .dataframe tbody tr th:only-of-type {\n",
       "        vertical-align: middle;\n",
       "    }\n",
       "\n",
       "    .dataframe tbody tr th {\n",
       "        vertical-align: top;\n",
       "    }\n",
       "\n",
       "    .dataframe thead th {\n",
       "        text-align: right;\n",
       "    }\n",
       "</style>\n",
       "<table border=\"1\" class=\"dataframe\">\n",
       "  <thead>\n",
       "    <tr style=\"text-align: right;\">\n",
       "      <th></th>\n",
       "      <th>date</th>\n",
       "      <th>target</th>\n",
       "      <th>insult</th>\n",
       "      <th>tweet</th>\n",
       "      <th>year</th>\n",
       "      <th>Name</th>\n",
       "    </tr>\n",
       "  </thead>\n",
       "  <tbody>\n",
       "    <tr>\n",
       "      <th>7621</th>\n",
       "      <td>2020-01-01</td>\n",
       "      <td>impeachment-inquiry</td>\n",
       "      <td>The greatest Witch Hunt in U.S. history</td>\n",
       "      <td>Thank you Steve. The greatest Witch Hunt in U....</td>\n",
       "      <td>2020</td>\n",
       "      <td>impeachment</td>\n",
       "    </tr>\n",
       "    <tr>\n",
       "      <th>7622</th>\n",
       "      <td>2020-01-02</td>\n",
       "      <td>impeachment-inquiry</td>\n",
       "      <td>Witch Hunt is sputtering badly, but still goin...</td>\n",
       "      <td>A lot of very good people were taken down by a...</td>\n",
       "      <td>2020</td>\n",
       "      <td>impeachment</td>\n",
       "    </tr>\n",
       "    <tr>\n",
       "      <th>7623</th>\n",
       "      <td>2020-01-04</td>\n",
       "      <td>impeachment-inquiry</td>\n",
       "      <td>this ridiculous Impeachment Lite Hoax</td>\n",
       "      <td>As hard as I work, &amp; as successful as our Coun...</td>\n",
       "      <td>2020</td>\n",
       "      <td>impeachment</td>\n",
       "    </tr>\n",
       "    <tr>\n",
       "      <th>7624</th>\n",
       "      <td>2020-01-06</td>\n",
       "      <td>los-angeles</td>\n",
       "      <td>poorly run</td>\n",
       "      <td>....If however, the city or state in question ...</td>\n",
       "      <td>2020</td>\n",
       "      <td>los</td>\n",
       "    </tr>\n",
       "    <tr>\n",
       "      <th>7625</th>\n",
       "      <td>2020-01-06</td>\n",
       "      <td>impeachment-inquiry</td>\n",
       "      <td>The great Scam continues</td>\n",
       "      <td>“The reason they are not sending the Articles ...</td>\n",
       "      <td>2020</td>\n",
       "      <td>impeachment</td>\n",
       "    </tr>\n",
       "  </tbody>\n",
       "</table>\n",
       "</div>"
      ],
      "text/plain": [
       "            date               target  ...  year         Name\n",
       "7621  2020-01-01  impeachment-inquiry  ...  2020  impeachment\n",
       "7622  2020-01-02  impeachment-inquiry  ...  2020  impeachment\n",
       "7623  2020-01-04  impeachment-inquiry  ...  2020  impeachment\n",
       "7624  2020-01-06          los-angeles  ...  2020          los\n",
       "7625  2020-01-06  impeachment-inquiry  ...  2020  impeachment\n",
       "\n",
       "[5 rows x 6 columns]"
      ]
     },
     "execution_count": 51,
     "metadata": {},
     "output_type": "execute_result"
    }
   ],
   "source": [
    "# create a function which takes target as parameter and applies regex on it\n",
    "def name(target):\n",
    "  x = re.split('-', target, 1)\n",
    "  if x:\n",
    "    return x[0]\n",
    "\n",
    "#use apply function on tweet_data to use above function in order to create Name column\n",
    "tweet_data['Name'] = tweet_data['target'].apply(name)\n",
    "#tweet_data head\n",
    "tweet_data.head()"
   ]
  },
  {
   "cell_type": "markdown",
   "metadata": {
    "id": "DMQ4bEgWI0I2"
   },
   "source": [
    "Now can you filter out Name which are specially targetted for trump? Lets do it below and check how many such tweets are there."
   ]
  },
  {
   "cell_type": "code",
   "execution_count": 52,
   "metadata": {
    "colab": {
     "base_uri": "https://localhost:8080/",
     "height": 419
    },
    "id": "bqvrE7fOI0I3",
    "outputId": "c31ea81b-04c0-42b9-8637-1cf1a860123f"
   },
   "outputs": [
    {
     "data": {
      "text/html": [
       "<div>\n",
       "<style scoped>\n",
       "    .dataframe tbody tr th:only-of-type {\n",
       "        vertical-align: middle;\n",
       "    }\n",
       "\n",
       "    .dataframe tbody tr th {\n",
       "        vertical-align: top;\n",
       "    }\n",
       "\n",
       "    .dataframe thead th {\n",
       "        text-align: right;\n",
       "    }\n",
       "</style>\n",
       "<table border=\"1\" class=\"dataframe\">\n",
       "  <thead>\n",
       "    <tr style=\"text-align: right;\">\n",
       "      <th></th>\n",
       "      <th>date</th>\n",
       "      <th>target</th>\n",
       "      <th>insult</th>\n",
       "      <th>tweet</th>\n",
       "      <th>year</th>\n",
       "      <th>Name</th>\n",
       "    </tr>\n",
       "  </thead>\n",
       "  <tbody>\n",
       "    <tr>\n",
       "      <th>7859</th>\n",
       "      <td>2020-02-09</td>\n",
       "      <td>trump-russia</td>\n",
       "      <td>THE WHOLE SCAM INVESTIGATION, THE MUELLER REPO...</td>\n",
       "      <td>FBI Director Christopher Wray just admitted th...</td>\n",
       "      <td>2020</td>\n",
       "      <td>trump</td>\n",
       "    </tr>\n",
       "    <tr>\n",
       "      <th>7860</th>\n",
       "      <td>2020-02-09</td>\n",
       "      <td>trump-russia</td>\n",
       "      <td>the biggest political crime in American Histor...</td>\n",
       "      <td>....This is the biggest political crime in Ame...</td>\n",
       "      <td>2020</td>\n",
       "      <td>trump</td>\n",
       "    </tr>\n",
       "    <tr>\n",
       "      <th>7861</th>\n",
       "      <td>2020-02-09</td>\n",
       "      <td>trump-russia</td>\n",
       "      <td>THE PARTY IN POWER ILLEGALLY SPIED ON MY CAMPAIGN</td>\n",
       "      <td>....This is the biggest political crime in Ame...</td>\n",
       "      <td>2020</td>\n",
       "      <td>trump</td>\n",
       "    </tr>\n",
       "    <tr>\n",
       "      <th>7890</th>\n",
       "      <td>2020-02-12</td>\n",
       "      <td>trump-russia</td>\n",
       "      <td>an investigation that was illegal</td>\n",
       "      <td>Who are the four prosecutors (Mueller people?)...</td>\n",
       "      <td>2020</td>\n",
       "      <td>trump</td>\n",
       "    </tr>\n",
       "    <tr>\n",
       "      <th>7891</th>\n",
       "      <td>2020-02-12</td>\n",
       "      <td>trump-russia</td>\n",
       "      <td>the Mueller Scam</td>\n",
       "      <td>Who are the four prosecutors (Mueller people?)...</td>\n",
       "      <td>2020</td>\n",
       "      <td>trump</td>\n",
       "    </tr>\n",
       "    <tr>\n",
       "      <th>...</th>\n",
       "      <td>...</td>\n",
       "      <td>...</td>\n",
       "      <td>...</td>\n",
       "      <td>...</td>\n",
       "      <td>...</td>\n",
       "      <td>...</td>\n",
       "    </tr>\n",
       "    <tr>\n",
       "      <th>9658</th>\n",
       "      <td>2020-10-07</td>\n",
       "      <td>trump-russia</td>\n",
       "      <td>Hoax Scandal</td>\n",
       "      <td>All Russia Hoax Scandal information was Declas...</td>\n",
       "      <td>2020</td>\n",
       "      <td>trump</td>\n",
       "    </tr>\n",
       "    <tr>\n",
       "      <th>9659</th>\n",
       "      <td>2020-10-07</td>\n",
       "      <td>trump-russia</td>\n",
       "      <td>the biggest political crime in the history of ...</td>\n",
       "      <td>All Russia Hoax Scandal information was Declas...</td>\n",
       "      <td>2020</td>\n",
       "      <td>trump</td>\n",
       "    </tr>\n",
       "    <tr>\n",
       "      <th>10091</th>\n",
       "      <td>2020-11-22</td>\n",
       "      <td>trump-russia</td>\n",
       "      <td>never ending Witch Hunt</td>\n",
       "      <td>Thanks Mark. It’s all a continuation of the ne...</td>\n",
       "      <td>2020</td>\n",
       "      <td>trump</td>\n",
       "    </tr>\n",
       "    <tr>\n",
       "      <th>10188</th>\n",
       "      <td>2020-12-09</td>\n",
       "      <td>trump-critics</td>\n",
       "      <td>obnoxious</td>\n",
       "      <td>Germany has consistently been used by my obnox...</td>\n",
       "      <td>2020</td>\n",
       "      <td>trump</td>\n",
       "    </tr>\n",
       "    <tr>\n",
       "      <th>10258</th>\n",
       "      <td>2020-12-18</td>\n",
       "      <td>trump-russia</td>\n",
       "      <td>Russia Hoax</td>\n",
       "      <td>The Russia Hoax becomes an even bigger lie! ht...</td>\n",
       "      <td>2020</td>\n",
       "      <td>trump</td>\n",
       "    </tr>\n",
       "  </tbody>\n",
       "</table>\n",
       "<p>65 rows × 6 columns</p>\n",
       "</div>"
      ],
      "text/plain": [
       "             date         target  ...  year   Name\n",
       "7859   2020-02-09   trump-russia  ...  2020  trump\n",
       "7860   2020-02-09   trump-russia  ...  2020  trump\n",
       "7861   2020-02-09   trump-russia  ...  2020  trump\n",
       "7890   2020-02-12   trump-russia  ...  2020  trump\n",
       "7891   2020-02-12   trump-russia  ...  2020  trump\n",
       "...           ...            ...  ...   ...    ...\n",
       "9658   2020-10-07   trump-russia  ...  2020  trump\n",
       "9659   2020-10-07   trump-russia  ...  2020  trump\n",
       "10091  2020-11-22   trump-russia  ...  2020  trump\n",
       "10188  2020-12-09  trump-critics  ...  2020  trump\n",
       "10258  2020-12-18   trump-russia  ...  2020  trump\n",
       "\n",
       "[65 rows x 6 columns]"
      ]
     },
     "execution_count": 52,
     "metadata": {},
     "output_type": "execute_result"
    }
   ],
   "source": [
    "#filter Name which is euqals to trump\n",
    "tweet_data[tweet_data['Name'] == 'trump']"
   ]
  },
  {
   "cell_type": "markdown",
   "metadata": {
    "id": "c0S6BFUwI0I4"
   },
   "source": [
    "So here you got total of 65 records which were  tweeted on Donald Trump in the span of 2020-2021. \n",
    "\n"
   ]
  },
  {
   "cell_type": "markdown",
   "metadata": {
    "id": "oybvHxWRI0I5"
   },
   "source": [
    "Good job!  Now our interesting trump insult tweet data is somewhat cleaned. "
   ]
  },
  {
   "cell_type": "code",
   "execution_count": null,
   "metadata": {
    "id": "kDxujdT9Gogg"
   },
   "outputs": [],
   "source": []
  }
 ],
 "metadata": {
  "colab": {
   "collapsed_sections": [
    "4SgrLjyDkqhy"
   ],
   "name": "Data_Cleaning_Solution_By_Gunjan.ipynb",
   "provenance": []
  },
  "kernelspec": {
   "display_name": "Python 3",
   "language": "python",
   "name": "python3"
  },
  "language_info": {
   "codemirror_mode": {
    "name": "ipython",
    "version": 3
   },
   "file_extension": ".py",
   "mimetype": "text/x-python",
   "name": "python",
   "nbconvert_exporter": "python",
   "pygments_lexer": "ipython3",
   "version": "3.8.8"
  }
 },
 "nbformat": 4,
 "nbformat_minor": 1
}
